{
 "cells": [
  {
   "cell_type": "markdown",
   "metadata": {},
   "source": [
    ".. meta::\n",
    "   :description: Using the responsible AI toolbox to build workflows."
   ]
  },
  {
   "cell_type": "markdown",
   "metadata": {},
   "source": [
    "> Copyright (c) 2023 Massachusetts Institute of Technology  \n",
    "> SPDX-License-Identifier: MIT \n",
    "\n"
   ]
  },
  {
   "cell_type": "markdown",
   "metadata": {},
   "source": [
    "# Building Workflows for Cross Validation Training and Adversarial Robustness Analysis\n",
    "This notebook demonstrates how the to build experiment workflows for configurable, repeatable, and scalable (CRS) experimentation. Two basic workflows will be demonstrated in this tutorial:\n",
    "\n",
    "- Cross-Validation Workflow: Performs cross-validation training that logs accuracy and loss across data folds\n",
    "- Robustness Curve Workflow: Loads a trained model and assesses the impact of adversarial perturbations on the model's performance; the model's performance metric is plotted against the increasing \"severity\" of the perturbation\n",
    "\n",
    "Here, \"workflow\" has a precise meaning. In the parlance of [mushin](https://mit-ll-responsible-ai.github.io/responsible-ai-toolbox/ref_mushin.html) a workflow is an API for describing how we configure, launch, and post-process one or more tasks. These workflows leverage [Hydra](https://hydra.cc/) and [hydra-zen](https://github.com/mit-ll-responsible-ai/hydra-zen) so that they are highly configurable and so that each job launched by a workflow is self-documenting and reproducible. \n",
    "In this tutorial, we also make use of [PyTorch Lightning](https://www.pytorchlightning.ai/) to eliminate boilerplate code associated with training and testing a PyTorch model.\n",
    "\n",
    "## Getting Started\n",
    "\n",
    "\n",
    "We will install the rAI-toolbox and then we will create a Jupyter notebook in which we will complete this tutorial.\n",
    "\n",
    "\n",
    "### Installing `rai_toolbox`\n",
    "\n",
    "\n",
    "To install the toolbox (along with its `mushin` capabilities) in your Python environment, run the following command in your \n",
    "terminal:\n",
    "\n",
    "```console\n",
    "$ pip install rai-toolbox[mushin]\n",
    "```\n",
    "\n",
    "To verify that the toolbox is installed as-expected, open a Python console and try \n",
    "importing ``rai_toolbox``.\n",
    "\n",
    "```python\n",
    ">>> import rai_toolbox\n",
    "```\n",
    "\n",
    "You will also need to install scikit-learn; please follow [these instructions](https://scikit-learn.org/stable/install.html#installing-scikit-learn).\n",
    "\n",
    "\n",
    "## Opening a Jupyter notebook\n",
    "\n",
    "If you do not have Jupyter Notebook or Jupyter Lab installed in your Python environment, please follow [these instructions](https://jupyter.org/install).\n",
    "Now open a terminal on your computer and [start a notebook/lab session](http://www.pythonlikeyoumeanit.com/Module1_GettingStartedWithPython/Jupyter_Notebooks.html).\n",
    "A file-viewer will open in an internet browser; pick a directory where you are okay with saving some PyTorch model weights. Create a notebook called `Building-Workflows.ipynb`. You can then follow along with this tutorial by copying, pasting, and running the code blocks below in the cells of your notebook.\n",
    "\n",
    "Note: you may also need to install the `ipywidgets` package in your Python environment to configure the notebook to  display ipywidgets:\n",
    "\n",
    "```console\n",
    "$ pip install ipywidgets\n",
    "```\n",
    "\n",
    "## Imports"
   ]
  },
  {
   "cell_type": "code",
   "execution_count": 1,
   "metadata": {},
   "outputs": [],
   "source": [
    "from pathlib import Path\n",
    "from typing import Optional, Tuple, Union\n",
    "\n",
    "import matplotlib.pyplot as plt\n",
    "import torch as tr"
   ]
  },
  {
   "cell_type": "code",
   "execution_count": 2,
   "metadata": {},
   "outputs": [],
   "source": [
    "# Hydra and hydra-zen\n",
    "from hydra.core.config_store import ConfigStore\n",
    "from hydra_zen import MISSING, builds, instantiate, load_from_yaml, make_config\n",
    "\n",
    "# Lightning\n",
    "from pytorch_lightning import LightningModule, Trainer\n",
    "\n",
    "# sklearn and torch\n",
    "from sklearn.model_selection import StratifiedKFold\n",
    "from torch import Tensor, nn\n",
    "from torch.optim import Optimizer\n",
    "from torch.utils.data import DataLoader, Subset\n",
    "from torchmetrics import Accuracy\n",
    "from torchvision import transforms\n",
    "from torchvision.datasets import MNIST\n",
    "\n",
    "# rAI-toolbox\n",
    "from rai_toolbox._typing import Partial\n",
    "from rai_toolbox.mushin import load_from_checkpoint\n",
    "from rai_toolbox.mushin.lightning import MetricsCallback\n",
    "from rai_toolbox.mushin.workflows import (\n",
    "    MultiRunMetricsWorkflow,\n",
    "    RobustnessCurve,\n",
    "    multirun,\n",
    ")\n",
    "\n",
    "from rai_toolbox.optim import L2ProjectedOptim, LinfProjectedOptim\n",
    "from rai_toolbox.perturbations import gradient_ascent"
   ]
  },
  {
   "cell_type": "markdown",
   "metadata": {},
   "source": [
    "## Experiment Functions and Classes\n",
    "\n",
    "Here we define two Neural Network models, a fully linear neural network and a convolutional neural network."
   ]
  },
  {
   "cell_type": "code",
   "execution_count": 3,
   "metadata": {},
   "outputs": [],
   "source": [
    "class LinearModel(nn.Module):\n",
    "    def __init__(self):\n",
    "        super().__init__()\n",
    "        self.model = nn.Sequential(\n",
    "            nn.Flatten(1),\n",
    "            nn.Linear(28 * 28, 256),\n",
    "            nn.ReLU(),\n",
    "            nn.Linear(256, 128),\n",
    "            nn.ReLU(),\n",
    "            nn.Linear(128, 64),\n",
    "            nn.ReLU(),\n",
    "            nn.Linear(64, 10),\n",
    "        )\n",
    "\n",
    "    def forward(self, x):\n",
    "        return self.model(x)\n",
    "\n",
    "class ConvModel(nn.Module):\n",
    "    def __init__(self):\n",
    "        super().__init__()\n",
    "        self.model = nn.Sequential(\n",
    "            nn.Conv2d(1, 32, 5, padding=\"same\"),\n",
    "            nn.BatchNorm2d(32),\n",
    "            nn.ReLU(),\n",
    "            nn.MaxPool2d(3),\n",
    "            nn.Conv2d(32, 32, 3, padding=\"same\"),\n",
    "            nn.BatchNorm2d(32),\n",
    "            nn.ReLU(),\n",
    "            nn.MaxPool2d(3),\n",
    "            nn.Conv2d(32, 32, 3, padding=\"same\"),\n",
    "            nn.BatchNorm2d(32),\n",
    "            nn.ReLU(),\n",
    "            nn.Conv2d(32, 10, 3),\n",
    "            nn.Flatten(1),\n",
    "        )\n",
    "\n",
    "    def forward(self, x):\n",
    "        return self.model(x)\n",
    "\n"
   ]
  },
  {
   "cell_type": "markdown",
   "metadata": {},
   "source": [
    "Next lets define a function that takes the `MNIST` dataset and splits the data into training and validation sets using SciKit-Learn's [StratifiedKFold](https://scikit-learn.org/stable/modules/generated/sklearn.model_selection.StratifiedKFold.html).  This allows us to split the dataset into \"folds\" and select the fold for each experiment."
   ]
  },
  {
   "cell_type": "code",
   "execution_count": 4,
   "metadata": {},
   "outputs": [],
   "source": [
    "def split_dataset(\n",
    "    dataset: MNIST, n_splits: int, fold: int, random_state: int = 49\n",
    ") -> Tuple[Subset, Subset]:\n",
    "    \"\"\"Provide training and validation splits using `sklearn.model_selection.StratifiedKfold`\"\"\"\n",
    "\n",
    "    kfold = StratifiedKFold(n_splits=n_splits, shuffle=True, random_state=random_state)\n",
    "    train_indices, val_indices = list(\n",
    "        kfold.split(range(len(dataset)), dataset.targets)\n",
    "    )[fold]\n",
    "    return Subset(dataset, train_indices), Subset(dataset, val_indices)\n"
   ]
  },
  {
   "cell_type": "markdown",
   "metadata": {},
   "source": [
    "Now define the [LightningModule](https://pytorch-lightning.readthedocs.io/en/latest/api/pytorch_lightning.core.LightningModule.html#pytorch_lightning.core.LightningModule) for training and testing.\n",
    "This describes how we:\n",
    "\n",
    "- Load our data\n",
    "- Process a batch of data with our model (both with and without adversarial perturbations)\n",
    "- Update our model's parameters during training\n",
    "\n",
    "Note that we specifically design this lightning module to log the following metrics:\n",
    "\n",
    "- Loss and accuracy for cross-validation training\n",
    "- Adversarial loss, adversarial accuracy, and clean accuracy for robustness analysis\n",
    "\n",
    "These metrics will be saved during each of our runs, and we will load and aggregate these metrics to analyze our results. "
   ]
  },
  {
   "cell_type": "code",
   "execution_count": 5,
   "metadata": {},
   "outputs": [],
   "source": [
    "class StandardModule(LightningModule):\n",
    "    def __init__(\n",
    "        self,\n",
    "        *,\n",
    "        model: nn.Module,\n",
    "        dataset: MNIST,\n",
    "        optimizer: Optional[Partial[Optimizer]] = None,\n",
    "        perturber=None,\n",
    "        fold: int = 0,\n",
    "        n_splits: int = 5,\n",
    "        batch_size: int = 100,\n",
    "        num_workers: int = 4,\n",
    "    ) -> None:\n",
    "        super().__init__()\n",
    "        self.dataset = dataset\n",
    "        self.optimizer = optimizer\n",
    "        self.criterion = nn.CrossEntropyLoss()\n",
    "        self.model = model\n",
    "        self.perturber = perturber\n",
    "        self.n_splits = n_splits\n",
    "        self.fold = fold\n",
    "        self.batch_size = batch_size\n",
    "        self.num_workers = num_workers\n",
    "\n",
    "        # Metrics\n",
    "        self.acc_metric = Accuracy()\n",
    "        if self.perturber:\n",
    "            self.clean_acc_metric = Accuracy()\n",
    "\n",
    "    def forward(self, data: Tensor) -> Tensor:\n",
    "        return self.model(data)\n",
    "\n",
    "    def train_dataloader(self) -> DataLoader:\n",
    "        train_dataset, _ = split_dataset(self.dataset, self.n_splits, self.fold)\n",
    "        return DataLoader(\n",
    "            train_dataset,\n",
    "            batch_size=self.batch_size,\n",
    "            num_workers=self.num_workers,\n",
    "            shuffle=True,\n",
    "        )\n",
    "\n",
    "    def val_dataloader(self) -> DataLoader:\n",
    "        _, val_dataset = split_dataset(self.dataset, self.n_splits, self.fold)\n",
    "        return DataLoader(\n",
    "            val_dataset, batch_size=self.batch_size, num_workers=self.num_workers\n",
    "        )\n",
    "\n",
    "    def test_dataloader(self) -> DataLoader:\n",
    "        return DataLoader(\n",
    "            self.dataset, batch_size=self.batch_size, num_workers=self.num_workers\n",
    "        )\n",
    "\n",
    "    def configure_optimizers(self) -> Optional[Optimizer]:\n",
    "        if self.optimizer:\n",
    "            return self.optimizer(self.model.parameters())\n",
    "        return None\n",
    "\n",
    "    def _step(self, batch, stage: str) -> Tensor:\n",
    "        data_orig, target = batch\n",
    "\n",
    "        if self.perturber:\n",
    "            with tr.no_grad():\n",
    "                output = self.model(data_orig)\n",
    "                loss = self.criterion(output, target)\n",
    "                acc = self.clean_acc_metric(output, target)\n",
    "                self.log(f\"{stage}_clean_accuracy\", acc)\n",
    "\n",
    "            data, adv_loss = self.perturber(\n",
    "                model=self.model, data=data_orig, target=target\n",
    "            )\n",
    "            self.log(f\"{stage}_adversarial_loss\", adv_loss.mean().item())\n",
    "\n",
    "        else:\n",
    "            data = data_orig\n",
    "\n",
    "        output = self.model(data)\n",
    "        loss = self.criterion(output, target)\n",
    "        acc = self.acc_metric(output, target)\n",
    "        self.log(f\"{stage}_loss\", loss)\n",
    "        self.log(f\"{stage}_accuracy\", acc)\n",
    "        return loss\n",
    "\n",
    "    def training_step(self, batch, batch_idx) -> Tensor:\n",
    "        return self._step(batch, \"train\")\n",
    "\n",
    "    def validation_step(self, batch, batch_idx) -> Tensor:\n",
    "        return self._step(batch, \"val\")\n",
    "\n",
    "    def test_step(self, batch, batch_idx) -> Tensor:\n",
    "        return self._step(batch, \"test\")\n"
   ]
  },
  {
   "cell_type": "markdown",
   "metadata": {},
   "source": [
    "## Configuring our experiments with hydra-zen\n",
    "\n",
    "Now we use `hydra-zen` to create \"configs\" for all of the components of our experiments.\n",
    "Each config describes an interface and/or object in our experiment that we want to be able to modify from run to run.\n",
    "They will also serve to make our work self-documenting and reproducible."
   ]
  },
  {
   "cell_type": "code",
   "execution_count": 6,
   "metadata": {},
   "outputs": [],
   "source": [
    "Augmentations = builds(\n",
    "    transforms.Compose,\n",
    "    [builds(transforms.RandomCrop, size=28, padding=4), builds(transforms.ToTensor)],\n",
    ")\n",
    "TrainDataset = builds(\n",
    "    MNIST, root=\"${data_dir}\", train=True, transform=Augmentations, download=True\n",
    ")\n",
    "TestDataset = builds(\n",
    "    MNIST,\n",
    "    root=\"${data_dir}\",\n",
    "    train=False,\n",
    "    transform=builds(transforms.ToTensor),\n",
    "    download=True,\n",
    ")\n",
    "ConvModelCfg = builds(ConvModel)\n",
    "LinearModelCfg = builds(LinearModel)\n",
    "Optim = builds(tr.optim.SGD, lr=0.1, zen_partial=True)\n",
    "\n",
    "\n",
    "L2PGD = builds(L2ProjectedOptim, zen_partial=True)\n",
    "LinfPGD = builds(LinfProjectedOptim, zen_partial=True)\n",
    "\n",
    "\n",
    "def lr_for_pgd(epsilon, num_steps):\n",
    "    return 2.5 * epsilon / num_steps\n",
    "\n",
    "\n",
    "Perturber = builds(\n",
    "    gradient_ascent,\n",
    "    optimizer=\"${optimizer}\",\n",
    "    epsilon=\"${epsilon}\",\n",
    "    steps=\"${steps}\",\n",
    "    lr=builds(lr_for_pgd, \"${epsilon}\", \"${steps}\"),\n",
    "    zen_partial=True,\n",
    "    populate_full_signature=True,\n",
    ")\n",
    "\n",
    "PLModule = builds(\n",
    "    StandardModule,\n",
    "    model=\"${model}\",\n",
    "    fold=\"${fold}\",\n",
    "    n_splits=\"${n_splits}\",\n",
    "    dataset=TrainDataset,\n",
    "    optimizer=Optim,\n",
    "    perturber=\"${perturber}\",\n",
    "    populate_full_signature=True,\n",
    ")\n",
    "\n",
    "\n",
    "EvalPLModule = builds(\n",
    "    StandardModule,\n",
    "    model=\"${model}\",\n",
    "    dataset=TestDataset,\n",
    "    perturber=\"${perturber}\",\n",
    "    populate_full_signature=True,\n",
    ")\n",
    "\n",
    "\n"
   ]
  },
  {
   "cell_type": "markdown",
   "metadata": {},
   "source": [
    "We configure our trainer to use `MetricsCallback`, which will instruct PyTorch Lightning to automatically save our logged metrics as a dictionary in a file named \"fit_metrics.pt\" and \"test_metrics.pt\" for training and evaluation, respectively."
   ]
  },
  {
   "cell_type": "code",
   "execution_count": null,
   "metadata": {},
   "outputs": [],
   "source": [
    "TrainerCfg = builds(\n",
    "    Trainer,\n",
    "    max_epochs=10,\n",
    "    accelerator=\"auto\",\n",
    "    devices=1,\n",
    "    enable_progress_bar=False,\n",
    "    enable_model_summary=False,\n",
    "    callbacks=[builds(MetricsCallback)],\n",
    "    populate_full_signature=True,\n",
    ")"
   ]
  },
  {
   "cell_type": "markdown",
   "metadata": {},
   "source": [
    "Now we use Hydra's [ConfigStore](https://hydra.cc/docs/tutorials/structured_config/config_store/) API to create named configuration groups that can be specified/swapped when we run our workflow.\n",
    "Let's make it easy to swap both models and optimizers by-name."
   ]
  },
  {
   "cell_type": "code",
   "execution_count": 7,
   "metadata": {},
   "outputs": [],
   "source": [
    "cs = ConfigStore.instance()\n",
    "cs.store(name=\"cnn\", group=\"model\", node=ConvModelCfg)\n",
    "cs.store(name=\"linear\", group=\"model\", node=LinearModelCfg)\n",
    "cs.store(name=\"l2pgd\", group=\"optimizer\", node=L2PGD)\n",
    "cs.store(name=\"linfpgd\", group=\"optimizer\", node=LinfPGD)\n"
   ]
  },
  {
   "cell_type": "markdown",
   "metadata": {},
   "source": [
    "## Cross Validation Workflow\n",
    "\n",
    "With all the configurations in place we can now define our first experiment workflow: train multiple models on `MNIST` data using cross-validation.  First define the main experiment configuration:"
   ]
  },
  {
   "cell_type": "code",
   "execution_count": 8,
   "metadata": {},
   "outputs": [],
   "source": [
    "import platform\n",
    "\n",
    "Config = make_config(\n",
    "    defaults=[\n",
    "        \"_self_\",\n",
    "        {\"model\": \"linear\"},\n",
    "    ],\n",
    "    data_dir=Path.home() / \".torch/data\",\n",
    "    model=MISSING,\n",
    "    module=PLModule,\n",
    "    trainer=TrainerCfg,\n",
    "    perturber=None,\n",
    "    fold=0,\n",
    "    n_splits=5,\n",
    ")\n"
   ]
  },
  {
   "cell_type": "markdown",
   "metadata": {},
   "source": [
    "Create `CrossValWorkflow` by inheriting from [MultiRunMetricsWorkflow](https://mit-ll-responsible-ai.github.io/responsible-ai-toolbox/generated/rai_toolbox.mushin.MultiRunMetricsWorkflow.html) to train a given model for a given a cross validation dataset (fold).  The task function simply runs PyTorch Lightning's [Trainer.fit](https://pytorch-lightning.readthedocs.io/en/latest/api/pytorch_lightning.trainer.trainer.Trainer.html#pytorch_lightning.trainer.trainer.Trainer) and returns the metrics saved from [MetricsCallback](https://mit-ll-responsible-ai.github.io/responsible-ai-toolbox/generated/rai_toolbox.mushin.MetricsCallback.html).  To run this workflow simply define the number of cross validation splits to use via `n_splits`."
   ]
  },
  {
   "cell_type": "code",
   "execution_count": 9,
   "metadata": {},
   "outputs": [],
   "source": [
    "class CrossValWorkFlow(MultiRunMetricsWorkflow):\n",
    "    @staticmethod\n",
    "    def task(trainer: Trainer, module: LightningModule):\n",
    "        trainer.fit(module)\n",
    "        \n",
    "        # Loads & returns a dictionary of metrics logged by PyTorch Lightning\n",
    "        return tr.load(\"fit_metrics.pt\")\n",
    "\n",
    "    def run(self, n_splits: int, **run_kwargs):\n",
    "        fold = multirun(range(n_splits))\n",
    "        super().run(n_splits=n_splits, fold=fold, **run_kwargs)\n"
   ]
  },
  {
   "cell_type": "markdown",
   "metadata": {},
   "source": [
    "Now run the workflow by defining the requried `n_splits` and the models (names defined in the [ConfigStore](https://hydra.cc/docs/tutorials/structured_config/config_store/) above).  Additionally we define the working directory of the experiment by setting `hydra.sweep.dir` configuration via `overrides`."
   ]
  },
  {
   "cell_type": "code",
   "execution_count": 10,
   "metadata": {},
   "outputs": [
    {
     "name": "stdout",
     "output_type": "stream",
     "text": [
      "[2022-05-23 11:33:26,591][HYDRA] Launching 4 jobs locally\n",
      "[2022-05-23 11:33:26,592][HYDRA] \t#0 : n_splits=2 fold=0 model=linear\n"
     ]
    },
    {
     "name": "stderr",
     "output_type": "stream",
     "text": [
      "GPU available: True, used: True\n",
      "TPU available: False, using: 0 TPU cores\n",
      "IPU available: False, using: 0 IPUs\n",
      "HPU available: False, using: 0 HPUs\n",
      "Missing logger folder: C:\\Users\\Ryan Soklaski\\responsible-ai-toolbox\\docs\\source\\tutorials\\outputs\\cross_validation\\2022-05-23\\11-33-26\\0\\lightning_logs\n",
      "LOCAL_RANK: 0 - CUDA_VISIBLE_DEVICES: [0]\n"
     ]
    },
    {
     "name": "stdout",
     "output_type": "stream",
     "text": [
      "[2022-05-23 11:36:03,695][HYDRA] \t#1 : n_splits=2 fold=0 model=cnn\n"
     ]
    },
    {
     "name": "stderr",
     "output_type": "stream",
     "text": [
      "GPU available: True, used: True\n",
      "TPU available: False, using: 0 TPU cores\n",
      "IPU available: False, using: 0 IPUs\n",
      "HPU available: False, using: 0 HPUs\n",
      "Missing logger folder: C:\\Users\\Ryan Soklaski\\responsible-ai-toolbox\\docs\\source\\tutorials\\outputs\\cross_validation\\2022-05-23\\11-33-26\\1\\lightning_logs\n",
      "LOCAL_RANK: 0 - CUDA_VISIBLE_DEVICES: [0]\n"
     ]
    },
    {
     "name": "stdout",
     "output_type": "stream",
     "text": [
      "[2022-05-23 11:38:43,273][HYDRA] \t#2 : n_splits=2 fold=1 model=linear\n"
     ]
    },
    {
     "name": "stderr",
     "output_type": "stream",
     "text": [
      "GPU available: True, used: True\n",
      "TPU available: False, using: 0 TPU cores\n",
      "IPU available: False, using: 0 IPUs\n",
      "HPU available: False, using: 0 HPUs\n",
      "Missing logger folder: C:\\Users\\Ryan Soklaski\\responsible-ai-toolbox\\docs\\source\\tutorials\\outputs\\cross_validation\\2022-05-23\\11-33-26\\2\\lightning_logs\n",
      "LOCAL_RANK: 0 - CUDA_VISIBLE_DEVICES: [0]\n"
     ]
    },
    {
     "name": "stdout",
     "output_type": "stream",
     "text": [
      "[2022-05-23 11:41:17,726][HYDRA] \t#3 : n_splits=2 fold=1 model=cnn\n"
     ]
    },
    {
     "name": "stderr",
     "output_type": "stream",
     "text": [
      "GPU available: True, used: True\n",
      "TPU available: False, using: 0 TPU cores\n",
      "IPU available: False, using: 0 IPUs\n",
      "HPU available: False, using: 0 HPUs\n",
      "Missing logger folder: C:\\Users\\Ryan Soklaski\\responsible-ai-toolbox\\docs\\source\\tutorials\\outputs\\cross_validation\\2022-05-23\\11-33-26\\3\\lightning_logs\n",
      "LOCAL_RANK: 0 - CUDA_VISIBLE_DEVICES: [0]\n"
     ]
    }
   ],
   "source": [
    "kfold_task = CrossValWorkFlow(Config)\n",
    "kfold_task.run(\n",
    "    n_splits=2,\n",
    "    model=multirun([\"linear\", \"cnn\"]),\n",
    "    overrides=[\n",
    "        \"hydra.sweep.dir=outputs/cross_validation/${now:%Y-%m-%d}/${now:%H-%M-%S}\"\n",
    "    ],\n",
    ")\n",
    "## You can load previous experiments\n",
    "# kfold_task = CrossValWorkFlow().load_from_dir(\"outputs/cross_validation/2022-05-11/14-42-14\", metrics_filename=\"fit_metrics.pt\")\n"
   ]
  },
  {
   "cell_type": "code",
   "execution_count": 11,
   "metadata": {},
   "outputs": [
    {
     "data": {
      "text/plain": [
       "WindowsPath('C:/Users/Ryan Soklaski/responsible-ai-toolbox/docs/source/tutorials/outputs/cross_validation/2022-05-23/11-33-26')"
      ]
     },
     "execution_count": 11,
     "metadata": {},
     "output_type": "execute_result"
    }
   ],
   "source": [
    "kfold_task.working_dir"
   ]
  },
  {
   "cell_type": "markdown",
   "metadata": {},
   "source": [
    "Once the task is finished we can load in the metrics to an [xarray.Dataset](https://docs.xarray.dev/en/stable/generated/xarray.Dataset.html) using the `to_xarray` method.\n",
    "This xarray dataset thus stores all of the metrics that were saved/returned by the tasks that we ran."
   ]
  },
  {
   "cell_type": "code",
   "execution_count": 24,
   "metadata": {},
   "outputs": [
    {
     "data": {
      "text/html": [
       "<div><svg style=\"position: absolute; width: 0; height: 0; overflow: hidden\">\n",
       "<defs>\n",
       "<symbol id=\"icon-database\" viewBox=\"0 0 32 32\">\n",
       "<path d=\"M16 0c-8.837 0-16 2.239-16 5v4c0 2.761 7.163 5 16 5s16-2.239 16-5v-4c0-2.761-7.163-5-16-5z\"></path>\n",
       "<path d=\"M16 17c-8.837 0-16-2.239-16-5v6c0 2.761 7.163 5 16 5s16-2.239 16-5v-6c0 2.761-7.163 5-16 5z\"></path>\n",
       "<path d=\"M16 26c-8.837 0-16-2.239-16-5v6c0 2.761 7.163 5 16 5s16-2.239 16-5v-6c0 2.761-7.163 5-16 5z\"></path>\n",
       "</symbol>\n",
       "<symbol id=\"icon-file-text2\" viewBox=\"0 0 32 32\">\n",
       "<path d=\"M28.681 7.159c-0.694-0.947-1.662-2.053-2.724-3.116s-2.169-2.030-3.116-2.724c-1.612-1.182-2.393-1.319-2.841-1.319h-15.5c-1.378 0-2.5 1.121-2.5 2.5v27c0 1.378 1.122 2.5 2.5 2.5h23c1.378 0 2.5-1.122 2.5-2.5v-19.5c0-0.448-0.137-1.23-1.319-2.841zM24.543 5.457c0.959 0.959 1.712 1.825 2.268 2.543h-4.811v-4.811c0.718 0.556 1.584 1.309 2.543 2.268zM28 29.5c0 0.271-0.229 0.5-0.5 0.5h-23c-0.271 0-0.5-0.229-0.5-0.5v-27c0-0.271 0.229-0.5 0.5-0.5 0 0 15.499-0 15.5 0v7c0 0.552 0.448 1 1 1h7v19.5z\"></path>\n",
       "<path d=\"M23 26h-14c-0.552 0-1-0.448-1-1s0.448-1 1-1h14c0.552 0 1 0.448 1 1s-0.448 1-1 1z\"></path>\n",
       "<path d=\"M23 22h-14c-0.552 0-1-0.448-1-1s0.448-1 1-1h14c0.552 0 1 0.448 1 1s-0.448 1-1 1z\"></path>\n",
       "<path d=\"M23 18h-14c-0.552 0-1-0.448-1-1s0.448-1 1-1h14c0.552 0 1 0.448 1 1s-0.448 1-1 1z\"></path>\n",
       "</symbol>\n",
       "</defs>\n",
       "</svg>\n",
       "<style>/* CSS stylesheet for displaying xarray objects in jupyterlab.\n",
       " *\n",
       " */\n",
       "\n",
       ":root {\n",
       "  --xr-font-color0: var(--jp-content-font-color0, rgba(0, 0, 0, 1));\n",
       "  --xr-font-color2: var(--jp-content-font-color2, rgba(0, 0, 0, 0.54));\n",
       "  --xr-font-color3: var(--jp-content-font-color3, rgba(0, 0, 0, 0.38));\n",
       "  --xr-border-color: var(--jp-border-color2, #e0e0e0);\n",
       "  --xr-disabled-color: var(--jp-layout-color3, #bdbdbd);\n",
       "  --xr-background-color: var(--jp-layout-color0, white);\n",
       "  --xr-background-color-row-even: var(--jp-layout-color1, white);\n",
       "  --xr-background-color-row-odd: var(--jp-layout-color2, #eeeeee);\n",
       "}\n",
       "\n",
       "html[theme=dark],\n",
       "body.vscode-dark {\n",
       "  --xr-font-color0: rgba(255, 255, 255, 1);\n",
       "  --xr-font-color2: rgba(255, 255, 255, 0.54);\n",
       "  --xr-font-color3: rgba(255, 255, 255, 0.38);\n",
       "  --xr-border-color: #1F1F1F;\n",
       "  --xr-disabled-color: #515151;\n",
       "  --xr-background-color: #111111;\n",
       "  --xr-background-color-row-even: #111111;\n",
       "  --xr-background-color-row-odd: #313131;\n",
       "}\n",
       "\n",
       ".xr-wrap {\n",
       "  display: block !important;\n",
       "  min-width: 300px;\n",
       "  max-width: 700px;\n",
       "}\n",
       "\n",
       ".xr-text-repr-fallback {\n",
       "  /* fallback to plain text repr when CSS is not injected (untrusted notebook) */\n",
       "  display: none;\n",
       "}\n",
       "\n",
       ".xr-header {\n",
       "  padding-top: 6px;\n",
       "  padding-bottom: 6px;\n",
       "  margin-bottom: 4px;\n",
       "  border-bottom: solid 1px var(--xr-border-color);\n",
       "}\n",
       "\n",
       ".xr-header > div,\n",
       ".xr-header > ul {\n",
       "  display: inline;\n",
       "  margin-top: 0;\n",
       "  margin-bottom: 0;\n",
       "}\n",
       "\n",
       ".xr-obj-type,\n",
       ".xr-array-name {\n",
       "  margin-left: 2px;\n",
       "  margin-right: 10px;\n",
       "}\n",
       "\n",
       ".xr-obj-type {\n",
       "  color: var(--xr-font-color2);\n",
       "}\n",
       "\n",
       ".xr-sections {\n",
       "  padding-left: 0 !important;\n",
       "  display: grid;\n",
       "  grid-template-columns: 150px auto auto 1fr 20px 20px;\n",
       "}\n",
       "\n",
       ".xr-section-item {\n",
       "  display: contents;\n",
       "}\n",
       "\n",
       ".xr-section-item input {\n",
       "  display: none;\n",
       "}\n",
       "\n",
       ".xr-section-item input + label {\n",
       "  color: var(--xr-disabled-color);\n",
       "}\n",
       "\n",
       ".xr-section-item input:enabled + label {\n",
       "  cursor: pointer;\n",
       "  color: var(--xr-font-color2);\n",
       "}\n",
       "\n",
       ".xr-section-item input:enabled + label:hover {\n",
       "  color: var(--xr-font-color0);\n",
       "}\n",
       "\n",
       ".xr-section-summary {\n",
       "  grid-column: 1;\n",
       "  color: var(--xr-font-color2);\n",
       "  font-weight: 500;\n",
       "}\n",
       "\n",
       ".xr-section-summary > span {\n",
       "  display: inline-block;\n",
       "  padding-left: 0.5em;\n",
       "}\n",
       "\n",
       ".xr-section-summary-in:disabled + label {\n",
       "  color: var(--xr-font-color2);\n",
       "}\n",
       "\n",
       ".xr-section-summary-in + label:before {\n",
       "  display: inline-block;\n",
       "  content: '►';\n",
       "  font-size: 11px;\n",
       "  width: 15px;\n",
       "  text-align: center;\n",
       "}\n",
       "\n",
       ".xr-section-summary-in:disabled + label:before {\n",
       "  color: var(--xr-disabled-color);\n",
       "}\n",
       "\n",
       ".xr-section-summary-in:checked + label:before {\n",
       "  content: '▼';\n",
       "}\n",
       "\n",
       ".xr-section-summary-in:checked + label > span {\n",
       "  display: none;\n",
       "}\n",
       "\n",
       ".xr-section-summary,\n",
       ".xr-section-inline-details {\n",
       "  padding-top: 4px;\n",
       "  padding-bottom: 4px;\n",
       "}\n",
       "\n",
       ".xr-section-inline-details {\n",
       "  grid-column: 2 / -1;\n",
       "}\n",
       "\n",
       ".xr-section-details {\n",
       "  display: none;\n",
       "  grid-column: 1 / -1;\n",
       "  margin-bottom: 5px;\n",
       "}\n",
       "\n",
       ".xr-section-summary-in:checked ~ .xr-section-details {\n",
       "  display: contents;\n",
       "}\n",
       "\n",
       ".xr-array-wrap {\n",
       "  grid-column: 1 / -1;\n",
       "  display: grid;\n",
       "  grid-template-columns: 20px auto;\n",
       "}\n",
       "\n",
       ".xr-array-wrap > label {\n",
       "  grid-column: 1;\n",
       "  vertical-align: top;\n",
       "}\n",
       "\n",
       ".xr-preview {\n",
       "  color: var(--xr-font-color3);\n",
       "}\n",
       "\n",
       ".xr-array-preview,\n",
       ".xr-array-data {\n",
       "  padding: 0 5px !important;\n",
       "  grid-column: 2;\n",
       "}\n",
       "\n",
       ".xr-array-data,\n",
       ".xr-array-in:checked ~ .xr-array-preview {\n",
       "  display: none;\n",
       "}\n",
       "\n",
       ".xr-array-in:checked ~ .xr-array-data,\n",
       ".xr-array-preview {\n",
       "  display: inline-block;\n",
       "}\n",
       "\n",
       ".xr-dim-list {\n",
       "  display: inline-block !important;\n",
       "  list-style: none;\n",
       "  padding: 0 !important;\n",
       "  margin: 0;\n",
       "}\n",
       "\n",
       ".xr-dim-list li {\n",
       "  display: inline-block;\n",
       "  padding: 0;\n",
       "  margin: 0;\n",
       "}\n",
       "\n",
       ".xr-dim-list:before {\n",
       "  content: '(';\n",
       "}\n",
       "\n",
       ".xr-dim-list:after {\n",
       "  content: ')';\n",
       "}\n",
       "\n",
       ".xr-dim-list li:not(:last-child):after {\n",
       "  content: ',';\n",
       "  padding-right: 5px;\n",
       "}\n",
       "\n",
       ".xr-has-index {\n",
       "  font-weight: bold;\n",
       "}\n",
       "\n",
       ".xr-var-list,\n",
       ".xr-var-item {\n",
       "  display: contents;\n",
       "}\n",
       "\n",
       ".xr-var-item > div,\n",
       ".xr-var-item label,\n",
       ".xr-var-item > .xr-var-name span {\n",
       "  background-color: var(--xr-background-color-row-even);\n",
       "  margin-bottom: 0;\n",
       "}\n",
       "\n",
       ".xr-var-item > .xr-var-name:hover span {\n",
       "  padding-right: 5px;\n",
       "}\n",
       "\n",
       ".xr-var-list > li:nth-child(odd) > div,\n",
       ".xr-var-list > li:nth-child(odd) > label,\n",
       ".xr-var-list > li:nth-child(odd) > .xr-var-name span {\n",
       "  background-color: var(--xr-background-color-row-odd);\n",
       "}\n",
       "\n",
       ".xr-var-name {\n",
       "  grid-column: 1;\n",
       "}\n",
       "\n",
       ".xr-var-dims {\n",
       "  grid-column: 2;\n",
       "}\n",
       "\n",
       ".xr-var-dtype {\n",
       "  grid-column: 3;\n",
       "  text-align: right;\n",
       "  color: var(--xr-font-color2);\n",
       "}\n",
       "\n",
       ".xr-var-preview {\n",
       "  grid-column: 4;\n",
       "}\n",
       "\n",
       ".xr-var-name,\n",
       ".xr-var-dims,\n",
       ".xr-var-dtype,\n",
       ".xr-preview,\n",
       ".xr-attrs dt {\n",
       "  white-space: nowrap;\n",
       "  overflow: hidden;\n",
       "  text-overflow: ellipsis;\n",
       "  padding-right: 10px;\n",
       "}\n",
       "\n",
       ".xr-var-name:hover,\n",
       ".xr-var-dims:hover,\n",
       ".xr-var-dtype:hover,\n",
       ".xr-attrs dt:hover {\n",
       "  overflow: visible;\n",
       "  width: auto;\n",
       "  z-index: 1;\n",
       "}\n",
       "\n",
       ".xr-var-attrs,\n",
       ".xr-var-data {\n",
       "  display: none;\n",
       "  background-color: var(--xr-background-color) !important;\n",
       "  padding-bottom: 5px !important;\n",
       "}\n",
       "\n",
       ".xr-var-attrs-in:checked ~ .xr-var-attrs,\n",
       ".xr-var-data-in:checked ~ .xr-var-data {\n",
       "  display: block;\n",
       "}\n",
       "\n",
       ".xr-var-data > table {\n",
       "  float: right;\n",
       "}\n",
       "\n",
       ".xr-var-name span,\n",
       ".xr-var-data,\n",
       ".xr-attrs {\n",
       "  padding-left: 25px !important;\n",
       "}\n",
       "\n",
       ".xr-attrs,\n",
       ".xr-var-attrs,\n",
       ".xr-var-data {\n",
       "  grid-column: 1 / -1;\n",
       "}\n",
       "\n",
       "dl.xr-attrs {\n",
       "  padding: 0;\n",
       "  margin: 0;\n",
       "  display: grid;\n",
       "  grid-template-columns: 125px auto;\n",
       "}\n",
       "\n",
       ".xr-attrs dt,\n",
       ".xr-attrs dd {\n",
       "  padding: 0;\n",
       "  margin: 0;\n",
       "  float: left;\n",
       "  padding-right: 10px;\n",
       "  width: auto;\n",
       "}\n",
       "\n",
       ".xr-attrs dt {\n",
       "  font-weight: normal;\n",
       "  grid-column: 1;\n",
       "}\n",
       "\n",
       ".xr-attrs dt:hover span {\n",
       "  display: inline-block;\n",
       "  background: var(--xr-background-color);\n",
       "  padding-right: 10px;\n",
       "}\n",
       "\n",
       ".xr-attrs dd {\n",
       "  grid-column: 2;\n",
       "  white-space: pre-wrap;\n",
       "  word-break: break-all;\n",
       "}\n",
       "\n",
       ".xr-icon-database,\n",
       ".xr-icon-file-text2 {\n",
       "  display: inline-block;\n",
       "  vertical-align: middle;\n",
       "  width: 1em;\n",
       "  height: 1.5em !important;\n",
       "  stroke-width: 0;\n",
       "  stroke: currentColor;\n",
       "  fill: currentColor;\n",
       "}\n",
       "</style><pre class='xr-text-repr-fallback'>&lt;xarray.Dataset&gt;\n",
       "Dimensions:         (fold: 2, model: 2, epoch: 10)\n",
       "Coordinates:\n",
       "  * fold            (fold) int32 0 1\n",
       "  * model           (model) &lt;U6 &#x27;linear&#x27; &#x27;cnn&#x27;\n",
       "  * epoch           (epoch) int32 0 1 2 3 4 5 6 7 8 9\n",
       "Data variables:\n",
       "    train_loss      (fold, model, epoch) float64 1.891 0.9639 ... 0.02849\n",
       "    train_accuracy  (fold, model, epoch) float64 0.36 0.66 0.81 ... 0.99 0.98\n",
       "    val_loss        (fold, model, epoch) float64 1.83 1.061 ... 0.1212 0.04668\n",
       "    val_accuracy    (fold, model, epoch) float64 0.3593 0.6281 ... 0.9612 0.9855\n",
       "Attributes:\n",
       "    n_splits:  2</pre><div class='xr-wrap' style='display:none'><div class='xr-header'><div class='xr-obj-type'>xarray.Dataset</div></div><ul class='xr-sections'><li class='xr-section-item'><input id='section-23ee08e7-2462-4616-b0ae-ed498b46baff' class='xr-section-summary-in' type='checkbox' disabled ><label for='section-23ee08e7-2462-4616-b0ae-ed498b46baff' class='xr-section-summary'  title='Expand/collapse section'>Dimensions:</label><div class='xr-section-inline-details'><ul class='xr-dim-list'><li><span class='xr-has-index'>fold</span>: 2</li><li><span class='xr-has-index'>model</span>: 2</li><li><span class='xr-has-index'>epoch</span>: 10</li></ul></div><div class='xr-section-details'></div></li><li class='xr-section-item'><input id='section-c8df70a1-6fcf-4b13-949e-f7f656aad7bd' class='xr-section-summary-in' type='checkbox'  checked><label for='section-c8df70a1-6fcf-4b13-949e-f7f656aad7bd' class='xr-section-summary' >Coordinates: <span>(3)</span></label><div class='xr-section-inline-details'></div><div class='xr-section-details'><ul class='xr-var-list'><li class='xr-var-item'><div class='xr-var-name'><span class='xr-has-index'>fold</span></div><div class='xr-var-dims'>(fold)</div><div class='xr-var-dtype'>int32</div><div class='xr-var-preview xr-preview'>0 1</div><input id='attrs-7319e79d-6f8e-49e1-b4c7-4dced733f7cb' class='xr-var-attrs-in' type='checkbox' disabled><label for='attrs-7319e79d-6f8e-49e1-b4c7-4dced733f7cb' title='Show/Hide attributes'><svg class='icon xr-icon-file-text2'><use xlink:href='#icon-file-text2'></use></svg></label><input id='data-3a3cbe0a-27b8-400d-a28d-f7c36ef9ba1d' class='xr-var-data-in' type='checkbox'><label for='data-3a3cbe0a-27b8-400d-a28d-f7c36ef9ba1d' title='Show/Hide data repr'><svg class='icon xr-icon-database'><use xlink:href='#icon-database'></use></svg></label><div class='xr-var-attrs'><dl class='xr-attrs'></dl></div><div class='xr-var-data'><pre>array([0, 1])</pre></div></li><li class='xr-var-item'><div class='xr-var-name'><span class='xr-has-index'>model</span></div><div class='xr-var-dims'>(model)</div><div class='xr-var-dtype'>&lt;U6</div><div class='xr-var-preview xr-preview'>&#x27;linear&#x27; &#x27;cnn&#x27;</div><input id='attrs-d0620d1c-f0a5-405c-93a7-0b2e097d3826' class='xr-var-attrs-in' type='checkbox' disabled><label for='attrs-d0620d1c-f0a5-405c-93a7-0b2e097d3826' title='Show/Hide attributes'><svg class='icon xr-icon-file-text2'><use xlink:href='#icon-file-text2'></use></svg></label><input id='data-21b15892-ad43-4d3d-8118-a707fe4c184b' class='xr-var-data-in' type='checkbox'><label for='data-21b15892-ad43-4d3d-8118-a707fe4c184b' title='Show/Hide data repr'><svg class='icon xr-icon-database'><use xlink:href='#icon-database'></use></svg></label><div class='xr-var-attrs'><dl class='xr-attrs'></dl></div><div class='xr-var-data'><pre>array([&#x27;linear&#x27;, &#x27;cnn&#x27;], dtype=&#x27;&lt;U6&#x27;)</pre></div></li><li class='xr-var-item'><div class='xr-var-name'><span class='xr-has-index'>epoch</span></div><div class='xr-var-dims'>(epoch)</div><div class='xr-var-dtype'>int32</div><div class='xr-var-preview xr-preview'>0 1 2 3 4 5 6 7 8 9</div><input id='attrs-99bbb2d1-56c3-40c4-94fb-f81447d488b6' class='xr-var-attrs-in' type='checkbox' disabled><label for='attrs-99bbb2d1-56c3-40c4-94fb-f81447d488b6' title='Show/Hide attributes'><svg class='icon xr-icon-file-text2'><use xlink:href='#icon-file-text2'></use></svg></label><input id='data-b92b0dd0-1de8-451a-863c-ec7c341f7ba6' class='xr-var-data-in' type='checkbox'><label for='data-b92b0dd0-1de8-451a-863c-ec7c341f7ba6' title='Show/Hide data repr'><svg class='icon xr-icon-database'><use xlink:href='#icon-database'></use></svg></label><div class='xr-var-attrs'><dl class='xr-attrs'></dl></div><div class='xr-var-data'><pre>array([0, 1, 2, 3, 4, 5, 6, 7, 8, 9])</pre></div></li></ul></div></li><li class='xr-section-item'><input id='section-1b8b5bb2-43a3-4186-bae3-f89a89c7cb39' class='xr-section-summary-in' type='checkbox'  checked><label for='section-1b8b5bb2-43a3-4186-bae3-f89a89c7cb39' class='xr-section-summary' >Data variables: <span>(4)</span></label><div class='xr-section-inline-details'></div><div class='xr-section-details'><ul class='xr-var-list'><li class='xr-var-item'><div class='xr-var-name'><span>train_loss</span></div><div class='xr-var-dims'>(fold, model, epoch)</div><div class='xr-var-dtype'>float64</div><div class='xr-var-preview xr-preview'>1.891 0.9639 ... 0.06841 0.02849</div><input id='attrs-69564bf2-c86e-461a-af8a-013dcaed37b9' class='xr-var-attrs-in' type='checkbox' disabled><label for='attrs-69564bf2-c86e-461a-af8a-013dcaed37b9' title='Show/Hide attributes'><svg class='icon xr-icon-file-text2'><use xlink:href='#icon-file-text2'></use></svg></label><input id='data-512b247a-53d3-4918-bed1-ddde7f63bf06' class='xr-var-data-in' type='checkbox'><label for='data-512b247a-53d3-4918-bed1-ddde7f63bf06' title='Show/Hide data repr'><svg class='icon xr-icon-database'><use xlink:href='#icon-database'></use></svg></label><div class='xr-var-attrs'><dl class='xr-attrs'></dl></div><div class='xr-var-data'><pre>array([[[1.89077961, 0.96394485, 0.61276984, 0.35877392, 0.58689928,\n",
       "         0.24661432, 0.34626079, 0.2517738 , 0.2090987 , 0.15242624],\n",
       "        [0.08926605, 0.10808383, 0.02571749, 0.08712401, 0.11123369,\n",
       "         0.06250655, 0.01725711, 0.02093483, 0.04960108, 0.0069297 ]],\n",
       "\n",
       "       [[1.86968136, 0.9181    , 0.57409596, 0.64834028, 0.32452586,\n",
       "         0.28390455, 0.45847282, 0.20395048, 0.22007602, 0.26738185],\n",
       "        [0.11343943, 0.05312678, 0.06988007, 0.05198158, 0.03963113,\n",
       "         0.09220515, 0.07206026, 0.1132156 , 0.06840769, 0.02849275]]])</pre></div></li><li class='xr-var-item'><div class='xr-var-name'><span>train_accuracy</span></div><div class='xr-var-dims'>(fold, model, epoch)</div><div class='xr-var-dtype'>float64</div><div class='xr-var-preview xr-preview'>0.36 0.66 0.81 ... 0.97 0.99 0.98</div><input id='attrs-abdab156-3a14-4a5e-9d23-118a4fa758e5' class='xr-var-attrs-in' type='checkbox' disabled><label for='attrs-abdab156-3a14-4a5e-9d23-118a4fa758e5' title='Show/Hide attributes'><svg class='icon xr-icon-file-text2'><use xlink:href='#icon-file-text2'></use></svg></label><input id='data-d37d10f4-d6bc-4b3a-8fb3-ef6e62823188' class='xr-var-data-in' type='checkbox'><label for='data-d37d10f4-d6bc-4b3a-8fb3-ef6e62823188' title='Show/Hide data repr'><svg class='icon xr-icon-database'><use xlink:href='#icon-database'></use></svg></label><div class='xr-var-attrs'><dl class='xr-attrs'></dl></div><div class='xr-var-data'><pre>array([[[0.36000001, 0.66000003, 0.81      , 0.87      , 0.85000002,\n",
       "         0.95999998, 0.87      , 0.92000002, 0.91000003, 0.94      ],\n",
       "        [0.98000002, 0.95999998, 0.99000001, 0.97000003, 0.97000003,\n",
       "         0.99000001, 1.        , 0.99000001, 0.98000002, 1.        ]],\n",
       "\n",
       "       [[0.31      , 0.64999998, 0.81      , 0.75999999, 0.88      ,\n",
       "         0.92000002, 0.88      , 0.91000003, 0.92000002, 0.93000001],\n",
       "        [0.95999998, 0.99000001, 0.98000002, 0.98000002, 0.99000001,\n",
       "         0.97000003, 0.98000002, 0.97000003, 0.99000001, 0.98000002]]])</pre></div></li><li class='xr-var-item'><div class='xr-var-name'><span>val_loss</span></div><div class='xr-var-dims'>(fold, model, epoch)</div><div class='xr-var-dtype'>float64</div><div class='xr-var-preview xr-preview'>1.83 1.061 ... 0.1212 0.04668</div><input id='attrs-b02564e7-a56d-4e8d-97cc-7dbe0d2b44ab' class='xr-var-attrs-in' type='checkbox' disabled><label for='attrs-b02564e7-a56d-4e8d-97cc-7dbe0d2b44ab' title='Show/Hide attributes'><svg class='icon xr-icon-file-text2'><use xlink:href='#icon-file-text2'></use></svg></label><input id='data-780fc2cc-bf1d-4a1c-92fb-18bfaf3732c5' class='xr-var-data-in' type='checkbox'><label for='data-780fc2cc-bf1d-4a1c-92fb-18bfaf3732c5' title='Show/Hide data repr'><svg class='icon xr-icon-database'><use xlink:href='#icon-database'></use></svg></label><div class='xr-var-attrs'><dl class='xr-attrs'></dl></div><div class='xr-var-data'><pre>array([[[1.83043897, 1.06094921, 0.64058143, 0.43002862, 0.34109908,\n",
       "         0.31199619, 0.24298802, 0.21758874, 0.21307263, 0.19901828],\n",
       "        [0.25782233, 0.10610785, 0.0784487 , 0.09417197, 0.0793643 ,\n",
       "         0.06127988, 0.05527427, 0.06376629, 0.06549259, 0.04416722]],\n",
       "\n",
       "       [[1.86134064, 0.97008365, 0.53320324, 0.51321387, 0.3080599 ,\n",
       "         0.27088243, 0.23045407, 0.26763469, 0.22680357, 0.20453173],\n",
       "        [0.16045928, 0.10399894, 0.11487091, 0.10635144, 0.05884539,\n",
       "         0.11137096, 0.05779473, 0.05314729, 0.12119476, 0.04667559]]])</pre></div></li><li class='xr-var-item'><div class='xr-var-name'><span>val_accuracy</span></div><div class='xr-var-dims'>(fold, model, epoch)</div><div class='xr-var-dtype'>float64</div><div class='xr-var-preview xr-preview'>0.3593 0.6281 ... 0.9612 0.9855</div><input id='attrs-c101a37c-7d8a-4119-88c6-dc4569a72ffb' class='xr-var-attrs-in' type='checkbox' disabled><label for='attrs-c101a37c-7d8a-4119-88c6-dc4569a72ffb' title='Show/Hide attributes'><svg class='icon xr-icon-file-text2'><use xlink:href='#icon-file-text2'></use></svg></label><input id='data-492ee802-f285-42f6-b0b1-3f2febd6c92a' class='xr-var-data-in' type='checkbox'><label for='data-492ee802-f285-42f6-b0b1-3f2febd6c92a' title='Show/Hide data repr'><svg class='icon xr-icon-database'><use xlink:href='#icon-database'></use></svg></label><div class='xr-var-attrs'><dl class='xr-attrs'></dl></div><div class='xr-var-data'><pre>array([[[0.35926667, 0.62806666, 0.80190003, 0.86909997, 0.89733332,\n",
       "         0.90603334, 0.92729998, 0.93436664, 0.93486667, 0.94      ],\n",
       "        [0.91890001, 0.96936667, 0.97633332, 0.97003335, 0.97626668,\n",
       "         0.98100001, 0.98263335, 0.98040003, 0.97936666, 0.98643333]],\n",
       "\n",
       "       [[0.35403332, 0.66263336, 0.8351    , 0.83359998, 0.90893334,\n",
       "         0.91683334, 0.93173331, 0.91396666, 0.92886668, 0.93613333],\n",
       "        [0.95106667, 0.96883333, 0.96143335, 0.9677    , 0.98213333,\n",
       "         0.96340001, 0.98176664, 0.98303336, 0.96116668, 0.98553336]]])</pre></div></li></ul></div></li><li class='xr-section-item'><input id='section-254460d0-84ef-4944-bd1d-7edf8c592f75' class='xr-section-summary-in' type='checkbox'  checked><label for='section-254460d0-84ef-4944-bd1d-7edf8c592f75' class='xr-section-summary' >Attributes: <span>(1)</span></label><div class='xr-section-inline-details'></div><div class='xr-section-details'><dl class='xr-attrs'><dt><span>n_splits :</span></dt><dd>2</dd></dl></div></li></ul></div></div>"
      ],
      "text/plain": [
       "<xarray.Dataset>\n",
       "Dimensions:         (fold: 2, model: 2, epoch: 10)\n",
       "Coordinates:\n",
       "  * fold            (fold) int32 0 1\n",
       "  * model           (model) <U6 'linear' 'cnn'\n",
       "  * epoch           (epoch) int32 0 1 2 3 4 5 6 7 8 9\n",
       "Data variables:\n",
       "    train_loss      (fold, model, epoch) float64 1.891 0.9639 ... 0.02849\n",
       "    train_accuracy  (fold, model, epoch) float64 0.36 0.66 0.81 ... 0.99 0.98\n",
       "    val_loss        (fold, model, epoch) float64 1.83 1.061 ... 0.1212 0.04668\n",
       "    val_accuracy    (fold, model, epoch) float64 0.3593 0.6281 ... 0.9612 0.9855\n",
       "Attributes:\n",
       "    n_splits:  2"
      ]
     },
     "execution_count": 24,
     "metadata": {},
     "output_type": "execute_result"
    }
   ],
   "source": [
    "xdata = kfold_task.to_xarray(coord_from_metrics=\"epoch\")\n",
    "xdata"
   ]
  },
  {
   "cell_type": "markdown",
   "metadata": {},
   "source": [
    "We can use xarray to plot the validation accuracy over training epochs for each fold or aggregrate the mean across all folds."
   ]
  },
  {
   "cell_type": "code",
   "execution_count": 25,
   "metadata": {},
   "outputs": [
    {
     "data": {
      "text/plain": [
       "Text(0.5, 1.0, 'Cross Validation Performance')"
      ]
     },
     "execution_count": 25,
     "metadata": {},
     "output_type": "execute_result"
    },
    {
     "data": {
      "image/png": "[encoded data removed]",
      "text/plain": [
       "<Figure size 432x288 with 1 Axes>"
      ]
     },
     "metadata": {
      "needs_background": "light"
     },
     "output_type": "display_data"
    }
   ],
   "source": [
    "fig, ax = plt.subplots()\n",
    "for name, g in xdata.groupby(\"model\"):\n",
    "    g.val_accuracy[:, 0].plot.line(x=\"epoch\", label=f\"{name} (fold)\", ax=ax)\n",
    "    g.val_accuracy[:, 0].mean(\"fold\").plot.line(\n",
    "        x=\"epoch\", label=name, ax=ax, linestyle=\"--\", color=\"k\"\n",
    "    )\n",
    "plt.legend()\n",
    "ax.set_title(\"Cross Validation Performance\")"
   ]
  },
  {
   "cell_type": "markdown",
   "metadata": {},
   "source": [
    "## Robustness Curve\n",
    "\n",
    "Now that we have trained some models let's evalulate robustness of each model to adversarial perturbations.  To create a configuration and workflow we need to provide the following for our task:\n",
    "\n",
    "- The experiment directory containing the experiment parameters and model checkpoint for training\n",
    "- The perturbation type and perturbation magnitude (`epsilon`)\n",
    "\n",
    "Below we define a function that extracts the configuration of the model defined by in the experiment YAML file while the checkpoint is found within the training experiment directory.  This makes sure we load the correct model configuration and checkpoint for testing."
   ]
  },
  {
   "cell_type": "code",
   "execution_count": 17,
   "metadata": {},
   "outputs": [],
   "source": [
    "def load_model_from_experiment(job_dir: Union[Path, str]):\n",
    "    # Load configuration for experiment\n",
    "    job_dir = Path(job_dir)\n",
    "    exp_cfg = job_dir / \".hydra/config.yaml\"\n",
    "    assert exp_cfg.exists()\n",
    "    exp_cfg = load_from_yaml(exp_cfg)\n",
    "    model = instantiate(exp_cfg.model)\n",
    "\n",
    "    # get path to model checkpoint in experiment directory\n",
    "    # and load to model\n",
    "    ckpts = list(job_dir.glob(\"**/*.ckpt\"))\n",
    "    assert len(ckpts) == 1\n",
    "    ckpt = ckpts[0]\n",
    "    load_from_checkpoint(\n",
    "        model,\n",
    "        ckpt=ckpt,\n",
    "        weights_key=\"state_dict\",\n",
    "        weights_key_strip=\"model.\",\n",
    "    )\n",
    "\n",
    "    return model\n"
   ]
  },
  {
   "cell_type": "markdown",
   "metadata": {},
   "source": [
    "Now we can define our experiment configuration file."
   ]
  },
  {
   "cell_type": "code",
   "execution_count": 18,
   "metadata": {},
   "outputs": [],
   "source": [
    "TestConfig = make_config(\n",
    "    defaults=[\n",
    "        \"_self_\",\n",
    "        {\"optimizer\": \"l2pgd\"},\n",
    "    ],\n",
    "    data_dir=Path.home() / \".torch/data\",\n",
    "    job_dir=MISSING,  # will be auto-populated by our workflow\n",
    "    trainer=TrainerCfg,\n",
    "    module=EvalPLModule,\n",
    "    model=builds(load_model_from_experiment, job_dir=\"${job_dir}\"),\n",
    "    perturber=Perturber,\n",
    "    optimizer=MISSING,\n",
    "    epsilon=0.0,\n",
    "    steps=10,\n",
    ")\n"
   ]
  },
  {
   "cell_type": "markdown",
   "metadata": {},
   "source": [
    "The workflow inherits from [RobustnessCurve](https://mit-ll-responsible-ai.github.io/responsible-ai-toolbox/generated/rai_toolbox.mushin.RobustnessCurve.html).  Other than the basic task function to use [Trainer.test](https://pytorch-lightning.readthedocs.io/en/latest/api/pytorch_lightning.trainer.trainer.Trainer.html#pytorch_lightning.trainer.trainer.Trainer) and return the test metrics saved by [MetricsCallback](https://mit-ll-responsible-ai.github.io/responsible-ai-toolbox/generated/rai_toolbox.mushin.MetricsCallback.html), this workflow extends the basic interface for `RobustnessCurve` to:\n",
    "\n",
    "- Load and correlate the training experiment parameters model and fold to the robustness curve experiments\n",
    "- Update the [xarray.Dataset](https://docs.xarray.dev/en/stable/generated/xarray.Dataset.html) with the training experiment parameters"
   ]
  },
  {
   "cell_type": "code",
   "execution_count": 19,
   "metadata": {},
   "outputs": [],
   "source": [
    "class ExperimentRobustnessCurve(RobustnessCurve):\n",
    "    @staticmethod\n",
    "    def task(trainer: Trainer, module: LightningModule):\n",
    "        trainer.test(module)\n",
    "        \n",
    "        # Loads & returns a dictionary of metrics logged by PyTorch Lightning\n",
    "        return tr.load(\"test_metrics.pt\")"
   ]
  },
  {
   "cell_type": "markdown",
   "metadata": {},
   "source": [
    "Run the experiment by first defining the main experiment directory for each cross-validation experiment and providing the `epsilon` values for the calculating the $\\ell_2$ adverarial perturbations."
   ]
  },
  {
   "cell_type": "code",
   "execution_count": 20,
   "metadata": {},
   "outputs": [
    {
     "name": "stdout",
     "output_type": "stream",
     "text": [
      "[2022-05-23 11:58:38,842][HYDRA] Launching 12 jobs locally\n",
      "[2022-05-23 11:58:38,842][HYDRA] \t#0 : epsilon=0 job_dir=C\\:\\\\Users\\\\Ryan\\ Soklaski\\\\responsible-ai-toolbox\\\\docs\\\\source\\\\tutorials\\\\outputs\\\\cross_validation\\\\2022-05-23\\\\11-33-26\\\\0\n"
     ]
    },
    {
     "name": "stderr",
     "output_type": "stream",
     "text": [
      "GPU available: True, used: True\n",
      "TPU available: False, using: 0 TPU cores\n",
      "IPU available: False, using: 0 IPUs\n",
      "HPU available: False, using: 0 HPUs\n"
     ]
    },
    {
     "name": "stdout",
     "output_type": "stream",
     "text": [
      "[2022-05-23 11:58:39,109][rai_toolbox.mushin._utils][INFO] - Loading model checkpoint from C:\\Users\\Ryan Soklaski\\responsible-ai-toolbox\\docs\\source\\tutorials\\outputs\\cross_validation\\2022-05-23\\11-33-26\\0\\lightning_logs\\version_0\\checkpoints\\epoch=9-step=3000.ckpt\n"
     ]
    },
    {
     "name": "stderr",
     "output_type": "stream",
     "text": [
      "Missing logger folder: C:\\Users\\Ryan Soklaski\\responsible-ai-toolbox\\docs\\source\\tutorials\\outputs\\robustness_curves\\2022-05-23\\11-58-37\\0\\lightning_logs\n",
      "LOCAL_RANK: 0 - CUDA_VISIBLE_DEVICES: [0]\n"
     ]
    },
    {
     "name": "stdout",
     "output_type": "stream",
     "text": [
      "────────────────────────────────────────────────────────────────────────────────────────────────────────────────────────\n",
      "       Test metric             DataLoader 0\n",
      "────────────────────────────────────────────────────────────────────────────────────────────────────────────────────────\n",
      "      test_accuracy         0.9567999839782715\n",
      "  test_adversarial_loss     0.14566604793071747\n",
      "   test_clean_accuracy      0.9567999839782715\n",
      "        test_loss           0.14566606283187866\n",
      "────────────────────────────────────────────────────────────────────────────────────────────────────────────────────────\n",
      "[2022-05-23 11:58:42,864][HYDRA] \t#1 : epsilon=0 job_dir=C\\:\\\\Users\\\\Ryan\\ Soklaski\\\\responsible-ai-toolbox\\\\docs\\\\source\\\\tutorials\\\\outputs\\\\cross_validation\\\\2022-05-23\\\\11-33-26\\\\1\n"
     ]
    },
    {
     "name": "stderr",
     "output_type": "stream",
     "text": [
      "GPU available: True, used: True\n",
      "TPU available: False, using: 0 TPU cores\n",
      "IPU available: False, using: 0 IPUs\n",
      "HPU available: False, using: 0 HPUs\n"
     ]
    },
    {
     "name": "stdout",
     "output_type": "stream",
     "text": [
      "[2022-05-23 11:58:43,032][rai_toolbox.mushin._utils][INFO] - Loading model checkpoint from C:\\Users\\Ryan Soklaski\\responsible-ai-toolbox\\docs\\source\\tutorials\\outputs\\cross_validation\\2022-05-23\\11-33-26\\1\\lightning_logs\\version_0\\checkpoints\\epoch=9-step=3000.ckpt\n"
     ]
    },
    {
     "name": "stderr",
     "output_type": "stream",
     "text": [
      "Missing logger folder: C:\\Users\\Ryan Soklaski\\responsible-ai-toolbox\\docs\\source\\tutorials\\outputs\\robustness_curves\\2022-05-23\\11-58-37\\1\\lightning_logs\n",
      "LOCAL_RANK: 0 - CUDA_VISIBLE_DEVICES: [0]\n"
     ]
    },
    {
     "name": "stdout",
     "output_type": "stream",
     "text": [
      "────────────────────────────────────────────────────────────────────────────────────────────────────────────────────────\n",
      "       Test metric             DataLoader 0\n",
      "────────────────────────────────────────────────────────────────────────────────────────────────────────────────────────\n",
      "      test_accuracy         0.9898999929428101\n",
      "  test_adversarial_loss     0.02779332548379898\n",
      "   test_clean_accuracy      0.9898999929428101\n",
      "        test_loss           0.02779332548379898\n",
      "────────────────────────────────────────────────────────────────────────────────────────────────────────────────────────\n",
      "[2022-05-23 11:58:48,605][HYDRA] \t#2 : epsilon=0 job_dir=C\\:\\\\Users\\\\Ryan\\ Soklaski\\\\responsible-ai-toolbox\\\\docs\\\\source\\\\tutorials\\\\outputs\\\\cross_validation\\\\2022-05-23\\\\11-33-26\\\\2\n"
     ]
    },
    {
     "name": "stderr",
     "output_type": "stream",
     "text": [
      "GPU available: True, used: True\n",
      "TPU available: False, using: 0 TPU cores\n",
      "IPU available: False, using: 0 IPUs\n",
      "HPU available: False, using: 0 HPUs\n"
     ]
    },
    {
     "name": "stdout",
     "output_type": "stream",
     "text": [
      "[2022-05-23 11:58:48,770][rai_toolbox.mushin._utils][INFO] - Loading model checkpoint from C:\\Users\\Ryan Soklaski\\responsible-ai-toolbox\\docs\\source\\tutorials\\outputs\\cross_validation\\2022-05-23\\11-33-26\\2\\lightning_logs\\version_0\\checkpoints\\epoch=9-step=3000.ckpt\n"
     ]
    },
    {
     "name": "stderr",
     "output_type": "stream",
     "text": [
      "Missing logger folder: C:\\Users\\Ryan Soklaski\\responsible-ai-toolbox\\docs\\source\\tutorials\\outputs\\robustness_curves\\2022-05-23\\11-58-37\\2\\lightning_logs\n",
      "LOCAL_RANK: 0 - CUDA_VISIBLE_DEVICES: [0]\n"
     ]
    },
    {
     "name": "stdout",
     "output_type": "stream",
     "text": [
      "────────────────────────────────────────────────────────────────────────────────────────────────────────────────────────\n",
      "       Test metric             DataLoader 0\n",
      "────────────────────────────────────────────────────────────────────────────────────────────────────────────────────────\n",
      "      test_accuracy         0.9538000226020813\n",
      "  test_adversarial_loss     0.14155754446983337\n",
      "   test_clean_accuracy      0.9538000226020813\n",
      "        test_loss           0.14155754446983337\n",
      "────────────────────────────────────────────────────────────────────────────────────────────────────────────────────────\n",
      "[2022-05-23 11:58:52,528][HYDRA] \t#3 : epsilon=0 job_dir=C\\:\\\\Users\\\\Ryan\\ Soklaski\\\\responsible-ai-toolbox\\\\docs\\\\source\\\\tutorials\\\\outputs\\\\cross_validation\\\\2022-05-23\\\\11-33-26\\\\3\n"
     ]
    },
    {
     "name": "stderr",
     "output_type": "stream",
     "text": [
      "GPU available: True, used: True\n",
      "TPU available: False, using: 0 TPU cores\n",
      "IPU available: False, using: 0 IPUs\n",
      "HPU available: False, using: 0 HPUs\n"
     ]
    },
    {
     "name": "stdout",
     "output_type": "stream",
     "text": [
      "[2022-05-23 11:58:52,703][rai_toolbox.mushin._utils][INFO] - Loading model checkpoint from C:\\Users\\Ryan Soklaski\\responsible-ai-toolbox\\docs\\source\\tutorials\\outputs\\cross_validation\\2022-05-23\\11-33-26\\3\\lightning_logs\\version_0\\checkpoints\\epoch=9-step=3000.ckpt\n"
     ]
    },
    {
     "name": "stderr",
     "output_type": "stream",
     "text": [
      "Missing logger folder: C:\\Users\\Ryan Soklaski\\responsible-ai-toolbox\\docs\\source\\tutorials\\outputs\\robustness_curves\\2022-05-23\\11-58-37\\3\\lightning_logs\n",
      "LOCAL_RANK: 0 - CUDA_VISIBLE_DEVICES: [0]\n"
     ]
    },
    {
     "name": "stdout",
     "output_type": "stream",
     "text": [
      "────────────────────────────────────────────────────────────────────────────────────────────────────────────────────────\n",
      "       Test metric             DataLoader 0\n",
      "────────────────────────────────────────────────────────────────────────────────────────────────────────────────────────\n",
      "      test_accuracy         0.9879000186920166\n",
      "  test_adversarial_loss     0.03512534126639366\n",
      "   test_clean_accuracy      0.9879000186920166\n",
      "        test_loss           0.03512534499168396\n",
      "────────────────────────────────────────────────────────────────────────────────────────────────────────────────────────\n",
      "[2022-05-23 11:58:58,342][HYDRA] \t#4 : epsilon=1 job_dir=C\\:\\\\Users\\\\Ryan\\ Soklaski\\\\responsible-ai-toolbox\\\\docs\\\\source\\\\tutorials\\\\outputs\\\\cross_validation\\\\2022-05-23\\\\11-33-26\\\\0\n"
     ]
    },
    {
     "name": "stderr",
     "output_type": "stream",
     "text": [
      "GPU available: True, used: True\n",
      "TPU available: False, using: 0 TPU cores\n",
      "IPU available: False, using: 0 IPUs\n",
      "HPU available: False, using: 0 HPUs\n"
     ]
    },
    {
     "name": "stdout",
     "output_type": "stream",
     "text": [
      "[2022-05-23 11:58:58,504][rai_toolbox.mushin._utils][INFO] - Loading model checkpoint from C:\\Users\\Ryan Soklaski\\responsible-ai-toolbox\\docs\\source\\tutorials\\outputs\\cross_validation\\2022-05-23\\11-33-26\\0\\lightning_logs\\version_0\\checkpoints\\epoch=9-step=3000.ckpt\n"
     ]
    },
    {
     "name": "stderr",
     "output_type": "stream",
     "text": [
      "Missing logger folder: C:\\Users\\Ryan Soklaski\\responsible-ai-toolbox\\docs\\source\\tutorials\\outputs\\robustness_curves\\2022-05-23\\11-58-37\\4\\lightning_logs\n",
      "LOCAL_RANK: 0 - CUDA_VISIBLE_DEVICES: [0]\n"
     ]
    },
    {
     "name": "stdout",
     "output_type": "stream",
     "text": [
      "────────────────────────────────────────────────────────────────────────────────────────────────────────────────────────\n",
      "       Test metric             DataLoader 0\n",
      "────────────────────────────────────────────────────────────────────────────────────────────────────────────────────────\n",
      "      test_accuracy         0.22030000388622284\n",
      "  test_adversarial_loss     3.3281285762786865\n",
      "   test_clean_accuracy      0.9567999839782715\n",
      "        test_loss           3.3281285762786865\n",
      "────────────────────────────────────────────────────────────────────────────────────────────────────────────────────────\n",
      "[2022-05-23 11:59:02,387][HYDRA] \t#5 : epsilon=1 job_dir=C\\:\\\\Users\\\\Ryan\\ Soklaski\\\\responsible-ai-toolbox\\\\docs\\\\source\\\\tutorials\\\\outputs\\\\cross_validation\\\\2022-05-23\\\\11-33-26\\\\1\n"
     ]
    },
    {
     "name": "stderr",
     "output_type": "stream",
     "text": [
      "GPU available: True, used: True\n",
      "TPU available: False, using: 0 TPU cores\n",
      "IPU available: False, using: 0 IPUs\n",
      "HPU available: False, using: 0 HPUs\n"
     ]
    },
    {
     "name": "stdout",
     "output_type": "stream",
     "text": [
      "[2022-05-23 11:59:02,549][rai_toolbox.mushin._utils][INFO] - Loading model checkpoint from C:\\Users\\Ryan Soklaski\\responsible-ai-toolbox\\docs\\source\\tutorials\\outputs\\cross_validation\\2022-05-23\\11-33-26\\1\\lightning_logs\\version_0\\checkpoints\\epoch=9-step=3000.ckpt\n"
     ]
    },
    {
     "name": "stderr",
     "output_type": "stream",
     "text": [
      "Missing logger folder: C:\\Users\\Ryan Soklaski\\responsible-ai-toolbox\\docs\\source\\tutorials\\outputs\\robustness_curves\\2022-05-23\\11-58-37\\5\\lightning_logs\n",
      "LOCAL_RANK: 0 - CUDA_VISIBLE_DEVICES: [0]\n"
     ]
    },
    {
     "name": "stdout",
     "output_type": "stream",
     "text": [
      "────────────────────────────────────────────────────────────────────────────────────────────────────────────────────────\n",
      "       Test metric             DataLoader 0\n",
      "────────────────────────────────────────────────────────────────────────────────────────────────────────────────────────\n",
      "      test_accuracy         0.12359999865293503\n",
      "  test_adversarial_loss      4.366969585418701\n",
      "   test_clean_accuracy      0.9898999929428101\n",
      "        test_loss            4.366969585418701\n",
      "────────────────────────────────────────────────────────────────────────────────────────────────────────────────────────\n",
      "[2022-05-23 11:59:08,042][HYDRA] \t#6 : epsilon=1 job_dir=C\\:\\\\Users\\\\Ryan\\ Soklaski\\\\responsible-ai-toolbox\\\\docs\\\\source\\\\tutorials\\\\outputs\\\\cross_validation\\\\2022-05-23\\\\11-33-26\\\\2\n"
     ]
    },
    {
     "name": "stderr",
     "output_type": "stream",
     "text": [
      "GPU available: True, used: True\n",
      "TPU available: False, using: 0 TPU cores\n",
      "IPU available: False, using: 0 IPUs\n",
      "HPU available: False, using: 0 HPUs\n"
     ]
    },
    {
     "name": "stdout",
     "output_type": "stream",
     "text": [
      "[2022-05-23 11:59:08,199][rai_toolbox.mushin._utils][INFO] - Loading model checkpoint from C:\\Users\\Ryan Soklaski\\responsible-ai-toolbox\\docs\\source\\tutorials\\outputs\\cross_validation\\2022-05-23\\11-33-26\\2\\lightning_logs\\version_0\\checkpoints\\epoch=9-step=3000.ckpt\n"
     ]
    },
    {
     "name": "stderr",
     "output_type": "stream",
     "text": [
      "Missing logger folder: C:\\Users\\Ryan Soklaski\\responsible-ai-toolbox\\docs\\source\\tutorials\\outputs\\robustness_curves\\2022-05-23\\11-58-37\\6\\lightning_logs\n",
      "LOCAL_RANK: 0 - CUDA_VISIBLE_DEVICES: [0]\n"
     ]
    },
    {
     "name": "stdout",
     "output_type": "stream",
     "text": [
      "────────────────────────────────────────────────────────────────────────────────────────────────────────────────────────\n",
      "       Test metric             DataLoader 0\n",
      "────────────────────────────────────────────────────────────────────────────────────────────────────────────────────────\n",
      "      test_accuracy         0.2320999950170517\n",
      "  test_adversarial_loss     3.3719112873077393\n",
      "   test_clean_accuracy      0.9538000226020813\n",
      "        test_loss            3.37191104888916\n",
      "────────────────────────────────────────────────────────────────────────────────────────────────────────────────────────\n",
      "[2022-05-23 11:59:11,957][HYDRA] \t#7 : epsilon=1 job_dir=C\\:\\\\Users\\\\Ryan\\ Soklaski\\\\responsible-ai-toolbox\\\\docs\\\\source\\\\tutorials\\\\outputs\\\\cross_validation\\\\2022-05-23\\\\11-33-26\\\\3\n"
     ]
    },
    {
     "name": "stderr",
     "output_type": "stream",
     "text": [
      "GPU available: True, used: True\n",
      "TPU available: False, using: 0 TPU cores\n",
      "IPU available: False, using: 0 IPUs\n",
      "HPU available: False, using: 0 HPUs\n"
     ]
    },
    {
     "name": "stdout",
     "output_type": "stream",
     "text": [
      "[2022-05-23 11:59:12,126][rai_toolbox.mushin._utils][INFO] - Loading model checkpoint from C:\\Users\\Ryan Soklaski\\responsible-ai-toolbox\\docs\\source\\tutorials\\outputs\\cross_validation\\2022-05-23\\11-33-26\\3\\lightning_logs\\version_0\\checkpoints\\epoch=9-step=3000.ckpt\n"
     ]
    },
    {
     "name": "stderr",
     "output_type": "stream",
     "text": [
      "Missing logger folder: C:\\Users\\Ryan Soklaski\\responsible-ai-toolbox\\docs\\source\\tutorials\\outputs\\robustness_curves\\2022-05-23\\11-58-37\\7\\lightning_logs\n",
      "LOCAL_RANK: 0 - CUDA_VISIBLE_DEVICES: [0]\n"
     ]
    },
    {
     "name": "stdout",
     "output_type": "stream",
     "text": [
      "────────────────────────────────────────────────────────────────────────────────────────────────────────────────────────\n",
      "       Test metric             DataLoader 0\n",
      "────────────────────────────────────────────────────────────────────────────────────────────────────────────────────────\n",
      "      test_accuracy         0.20319999754428864\n",
      "  test_adversarial_loss     3.4973063468933105\n",
      "   test_clean_accuracy      0.9879000186920166\n",
      "        test_loss           3.4973063468933105\n",
      "────────────────────────────────────────────────────────────────────────────────────────────────────────────────────────\n",
      "[2022-05-23 11:59:17,705][HYDRA] \t#8 : epsilon=2 job_dir=C\\:\\\\Users\\\\Ryan\\ Soklaski\\\\responsible-ai-toolbox\\\\docs\\\\source\\\\tutorials\\\\outputs\\\\cross_validation\\\\2022-05-23\\\\11-33-26\\\\0\n"
     ]
    },
    {
     "name": "stderr",
     "output_type": "stream",
     "text": [
      "GPU available: True, used: True\n",
      "TPU available: False, using: 0 TPU cores\n",
      "IPU available: False, using: 0 IPUs\n",
      "HPU available: False, using: 0 HPUs\n"
     ]
    },
    {
     "name": "stdout",
     "output_type": "stream",
     "text": [
      "[2022-05-23 11:59:17,859][rai_toolbox.mushin._utils][INFO] - Loading model checkpoint from C:\\Users\\Ryan Soklaski\\responsible-ai-toolbox\\docs\\source\\tutorials\\outputs\\cross_validation\\2022-05-23\\11-33-26\\0\\lightning_logs\\version_0\\checkpoints\\epoch=9-step=3000.ckpt\n"
     ]
    },
    {
     "name": "stderr",
     "output_type": "stream",
     "text": [
      "Missing logger folder: C:\\Users\\Ryan Soklaski\\responsible-ai-toolbox\\docs\\source\\tutorials\\outputs\\robustness_curves\\2022-05-23\\11-58-37\\8\\lightning_logs\n",
      "LOCAL_RANK: 0 - CUDA_VISIBLE_DEVICES: [0]\n"
     ]
    },
    {
     "name": "stdout",
     "output_type": "stream",
     "text": [
      "────────────────────────────────────────────────────────────────────────────────────────────────────────────────────────\n",
      "       Test metric             DataLoader 0\n",
      "────────────────────────────────────────────────────────────────────────────────────────────────────────────────────────\n",
      "      test_accuracy        0.0008999999845400453\n",
      "  test_adversarial_loss      10.54411792755127\n",
      "   test_clean_accuracy      0.9567999839782715\n",
      "        test_loss           10.544118881225586\n",
      "────────────────────────────────────────────────────────────────────────────────────────────────────────────────────────\n",
      "[2022-05-23 11:59:21,548][HYDRA] \t#9 : epsilon=2 job_dir=C\\:\\\\Users\\\\Ryan\\ Soklaski\\\\responsible-ai-toolbox\\\\docs\\\\source\\\\tutorials\\\\outputs\\\\cross_validation\\\\2022-05-23\\\\11-33-26\\\\1\n"
     ]
    },
    {
     "name": "stderr",
     "output_type": "stream",
     "text": [
      "GPU available: True, used: True\n",
      "TPU available: False, using: 0 TPU cores\n",
      "IPU available: False, using: 0 IPUs\n",
      "HPU available: False, using: 0 HPUs\n"
     ]
    },
    {
     "name": "stdout",
     "output_type": "stream",
     "text": [
      "[2022-05-23 11:59:21,703][rai_toolbox.mushin._utils][INFO] - Loading model checkpoint from C:\\Users\\Ryan Soklaski\\responsible-ai-toolbox\\docs\\source\\tutorials\\outputs\\cross_validation\\2022-05-23\\11-33-26\\1\\lightning_logs\\version_0\\checkpoints\\epoch=9-step=3000.ckpt\n"
     ]
    },
    {
     "name": "stderr",
     "output_type": "stream",
     "text": [
      "Missing logger folder: C:\\Users\\Ryan Soklaski\\responsible-ai-toolbox\\docs\\source\\tutorials\\outputs\\robustness_curves\\2022-05-23\\11-58-37\\9\\lightning_logs\n",
      "LOCAL_RANK: 0 - CUDA_VISIBLE_DEVICES: [0]\n"
     ]
    },
    {
     "name": "stdout",
     "output_type": "stream",
     "text": [
      "────────────────────────────────────────────────────────────────────────────────────────────────────────────────────────\n",
      "       Test metric             DataLoader 0\n",
      "────────────────────────────────────────────────────────────────────────────────────────────────────────────────────────\n",
      "      test_accuracy                 0.0\n",
      "  test_adversarial_loss     16.473522186279297\n",
      "   test_clean_accuracy      0.9898999929428101\n",
      "        test_loss            16.47352409362793\n",
      "────────────────────────────────────────────────────────────────────────────────────────────────────────────────────────\n",
      "[2022-05-23 11:59:27,232][HYDRA] \t#10 : epsilon=2 job_dir=C\\:\\\\Users\\\\Ryan\\ Soklaski\\\\responsible-ai-toolbox\\\\docs\\\\source\\\\tutorials\\\\outputs\\\\cross_validation\\\\2022-05-23\\\\11-33-26\\\\2\n"
     ]
    },
    {
     "name": "stderr",
     "output_type": "stream",
     "text": [
      "GPU available: True, used: True\n",
      "TPU available: False, using: 0 TPU cores\n",
      "IPU available: False, using: 0 IPUs\n",
      "HPU available: False, using: 0 HPUs\n"
     ]
    },
    {
     "name": "stdout",
     "output_type": "stream",
     "text": [
      "[2022-05-23 11:59:27,401][rai_toolbox.mushin._utils][INFO] - Loading model checkpoint from C:\\Users\\Ryan Soklaski\\responsible-ai-toolbox\\docs\\source\\tutorials\\outputs\\cross_validation\\2022-05-23\\11-33-26\\2\\lightning_logs\\version_0\\checkpoints\\epoch=9-step=3000.ckpt\n"
     ]
    },
    {
     "name": "stderr",
     "output_type": "stream",
     "text": [
      "Missing logger folder: C:\\Users\\Ryan Soklaski\\responsible-ai-toolbox\\docs\\source\\tutorials\\outputs\\robustness_curves\\2022-05-23\\11-58-37\\10\\lightning_logs\n",
      "LOCAL_RANK: 0 - CUDA_VISIBLE_DEVICES: [0]\n"
     ]
    },
    {
     "name": "stdout",
     "output_type": "stream",
     "text": [
      "────────────────────────────────────────────────────────────────────────────────────────────────────────────────────────\n",
      "       Test metric             DataLoader 0\n",
      "────────────────────────────────────────────────────────────────────────────────────────────────────────────────────────\n",
      "      test_accuracy        0.004399999976158142\n",
      "  test_adversarial_loss     10.504456520080566\n",
      "   test_clean_accuracy      0.9538000226020813\n",
      "        test_loss           10.504456520080566\n",
      "────────────────────────────────────────────────────────────────────────────────────────────────────────────────────────\n",
      "[2022-05-23 11:59:31,170][HYDRA] \t#11 : epsilon=2 job_dir=C\\:\\\\Users\\\\Ryan\\ Soklaski\\\\responsible-ai-toolbox\\\\docs\\\\source\\\\tutorials\\\\outputs\\\\cross_validation\\\\2022-05-23\\\\11-33-26\\\\3\n"
     ]
    },
    {
     "name": "stderr",
     "output_type": "stream",
     "text": [
      "GPU available: True, used: True\n",
      "TPU available: False, using: 0 TPU cores\n",
      "IPU available: False, using: 0 IPUs\n",
      "HPU available: False, using: 0 HPUs\n"
     ]
    },
    {
     "name": "stdout",
     "output_type": "stream",
     "text": [
      "[2022-05-23 11:59:31,328][rai_toolbox.mushin._utils][INFO] - Loading model checkpoint from C:\\Users\\Ryan Soklaski\\responsible-ai-toolbox\\docs\\source\\tutorials\\outputs\\cross_validation\\2022-05-23\\11-33-26\\3\\lightning_logs\\version_0\\checkpoints\\epoch=9-step=3000.ckpt\n"
     ]
    },
    {
     "name": "stderr",
     "output_type": "stream",
     "text": [
      "Missing logger folder: C:\\Users\\Ryan Soklaski\\responsible-ai-toolbox\\docs\\source\\tutorials\\outputs\\robustness_curves\\2022-05-23\\11-58-37\\11\\lightning_logs\n",
      "LOCAL_RANK: 0 - CUDA_VISIBLE_DEVICES: [0]\n"
     ]
    },
    {
     "name": "stdout",
     "output_type": "stream",
     "text": [
      "────────────────────────────────────────────────────────────────────────────────────────────────────────────────────────\r\n",
      "       Test metric             DataLoader 0\r\n",
      "────────────────────────────────────────────────────────────────────────────────────────────────────────────────────────\r\n",
      "      test_accuracy                 0.0\r\n",
      "  test_adversarial_loss      14.78298282623291\r\n",
      "   test_clean_accuracy      0.9879000186920166\r\n",
      "        test_loss           14.782984733581543\r\n",
      "────────────────────────────────────────────────────────────────────────────────────────────────────────────────────────\n"
     ]
    }
   ],
   "source": [
    "robustness_curve_task = ExperimentRobustnessCurve(TestConfig)\n",
    "robustness_curve_task.run(\n",
    "    epsilon=[0, 1, 2],\n",
    "    target_job_dirs=kfold_task.multirun_working_dirs,\n",
    "    overrides=[\n",
    "        \"hydra.sweep.dir=outputs/robustness_curves/${now:%Y-%m-%d}/${now:%H-%M-%S}\"\n",
    "    ],\n",
    ")\n",
    "\n",
    "## You can load an old experiment\n",
    "# robustness_curve_task = ExperimentRobustnessCurve().load_from_dir(\"outputs/robustness_curves/2022-05-11/14-45-02\")\n"
   ]
  },
  {
   "cell_type": "code",
   "execution_count": 21,
   "metadata": {},
   "outputs": [
    {
     "data": {
      "text/plain": [
       "WindowsPath('C:/Users/Ryan Soklaski/responsible-ai-toolbox/docs/source/tutorials/outputs/robustness_curves/2022-05-23/11-58-37')"
      ]
     },
     "execution_count": 21,
     "metadata": {},
     "output_type": "execute_result"
    }
   ],
   "source": [
    "robustness_curve_task.working_dir"
   ]
  },
  {
   "cell_type": "markdown",
   "metadata": {},
   "source": [
    "Extract the [xarray.Dataset](https://docs.xarray.dev/en/stable/generated/xarray.Dataset.html)."
   ]
  },
  {
   "cell_type": "code",
   "execution_count": 22,
   "metadata": {},
   "outputs": [
    {
     "data": {
      "text/html": [
       "<div><svg style=\"position: absolute; width: 0; height: 0; overflow: hidden\">\n",
       "<defs>\n",
       "<symbol id=\"icon-database\" viewBox=\"0 0 32 32\">\n",
       "<path d=\"M16 0c-8.837 0-16 2.239-16 5v4c0 2.761 7.163 5 16 5s16-2.239 16-5v-4c0-2.761-7.163-5-16-5z\"></path>\n",
       "<path d=\"M16 17c-8.837 0-16-2.239-16-5v6c0 2.761 7.163 5 16 5s16-2.239 16-5v-6c0 2.761-7.163 5-16 5z\"></path>\n",
       "<path d=\"M16 26c-8.837 0-16-2.239-16-5v6c0 2.761 7.163 5 16 5s16-2.239 16-5v-6c0 2.761-7.163 5-16 5z\"></path>\n",
       "</symbol>\n",
       "<symbol id=\"icon-file-text2\" viewBox=\"0 0 32 32\">\n",
       "<path d=\"M28.681 7.159c-0.694-0.947-1.662-2.053-2.724-3.116s-2.169-2.030-3.116-2.724c-1.612-1.182-2.393-1.319-2.841-1.319h-15.5c-1.378 0-2.5 1.121-2.5 2.5v27c0 1.378 1.122 2.5 2.5 2.5h23c1.378 0 2.5-1.122 2.5-2.5v-19.5c0-0.448-0.137-1.23-1.319-2.841zM24.543 5.457c0.959 0.959 1.712 1.825 2.268 2.543h-4.811v-4.811c0.718 0.556 1.584 1.309 2.543 2.268zM28 29.5c0 0.271-0.229 0.5-0.5 0.5h-23c-0.271 0-0.5-0.229-0.5-0.5v-27c0-0.271 0.229-0.5 0.5-0.5 0 0 15.499-0 15.5 0v7c0 0.552 0.448 1 1 1h7v19.5z\"></path>\n",
       "<path d=\"M23 26h-14c-0.552 0-1-0.448-1-1s0.448-1 1-1h14c0.552 0 1 0.448 1 1s-0.448 1-1 1z\"></path>\n",
       "<path d=\"M23 22h-14c-0.552 0-1-0.448-1-1s0.448-1 1-1h14c0.552 0 1 0.448 1 1s-0.448 1-1 1z\"></path>\n",
       "<path d=\"M23 18h-14c-0.552 0-1-0.448-1-1s0.448-1 1-1h14c0.552 0 1 0.448 1 1s-0.448 1-1 1z\"></path>\n",
       "</symbol>\n",
       "</defs>\n",
       "</svg>\n",
       "<style>/* CSS stylesheet for displaying xarray objects in jupyterlab.\n",
       " *\n",
       " */\n",
       "\n",
       ":root {\n",
       "  --xr-font-color0: var(--jp-content-font-color0, rgba(0, 0, 0, 1));\n",
       "  --xr-font-color2: var(--jp-content-font-color2, rgba(0, 0, 0, 0.54));\n",
       "  --xr-font-color3: var(--jp-content-font-color3, rgba(0, 0, 0, 0.38));\n",
       "  --xr-border-color: var(--jp-border-color2, #e0e0e0);\n",
       "  --xr-disabled-color: var(--jp-layout-color3, #bdbdbd);\n",
       "  --xr-background-color: var(--jp-layout-color0, white);\n",
       "  --xr-background-color-row-even: var(--jp-layout-color1, white);\n",
       "  --xr-background-color-row-odd: var(--jp-layout-color2, #eeeeee);\n",
       "}\n",
       "\n",
       "html[theme=dark],\n",
       "body.vscode-dark {\n",
       "  --xr-font-color0: rgba(255, 255, 255, 1);\n",
       "  --xr-font-color2: rgba(255, 255, 255, 0.54);\n",
       "  --xr-font-color3: rgba(255, 255, 255, 0.38);\n",
       "  --xr-border-color: #1F1F1F;\n",
       "  --xr-disabled-color: #515151;\n",
       "  --xr-background-color: #111111;\n",
       "  --xr-background-color-row-even: #111111;\n",
       "  --xr-background-color-row-odd: #313131;\n",
       "}\n",
       "\n",
       ".xr-wrap {\n",
       "  display: block !important;\n",
       "  min-width: 300px;\n",
       "  max-width: 700px;\n",
       "}\n",
       "\n",
       ".xr-text-repr-fallback {\n",
       "  /* fallback to plain text repr when CSS is not injected (untrusted notebook) */\n",
       "  display: none;\n",
       "}\n",
       "\n",
       ".xr-header {\n",
       "  padding-top: 6px;\n",
       "  padding-bottom: 6px;\n",
       "  margin-bottom: 4px;\n",
       "  border-bottom: solid 1px var(--xr-border-color);\n",
       "}\n",
       "\n",
       ".xr-header > div,\n",
       ".xr-header > ul {\n",
       "  display: inline;\n",
       "  margin-top: 0;\n",
       "  margin-bottom: 0;\n",
       "}\n",
       "\n",
       ".xr-obj-type,\n",
       ".xr-array-name {\n",
       "  margin-left: 2px;\n",
       "  margin-right: 10px;\n",
       "}\n",
       "\n",
       ".xr-obj-type {\n",
       "  color: var(--xr-font-color2);\n",
       "}\n",
       "\n",
       ".xr-sections {\n",
       "  padding-left: 0 !important;\n",
       "  display: grid;\n",
       "  grid-template-columns: 150px auto auto 1fr 20px 20px;\n",
       "}\n",
       "\n",
       ".xr-section-item {\n",
       "  display: contents;\n",
       "}\n",
       "\n",
       ".xr-section-item input {\n",
       "  display: none;\n",
       "}\n",
       "\n",
       ".xr-section-item input + label {\n",
       "  color: var(--xr-disabled-color);\n",
       "}\n",
       "\n",
       ".xr-section-item input:enabled + label {\n",
       "  cursor: pointer;\n",
       "  color: var(--xr-font-color2);\n",
       "}\n",
       "\n",
       ".xr-section-item input:enabled + label:hover {\n",
       "  color: var(--xr-font-color0);\n",
       "}\n",
       "\n",
       ".xr-section-summary {\n",
       "  grid-column: 1;\n",
       "  color: var(--xr-font-color2);\n",
       "  font-weight: 500;\n",
       "}\n",
       "\n",
       ".xr-section-summary > span {\n",
       "  display: inline-block;\n",
       "  padding-left: 0.5em;\n",
       "}\n",
       "\n",
       ".xr-section-summary-in:disabled + label {\n",
       "  color: var(--xr-font-color2);\n",
       "}\n",
       "\n",
       ".xr-section-summary-in + label:before {\n",
       "  display: inline-block;\n",
       "  content: '►';\n",
       "  font-size: 11px;\n",
       "  width: 15px;\n",
       "  text-align: center;\n",
       "}\n",
       "\n",
       ".xr-section-summary-in:disabled + label:before {\n",
       "  color: var(--xr-disabled-color);\n",
       "}\n",
       "\n",
       ".xr-section-summary-in:checked + label:before {\n",
       "  content: '▼';\n",
       "}\n",
       "\n",
       ".xr-section-summary-in:checked + label > span {\n",
       "  display: none;\n",
       "}\n",
       "\n",
       ".xr-section-summary,\n",
       ".xr-section-inline-details {\n",
       "  padding-top: 4px;\n",
       "  padding-bottom: 4px;\n",
       "}\n",
       "\n",
       ".xr-section-inline-details {\n",
       "  grid-column: 2 / -1;\n",
       "}\n",
       "\n",
       ".xr-section-details {\n",
       "  display: none;\n",
       "  grid-column: 1 / -1;\n",
       "  margin-bottom: 5px;\n",
       "}\n",
       "\n",
       ".xr-section-summary-in:checked ~ .xr-section-details {\n",
       "  display: contents;\n",
       "}\n",
       "\n",
       ".xr-array-wrap {\n",
       "  grid-column: 1 / -1;\n",
       "  display: grid;\n",
       "  grid-template-columns: 20px auto;\n",
       "}\n",
       "\n",
       ".xr-array-wrap > label {\n",
       "  grid-column: 1;\n",
       "  vertical-align: top;\n",
       "}\n",
       "\n",
       ".xr-preview {\n",
       "  color: var(--xr-font-color3);\n",
       "}\n",
       "\n",
       ".xr-array-preview,\n",
       ".xr-array-data {\n",
       "  padding: 0 5px !important;\n",
       "  grid-column: 2;\n",
       "}\n",
       "\n",
       ".xr-array-data,\n",
       ".xr-array-in:checked ~ .xr-array-preview {\n",
       "  display: none;\n",
       "}\n",
       "\n",
       ".xr-array-in:checked ~ .xr-array-data,\n",
       ".xr-array-preview {\n",
       "  display: inline-block;\n",
       "}\n",
       "\n",
       ".xr-dim-list {\n",
       "  display: inline-block !important;\n",
       "  list-style: none;\n",
       "  padding: 0 !important;\n",
       "  margin: 0;\n",
       "}\n",
       "\n",
       ".xr-dim-list li {\n",
       "  display: inline-block;\n",
       "  padding: 0;\n",
       "  margin: 0;\n",
       "}\n",
       "\n",
       ".xr-dim-list:before {\n",
       "  content: '(';\n",
       "}\n",
       "\n",
       ".xr-dim-list:after {\n",
       "  content: ')';\n",
       "}\n",
       "\n",
       ".xr-dim-list li:not(:last-child):after {\n",
       "  content: ',';\n",
       "  padding-right: 5px;\n",
       "}\n",
       "\n",
       ".xr-has-index {\n",
       "  font-weight: bold;\n",
       "}\n",
       "\n",
       ".xr-var-list,\n",
       ".xr-var-item {\n",
       "  display: contents;\n",
       "}\n",
       "\n",
       ".xr-var-item > div,\n",
       ".xr-var-item label,\n",
       ".xr-var-item > .xr-var-name span {\n",
       "  background-color: var(--xr-background-color-row-even);\n",
       "  margin-bottom: 0;\n",
       "}\n",
       "\n",
       ".xr-var-item > .xr-var-name:hover span {\n",
       "  padding-right: 5px;\n",
       "}\n",
       "\n",
       ".xr-var-list > li:nth-child(odd) > div,\n",
       ".xr-var-list > li:nth-child(odd) > label,\n",
       ".xr-var-list > li:nth-child(odd) > .xr-var-name span {\n",
       "  background-color: var(--xr-background-color-row-odd);\n",
       "}\n",
       "\n",
       ".xr-var-name {\n",
       "  grid-column: 1;\n",
       "}\n",
       "\n",
       ".xr-var-dims {\n",
       "  grid-column: 2;\n",
       "}\n",
       "\n",
       ".xr-var-dtype {\n",
       "  grid-column: 3;\n",
       "  text-align: right;\n",
       "  color: var(--xr-font-color2);\n",
       "}\n",
       "\n",
       ".xr-var-preview {\n",
       "  grid-column: 4;\n",
       "}\n",
       "\n",
       ".xr-var-name,\n",
       ".xr-var-dims,\n",
       ".xr-var-dtype,\n",
       ".xr-preview,\n",
       ".xr-attrs dt {\n",
       "  white-space: nowrap;\n",
       "  overflow: hidden;\n",
       "  text-overflow: ellipsis;\n",
       "  padding-right: 10px;\n",
       "}\n",
       "\n",
       ".xr-var-name:hover,\n",
       ".xr-var-dims:hover,\n",
       ".xr-var-dtype:hover,\n",
       ".xr-attrs dt:hover {\n",
       "  overflow: visible;\n",
       "  width: auto;\n",
       "  z-index: 1;\n",
       "}\n",
       "\n",
       ".xr-var-attrs,\n",
       ".xr-var-data {\n",
       "  display: none;\n",
       "  background-color: var(--xr-background-color) !important;\n",
       "  padding-bottom: 5px !important;\n",
       "}\n",
       "\n",
       ".xr-var-attrs-in:checked ~ .xr-var-attrs,\n",
       ".xr-var-data-in:checked ~ .xr-var-data {\n",
       "  display: block;\n",
       "}\n",
       "\n",
       ".xr-var-data > table {\n",
       "  float: right;\n",
       "}\n",
       "\n",
       ".xr-var-name span,\n",
       ".xr-var-data,\n",
       ".xr-attrs {\n",
       "  padding-left: 25px !important;\n",
       "}\n",
       "\n",
       ".xr-attrs,\n",
       ".xr-var-attrs,\n",
       ".xr-var-data {\n",
       "  grid-column: 1 / -1;\n",
       "}\n",
       "\n",
       "dl.xr-attrs {\n",
       "  padding: 0;\n",
       "  margin: 0;\n",
       "  display: grid;\n",
       "  grid-template-columns: 125px auto;\n",
       "}\n",
       "\n",
       ".xr-attrs dt,\n",
       ".xr-attrs dd {\n",
       "  padding: 0;\n",
       "  margin: 0;\n",
       "  float: left;\n",
       "  padding-right: 10px;\n",
       "  width: auto;\n",
       "}\n",
       "\n",
       ".xr-attrs dt {\n",
       "  font-weight: normal;\n",
       "  grid-column: 1;\n",
       "}\n",
       "\n",
       ".xr-attrs dt:hover span {\n",
       "  display: inline-block;\n",
       "  background: var(--xr-background-color);\n",
       "  padding-right: 10px;\n",
       "}\n",
       "\n",
       ".xr-attrs dd {\n",
       "  grid-column: 2;\n",
       "  white-space: pre-wrap;\n",
       "  word-break: break-all;\n",
       "}\n",
       "\n",
       ".xr-icon-database,\n",
       ".xr-icon-file-text2 {\n",
       "  display: inline-block;\n",
       "  vertical-align: middle;\n",
       "  width: 1em;\n",
       "  height: 1.5em !important;\n",
       "  stroke-width: 0;\n",
       "  stroke: currentColor;\n",
       "  fill: currentColor;\n",
       "}\n",
       "</style><pre class='xr-text-repr-fallback'>&lt;xarray.Dataset&gt;\n",
       "Dimensions:                (epsilon: 3, job_dir: 4)\n",
       "Coordinates:\n",
       "  * epsilon                (epsilon) int32 0 1 2\n",
       "  * job_dir                (job_dir) &lt;U127 &#x27;C\\\\:\\\\\\\\Users\\\\\\\\Ryan\\\\ Soklaski\\...\n",
       "    fold                   (job_dir) int32 0 0 1 1\n",
       "    model                  (job_dir) &lt;U6 &#x27;linear&#x27; &#x27;cnn&#x27; &#x27;linear&#x27; &#x27;cnn&#x27;\n",
       "Data variables:\n",
       "    test_clean_accuracy    (epsilon, job_dir) float64 0.9568 0.9899 ... 0.9879\n",
       "    test_adversarial_loss  (epsilon, job_dir) float64 0.1457 0.02779 ... 14.78\n",
       "    test_loss              (epsilon, job_dir) float64 0.1457 0.02779 ... 14.78\n",
       "    test_accuracy          (epsilon, job_dir) float64 0.9568 0.9899 ... 0.0</pre><div class='xr-wrap' style='display:none'><div class='xr-header'><div class='xr-obj-type'>xarray.Dataset</div></div><ul class='xr-sections'><li class='xr-section-item'><input id='section-99573793-f4c4-46d8-af39-2b9b25c8c1c8' class='xr-section-summary-in' type='checkbox' disabled ><label for='section-99573793-f4c4-46d8-af39-2b9b25c8c1c8' class='xr-section-summary'  title='Expand/collapse section'>Dimensions:</label><div class='xr-section-inline-details'><ul class='xr-dim-list'><li><span class='xr-has-index'>epsilon</span>: 3</li><li><span class='xr-has-index'>job_dir</span>: 4</li></ul></div><div class='xr-section-details'></div></li><li class='xr-section-item'><input id='section-2ca84213-c80c-455f-8f05-529f415e1c4f' class='xr-section-summary-in' type='checkbox'  checked><label for='section-2ca84213-c80c-455f-8f05-529f415e1c4f' class='xr-section-summary' >Coordinates: <span>(4)</span></label><div class='xr-section-inline-details'></div><div class='xr-section-details'><ul class='xr-var-list'><li class='xr-var-item'><div class='xr-var-name'><span class='xr-has-index'>epsilon</span></div><div class='xr-var-dims'>(epsilon)</div><div class='xr-var-dtype'>int32</div><div class='xr-var-preview xr-preview'>0 1 2</div><input id='attrs-b26e64b0-4566-449a-a507-3f1df98d38a5' class='xr-var-attrs-in' type='checkbox' disabled><label for='attrs-b26e64b0-4566-449a-a507-3f1df98d38a5' title='Show/Hide attributes'><svg class='icon xr-icon-file-text2'><use xlink:href='#icon-file-text2'></use></svg></label><input id='data-f467eb52-b3b1-4631-8ca1-b667ff0be703' class='xr-var-data-in' type='checkbox'><label for='data-f467eb52-b3b1-4631-8ca1-b667ff0be703' title='Show/Hide data repr'><svg class='icon xr-icon-database'><use xlink:href='#icon-database'></use></svg></label><div class='xr-var-attrs'><dl class='xr-attrs'></dl></div><div class='xr-var-data'><pre>array([0, 1, 2])</pre></div></li><li class='xr-var-item'><div class='xr-var-name'><span class='xr-has-index'>job_dir</span></div><div class='xr-var-dims'>(job_dir)</div><div class='xr-var-dtype'>&lt;U127</div><div class='xr-var-preview xr-preview'>&#x27;C\\\\:\\\\\\\\Users\\\\\\\\Ryan\\\\ Soklask...</div><input id='attrs-bfdf6e07-0453-4165-ae9c-79e5acad2679' class='xr-var-attrs-in' type='checkbox' disabled><label for='attrs-bfdf6e07-0453-4165-ae9c-79e5acad2679' title='Show/Hide attributes'><svg class='icon xr-icon-file-text2'><use xlink:href='#icon-file-text2'></use></svg></label><input id='data-6296cc3e-464e-4032-bb07-b2967501929a' class='xr-var-data-in' type='checkbox'><label for='data-6296cc3e-464e-4032-bb07-b2967501929a' title='Show/Hide data repr'><svg class='icon xr-icon-database'><use xlink:href='#icon-database'></use></svg></label><div class='xr-var-attrs'><dl class='xr-attrs'></dl></div><div class='xr-var-data'><pre>array([&#x27;C\\\\:\\\\\\\\Users\\\\\\\\Ryan\\\\ Soklaski\\\\\\\\responsible-ai-toolbox\\\\\\\\docs\\\\\\\\source\\\\\\\\tutorials\\\\\\\\outputs\\\\\\\\cross_validation\\\\\\\\2022-05-23\\\\\\\\11-33-26\\\\\\\\0&#x27;,\n",
       "       &#x27;C\\\\:\\\\\\\\Users\\\\\\\\Ryan\\\\ Soklaski\\\\\\\\responsible-ai-toolbox\\\\\\\\docs\\\\\\\\source\\\\\\\\tutorials\\\\\\\\outputs\\\\\\\\cross_validation\\\\\\\\2022-05-23\\\\\\\\11-33-26\\\\\\\\1&#x27;,\n",
       "       &#x27;C\\\\:\\\\\\\\Users\\\\\\\\Ryan\\\\ Soklaski\\\\\\\\responsible-ai-toolbox\\\\\\\\docs\\\\\\\\source\\\\\\\\tutorials\\\\\\\\outputs\\\\\\\\cross_validation\\\\\\\\2022-05-23\\\\\\\\11-33-26\\\\\\\\2&#x27;,\n",
       "       &#x27;C\\\\:\\\\\\\\Users\\\\\\\\Ryan\\\\ Soklaski\\\\\\\\responsible-ai-toolbox\\\\\\\\docs\\\\\\\\source\\\\\\\\tutorials\\\\\\\\outputs\\\\\\\\cross_validation\\\\\\\\2022-05-23\\\\\\\\11-33-26\\\\\\\\3&#x27;],\n",
       "      dtype=&#x27;&lt;U127&#x27;)</pre></div></li><li class='xr-var-item'><div class='xr-var-name'><span>fold</span></div><div class='xr-var-dims'>(job_dir)</div><div class='xr-var-dtype'>int32</div><div class='xr-var-preview xr-preview'>0 0 1 1</div><input id='attrs-02054e8d-aec0-49a8-a56a-c22a11b461df' class='xr-var-attrs-in' type='checkbox' disabled><label for='attrs-02054e8d-aec0-49a8-a56a-c22a11b461df' title='Show/Hide attributes'><svg class='icon xr-icon-file-text2'><use xlink:href='#icon-file-text2'></use></svg></label><input id='data-5d1b63d9-ba66-4d3c-bc25-0c4c2e8a2d62' class='xr-var-data-in' type='checkbox'><label for='data-5d1b63d9-ba66-4d3c-bc25-0c4c2e8a2d62' title='Show/Hide data repr'><svg class='icon xr-icon-database'><use xlink:href='#icon-database'></use></svg></label><div class='xr-var-attrs'><dl class='xr-attrs'></dl></div><div class='xr-var-data'><pre>array([0, 0, 1, 1])</pre></div></li><li class='xr-var-item'><div class='xr-var-name'><span>model</span></div><div class='xr-var-dims'>(job_dir)</div><div class='xr-var-dtype'>&lt;U6</div><div class='xr-var-preview xr-preview'>&#x27;linear&#x27; &#x27;cnn&#x27; &#x27;linear&#x27; &#x27;cnn&#x27;</div><input id='attrs-78294181-8f5e-4375-b914-255c0b709431' class='xr-var-attrs-in' type='checkbox' disabled><label for='attrs-78294181-8f5e-4375-b914-255c0b709431' title='Show/Hide attributes'><svg class='icon xr-icon-file-text2'><use xlink:href='#icon-file-text2'></use></svg></label><input id='data-57421e58-4b87-4355-9e55-a582fc42b415' class='xr-var-data-in' type='checkbox'><label for='data-57421e58-4b87-4355-9e55-a582fc42b415' title='Show/Hide data repr'><svg class='icon xr-icon-database'><use xlink:href='#icon-database'></use></svg></label><div class='xr-var-attrs'><dl class='xr-attrs'></dl></div><div class='xr-var-data'><pre>array([&#x27;linear&#x27;, &#x27;cnn&#x27;, &#x27;linear&#x27;, &#x27;cnn&#x27;], dtype=&#x27;&lt;U6&#x27;)</pre></div></li></ul></div></li><li class='xr-section-item'><input id='section-ff323414-f19a-4f75-8ef9-f859a9d69e31' class='xr-section-summary-in' type='checkbox'  checked><label for='section-ff323414-f19a-4f75-8ef9-f859a9d69e31' class='xr-section-summary' >Data variables: <span>(4)</span></label><div class='xr-section-inline-details'></div><div class='xr-section-details'><ul class='xr-var-list'><li class='xr-var-item'><div class='xr-var-name'><span>test_clean_accuracy</span></div><div class='xr-var-dims'>(epsilon, job_dir)</div><div class='xr-var-dtype'>float64</div><div class='xr-var-preview xr-preview'>0.9568 0.9899 ... 0.9538 0.9879</div><input id='attrs-35a80139-d351-45b5-afe4-c48fdff3fa2d' class='xr-var-attrs-in' type='checkbox' disabled><label for='attrs-35a80139-d351-45b5-afe4-c48fdff3fa2d' title='Show/Hide attributes'><svg class='icon xr-icon-file-text2'><use xlink:href='#icon-file-text2'></use></svg></label><input id='data-6434739d-8e9e-4c5e-9466-54c7a622c563' class='xr-var-data-in' type='checkbox'><label for='data-6434739d-8e9e-4c5e-9466-54c7a622c563' title='Show/Hide data repr'><svg class='icon xr-icon-database'><use xlink:href='#icon-database'></use></svg></label><div class='xr-var-attrs'><dl class='xr-attrs'></dl></div><div class='xr-var-data'><pre>array([[0.95679998, 0.98989999, 0.95380002, 0.98790002],\n",
       "       [0.95679998, 0.98989999, 0.95380002, 0.98790002],\n",
       "       [0.95679998, 0.98989999, 0.95380002, 0.98790002]])</pre></div></li><li class='xr-var-item'><div class='xr-var-name'><span>test_adversarial_loss</span></div><div class='xr-var-dims'>(epsilon, job_dir)</div><div class='xr-var-dtype'>float64</div><div class='xr-var-preview xr-preview'>0.1457 0.02779 ... 10.5 14.78</div><input id='attrs-0b84c0a6-8401-4a6a-b4d0-db33e818a3a4' class='xr-var-attrs-in' type='checkbox' disabled><label for='attrs-0b84c0a6-8401-4a6a-b4d0-db33e818a3a4' title='Show/Hide attributes'><svg class='icon xr-icon-file-text2'><use xlink:href='#icon-file-text2'></use></svg></label><input id='data-d97a0612-bc09-45cd-b374-b0227b2b5566' class='xr-var-data-in' type='checkbox'><label for='data-d97a0612-bc09-45cd-b374-b0227b2b5566' title='Show/Hide data repr'><svg class='icon xr-icon-database'><use xlink:href='#icon-database'></use></svg></label><div class='xr-var-attrs'><dl class='xr-attrs'></dl></div><div class='xr-var-data'><pre>array([[ 0.14566605,  0.02779333,  0.14155754,  0.03512534],\n",
       "       [ 3.32812858,  4.36696959,  3.37191129,  3.49730635],\n",
       "       [10.54411793, 16.47352219, 10.50445652, 14.78298283]])</pre></div></li><li class='xr-var-item'><div class='xr-var-name'><span>test_loss</span></div><div class='xr-var-dims'>(epsilon, job_dir)</div><div class='xr-var-dtype'>float64</div><div class='xr-var-preview xr-preview'>0.1457 0.02779 ... 10.5 14.78</div><input id='attrs-9edcf365-58f8-4139-93d1-ba06d92574cc' class='xr-var-attrs-in' type='checkbox' disabled><label for='attrs-9edcf365-58f8-4139-93d1-ba06d92574cc' title='Show/Hide attributes'><svg class='icon xr-icon-file-text2'><use xlink:href='#icon-file-text2'></use></svg></label><input id='data-11def564-ba8c-469b-b170-ad53e6551451' class='xr-var-data-in' type='checkbox'><label for='data-11def564-ba8c-469b-b170-ad53e6551451' title='Show/Hide data repr'><svg class='icon xr-icon-database'><use xlink:href='#icon-database'></use></svg></label><div class='xr-var-attrs'><dl class='xr-attrs'></dl></div><div class='xr-var-data'><pre>array([[ 0.14566606,  0.02779333,  0.14155754,  0.03512534],\n",
       "       [ 3.32812858,  4.36696959,  3.37191105,  3.49730635],\n",
       "       [10.54411888, 16.47352409, 10.50445652, 14.78298473]])</pre></div></li><li class='xr-var-item'><div class='xr-var-name'><span>test_accuracy</span></div><div class='xr-var-dims'>(epsilon, job_dir)</div><div class='xr-var-dtype'>float64</div><div class='xr-var-preview xr-preview'>0.9568 0.9899 0.9538 ... 0.0044 0.0</div><input id='attrs-8b4a4d4e-c7fd-4ad1-9b8c-218591080646' class='xr-var-attrs-in' type='checkbox' disabled><label for='attrs-8b4a4d4e-c7fd-4ad1-9b8c-218591080646' title='Show/Hide attributes'><svg class='icon xr-icon-file-text2'><use xlink:href='#icon-file-text2'></use></svg></label><input id='data-52bdc9c1-53be-4706-b7d6-4f99c9041131' class='xr-var-data-in' type='checkbox'><label for='data-52bdc9c1-53be-4706-b7d6-4f99c9041131' title='Show/Hide data repr'><svg class='icon xr-icon-database'><use xlink:href='#icon-database'></use></svg></label><div class='xr-var-attrs'><dl class='xr-attrs'></dl></div><div class='xr-var-data'><pre>array([[9.56799984e-01, 9.89899993e-01, 9.53800023e-01, 9.87900019e-01],\n",
       "       [2.20300004e-01, 1.23599999e-01, 2.32099995e-01, 2.03199998e-01],\n",
       "       [8.99999985e-04, 0.00000000e+00, 4.39999998e-03, 0.00000000e+00]])</pre></div></li></ul></div></li><li class='xr-section-item'><input id='section-148aeae1-9697-4da5-b689-98f5abe2ff95' class='xr-section-summary-in' type='checkbox' disabled ><label for='section-148aeae1-9697-4da5-b689-98f5abe2ff95' class='xr-section-summary'  title='Expand/collapse section'>Attributes: <span>(0)</span></label><div class='xr-section-inline-details'></div><div class='xr-section-details'><dl class='xr-attrs'></dl></div></li></ul></div></div>"
      ],
      "text/plain": [
       "<xarray.Dataset>\n",
       "Dimensions:                (epsilon: 3, job_dir: 4)\n",
       "Coordinates:\n",
       "  * epsilon                (epsilon) int32 0 1 2\n",
       "  * job_dir                (job_dir) <U127 'C\\\\:\\\\\\\\Users\\\\\\\\Ryan\\\\ Soklaski\\...\n",
       "    fold                   (job_dir) int32 0 0 1 1\n",
       "    model                  (job_dir) <U6 'linear' 'cnn' 'linear' 'cnn'\n",
       "Data variables:\n",
       "    test_clean_accuracy    (epsilon, job_dir) float64 0.9568 0.9899 ... 0.9879\n",
       "    test_adversarial_loss  (epsilon, job_dir) float64 0.1457 0.02779 ... 14.78\n",
       "    test_loss              (epsilon, job_dir) float64 0.1457 0.02779 ... 14.78\n",
       "    test_accuracy          (epsilon, job_dir) float64 0.9568 0.9899 ... 0.0"
      ]
     },
     "execution_count": 22,
     "metadata": {},
     "output_type": "execute_result"
    }
   ],
   "source": [
    "rdata = robustness_curve_task.to_xarray()\n",
    "rdata"
   ]
  },
  {
   "cell_type": "markdown",
   "metadata": {},
   "source": [
    "And lastly plot the curves for each cross-validation experiment along with the mean curve for each model."
   ]
  },
  {
   "cell_type": "code",
   "execution_count": 26,
   "metadata": {},
   "outputs": [
    {
     "data": {
      "text/plain": [
       "<matplotlib.legend.Legend at 0x17a2300d3d0>"
      ]
     },
     "execution_count": 26,
     "metadata": {},
     "output_type": "execute_result"
    },
    {
     "data": {
      "image/png": "[encoded data removed]",
      "text/plain": [
       "<Figure size 432x288 with 1 Axes>"
      ]
     },
     "metadata": {
      "needs_background": "light"
     },
     "output_type": "display_data"
    }
   ],
   "source": [
    "fig, ax = plt.subplots()\n",
    "for name, g in rdata.groupby(\"model\"):\n",
    "    for fold, gf in g.groupby(\"fold\"):\n",
    "        gf.test_accuracy.plot.line(x=\"epsilon\", label=f\"{name} (folds: {fold})\", ax=ax, marker=\"o\")\n",
    "    g.test_accuracy.mean(\"job_dir\").plot.line(\n",
    "        x=\"epsilon\", label=f\"{name} (average)\", ax=ax, linestyle=\"--\", color=\"k\"\n",
    "    )\n",
    "\n",
    "plt.legend()\n"
   ]
  },
  {
   "cell_type": "markdown",
   "metadata": {},
   "source": [
    "That's it! Workflows have the potential to help scale experiments while easily allowing one to load and evalulate results."
   ]
  }
 ],
 "metadata": {
  "interpreter": {
   "hash": "88c7a1ccbdf50fbdcd7417c5119052af5133e97ba86d08b5eb0f0b6e9b60354a"
  },
  "kernelspec": {
   "display_name": "Python 3.8.13 ('foolme')",
   "language": "python",
   "name": "python3"
  },
  "language_info": {
   "codemirror_mode": {
    "name": "ipython",
    "version": 3
   },
   "file_extension": ".py",
   "mimetype": "text/x-python",
   "name": "python",
   "nbconvert_exporter": "python",
   "pygments_lexer": "ipython3",
   "version": "3.8.13"
  }
 },
 "nbformat": 4,
 "nbformat_minor": 2
}
