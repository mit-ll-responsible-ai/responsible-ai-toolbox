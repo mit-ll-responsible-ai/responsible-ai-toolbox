{
 "cells": [
  {
   "cell_type": "markdown",
   "metadata": {},
   "source": [
    ".. meta::\n",
    "   :description: Using the responsible AI toolbox to build workflows."
   ]
  },
  {
   "cell_type": "markdown",
   "metadata": {},
   "source": [
    "> Copyright (c) 2022 Massachusetts Institute of Technology  \n",
    "> SPDX-License-Identifier: MIT \n",
    "\n"
   ]
  },
  {
   "cell_type": "markdown",
   "metadata": {},
   "source": [
    "# Building a Workflows for Cross Validation and Adversarial Robustness\n",
    "This notebook demonstrates how the to build [workflows]() for scalable experimentation.  Two basic workflows will be demonstrated:\n",
    "\n",
    "- Cross-Validation Workflow: Demonstrates how to build scalable cross validation training workflow.\n",
    "- Robustness Curve Workflow: Demonstrates how to build scalable robustness testing for each of the models trained in the \"Cross-Validation Workflow\"\n",
    "\n",
    "If you haven't already, follow the steps at the beginning of the previous tutorial to install the rAI-toolbox and create a Jupyter notebook called `ImageNet-Concept-Probing.ipynb`. You can then follow along with this tutorial by copying, pasting, and running the code blocks below in the cells of your notebook.\n",
    "\n",
    "## Imports"
   ]
  },
  {
   "cell_type": "code",
   "execution_count": 1,
   "metadata": {},
   "outputs": [],
   "source": [
    "from collections import defaultdict\n",
    "from pathlib import Path\n",
    "from typing import Callable, Dict, List, Optional, Tuple, Union\n",
    "\n",
    "import matplotlib.pyplot as plt\n",
    "import numpy as np\n",
    "import torch as tr"
   ]
  },
  {
   "cell_type": "code",
   "execution_count": 2,
   "metadata": {},
   "outputs": [],
   "source": [
    "# Hydra and hydra-zen\n",
    "from hydra.core.config_store import ConfigStore\n",
    "from hydra_zen import MISSING, builds, instantiate, load_from_yaml, make_config\n",
    "\n",
    "# Lightning\n",
    "from pytorch_lightning import LightningModule, Trainer\n",
    "\n",
    "# sklearn and torch\n",
    "from sklearn.model_selection import StratifiedKFold\n",
    "from torch import Tensor, nn\n",
    "from torch.optim import Optimizer\n",
    "from torch.utils.data import DataLoader, Subset\n",
    "from torchmetrics import Accuracy\n",
    "from torchvision import transforms\n",
    "from torchvision.datasets import MNIST\n",
    "\n",
    "# rAI-toolbox\n",
    "from rai_toolbox import evaluating\n",
    "from rai_toolbox._typing import Partial\n",
    "from rai_toolbox.mushin.lightning import HydraDDP, MetricsCallback\n",
    "from rai_toolbox.mushin.workflows import (\n",
    "    MultiRunMetricsWorkflow,\n",
    "    RobustnessCurve,\n",
    "    multirun,\n",
    ")\n"
   ]
  },
  {
   "cell_type": "markdown",
   "metadata": {},
   "source": [
    "## Experiment Functions and Classes"
   ]
  },
  {
   "cell_type": "code",
   "execution_count": 3,
   "metadata": {},
   "outputs": [],
   "source": [
    "class ConvModel(nn.Module):\n",
    "    def __init__(self):\n",
    "        super().__init__()\n",
    "        self.model = nn.Sequential(\n",
    "            nn.Conv2d(1, 32, 5, padding=\"same\"),\n",
    "            nn.BatchNorm2d(32),\n",
    "            nn.ReLU(),\n",
    "            nn.MaxPool2d(3),\n",
    "            nn.Conv2d(32, 32, 3, padding=\"same\"),\n",
    "            nn.BatchNorm2d(32),\n",
    "            nn.ReLU(),\n",
    "            nn.MaxPool2d(3),\n",
    "            nn.Conv2d(32, 32, 3, padding=\"same\"),\n",
    "            nn.BatchNorm2d(32),\n",
    "            nn.ReLU(),\n",
    "            nn.Conv2d(32, 10, 3),\n",
    "            nn.Flatten(1),\n",
    "        )\n",
    "\n",
    "    def forward(self, x):\n",
    "        return self.model(x)\n",
    "\n",
    "class LinearModel(nn.Module):\n",
    "    def __init__(self):\n",
    "        super().__init__()\n",
    "        self.model = nn.Sequential(\n",
    "            nn.Flatten(1),\n",
    "            nn.Linear(28 * 28, 256),\n",
    "            nn.ReLU(),\n",
    "            nn.Linear(256, 128),\n",
    "            nn.ReLU(),\n",
    "            nn.Linear(128, 64),\n",
    "            nn.ReLU(),\n",
    "            nn.Linear(64, 10),\n",
    "        )\n",
    "\n",
    "    def forward(self, x):\n",
    "        return self.model(x)"
   ]
  },
  {
   "cell_type": "code",
   "execution_count": 4,
   "metadata": {},
   "outputs": [],
   "source": [
    "def split_dataset(dataset: MNIST, n_splits: int, fold: int) -> Tuple[Subset, Subset]:\n",
    "    \"\"\"Provide training and validation splits using `sklearn.model_selection.StratifiedKfold`\"\"\"\n",
    "\n",
    "    kfold = StratifiedKFold(n_splits=n_splits, shuffle=True, random_state = 49)\n",
    "    train_indices, val_indices = list(kfold.split(range(len(dataset)), dataset.targets))[fold]\n",
    "    return Subset(dataset, train_indices), Subset(dataset, val_indices)"
   ]
  },
  {
   "cell_type": "code",
   "execution_count": 5,
   "metadata": {},
   "outputs": [],
   "source": [
    "class StandardModule(LightningModule):\n",
    "    def __init__(\n",
    "        self,\n",
    "        *,\n",
    "        model: nn.Module,\n",
    "        dataset: MNIST,\n",
    "        optimizer: Optional[Partial[Optimizer]] = None,\n",
    "        perturber = None,\n",
    "        fold: int = 0,\n",
    "        n_splits: int = 5,\n",
    "        batch_size: int = 100,\n",
    "        num_workers: int = 4,\n",
    "    ) -> None:\n",
    "        super().__init__()\n",
    "        self.dataset = dataset\n",
    "        self.optimizer = optimizer\n",
    "        self.criterion = nn.CrossEntropyLoss()\n",
    "        self.model = model\n",
    "        self.perturber = perturber\n",
    "        self.n_splits = n_splits\n",
    "        self.fold = fold\n",
    "        self.batch_size = batch_size\n",
    "        self.num_workers = num_workers\n",
    "\n",
    "        # Metrics\n",
    "        self.acc_metric = Accuracy()\n",
    "        if self.perturber:\n",
    "            self.clean_acc_metric = Accuracy()\n",
    "\n",
    "    def forward(self, data: Tensor) -> Tensor:\n",
    "        return self.model(data)\n",
    "\n",
    "    def train_dataloader(self) -> DataLoader:\n",
    "        train_dataset, _ = split_dataset(self.dataset, self.n_splits, self.fold)\n",
    "        return DataLoader(train_dataset, batch_size=self.batch_size, num_workers=self.num_workers, shuffle=True)\n",
    "\n",
    "    def val_dataloader(self) -> DataLoader:\n",
    "        _, val_dataset = split_dataset(self.dataset, self.n_splits, self.fold)\n",
    "        return DataLoader(val_dataset, batch_size=self.batch_size, num_workers=self.num_workers)\n",
    "\n",
    "    def test_dataloader(self) -> DataLoader:\n",
    "        return DataLoader(self.dataset, batch_size=self.batch_size, num_workers=self.num_workers)\n",
    "\n",
    "    def configure_optimizers(self) -> Optional[Optimizer]:\n",
    "        if self.optimizer:\n",
    "            return self.optimizer(self.model.parameters())\n",
    "        return None\n",
    "\n",
    "    def _step(self, batch, stage: str) -> Tensor:\n",
    "        data_orig, target = batch\n",
    "\n",
    "        if self.perturber:\n",
    "            with tr.no_grad():\n",
    "                output = self.model(data_orig)\n",
    "                loss = self.criterion(output, target)\n",
    "                acc = self.clean_acc_metric(output, target)\n",
    "                self.log(f\"{stage}_clean_accuracy\", acc)\n",
    "\n",
    "            data, adv_loss = self.perturber(\n",
    "                model=self.model, data=data_orig, target=target\n",
    "            )\n",
    "            self.log(f\"{stage}_adversarial_loss\", adv_loss.mean().item())\n",
    "\n",
    "        else:\n",
    "            data = data_orig\n",
    "\n",
    "        output = self.model(data)\n",
    "        loss = self.criterion(output, target)\n",
    "        acc = self.acc_metric(output, target)\n",
    "        self.log(f\"{stage}_loss\", loss)\n",
    "        self.log(f\"{stage}_accuracy\", acc)\n",
    "        return loss\n",
    "\n",
    "    def training_step(self, batch, batch_idx) -> Tensor:\n",
    "        return self._step(batch, \"train\")\n",
    "\n",
    "    def validation_step(self, batch, batch_idx) -> Tensor:\n",
    "        return self._step(batch, \"val\")\n",
    "\n",
    "    def test_step(self, batch, batch_idx) -> Tensor:\n",
    "        return self._step(batch, \"test\")"
   ]
  },
  {
   "cell_type": "markdown",
   "metadata": {},
   "source": [
    "## hydra-zen Configuration"
   ]
  },
  {
   "cell_type": "code",
   "execution_count": 6,
   "metadata": {},
   "outputs": [],
   "source": [
    "Augmentations = builds(transforms.Compose, [builds(transforms.RandomCrop, size=28, padding=4), builds(transforms.ToTensor)])\n",
    "TrainDataset = builds(MNIST, root=\"${data_dir}\", train=True, transform=Augmentations)\n",
    "TestDataset = builds(MNIST, root=\"${data_dir}\", train=False, transform=builds(transforms.ToTensor))\n",
    "ConvModelCfg = builds(ConvModel)\n",
    "LinearModelCfg = builds(LinearModel)\n",
    "Optim = builds(tr.optim.SGD, lr=0.1, zen_partial=True)\n",
    "\n",
    "from rai_toolbox.optim import L2ProjectedOptim, LinfProjectedOptim\n",
    "from rai_toolbox.perturbations import gradient_ascent\n",
    "L2PGD = builds(L2ProjectedOptim, zen_partial=True)\n",
    "LinfPGD = builds(LinfProjectedOptim, zen_partial=True)\n",
    "\n",
    "def lr_for_pgd(epsilon, num_steps):\n",
    "    return 2.5 * epsilon / num_steps\n",
    "\n",
    "Perturber = builds(\n",
    "    gradient_ascent,\n",
    "    optimizer=\"${optimizer}\",\n",
    "    epsilon=\"${epsilon}\",\n",
    "    steps=\"${steps}\",\n",
    "    lr=builds(lr_for_pgd, \"${epsilon}\", \"${steps}\"),\n",
    "    zen_partial=True,\n",
    "    populate_full_signature=True\n",
    ")\n",
    "\n",
    "PLModule = builds(\n",
    "    StandardModule,\n",
    "    model=\"${model}\",\n",
    "    fold=\"${fold}\",\n",
    "    n_splits=\"${n_splits}\",\n",
    "    dataset=TrainDataset,\n",
    "    optimizer=Optim,\n",
    "    perturber=\"${perturber}\",\n",
    "    populate_full_signature=True,\n",
    ")\n",
    "\n",
    "\n",
    "EvalPLModule = builds(\n",
    "    StandardModule,\n",
    "    model=\"${model}\",\n",
    "    dataset=TestDataset,\n",
    "    perturber=\"${perturber}\",\n",
    "    populate_full_signature=True,\n",
    ")\n",
    "\n",
    "\n",
    "TrainerCfg = builds(\n",
    "    Trainer,\n",
    "    max_epochs=10,\n",
    "    accelerator=\"auto\",\n",
    "    devices=1,\n",
    "    callbacks=[builds(MetricsCallback)], \n",
    "    populate_full_signature=True\n",
    ")"
   ]
  },
  {
   "cell_type": "code",
   "execution_count": 7,
   "metadata": {},
   "outputs": [],
   "source": [
    "cs = ConfigStore.instance()\n",
    "cs.store(name=\"cnn\", group=\"model\", node=ConvModelCfg)\n",
    "cs.store(name=\"linear\", group=\"model\", node=LinearModelCfg)\n",
    "cs.store(name=\"l2pgd\", group=\"optimizer\", node=L2PGD)\n",
    "cs.store(name=\"linfpgd\", group=\"optimizer\", node=LinfPGD)"
   ]
  },
  {
   "cell_type": "markdown",
   "metadata": {},
   "source": [
    "## Cross Validation Workflow"
   ]
  },
  {
   "cell_type": "code",
   "execution_count": 8,
   "metadata": {},
   "outputs": [],
   "source": [
    "Config = make_config(\n",
    "    defaults = [\n",
    "        \"_self_\",\n",
    "        {\"model\": \"linear\"},\n",
    "    ],\n",
    "    data_dir = \"${oc.env:HOME}/.torch/data\",\n",
    "    model=MISSING,\n",
    "    module=PLModule,\n",
    "    trainer=TrainerCfg,\n",
    "    perturber=None,\n",
    "    fold=0,\n",
    "    n_splits=5,\n",
    ")"
   ]
  },
  {
   "cell_type": "code",
   "execution_count": 9,
   "metadata": {},
   "outputs": [],
   "source": [
    "class CrossValWorkFlow(MultiRunMetricsWorkflow):\n",
    "    @staticmethod\n",
    "    def evaluation_task(trainer: Trainer, module: LightningModule):\n",
    "        trainer.fit(module)\n",
    "        return tr.load(\"fit_metrics.pt\")\n",
    "\n",
    "    def run(self, n_splits: int, **run_kwargs):\n",
    "        fold = multirun(range(n_splits))\n",
    "        super().run(n_splits=n_splits, fold=fold, **run_kwargs)"
   ]
  },
  {
   "cell_type": "code",
   "execution_count": 10,
   "metadata": {},
   "outputs": [
    {
     "name": "stdout",
     "output_type": "stream",
     "text": [
      "[2022-05-11 13:00:45,754][HYDRA] Launching 4 jobs locally\n",
      "[2022-05-11 13:00:45,755][HYDRA] \t#0 : n_splits=2 fold=0 model=linear\n"
     ]
    },
    {
     "name": "stderr",
     "output_type": "stream",
     "text": [
      "GPU available: True, used: True\n",
      "TPU available: False, using: 0 TPU cores\n",
      "IPU available: False, using: 0 IPUs\n",
      "HPU available: False, using: 0 HPUs\n",
      "Missing logger folder: /home/justin_goodwin/projects/raiden/rai_toolbox/docs/source/tutorials/outputs/cross_validation/0/lightning_logs\n",
      "LOCAL_RANK: 0 - CUDA_VISIBLE_DEVICES: [0,1]\n",
      "\n",
      "  | Name       | Type             | Params\n",
      "------------------------------------------------\n",
      "0 | criterion  | CrossEntropyLoss | 0     \n",
      "1 | model      | LinearModel      | 242 K \n",
      "2 | acc_metric | Accuracy         | 0     \n",
      "------------------------------------------------\n",
      "242 K     Trainable params\n",
      "0         Non-trainable params\n",
      "242 K     Total params\n",
      "0.971     Total estimated model params size (MB)\n"
     ]
    },
    {
     "data": {
      "application/vnd.jupyter.widget-view+json": {
       "model_id": "b5eda509af5b4fd78e180c6c7a5e73ea",
       "version_major": 2,
       "version_minor": 0
      },
      "text/plain": [
       "Sanity Checking: 0it [00:00, ?it/s]"
      ]
     },
     "metadata": {},
     "output_type": "display_data"
    },
    {
     "data": {
      "application/vnd.jupyter.widget-view+json": {
       "model_id": "9b2d8205f7de47ea8835138dfffd7835",
       "version_major": 2,
       "version_minor": 0
      },
      "text/plain": [
       "Training: 0it [00:00, ?it/s]"
      ]
     },
     "metadata": {},
     "output_type": "display_data"
    },
    {
     "data": {
      "application/vnd.jupyter.widget-view+json": {
       "model_id": "9bbc45344d4d46e798bfb4e11bba26de",
       "version_major": 2,
       "version_minor": 0
      },
      "text/plain": [
       "Validation: 0it [00:00, ?it/s]"
      ]
     },
     "metadata": {},
     "output_type": "display_data"
    },
    {
     "data": {
      "application/vnd.jupyter.widget-view+json": {
       "model_id": "6f97ff204aaa4c6ca680d68bc2a59cc2",
       "version_major": 2,
       "version_minor": 0
      },
      "text/plain": [
       "Validation: 0it [00:00, ?it/s]"
      ]
     },
     "metadata": {},
     "output_type": "display_data"
    },
    {
     "data": {
      "application/vnd.jupyter.widget-view+json": {
       "model_id": "b887ba26ba22499aba585227cc74be02",
       "version_major": 2,
       "version_minor": 0
      },
      "text/plain": [
       "Validation: 0it [00:00, ?it/s]"
      ]
     },
     "metadata": {},
     "output_type": "display_data"
    },
    {
     "data": {
      "application/vnd.jupyter.widget-view+json": {
       "model_id": "bb303dea25fd4e94ba36595eb21b98f6",
       "version_major": 2,
       "version_minor": 0
      },
      "text/plain": [
       "Validation: 0it [00:00, ?it/s]"
      ]
     },
     "metadata": {},
     "output_type": "display_data"
    },
    {
     "data": {
      "application/vnd.jupyter.widget-view+json": {
       "model_id": "31a2354c8e344793a5f45c878e8b7dab",
       "version_major": 2,
       "version_minor": 0
      },
      "text/plain": [
       "Validation: 0it [00:00, ?it/s]"
      ]
     },
     "metadata": {},
     "output_type": "display_data"
    },
    {
     "data": {
      "application/vnd.jupyter.widget-view+json": {
       "model_id": "2c6511f8eeec4ecf8590a53f7e5d2751",
       "version_major": 2,
       "version_minor": 0
      },
      "text/plain": [
       "Validation: 0it [00:00, ?it/s]"
      ]
     },
     "metadata": {},
     "output_type": "display_data"
    },
    {
     "data": {
      "application/vnd.jupyter.widget-view+json": {
       "model_id": "67cc74cd2f984db28c428bafa85543e9",
       "version_major": 2,
       "version_minor": 0
      },
      "text/plain": [
       "Validation: 0it [00:00, ?it/s]"
      ]
     },
     "metadata": {},
     "output_type": "display_data"
    },
    {
     "data": {
      "application/vnd.jupyter.widget-view+json": {
       "model_id": "8b0cb21cb81e46c1b5cd24a263d53943",
       "version_major": 2,
       "version_minor": 0
      },
      "text/plain": [
       "Validation: 0it [00:00, ?it/s]"
      ]
     },
     "metadata": {},
     "output_type": "display_data"
    },
    {
     "data": {
      "application/vnd.jupyter.widget-view+json": {
       "model_id": "d08796867d8c45ef91de8d889ae8555a",
       "version_major": 2,
       "version_minor": 0
      },
      "text/plain": [
       "Validation: 0it [00:00, ?it/s]"
      ]
     },
     "metadata": {},
     "output_type": "display_data"
    },
    {
     "data": {
      "application/vnd.jupyter.widget-view+json": {
       "model_id": "ad842ddce8124e0f9945adb05efb0b50",
       "version_major": 2,
       "version_minor": 0
      },
      "text/plain": [
       "Validation: 0it [00:00, ?it/s]"
      ]
     },
     "metadata": {},
     "output_type": "display_data"
    },
    {
     "name": "stdout",
     "output_type": "stream",
     "text": [
      "[2022-05-11 13:01:34,191][HYDRA] \t#1 : n_splits=2 fold=0 model=cnn\n"
     ]
    },
    {
     "name": "stderr",
     "output_type": "stream",
     "text": [
      "GPU available: True, used: True\n",
      "TPU available: False, using: 0 TPU cores\n",
      "IPU available: False, using: 0 IPUs\n",
      "HPU available: False, using: 0 HPUs\n",
      "Missing logger folder: /home/justin_goodwin/projects/raiden/rai_toolbox/docs/source/tutorials/outputs/cross_validation/1/lightning_logs\n",
      "LOCAL_RANK: 0 - CUDA_VISIBLE_DEVICES: [0,1]\n",
      "\n",
      "  | Name       | Type             | Params\n",
      "------------------------------------------------\n",
      "0 | criterion  | CrossEntropyLoss | 0     \n",
      "1 | model      | ConvModel        | 22.4 K\n",
      "2 | acc_metric | Accuracy         | 0     \n",
      "------------------------------------------------\n",
      "22.4 K    Trainable params\n",
      "0         Non-trainable params\n",
      "22.4 K    Total params\n",
      "0.090     Total estimated model params size (MB)\n"
     ]
    },
    {
     "data": {
      "application/vnd.jupyter.widget-view+json": {
       "model_id": "62f8cd4bb75d4426aca5d1e4f638d26b",
       "version_major": 2,
       "version_minor": 0
      },
      "text/plain": [
       "Sanity Checking: 0it [00:00, ?it/s]"
      ]
     },
     "metadata": {},
     "output_type": "display_data"
    },
    {
     "data": {
      "application/vnd.jupyter.widget-view+json": {
       "model_id": "93e79bc377fd49d984277f8c086a613c",
       "version_major": 2,
       "version_minor": 0
      },
      "text/plain": [
       "Training: 0it [00:00, ?it/s]"
      ]
     },
     "metadata": {},
     "output_type": "display_data"
    },
    {
     "data": {
      "application/vnd.jupyter.widget-view+json": {
       "model_id": "8a1637716c8046618b50543441204a7a",
       "version_major": 2,
       "version_minor": 0
      },
      "text/plain": [
       "Validation: 0it [00:00, ?it/s]"
      ]
     },
     "metadata": {},
     "output_type": "display_data"
    },
    {
     "data": {
      "application/vnd.jupyter.widget-view+json": {
       "model_id": "16a1633f52c14a06b447a9317a74a69f",
       "version_major": 2,
       "version_minor": 0
      },
      "text/plain": [
       "Validation: 0it [00:00, ?it/s]"
      ]
     },
     "metadata": {},
     "output_type": "display_data"
    },
    {
     "data": {
      "application/vnd.jupyter.widget-view+json": {
       "model_id": "7030d56fe4ee41aa9e8d6d67d1f6979a",
       "version_major": 2,
       "version_minor": 0
      },
      "text/plain": [
       "Validation: 0it [00:00, ?it/s]"
      ]
     },
     "metadata": {},
     "output_type": "display_data"
    },
    {
     "data": {
      "application/vnd.jupyter.widget-view+json": {
       "model_id": "20c42abf023946c3affee07880b72eb3",
       "version_major": 2,
       "version_minor": 0
      },
      "text/plain": [
       "Validation: 0it [00:00, ?it/s]"
      ]
     },
     "metadata": {},
     "output_type": "display_data"
    },
    {
     "data": {
      "application/vnd.jupyter.widget-view+json": {
       "model_id": "866bc484058c4e0d9d81867e9aefc946",
       "version_major": 2,
       "version_minor": 0
      },
      "text/plain": [
       "Validation: 0it [00:00, ?it/s]"
      ]
     },
     "metadata": {},
     "output_type": "display_data"
    },
    {
     "data": {
      "application/vnd.jupyter.widget-view+json": {
       "model_id": "22ad72ea20804a0082233c8e7e78ac31",
       "version_major": 2,
       "version_minor": 0
      },
      "text/plain": [
       "Validation: 0it [00:00, ?it/s]"
      ]
     },
     "metadata": {},
     "output_type": "display_data"
    },
    {
     "data": {
      "application/vnd.jupyter.widget-view+json": {
       "model_id": "524eb56cc48341ff9da34db87eab0439",
       "version_major": 2,
       "version_minor": 0
      },
      "text/plain": [
       "Validation: 0it [00:00, ?it/s]"
      ]
     },
     "metadata": {},
     "output_type": "display_data"
    },
    {
     "data": {
      "application/vnd.jupyter.widget-view+json": {
       "model_id": "caddee0761b2446490e3c1c30ecc1b39",
       "version_major": 2,
       "version_minor": 0
      },
      "text/plain": [
       "Validation: 0it [00:00, ?it/s]"
      ]
     },
     "metadata": {},
     "output_type": "display_data"
    },
    {
     "data": {
      "application/vnd.jupyter.widget-view+json": {
       "model_id": "012dafb8d52d483a9159d8e06da404c8",
       "version_major": 2,
       "version_minor": 0
      },
      "text/plain": [
       "Validation: 0it [00:00, ?it/s]"
      ]
     },
     "metadata": {},
     "output_type": "display_data"
    },
    {
     "data": {
      "application/vnd.jupyter.widget-view+json": {
       "model_id": "08dbd0b324c94c4f99b7c5da8b7291b3",
       "version_major": 2,
       "version_minor": 0
      },
      "text/plain": [
       "Validation: 0it [00:00, ?it/s]"
      ]
     },
     "metadata": {},
     "output_type": "display_data"
    },
    {
     "name": "stdout",
     "output_type": "stream",
     "text": [
      "[2022-05-11 13:02:22,640][HYDRA] \t#2 : n_splits=2 fold=1 model=linear\n"
     ]
    },
    {
     "name": "stderr",
     "output_type": "stream",
     "text": [
      "GPU available: True, used: True\n",
      "TPU available: False, using: 0 TPU cores\n",
      "IPU available: False, using: 0 IPUs\n",
      "HPU available: False, using: 0 HPUs\n",
      "Missing logger folder: /home/justin_goodwin/projects/raiden/rai_toolbox/docs/source/tutorials/outputs/cross_validation/2/lightning_logs\n",
      "LOCAL_RANK: 0 - CUDA_VISIBLE_DEVICES: [0,1]\n",
      "\n",
      "  | Name       | Type             | Params\n",
      "------------------------------------------------\n",
      "0 | criterion  | CrossEntropyLoss | 0     \n",
      "1 | model      | LinearModel      | 242 K \n",
      "2 | acc_metric | Accuracy         | 0     \n",
      "------------------------------------------------\n",
      "242 K     Trainable params\n",
      "0         Non-trainable params\n",
      "242 K     Total params\n",
      "0.971     Total estimated model params size (MB)\n"
     ]
    },
    {
     "data": {
      "application/vnd.jupyter.widget-view+json": {
       "model_id": "16e095d014aa42a3a4e280146ee80491",
       "version_major": 2,
       "version_minor": 0
      },
      "text/plain": [
       "Sanity Checking: 0it [00:00, ?it/s]"
      ]
     },
     "metadata": {},
     "output_type": "display_data"
    },
    {
     "data": {
      "application/vnd.jupyter.widget-view+json": {
       "model_id": "459cbff1806742468cc899b6dd175a2d",
       "version_major": 2,
       "version_minor": 0
      },
      "text/plain": [
       "Training: 0it [00:00, ?it/s]"
      ]
     },
     "metadata": {},
     "output_type": "display_data"
    },
    {
     "data": {
      "application/vnd.jupyter.widget-view+json": {
       "model_id": "db05081cfa4346139575977fb99bed2e",
       "version_major": 2,
       "version_minor": 0
      },
      "text/plain": [
       "Validation: 0it [00:00, ?it/s]"
      ]
     },
     "metadata": {},
     "output_type": "display_data"
    },
    {
     "data": {
      "application/vnd.jupyter.widget-view+json": {
       "model_id": "1be4704b14c1473384d6232ee3f3d29b",
       "version_major": 2,
       "version_minor": 0
      },
      "text/plain": [
       "Validation: 0it [00:00, ?it/s]"
      ]
     },
     "metadata": {},
     "output_type": "display_data"
    },
    {
     "data": {
      "application/vnd.jupyter.widget-view+json": {
       "model_id": "79404d7fd3ab4859ab2fa6a670a2b42b",
       "version_major": 2,
       "version_minor": 0
      },
      "text/plain": [
       "Validation: 0it [00:00, ?it/s]"
      ]
     },
     "metadata": {},
     "output_type": "display_data"
    },
    {
     "data": {
      "application/vnd.jupyter.widget-view+json": {
       "model_id": "3cc404e86e3843a89bdd275ac913b69b",
       "version_major": 2,
       "version_minor": 0
      },
      "text/plain": [
       "Validation: 0it [00:00, ?it/s]"
      ]
     },
     "metadata": {},
     "output_type": "display_data"
    },
    {
     "data": {
      "application/vnd.jupyter.widget-view+json": {
       "model_id": "f8d4e90e951e401fae9726df5981cec0",
       "version_major": 2,
       "version_minor": 0
      },
      "text/plain": [
       "Validation: 0it [00:00, ?it/s]"
      ]
     },
     "metadata": {},
     "output_type": "display_data"
    },
    {
     "data": {
      "application/vnd.jupyter.widget-view+json": {
       "model_id": "047c758b259343edb7681477971e9dca",
       "version_major": 2,
       "version_minor": 0
      },
      "text/plain": [
       "Validation: 0it [00:00, ?it/s]"
      ]
     },
     "metadata": {},
     "output_type": "display_data"
    },
    {
     "data": {
      "application/vnd.jupyter.widget-view+json": {
       "model_id": "57aca87040654102b79a7828bcfbb407",
       "version_major": 2,
       "version_minor": 0
      },
      "text/plain": [
       "Validation: 0it [00:00, ?it/s]"
      ]
     },
     "metadata": {},
     "output_type": "display_data"
    },
    {
     "data": {
      "application/vnd.jupyter.widget-view+json": {
       "model_id": "7192d759fc984998a2f9f86664e95963",
       "version_major": 2,
       "version_minor": 0
      },
      "text/plain": [
       "Validation: 0it [00:00, ?it/s]"
      ]
     },
     "metadata": {},
     "output_type": "display_data"
    },
    {
     "data": {
      "application/vnd.jupyter.widget-view+json": {
       "model_id": "d933679f2c8242aa97e592831de152df",
       "version_major": 2,
       "version_minor": 0
      },
      "text/plain": [
       "Validation: 0it [00:00, ?it/s]"
      ]
     },
     "metadata": {},
     "output_type": "display_data"
    },
    {
     "data": {
      "application/vnd.jupyter.widget-view+json": {
       "model_id": "e5e3d6ff35b247a08f4e2f624120422a",
       "version_major": 2,
       "version_minor": 0
      },
      "text/plain": [
       "Validation: 0it [00:00, ?it/s]"
      ]
     },
     "metadata": {},
     "output_type": "display_data"
    },
    {
     "name": "stdout",
     "output_type": "stream",
     "text": [
      "[2022-05-11 13:03:07,446][HYDRA] \t#3 : n_splits=2 fold=1 model=cnn\n"
     ]
    },
    {
     "name": "stderr",
     "output_type": "stream",
     "text": [
      "GPU available: True, used: True\n",
      "TPU available: False, using: 0 TPU cores\n",
      "IPU available: False, using: 0 IPUs\n",
      "HPU available: False, using: 0 HPUs\n",
      "Missing logger folder: /home/justin_goodwin/projects/raiden/rai_toolbox/docs/source/tutorials/outputs/cross_validation/3/lightning_logs\n",
      "LOCAL_RANK: 0 - CUDA_VISIBLE_DEVICES: [0,1]\n",
      "\n",
      "  | Name       | Type             | Params\n",
      "------------------------------------------------\n",
      "0 | criterion  | CrossEntropyLoss | 0     \n",
      "1 | model      | ConvModel        | 22.4 K\n",
      "2 | acc_metric | Accuracy         | 0     \n",
      "------------------------------------------------\n",
      "22.4 K    Trainable params\n",
      "0         Non-trainable params\n",
      "22.4 K    Total params\n",
      "0.090     Total estimated model params size (MB)\n"
     ]
    },
    {
     "data": {
      "application/vnd.jupyter.widget-view+json": {
       "model_id": "495e66fd59df4f4a84141122a2ca7170",
       "version_major": 2,
       "version_minor": 0
      },
      "text/plain": [
       "Sanity Checking: 0it [00:00, ?it/s]"
      ]
     },
     "metadata": {},
     "output_type": "display_data"
    },
    {
     "data": {
      "application/vnd.jupyter.widget-view+json": {
       "model_id": "dcf218d90ded43bfb25062effb601d18",
       "version_major": 2,
       "version_minor": 0
      },
      "text/plain": [
       "Training: 0it [00:00, ?it/s]"
      ]
     },
     "metadata": {},
     "output_type": "display_data"
    },
    {
     "data": {
      "application/vnd.jupyter.widget-view+json": {
       "model_id": "481ab67615d9440085f18b6c28a56236",
       "version_major": 2,
       "version_minor": 0
      },
      "text/plain": [
       "Validation: 0it [00:00, ?it/s]"
      ]
     },
     "metadata": {},
     "output_type": "display_data"
    },
    {
     "data": {
      "application/vnd.jupyter.widget-view+json": {
       "model_id": "3cf4ebed7599481d9c70668e823b1bb4",
       "version_major": 2,
       "version_minor": 0
      },
      "text/plain": [
       "Validation: 0it [00:00, ?it/s]"
      ]
     },
     "metadata": {},
     "output_type": "display_data"
    },
    {
     "data": {
      "application/vnd.jupyter.widget-view+json": {
       "model_id": "5caa794fd57f41fbb56b270b7ab4c9d0",
       "version_major": 2,
       "version_minor": 0
      },
      "text/plain": [
       "Validation: 0it [00:00, ?it/s]"
      ]
     },
     "metadata": {},
     "output_type": "display_data"
    },
    {
     "data": {
      "application/vnd.jupyter.widget-view+json": {
       "model_id": "22f3ef3e9cec4d9cbd6b507f1fea4a9a",
       "version_major": 2,
       "version_minor": 0
      },
      "text/plain": [
       "Validation: 0it [00:00, ?it/s]"
      ]
     },
     "metadata": {},
     "output_type": "display_data"
    },
    {
     "data": {
      "application/vnd.jupyter.widget-view+json": {
       "model_id": "ed127f14f8044a87a6151117ef33e9c4",
       "version_major": 2,
       "version_minor": 0
      },
      "text/plain": [
       "Validation: 0it [00:00, ?it/s]"
      ]
     },
     "metadata": {},
     "output_type": "display_data"
    },
    {
     "data": {
      "application/vnd.jupyter.widget-view+json": {
       "model_id": "589ce453fc064ca990f9151eeb59e5d5",
       "version_major": 2,
       "version_minor": 0
      },
      "text/plain": [
       "Validation: 0it [00:00, ?it/s]"
      ]
     },
     "metadata": {},
     "output_type": "display_data"
    },
    {
     "data": {
      "application/vnd.jupyter.widget-view+json": {
       "model_id": "5b166a8c6de84e11995568cc4d8b5613",
       "version_major": 2,
       "version_minor": 0
      },
      "text/plain": [
       "Validation: 0it [00:00, ?it/s]"
      ]
     },
     "metadata": {},
     "output_type": "display_data"
    },
    {
     "data": {
      "application/vnd.jupyter.widget-view+json": {
       "model_id": "958e32fe07f24bc6a4c0ebe93ed9c01d",
       "version_major": 2,
       "version_minor": 0
      },
      "text/plain": [
       "Validation: 0it [00:00, ?it/s]"
      ]
     },
     "metadata": {},
     "output_type": "display_data"
    },
    {
     "data": {
      "application/vnd.jupyter.widget-view+json": {
       "model_id": "bd48f93323bd4d05a14db5ab547e52c1",
       "version_major": 2,
       "version_minor": 0
      },
      "text/plain": [
       "Validation: 0it [00:00, ?it/s]"
      ]
     },
     "metadata": {},
     "output_type": "display_data"
    },
    {
     "data": {
      "application/vnd.jupyter.widget-view+json": {
       "model_id": "63351aefba3744999725c452f9dd10a7",
       "version_major": 2,
       "version_minor": 0
      },
      "text/plain": [
       "Validation: 0it [00:00, ?it/s]"
      ]
     },
     "metadata": {},
     "output_type": "display_data"
    }
   ],
   "source": [
    "kfold_task = CrossValWorkFlow(Config)\n",
    "kfold_task.run(n_splits=2, model=multirun([\"linear\", \"cnn\"]), overrides=[\"hydra.sweep.dir=outputs/cross_validation\"])\n",
    "## You can load previous experiments\n",
    "# kfold_task = CrossValWorkFlow().load_from_dir(\"multirun/2022-05-11/12-16-06\", metrics_filename=\"fit_metrics.pt\")"
   ]
  },
  {
   "cell_type": "code",
   "execution_count": 11,
   "metadata": {},
   "outputs": [
    {
     "data": {
      "text/plain": [
       "PosixPath('outputs/cross_validation')"
      ]
     },
     "execution_count": 11,
     "metadata": {},
     "output_type": "execute_result"
    }
   ],
   "source": [
    "kfold_task.working_dir"
   ]
  },
  {
   "cell_type": "code",
   "execution_count": 12,
   "metadata": {},
   "outputs": [
    {
     "data": {
      "text/html": [
       "<div><svg style=\"position: absolute; width: 0; height: 0; overflow: hidden\">\n",
       "<defs>\n",
       "<symbol id=\"icon-database\" viewBox=\"0 0 32 32\">\n",
       "<path d=\"M16 0c-8.837 0-16 2.239-16 5v4c0 2.761 7.163 5 16 5s16-2.239 16-5v-4c0-2.761-7.163-5-16-5z\"></path>\n",
       "<path d=\"M16 17c-8.837 0-16-2.239-16-5v6c0 2.761 7.163 5 16 5s16-2.239 16-5v-6c0 2.761-7.163 5-16 5z\"></path>\n",
       "<path d=\"M16 26c-8.837 0-16-2.239-16-5v6c0 2.761 7.163 5 16 5s16-2.239 16-5v-6c0 2.761-7.163 5-16 5z\"></path>\n",
       "</symbol>\n",
       "<symbol id=\"icon-file-text2\" viewBox=\"0 0 32 32\">\n",
       "<path d=\"M28.681 7.159c-0.694-0.947-1.662-2.053-2.724-3.116s-2.169-2.030-3.116-2.724c-1.612-1.182-2.393-1.319-2.841-1.319h-15.5c-1.378 0-2.5 1.121-2.5 2.5v27c0 1.378 1.122 2.5 2.5 2.5h23c1.378 0 2.5-1.122 2.5-2.5v-19.5c0-0.448-0.137-1.23-1.319-2.841zM24.543 5.457c0.959 0.959 1.712 1.825 2.268 2.543h-4.811v-4.811c0.718 0.556 1.584 1.309 2.543 2.268zM28 29.5c0 0.271-0.229 0.5-0.5 0.5h-23c-0.271 0-0.5-0.229-0.5-0.5v-27c0-0.271 0.229-0.5 0.5-0.5 0 0 15.499-0 15.5 0v7c0 0.552 0.448 1 1 1h7v19.5z\"></path>\n",
       "<path d=\"M23 26h-14c-0.552 0-1-0.448-1-1s0.448-1 1-1h14c0.552 0 1 0.448 1 1s-0.448 1-1 1z\"></path>\n",
       "<path d=\"M23 22h-14c-0.552 0-1-0.448-1-1s0.448-1 1-1h14c0.552 0 1 0.448 1 1s-0.448 1-1 1z\"></path>\n",
       "<path d=\"M23 18h-14c-0.552 0-1-0.448-1-1s0.448-1 1-1h14c0.552 0 1 0.448 1 1s-0.448 1-1 1z\"></path>\n",
       "</symbol>\n",
       "</defs>\n",
       "</svg>\n",
       "<style>/* CSS stylesheet for displaying xarray objects in jupyterlab.\n",
       " *\n",
       " */\n",
       "\n",
       ":root {\n",
       "  --xr-font-color0: var(--jp-content-font-color0, rgba(0, 0, 0, 1));\n",
       "  --xr-font-color2: var(--jp-content-font-color2, rgba(0, 0, 0, 0.54));\n",
       "  --xr-font-color3: var(--jp-content-font-color3, rgba(0, 0, 0, 0.38));\n",
       "  --xr-border-color: var(--jp-border-color2, #e0e0e0);\n",
       "  --xr-disabled-color: var(--jp-layout-color3, #bdbdbd);\n",
       "  --xr-background-color: var(--jp-layout-color0, white);\n",
       "  --xr-background-color-row-even: var(--jp-layout-color1, white);\n",
       "  --xr-background-color-row-odd: var(--jp-layout-color2, #eeeeee);\n",
       "}\n",
       "\n",
       "html[theme=dark],\n",
       "body.vscode-dark {\n",
       "  --xr-font-color0: rgba(255, 255, 255, 1);\n",
       "  --xr-font-color2: rgba(255, 255, 255, 0.54);\n",
       "  --xr-font-color3: rgba(255, 255, 255, 0.38);\n",
       "  --xr-border-color: #1F1F1F;\n",
       "  --xr-disabled-color: #515151;\n",
       "  --xr-background-color: #111111;\n",
       "  --xr-background-color-row-even: #111111;\n",
       "  --xr-background-color-row-odd: #313131;\n",
       "}\n",
       "\n",
       ".xr-wrap {\n",
       "  display: block !important;\n",
       "  min-width: 300px;\n",
       "  max-width: 700px;\n",
       "}\n",
       "\n",
       ".xr-text-repr-fallback {\n",
       "  /* fallback to plain text repr when CSS is not injected (untrusted notebook) */\n",
       "  display: none;\n",
       "}\n",
       "\n",
       ".xr-header {\n",
       "  padding-top: 6px;\n",
       "  padding-bottom: 6px;\n",
       "  margin-bottom: 4px;\n",
       "  border-bottom: solid 1px var(--xr-border-color);\n",
       "}\n",
       "\n",
       ".xr-header > div,\n",
       ".xr-header > ul {\n",
       "  display: inline;\n",
       "  margin-top: 0;\n",
       "  margin-bottom: 0;\n",
       "}\n",
       "\n",
       ".xr-obj-type,\n",
       ".xr-array-name {\n",
       "  margin-left: 2px;\n",
       "  margin-right: 10px;\n",
       "}\n",
       "\n",
       ".xr-obj-type {\n",
       "  color: var(--xr-font-color2);\n",
       "}\n",
       "\n",
       ".xr-sections {\n",
       "  padding-left: 0 !important;\n",
       "  display: grid;\n",
       "  grid-template-columns: 150px auto auto 1fr 20px 20px;\n",
       "}\n",
       "\n",
       ".xr-section-item {\n",
       "  display: contents;\n",
       "}\n",
       "\n",
       ".xr-section-item input {\n",
       "  display: none;\n",
       "}\n",
       "\n",
       ".xr-section-item input + label {\n",
       "  color: var(--xr-disabled-color);\n",
       "}\n",
       "\n",
       ".xr-section-item input:enabled + label {\n",
       "  cursor: pointer;\n",
       "  color: var(--xr-font-color2);\n",
       "}\n",
       "\n",
       ".xr-section-item input:enabled + label:hover {\n",
       "  color: var(--xr-font-color0);\n",
       "}\n",
       "\n",
       ".xr-section-summary {\n",
       "  grid-column: 1;\n",
       "  color: var(--xr-font-color2);\n",
       "  font-weight: 500;\n",
       "}\n",
       "\n",
       ".xr-section-summary > span {\n",
       "  display: inline-block;\n",
       "  padding-left: 0.5em;\n",
       "}\n",
       "\n",
       ".xr-section-summary-in:disabled + label {\n",
       "  color: var(--xr-font-color2);\n",
       "}\n",
       "\n",
       ".xr-section-summary-in + label:before {\n",
       "  display: inline-block;\n",
       "  content: '►';\n",
       "  font-size: 11px;\n",
       "  width: 15px;\n",
       "  text-align: center;\n",
       "}\n",
       "\n",
       ".xr-section-summary-in:disabled + label:before {\n",
       "  color: var(--xr-disabled-color);\n",
       "}\n",
       "\n",
       ".xr-section-summary-in:checked + label:before {\n",
       "  content: '▼';\n",
       "}\n",
       "\n",
       ".xr-section-summary-in:checked + label > span {\n",
       "  display: none;\n",
       "}\n",
       "\n",
       ".xr-section-summary,\n",
       ".xr-section-inline-details {\n",
       "  padding-top: 4px;\n",
       "  padding-bottom: 4px;\n",
       "}\n",
       "\n",
       ".xr-section-inline-details {\n",
       "  grid-column: 2 / -1;\n",
       "}\n",
       "\n",
       ".xr-section-details {\n",
       "  display: none;\n",
       "  grid-column: 1 / -1;\n",
       "  margin-bottom: 5px;\n",
       "}\n",
       "\n",
       ".xr-section-summary-in:checked ~ .xr-section-details {\n",
       "  display: contents;\n",
       "}\n",
       "\n",
       ".xr-array-wrap {\n",
       "  grid-column: 1 / -1;\n",
       "  display: grid;\n",
       "  grid-template-columns: 20px auto;\n",
       "}\n",
       "\n",
       ".xr-array-wrap > label {\n",
       "  grid-column: 1;\n",
       "  vertical-align: top;\n",
       "}\n",
       "\n",
       ".xr-preview {\n",
       "  color: var(--xr-font-color3);\n",
       "}\n",
       "\n",
       ".xr-array-preview,\n",
       ".xr-array-data {\n",
       "  padding: 0 5px !important;\n",
       "  grid-column: 2;\n",
       "}\n",
       "\n",
       ".xr-array-data,\n",
       ".xr-array-in:checked ~ .xr-array-preview {\n",
       "  display: none;\n",
       "}\n",
       "\n",
       ".xr-array-in:checked ~ .xr-array-data,\n",
       ".xr-array-preview {\n",
       "  display: inline-block;\n",
       "}\n",
       "\n",
       ".xr-dim-list {\n",
       "  display: inline-block !important;\n",
       "  list-style: none;\n",
       "  padding: 0 !important;\n",
       "  margin: 0;\n",
       "}\n",
       "\n",
       ".xr-dim-list li {\n",
       "  display: inline-block;\n",
       "  padding: 0;\n",
       "  margin: 0;\n",
       "}\n",
       "\n",
       ".xr-dim-list:before {\n",
       "  content: '(';\n",
       "}\n",
       "\n",
       ".xr-dim-list:after {\n",
       "  content: ')';\n",
       "}\n",
       "\n",
       ".xr-dim-list li:not(:last-child):after {\n",
       "  content: ',';\n",
       "  padding-right: 5px;\n",
       "}\n",
       "\n",
       ".xr-has-index {\n",
       "  font-weight: bold;\n",
       "}\n",
       "\n",
       ".xr-var-list,\n",
       ".xr-var-item {\n",
       "  display: contents;\n",
       "}\n",
       "\n",
       ".xr-var-item > div,\n",
       ".xr-var-item label,\n",
       ".xr-var-item > .xr-var-name span {\n",
       "  background-color: var(--xr-background-color-row-even);\n",
       "  margin-bottom: 0;\n",
       "}\n",
       "\n",
       ".xr-var-item > .xr-var-name:hover span {\n",
       "  padding-right: 5px;\n",
       "}\n",
       "\n",
       ".xr-var-list > li:nth-child(odd) > div,\n",
       ".xr-var-list > li:nth-child(odd) > label,\n",
       ".xr-var-list > li:nth-child(odd) > .xr-var-name span {\n",
       "  background-color: var(--xr-background-color-row-odd);\n",
       "}\n",
       "\n",
       ".xr-var-name {\n",
       "  grid-column: 1;\n",
       "}\n",
       "\n",
       ".xr-var-dims {\n",
       "  grid-column: 2;\n",
       "}\n",
       "\n",
       ".xr-var-dtype {\n",
       "  grid-column: 3;\n",
       "  text-align: right;\n",
       "  color: var(--xr-font-color2);\n",
       "}\n",
       "\n",
       ".xr-var-preview {\n",
       "  grid-column: 4;\n",
       "}\n",
       "\n",
       ".xr-var-name,\n",
       ".xr-var-dims,\n",
       ".xr-var-dtype,\n",
       ".xr-preview,\n",
       ".xr-attrs dt {\n",
       "  white-space: nowrap;\n",
       "  overflow: hidden;\n",
       "  text-overflow: ellipsis;\n",
       "  padding-right: 10px;\n",
       "}\n",
       "\n",
       ".xr-var-name:hover,\n",
       ".xr-var-dims:hover,\n",
       ".xr-var-dtype:hover,\n",
       ".xr-attrs dt:hover {\n",
       "  overflow: visible;\n",
       "  width: auto;\n",
       "  z-index: 1;\n",
       "}\n",
       "\n",
       ".xr-var-attrs,\n",
       ".xr-var-data {\n",
       "  display: none;\n",
       "  background-color: var(--xr-background-color) !important;\n",
       "  padding-bottom: 5px !important;\n",
       "}\n",
       "\n",
       ".xr-var-attrs-in:checked ~ .xr-var-attrs,\n",
       ".xr-var-data-in:checked ~ .xr-var-data {\n",
       "  display: block;\n",
       "}\n",
       "\n",
       ".xr-var-data > table {\n",
       "  float: right;\n",
       "}\n",
       "\n",
       ".xr-var-name span,\n",
       ".xr-var-data,\n",
       ".xr-attrs {\n",
       "  padding-left: 25px !important;\n",
       "}\n",
       "\n",
       ".xr-attrs,\n",
       ".xr-var-attrs,\n",
       ".xr-var-data {\n",
       "  grid-column: 1 / -1;\n",
       "}\n",
       "\n",
       "dl.xr-attrs {\n",
       "  padding: 0;\n",
       "  margin: 0;\n",
       "  display: grid;\n",
       "  grid-template-columns: 125px auto;\n",
       "}\n",
       "\n",
       ".xr-attrs dt,\n",
       ".xr-attrs dd {\n",
       "  padding: 0;\n",
       "  margin: 0;\n",
       "  float: left;\n",
       "  padding-right: 10px;\n",
       "  width: auto;\n",
       "}\n",
       "\n",
       ".xr-attrs dt {\n",
       "  font-weight: normal;\n",
       "  grid-column: 1;\n",
       "}\n",
       "\n",
       ".xr-attrs dt:hover span {\n",
       "  display: inline-block;\n",
       "  background: var(--xr-background-color);\n",
       "  padding-right: 10px;\n",
       "}\n",
       "\n",
       ".xr-attrs dd {\n",
       "  grid-column: 2;\n",
       "  white-space: pre-wrap;\n",
       "  word-break: break-all;\n",
       "}\n",
       "\n",
       ".xr-icon-database,\n",
       ".xr-icon-file-text2 {\n",
       "  display: inline-block;\n",
       "  vertical-align: middle;\n",
       "  width: 1em;\n",
       "  height: 1.5em !important;\n",
       "  stroke-width: 0;\n",
       "  stroke: currentColor;\n",
       "  fill: currentColor;\n",
       "}\n",
       "</style><pre class='xr-text-repr-fallback'>&lt;xarray.Dataset&gt;\n",
       "Dimensions:         (fold: 2, model: 2, epoch: 10)\n",
       "Coordinates:\n",
       "  * fold            (fold) int64 0 1\n",
       "  * model           (model) &lt;U6 &#x27;linear&#x27; &#x27;cnn&#x27;\n",
       "  * epoch           (epoch) int64 0 1 2 3 4 5 6 7 8 9\n",
       "Data variables:\n",
       "    train_loss      (fold, model, epoch) float64 1.831 0.9669 ... 0.01692\n",
       "    train_accuracy  (fold, model, epoch) float64 0.33 0.63 0.85 ... 1.0 1.0 1.0\n",
       "    val_loss        (fold, model, epoch) float64 1.926 0.9586 ... 0.07787\n",
       "    val_accuracy    (fold, model, epoch) float64 0.2894 0.6883 ... 0.98 0.9754\n",
       "Attributes:\n",
       "    n_splits:  2</pre><div class='xr-wrap' style='display:none'><div class='xr-header'><div class='xr-obj-type'>xarray.Dataset</div></div><ul class='xr-sections'><li class='xr-section-item'><input id='section-a4a0f665-b55f-4d32-94ef-224342486ebc' class='xr-section-summary-in' type='checkbox' disabled ><label for='section-a4a0f665-b55f-4d32-94ef-224342486ebc' class='xr-section-summary'  title='Expand/collapse section'>Dimensions:</label><div class='xr-section-inline-details'><ul class='xr-dim-list'><li><span class='xr-has-index'>fold</span>: 2</li><li><span class='xr-has-index'>model</span>: 2</li><li><span class='xr-has-index'>epoch</span>: 10</li></ul></div><div class='xr-section-details'></div></li><li class='xr-section-item'><input id='section-0ffc9df7-d8ed-452f-806f-c5f72bd64aed' class='xr-section-summary-in' type='checkbox'  checked><label for='section-0ffc9df7-d8ed-452f-806f-c5f72bd64aed' class='xr-section-summary' >Coordinates: <span>(3)</span></label><div class='xr-section-inline-details'></div><div class='xr-section-details'><ul class='xr-var-list'><li class='xr-var-item'><div class='xr-var-name'><span class='xr-has-index'>fold</span></div><div class='xr-var-dims'>(fold)</div><div class='xr-var-dtype'>int64</div><div class='xr-var-preview xr-preview'>0 1</div><input id='attrs-286c610e-a9e3-441f-aa0a-4b638b3bf2b6' class='xr-var-attrs-in' type='checkbox' disabled><label for='attrs-286c610e-a9e3-441f-aa0a-4b638b3bf2b6' title='Show/Hide attributes'><svg class='icon xr-icon-file-text2'><use xlink:href='#icon-file-text2'></use></svg></label><input id='data-7088d0d2-59b1-47ae-a634-b49af2f0b056' class='xr-var-data-in' type='checkbox'><label for='data-7088d0d2-59b1-47ae-a634-b49af2f0b056' title='Show/Hide data repr'><svg class='icon xr-icon-database'><use xlink:href='#icon-database'></use></svg></label><div class='xr-var-attrs'><dl class='xr-attrs'></dl></div><div class='xr-var-data'><pre>array([0, 1])</pre></div></li><li class='xr-var-item'><div class='xr-var-name'><span class='xr-has-index'>model</span></div><div class='xr-var-dims'>(model)</div><div class='xr-var-dtype'>&lt;U6</div><div class='xr-var-preview xr-preview'>&#x27;linear&#x27; &#x27;cnn&#x27;</div><input id='attrs-0be1ca8f-afc4-4c17-a374-d5a078de978f' class='xr-var-attrs-in' type='checkbox' disabled><label for='attrs-0be1ca8f-afc4-4c17-a374-d5a078de978f' title='Show/Hide attributes'><svg class='icon xr-icon-file-text2'><use xlink:href='#icon-file-text2'></use></svg></label><input id='data-7c46548b-9e45-41a6-9fa2-5d712080b40d' class='xr-var-data-in' type='checkbox'><label for='data-7c46548b-9e45-41a6-9fa2-5d712080b40d' title='Show/Hide data repr'><svg class='icon xr-icon-database'><use xlink:href='#icon-database'></use></svg></label><div class='xr-var-attrs'><dl class='xr-attrs'></dl></div><div class='xr-var-data'><pre>array([&#x27;linear&#x27;, &#x27;cnn&#x27;], dtype=&#x27;&lt;U6&#x27;)</pre></div></li><li class='xr-var-item'><div class='xr-var-name'><span class='xr-has-index'>epoch</span></div><div class='xr-var-dims'>(epoch)</div><div class='xr-var-dtype'>int64</div><div class='xr-var-preview xr-preview'>0 1 2 3 4 5 6 7 8 9</div><input id='attrs-12872fde-c857-4ea4-950e-9e878d284c74' class='xr-var-attrs-in' type='checkbox' disabled><label for='attrs-12872fde-c857-4ea4-950e-9e878d284c74' title='Show/Hide attributes'><svg class='icon xr-icon-file-text2'><use xlink:href='#icon-file-text2'></use></svg></label><input id='data-47bf5f82-46f6-4294-979f-a03226e97687' class='xr-var-data-in' type='checkbox'><label for='data-47bf5f82-46f6-4294-979f-a03226e97687' title='Show/Hide data repr'><svg class='icon xr-icon-database'><use xlink:href='#icon-database'></use></svg></label><div class='xr-var-attrs'><dl class='xr-attrs'></dl></div><div class='xr-var-data'><pre>array([0, 1, 2, 3, 4, 5, 6, 7, 8, 9])</pre></div></li></ul></div></li><li class='xr-section-item'><input id='section-084e5e19-75d5-4f39-968a-a392cf0b6ee0' class='xr-section-summary-in' type='checkbox'  checked><label for='section-084e5e19-75d5-4f39-968a-a392cf0b6ee0' class='xr-section-summary' >Data variables: <span>(4)</span></label><div class='xr-section-inline-details'></div><div class='xr-section-details'><ul class='xr-var-list'><li class='xr-var-item'><div class='xr-var-name'><span>train_loss</span></div><div class='xr-var-dims'>(fold, model, epoch)</div><div class='xr-var-dtype'>float64</div><div class='xr-var-preview xr-preview'>1.831 0.9669 ... 0.02483 0.01692</div><input id='attrs-822e7e8c-a58c-49c9-8a92-ea79b089b2e0' class='xr-var-attrs-in' type='checkbox' disabled><label for='attrs-822e7e8c-a58c-49c9-8a92-ea79b089b2e0' title='Show/Hide attributes'><svg class='icon xr-icon-file-text2'><use xlink:href='#icon-file-text2'></use></svg></label><input id='data-83ef9a51-7c64-431e-8b15-0767ca558303' class='xr-var-data-in' type='checkbox'><label for='data-83ef9a51-7c64-431e-8b15-0767ca558303' title='Show/Hide data repr'><svg class='icon xr-icon-database'><use xlink:href='#icon-database'></use></svg></label><div class='xr-var-attrs'><dl class='xr-attrs'></dl></div><div class='xr-var-data'><pre>array([[[1.83089244, 0.9669106 , 0.49351037, 0.51032329, 0.37593102,\n",
       "         0.20091528, 0.308229  , 0.33319524, 0.17601046, 0.18464771],\n",
       "        [0.12205119, 0.08530093, 0.06205764, 0.0434093 , 0.04669267,\n",
       "         0.02825908, 0.05741938, 0.07056614, 0.04205627, 0.03495844]],\n",
       "\n",
       "       [[1.8111614 , 1.00230849, 0.68262756, 0.58911818, 0.26964515,\n",
       "         0.2627998 , 0.22101471, 0.209511  , 0.22008657, 0.18640366],\n",
       "        [0.12889561, 0.11167882, 0.03521501, 0.14614411, 0.08653247,\n",
       "         0.18195681, 0.09933357, 0.00965713, 0.02482867, 0.01692152]]])</pre></div></li><li class='xr-var-item'><div class='xr-var-name'><span>train_accuracy</span></div><div class='xr-var-dims'>(fold, model, epoch)</div><div class='xr-var-dtype'>float64</div><div class='xr-var-preview xr-preview'>0.33 0.63 0.85 0.85 ... 1.0 1.0 1.0</div><input id='attrs-191fac8c-f8d8-4e53-bb3a-dd0a146fa115' class='xr-var-attrs-in' type='checkbox' disabled><label for='attrs-191fac8c-f8d8-4e53-bb3a-dd0a146fa115' title='Show/Hide attributes'><svg class='icon xr-icon-file-text2'><use xlink:href='#icon-file-text2'></use></svg></label><input id='data-c088c0a2-c282-482f-99b5-f769d2c175a4' class='xr-var-data-in' type='checkbox'><label for='data-c088c0a2-c282-482f-99b5-f769d2c175a4' title='Show/Hide data repr'><svg class='icon xr-icon-database'><use xlink:href='#icon-database'></use></svg></label><div class='xr-var-attrs'><dl class='xr-attrs'></dl></div><div class='xr-var-data'><pre>array([[[0.33000001, 0.63      , 0.85000002, 0.85000002, 0.88999999,\n",
       "         0.94      , 0.92000002, 0.89999998, 0.95999998, 0.94      ],\n",
       "        [0.95999998, 0.97000003, 0.98000002, 0.98000002, 0.98000002,\n",
       "         0.99000001, 0.98000002, 0.98000002, 0.99000001, 0.99000001]],\n",
       "\n",
       "       [[0.33000001, 0.67000002, 0.77999997, 0.82999998, 0.92000002,\n",
       "         0.91000003, 0.94999999, 0.97000003, 0.93000001, 0.94999999],\n",
       "        [0.94999999, 0.94999999, 0.99000001, 0.95999998, 0.97000003,\n",
       "         0.94999999, 0.98000002, 1.        , 1.        , 1.        ]]])</pre></div></li><li class='xr-var-item'><div class='xr-var-name'><span>val_loss</span></div><div class='xr-var-dims'>(fold, model, epoch)</div><div class='xr-var-dtype'>float64</div><div class='xr-var-preview xr-preview'>1.926 0.9586 ... 0.06662 0.07787</div><input id='attrs-1402de42-0eb5-4113-969b-43ccfa1d6f7d' class='xr-var-attrs-in' type='checkbox' disabled><label for='attrs-1402de42-0eb5-4113-969b-43ccfa1d6f7d' title='Show/Hide attributes'><svg class='icon xr-icon-file-text2'><use xlink:href='#icon-file-text2'></use></svg></label><input id='data-8ba9c94b-68a1-41c1-b446-cc275aec59b9' class='xr-var-data-in' type='checkbox'><label for='data-8ba9c94b-68a1-41c1-b446-cc275aec59b9' title='Show/Hide data repr'><svg class='icon xr-icon-database'><use xlink:href='#icon-database'></use></svg></label><div class='xr-var-attrs'><dl class='xr-attrs'></dl></div><div class='xr-var-data'><pre>array([[[1.92623246, 0.95857233, 0.65280592, 0.48183224, 0.35230786,\n",
       "         0.28272241, 0.25367191, 0.2633062 , 0.20348199, 0.19150788],\n",
       "        [0.15048672, 0.12043249, 0.14630693, 0.08820181, 0.082198  ,\n",
       "         0.06050164, 0.05650763, 0.05293513, 0.05717981, 0.05789285]],\n",
       "\n",
       "       [[1.83365571, 1.06605017, 0.64649087, 0.47304374, 0.32189602,\n",
       "         0.2785188 , 0.30507359, 0.23541874, 0.24895529, 0.2034132 ],\n",
       "        [0.58493155, 0.11263265, 0.09783783, 0.14860143, 0.12314442,\n",
       "         0.07166588, 0.0797142 , 0.05025965, 0.06661821, 0.07786581]]])</pre></div></li><li class='xr-var-item'><div class='xr-var-name'><span>val_accuracy</span></div><div class='xr-var-dims'>(fold, model, epoch)</div><div class='xr-var-dtype'>float64</div><div class='xr-var-preview xr-preview'>0.2894 0.6883 ... 0.98 0.9754</div><input id='attrs-8a502fb4-a04a-40d6-ba54-a433ab1c7f66' class='xr-var-attrs-in' type='checkbox' disabled><label for='attrs-8a502fb4-a04a-40d6-ba54-a433ab1c7f66' title='Show/Hide attributes'><svg class='icon xr-icon-file-text2'><use xlink:href='#icon-file-text2'></use></svg></label><input id='data-88565ea4-af69-4f4e-a352-8e5f7ed6d725' class='xr-var-data-in' type='checkbox'><label for='data-88565ea4-af69-4f4e-a352-8e5f7ed6d725' title='Show/Hide data repr'><svg class='icon xr-icon-database'><use xlink:href='#icon-database'></use></svg></label><div class='xr-var-attrs'><dl class='xr-attrs'></dl></div><div class='xr-var-data'><pre>array([[[0.28940001, 0.68830001, 0.78426665, 0.84806669, 0.89096665,\n",
       "         0.91443336, 0.92083335, 0.91956669, 0.93816668, 0.94166666],\n",
       "        [0.95213336, 0.96439999, 0.95486665, 0.97126669, 0.97573334,\n",
       "         0.98053336, 0.98313332, 0.98439997, 0.98303336, 0.98256665]],\n",
       "\n",
       "       [[0.38486665, 0.63843334, 0.78663331, 0.85586667, 0.90390003,\n",
       "         0.91780001, 0.9052    , 0.9289    , 0.92416668, 0.93783331],\n",
       "        [0.80496669, 0.96566665, 0.96903336, 0.95120001, 0.95983332,\n",
       "         0.97763336, 0.97556669, 0.98446667, 0.98003334, 0.97536665]]])</pre></div></li></ul></div></li><li class='xr-section-item'><input id='section-41927233-2cf3-4165-9b31-e814c60f9cdf' class='xr-section-summary-in' type='checkbox'  checked><label for='section-41927233-2cf3-4165-9b31-e814c60f9cdf' class='xr-section-summary' >Attributes: <span>(1)</span></label><div class='xr-section-inline-details'></div><div class='xr-section-details'><dl class='xr-attrs'><dt><span>n_splits :</span></dt><dd>2</dd></dl></div></li></ul></div></div>"
      ],
      "text/plain": [
       "<xarray.Dataset>\n",
       "Dimensions:         (fold: 2, model: 2, epoch: 10)\n",
       "Coordinates:\n",
       "  * fold            (fold) int64 0 1\n",
       "  * model           (model) <U6 'linear' 'cnn'\n",
       "  * epoch           (epoch) int64 0 1 2 3 4 5 6 7 8 9\n",
       "Data variables:\n",
       "    train_loss      (fold, model, epoch) float64 1.831 0.9669 ... 0.01692\n",
       "    train_accuracy  (fold, model, epoch) float64 0.33 0.63 0.85 ... 1.0 1.0 1.0\n",
       "    val_loss        (fold, model, epoch) float64 1.926 0.9586 ... 0.07787\n",
       "    val_accuracy    (fold, model, epoch) float64 0.2894 0.6883 ... 0.98 0.9754\n",
       "Attributes:\n",
       "    n_splits:  2"
      ]
     },
     "execution_count": 12,
     "metadata": {},
     "output_type": "execute_result"
    }
   ],
   "source": [
    "xdata = kfold_task.to_xarray(coord_from_metrics=\"epoch\")\n",
    "xdata"
   ]
  },
  {
   "cell_type": "code",
   "execution_count": 13,
   "metadata": {},
   "outputs": [
    {
     "data": {
      "text/plain": [
       "<matplotlib.legend.Legend at 0x7fb7b833d190>"
      ]
     },
     "execution_count": 13,
     "metadata": {},
     "output_type": "execute_result"
    },
    {
     "data": {
      "image/png": "[encoded data removed]",
      "text/plain": [
       "<Figure size 432x288 with 1 Axes>"
      ]
     },
     "metadata": {
      "needs_background": "light"
     },
     "output_type": "display_data"
    }
   ],
   "source": [
    "fig, ax = plt.subplots()\n",
    "for name, g in xdata.groupby(\"model\"):\n",
    "    g.val_accuracy[:, 0].plot.line(x=\"epoch\", label=f\"{name} (fold)\", ax=ax)\n",
    "    g.val_accuracy[:, 0].mean(\"fold\").plot.line(x=\"epoch\", label=name, ax=ax, linestyle=\"--\", color=\"k\")\n",
    "plt.legend()"
   ]
  },
  {
   "cell_type": "markdown",
   "metadata": {},
   "source": [
    "## Robustness Curve"
   ]
  },
  {
   "cell_type": "code",
   "execution_count": 14,
   "metadata": {},
   "outputs": [],
   "source": [
    "from rai_toolbox.mushin import load_from_checkpoint\n",
    "def load_model_from_experiment(exp_dir: Union[Path, str]):\n",
    "    exp_dir = Path(exp_dir)\n",
    "    exp_cfg = exp_dir / \".hydra/config.yaml\"\n",
    "    assert exp_cfg.exists()\n",
    "    exp_cfg = load_from_yaml(exp_cfg)\n",
    "    model = instantiate(exp_cfg.model)\n",
    "\n",
    "    # get path to model checkpoint in experiment directory\n",
    "    # and load to model\n",
    "    ckpts = list(exp_dir.glob(\"**/*.ckpt\"))\n",
    "    assert len(ckpts) == 1\n",
    "    ckpt = ckpts[0]\n",
    "    load_from_checkpoint(\n",
    "        model,\n",
    "        ckpt=ckpt,\n",
    "        weights_key=\"state_dict\",\n",
    "        weights_key_strip=\"model.\",\n",
    "    )\n",
    "\n",
    "    return model\n",
    "\n",
    "TestConfig = make_config(\n",
    "    defaults = [\n",
    "        \"_self_\",\n",
    "        {\"optimizer\": \"l2pgd\"},\n",
    "    ],\n",
    "    data_dir = \"${oc.env:HOME}/.torch/data\",\n",
    "    exp_dir=MISSING,\n",
    "    trainer=TrainerCfg,\n",
    "    module=EvalPLModule,\n",
    "    model=builds(load_model_from_experiment, exp_dir=\"${exp_dir}\"),\n",
    "    perturber=Perturber,\n",
    "    optimizer=MISSING,\n",
    "    epsilon=0.0,\n",
    "    steps=10,\n",
    ")"
   ]
  },
  {
   "cell_type": "code",
   "execution_count": 15,
   "metadata": {},
   "outputs": [],
   "source": [
    "class ExperimentRobustnessCurve(RobustnessCurve):\n",
    "    @staticmethod\n",
    "    def evaluation_task(trainer: Trainer, module: LightningModule):\n",
    "        trainer.test(module)\n",
    "        return tr.load(\"test_metrics.pt\")\n",
    "\n",
    "    def _load_exp_overrides(self, working_dir: Union[str, Path], config_dir: str = \".hydra\"):\n",
    "        ################################################\n",
    "        # Load multirun values from experiment directory\n",
    "        ################################################\n",
    "        multirun_cfg = Path(working_dir) / \"multirun.yaml\"\n",
    "        assert (\n",
    "            multirun_cfg.exists()\n",
    "        ), \"Working directory does not contain `multirun.yaml` file.  Be sure to use the value of the Hydra sweep directory for the workflow\"\n",
    "\n",
    "        self._exp_multirun_task_overrides = defaultdict(list)\n",
    "        overrides = load_from_yaml(multirun_cfg).hydra.overrides.task\n",
    "        for o in overrides:\n",
    "            k, v = o.split(\"=\")\n",
    "            if k == \"exp_dir\":\n",
    "                dirs = v.split(\",\")\n",
    "                for dir in dirs:\n",
    "                    overrides = load_from_yaml(\n",
    "                        Path(dir) / f\"{config_dir}/overrides.yaml\"\n",
    "                    )\n",
    "                    output = self._parse_overrides(overrides)\n",
    "\n",
    "                    for ko, vo in output.items():\n",
    "                        self._exp_multirun_task_overrides[ko].append(vo)\n",
    "\n",
    "\n",
    "                break\n",
    "\n",
    "        return self\n",
    "\n",
    "    def jobs_post_process(self):\n",
    "        super().jobs_post_process()\n",
    "        self._load_exp_overrides(self.working_dir)\n",
    "\n",
    "    def load_from_dir(self,\n",
    "        working_dir: Union[Path, str],\n",
    "        config_dir: str = \".hydra\",\n",
    "        metrics_filename: str = \"test_metrics.pt\",\n",
    "    ) -> \"ExperimentRobustnessCurve\":\n",
    "        super().load_from_dir(working_dir=working_dir, config_dir=config_dir, metrics_filename=metrics_filename)\n",
    "        self._load_exp_overrides(working_dir=working_dir, config_dir=config_dir)\n",
    "        return self\n",
    "\n",
    "    def to_xarray(self, non_multirun_params_as_singleton_dims: bool = False):\n",
    "        xdata = super().to_xarray(non_multirun_params_as_singleton_dims=non_multirun_params_as_singleton_dims)\n",
    "\n",
    "        ##################################\n",
    "        # Add multirun coordinates to data\n",
    "        ##################################\n",
    "        exp_dir = xdata.coords[\"exp_dir\"]\n",
    "        coords = {}\n",
    "        for k, v in self._exp_multirun_task_overrides.items():\n",
    "            if len(v) == len(exp_dir):\n",
    "                uv = list(set(np.unique(v)))\n",
    "                if len(uv) > 1 or non_multirun_params_as_singleton_dims:\n",
    "                    coords[k] = ([\"exp_dir\"], v)\n",
    "\n",
    "        return xdata.assign_coords(coords)"
   ]
  },
  {
   "cell_type": "code",
   "execution_count": 16,
   "metadata": {},
   "outputs": [
    {
     "data": {
      "text/plain": [
       "[PosixPath('/home/justin_goodwin/projects/raiden/rai_toolbox/docs/source/tutorials/outputs/cross_validation/0'),\n",
       " PosixPath('/home/justin_goodwin/projects/raiden/rai_toolbox/docs/source/tutorials/outputs/cross_validation/1'),\n",
       " PosixPath('/home/justin_goodwin/projects/raiden/rai_toolbox/docs/source/tutorials/outputs/cross_validation/2'),\n",
       " PosixPath('/home/justin_goodwin/projects/raiden/rai_toolbox/docs/source/tutorials/outputs/cross_validation/3')]"
      ]
     },
     "execution_count": 16,
     "metadata": {},
     "output_type": "execute_result"
    }
   ],
   "source": [
    "exp_dir = [m.parent for m in kfold_task.working_dir.absolute().glob(\"**/fit_metrics.pt\")]\n",
    "exp_dir"
   ]
  },
  {
   "cell_type": "code",
   "execution_count": 17,
   "metadata": {},
   "outputs": [
    {
     "name": "stdout",
     "output_type": "stream",
     "text": [
      "[2022-05-11 13:04:02,098][HYDRA] Launching 12 jobs locally\n",
      "[2022-05-11 13:04:02,099][HYDRA] \t#0 : exp_dir=/home/justin_goodwin/projects/raiden/rai_toolbox/docs/source/tutorials/outputs/cross_validation/0 epsilon=0\n"
     ]
    },
    {
     "name": "stderr",
     "output_type": "stream",
     "text": [
      "GPU available: True, used: True\n",
      "TPU available: False, using: 0 TPU cores\n",
      "IPU available: False, using: 0 IPUs\n",
      "HPU available: False, using: 0 HPUs\n"
     ]
    },
    {
     "name": "stdout",
     "output_type": "stream",
     "text": [
      "[2022-05-11 13:04:02,281][rai_toolbox.mushin._utils][INFO] - Loading model checkpoint from /home/justin_goodwin/projects/raiden/rai_toolbox/docs/source/tutorials/outputs/cross_validation/0/lightning_logs/version_0/checkpoints/epoch=9-step=3000.ckpt\n"
     ]
    },
    {
     "name": "stderr",
     "output_type": "stream",
     "text": [
      "Missing logger folder: /home/justin_goodwin/projects/raiden/rai_toolbox/docs/source/tutorials/outputs/robustness_curves/0/lightning_logs\n",
      "LOCAL_RANK: 0 - CUDA_VISIBLE_DEVICES: [0,1]\n"
     ]
    },
    {
     "data": {
      "application/vnd.jupyter.widget-view+json": {
       "model_id": "64b5681a6a454f02acdab5b073097a78",
       "version_major": 2,
       "version_minor": 0
      },
      "text/plain": [
       "Testing: 0it [00:00, ?it/s]"
      ]
     },
     "metadata": {},
     "output_type": "display_data"
    },
    {
     "name": "stdout",
     "output_type": "stream",
     "text": [
      "────────────────────────────────────────────────────────────────────────────────────────────────────────────────────────\n",
      "       Test metric             DataLoader 0\n",
      "────────────────────────────────────────────────────────────────────────────────────────────────────────────────────────\n",
      "      test_accuracy         0.9611999988555908\n",
      "  test_adversarial_loss      0.129347562789917\n",
      "   test_clean_accuracy      0.9611999988555908\n",
      "        test_loss           0.12934757769107819\n",
      "────────────────────────────────────────────────────────────────────────────────────────────────────────────────────────\n",
      "[2022-05-11 13:04:04,460][HYDRA] \t#1 : exp_dir=/home/justin_goodwin/projects/raiden/rai_toolbox/docs/source/tutorials/outputs/cross_validation/0 epsilon=1\n"
     ]
    },
    {
     "name": "stderr",
     "output_type": "stream",
     "text": [
      "GPU available: True, used: True\n",
      "TPU available: False, using: 0 TPU cores\n",
      "IPU available: False, using: 0 IPUs\n",
      "HPU available: False, using: 0 HPUs\n"
     ]
    },
    {
     "name": "stdout",
     "output_type": "stream",
     "text": [
      "[2022-05-11 13:04:04,681][rai_toolbox.mushin._utils][INFO] - Loading model checkpoint from /home/justin_goodwin/projects/raiden/rai_toolbox/docs/source/tutorials/outputs/cross_validation/0/lightning_logs/version_0/checkpoints/epoch=9-step=3000.ckpt\n"
     ]
    },
    {
     "name": "stderr",
     "output_type": "stream",
     "text": [
      "Missing logger folder: /home/justin_goodwin/projects/raiden/rai_toolbox/docs/source/tutorials/outputs/robustness_curves/1/lightning_logs\n",
      "LOCAL_RANK: 0 - CUDA_VISIBLE_DEVICES: [0,1]\n"
     ]
    },
    {
     "data": {
      "application/vnd.jupyter.widget-view+json": {
       "model_id": "1e8eacbdf3b44ee19509b30315b03c4c",
       "version_major": 2,
       "version_minor": 0
      },
      "text/plain": [
       "Testing: 0it [00:00, ?it/s]"
      ]
     },
     "metadata": {},
     "output_type": "display_data"
    },
    {
     "name": "stdout",
     "output_type": "stream",
     "text": [
      "────────────────────────────────────────────────────────────────────────────────────────────────────────────────────────\n",
      "       Test metric             DataLoader 0\n",
      "────────────────────────────────────────────────────────────────────────────────────────────────────────────────────────\n",
      "      test_accuracy         0.25940001010894775\n",
      "  test_adversarial_loss      3.049077033996582\n",
      "   test_clean_accuracy      0.9611999988555908\n",
      "        test_loss            3.049077033996582\n",
      "────────────────────────────────────────────────────────────────────────────────────────────────────────────────────────\n",
      "[2022-05-11 13:04:06,545][HYDRA] \t#2 : exp_dir=/home/justin_goodwin/projects/raiden/rai_toolbox/docs/source/tutorials/outputs/cross_validation/0 epsilon=2\n"
     ]
    },
    {
     "name": "stderr",
     "output_type": "stream",
     "text": [
      "GPU available: True, used: True\n",
      "TPU available: False, using: 0 TPU cores\n",
      "IPU available: False, using: 0 IPUs\n",
      "HPU available: False, using: 0 HPUs\n"
     ]
    },
    {
     "name": "stdout",
     "output_type": "stream",
     "text": [
      "[2022-05-11 13:04:06,812][rai_toolbox.mushin._utils][INFO] - Loading model checkpoint from /home/justin_goodwin/projects/raiden/rai_toolbox/docs/source/tutorials/outputs/cross_validation/0/lightning_logs/version_0/checkpoints/epoch=9-step=3000.ckpt\n"
     ]
    },
    {
     "name": "stderr",
     "output_type": "stream",
     "text": [
      "Missing logger folder: /home/justin_goodwin/projects/raiden/rai_toolbox/docs/source/tutorials/outputs/robustness_curves/2/lightning_logs\n",
      "LOCAL_RANK: 0 - CUDA_VISIBLE_DEVICES: [0,1]\n"
     ]
    },
    {
     "data": {
      "application/vnd.jupyter.widget-view+json": {
       "model_id": "76f1e0ee45da4ef182bd5df4a9a02ec3",
       "version_major": 2,
       "version_minor": 0
      },
      "text/plain": [
       "Testing: 0it [00:00, ?it/s]"
      ]
     },
     "metadata": {},
     "output_type": "display_data"
    },
    {
     "name": "stdout",
     "output_type": "stream",
     "text": [
      "────────────────────────────────────────────────────────────────────────────────────────────────────────────────────────\n",
      "       Test metric             DataLoader 0\n",
      "────────────────────────────────────────────────────────────────────────────────────────────────────────────────────────\n",
      "      test_accuracy        0.009700000286102295\n",
      "  test_adversarial_loss     10.127716064453125\n",
      "   test_clean_accuracy      0.9611999988555908\n",
      "        test_loss           10.127716064453125\n",
      "────────────────────────────────────────────────────────────────────────────────────────────────────────────────────────\n",
      "[2022-05-11 13:04:08,712][HYDRA] \t#3 : exp_dir=/home/justin_goodwin/projects/raiden/rai_toolbox/docs/source/tutorials/outputs/cross_validation/1 epsilon=0\n"
     ]
    },
    {
     "name": "stderr",
     "output_type": "stream",
     "text": [
      "GPU available: True, used: True\n",
      "TPU available: False, using: 0 TPU cores\n",
      "IPU available: False, using: 0 IPUs\n",
      "HPU available: False, using: 0 HPUs\n"
     ]
    },
    {
     "name": "stdout",
     "output_type": "stream",
     "text": [
      "[2022-05-11 13:04:08,910][rai_toolbox.mushin._utils][INFO] - Loading model checkpoint from /home/justin_goodwin/projects/raiden/rai_toolbox/docs/source/tutorials/outputs/cross_validation/1/lightning_logs/version_0/checkpoints/epoch=9-step=3000.ckpt\n"
     ]
    },
    {
     "name": "stderr",
     "output_type": "stream",
     "text": [
      "Missing logger folder: /home/justin_goodwin/projects/raiden/rai_toolbox/docs/source/tutorials/outputs/robustness_curves/3/lightning_logs\n",
      "LOCAL_RANK: 0 - CUDA_VISIBLE_DEVICES: [0,1]\n"
     ]
    },
    {
     "data": {
      "application/vnd.jupyter.widget-view+json": {
       "model_id": "f31d8dad6b7746f6b8b41470757460ff",
       "version_major": 2,
       "version_minor": 0
      },
      "text/plain": [
       "Testing: 0it [00:00, ?it/s]"
      ]
     },
     "metadata": {},
     "output_type": "display_data"
    },
    {
     "name": "stdout",
     "output_type": "stream",
     "text": [
      "────────────────────────────────────────────────────────────────────────────────────────────────────────────────────────\n",
      "       Test metric             DataLoader 0\n",
      "────────────────────────────────────────────────────────────────────────────────────────────────────────────────────────\n",
      "      test_accuracy         0.9876000285148621\n",
      "  test_adversarial_loss     0.03701438754796982\n",
      "   test_clean_accuracy      0.9876000285148621\n",
      "        test_loss           0.03701438754796982\n",
      "────────────────────────────────────────────────────────────────────────────────────────────────────────────────────────\n",
      "[2022-05-11 13:04:11,366][HYDRA] \t#4 : exp_dir=/home/justin_goodwin/projects/raiden/rai_toolbox/docs/source/tutorials/outputs/cross_validation/1 epsilon=1\n"
     ]
    },
    {
     "name": "stderr",
     "output_type": "stream",
     "text": [
      "GPU available: True, used: True\n",
      "TPU available: False, using: 0 TPU cores\n",
      "IPU available: False, using: 0 IPUs\n",
      "HPU available: False, using: 0 HPUs\n"
     ]
    },
    {
     "name": "stdout",
     "output_type": "stream",
     "text": [
      "[2022-05-11 13:04:11,553][rai_toolbox.mushin._utils][INFO] - Loading model checkpoint from /home/justin_goodwin/projects/raiden/rai_toolbox/docs/source/tutorials/outputs/cross_validation/1/lightning_logs/version_0/checkpoints/epoch=9-step=3000.ckpt\n"
     ]
    },
    {
     "name": "stderr",
     "output_type": "stream",
     "text": [
      "Missing logger folder: /home/justin_goodwin/projects/raiden/rai_toolbox/docs/source/tutorials/outputs/robustness_curves/4/lightning_logs\n",
      "LOCAL_RANK: 0 - CUDA_VISIBLE_DEVICES: [0,1]\n"
     ]
    },
    {
     "data": {
      "application/vnd.jupyter.widget-view+json": {
       "model_id": "00cfc6a9c95c48d0b03792b270918c50",
       "version_major": 2,
       "version_minor": 0
      },
      "text/plain": [
       "Testing: 0it [00:00, ?it/s]"
      ]
     },
     "metadata": {},
     "output_type": "display_data"
    },
    {
     "name": "stdout",
     "output_type": "stream",
     "text": [
      "────────────────────────────────────────────────────────────────────────────────────────────────────────────────────────\n",
      "       Test metric             DataLoader 0\n",
      "────────────────────────────────────────────────────────────────────────────────────────────────────────────────────────\n",
      "      test_accuracy         0.20589999854564667\n",
      "  test_adversarial_loss     3.6058425903320312\n",
      "   test_clean_accuracy      0.9876000285148621\n",
      "        test_loss           3.6058430671691895\n",
      "────────────────────────────────────────────────────────────────────────────────────────────────────────────────────────\n",
      "[2022-05-11 13:04:14,404][HYDRA] \t#5 : exp_dir=/home/justin_goodwin/projects/raiden/rai_toolbox/docs/source/tutorials/outputs/cross_validation/1 epsilon=2\n"
     ]
    },
    {
     "name": "stderr",
     "output_type": "stream",
     "text": [
      "GPU available: True, used: True\n",
      "TPU available: False, using: 0 TPU cores\n",
      "IPU available: False, using: 0 IPUs\n",
      "HPU available: False, using: 0 HPUs\n"
     ]
    },
    {
     "name": "stdout",
     "output_type": "stream",
     "text": [
      "[2022-05-11 13:04:14,626][rai_toolbox.mushin._utils][INFO] - Loading model checkpoint from /home/justin_goodwin/projects/raiden/rai_toolbox/docs/source/tutorials/outputs/cross_validation/1/lightning_logs/version_0/checkpoints/epoch=9-step=3000.ckpt\n"
     ]
    },
    {
     "name": "stderr",
     "output_type": "stream",
     "text": [
      "Missing logger folder: /home/justin_goodwin/projects/raiden/rai_toolbox/docs/source/tutorials/outputs/robustness_curves/5/lightning_logs\n",
      "LOCAL_RANK: 0 - CUDA_VISIBLE_DEVICES: [0,1]\n"
     ]
    },
    {
     "data": {
      "application/vnd.jupyter.widget-view+json": {
       "model_id": "8e8a1ce75cac4d9eae006d82fb675b3b",
       "version_major": 2,
       "version_minor": 0
      },
      "text/plain": [
       "Testing: 0it [00:00, ?it/s]"
      ]
     },
     "metadata": {},
     "output_type": "display_data"
    },
    {
     "name": "stdout",
     "output_type": "stream",
     "text": [
      "────────────────────────────────────────────────────────────────────────────────────────────────────────────────────────\n",
      "       Test metric             DataLoader 0\n",
      "────────────────────────────────────────────────────────────────────────────────────────────────────────────────────────\n",
      "      test_accuracy                 0.0\n",
      "  test_adversarial_loss     14.294275283813477\n",
      "   test_clean_accuracy      0.9876000285148621\n",
      "        test_loss           14.294275283813477\n",
      "────────────────────────────────────────────────────────────────────────────────────────────────────────────────────────\n",
      "[2022-05-11 13:04:17,301][HYDRA] \t#6 : exp_dir=/home/justin_goodwin/projects/raiden/rai_toolbox/docs/source/tutorials/outputs/cross_validation/2 epsilon=0\n"
     ]
    },
    {
     "name": "stderr",
     "output_type": "stream",
     "text": [
      "GPU available: True, used: True\n",
      "TPU available: False, using: 0 TPU cores\n",
      "IPU available: False, using: 0 IPUs\n",
      "HPU available: False, using: 0 HPUs\n"
     ]
    },
    {
     "name": "stdout",
     "output_type": "stream",
     "text": [
      "[2022-05-11 13:04:17,486][rai_toolbox.mushin._utils][INFO] - Loading model checkpoint from /home/justin_goodwin/projects/raiden/rai_toolbox/docs/source/tutorials/outputs/cross_validation/2/lightning_logs/version_0/checkpoints/epoch=9-step=3000.ckpt\n"
     ]
    },
    {
     "name": "stderr",
     "output_type": "stream",
     "text": [
      "Missing logger folder: /home/justin_goodwin/projects/raiden/rai_toolbox/docs/source/tutorials/outputs/robustness_curves/6/lightning_logs\n",
      "LOCAL_RANK: 0 - CUDA_VISIBLE_DEVICES: [0,1]\n"
     ]
    },
    {
     "data": {
      "application/vnd.jupyter.widget-view+json": {
       "model_id": "0a62b28028df4bcf931dd9721f3a59f2",
       "version_major": 2,
       "version_minor": 0
      },
      "text/plain": [
       "Testing: 0it [00:00, ?it/s]"
      ]
     },
     "metadata": {},
     "output_type": "display_data"
    },
    {
     "name": "stdout",
     "output_type": "stream",
     "text": [
      "────────────────────────────────────────────────────────────────────────────────────────────────────────────────────────\n",
      "       Test metric             DataLoader 0\n",
      "────────────────────────────────────────────────────────────────────────────────────────────────────────────────────────\n",
      "      test_accuracy          0.953499972820282\n",
      "  test_adversarial_loss     0.15187175571918488\n",
      "   test_clean_accuracy       0.953499972820282\n",
      "        test_loss           0.15187174081802368\n",
      "────────────────────────────────────────────────────────────────────────────────────────────────────────────────────────\n",
      "[2022-05-11 13:04:19,473][HYDRA] \t#7 : exp_dir=/home/justin_goodwin/projects/raiden/rai_toolbox/docs/source/tutorials/outputs/cross_validation/2 epsilon=1\n"
     ]
    },
    {
     "name": "stderr",
     "output_type": "stream",
     "text": [
      "GPU available: True, used: True\n",
      "TPU available: False, using: 0 TPU cores\n",
      "IPU available: False, using: 0 IPUs\n",
      "HPU available: False, using: 0 HPUs\n"
     ]
    },
    {
     "name": "stdout",
     "output_type": "stream",
     "text": [
      "[2022-05-11 13:04:19,709][rai_toolbox.mushin._utils][INFO] - Loading model checkpoint from /home/justin_goodwin/projects/raiden/rai_toolbox/docs/source/tutorials/outputs/cross_validation/2/lightning_logs/version_0/checkpoints/epoch=9-step=3000.ckpt\n"
     ]
    },
    {
     "name": "stderr",
     "output_type": "stream",
     "text": [
      "Missing logger folder: /home/justin_goodwin/projects/raiden/rai_toolbox/docs/source/tutorials/outputs/robustness_curves/7/lightning_logs\n",
      "LOCAL_RANK: 0 - CUDA_VISIBLE_DEVICES: [0,1]\n"
     ]
    },
    {
     "data": {
      "application/vnd.jupyter.widget-view+json": {
       "model_id": "5e46f33d4a244f31a10c14f767085c7e",
       "version_major": 2,
       "version_minor": 0
      },
      "text/plain": [
       "Testing: 0it [00:00, ?it/s]"
      ]
     },
     "metadata": {},
     "output_type": "display_data"
    },
    {
     "name": "stdout",
     "output_type": "stream",
     "text": [
      "────────────────────────────────────────────────────────────────────────────────────────────────────────────────────────\n",
      "       Test metric             DataLoader 0\n",
      "────────────────────────────────────────────────────────────────────────────────────────────────────────────────────────\n",
      "      test_accuracy         0.20759999752044678\n",
      "  test_adversarial_loss     3.3496930599212646\n",
      "   test_clean_accuracy       0.953499972820282\n",
      "        test_loss           3.3496930599212646\n",
      "────────────────────────────────────────────────────────────────────────────────────────────────────────────────────────\n",
      "[2022-05-11 13:04:21,583][HYDRA] \t#8 : exp_dir=/home/justin_goodwin/projects/raiden/rai_toolbox/docs/source/tutorials/outputs/cross_validation/2 epsilon=2\n"
     ]
    },
    {
     "name": "stderr",
     "output_type": "stream",
     "text": [
      "GPU available: True, used: True\n",
      "TPU available: False, using: 0 TPU cores\n",
      "IPU available: False, using: 0 IPUs\n",
      "HPU available: False, using: 0 HPUs\n"
     ]
    },
    {
     "name": "stdout",
     "output_type": "stream",
     "text": [
      "[2022-05-11 13:04:21,824][rai_toolbox.mushin._utils][INFO] - Loading model checkpoint from /home/justin_goodwin/projects/raiden/rai_toolbox/docs/source/tutorials/outputs/cross_validation/2/lightning_logs/version_0/checkpoints/epoch=9-step=3000.ckpt\n"
     ]
    },
    {
     "name": "stderr",
     "output_type": "stream",
     "text": [
      "Missing logger folder: /home/justin_goodwin/projects/raiden/rai_toolbox/docs/source/tutorials/outputs/robustness_curves/8/lightning_logs\n",
      "LOCAL_RANK: 0 - CUDA_VISIBLE_DEVICES: [0,1]\n"
     ]
    },
    {
     "data": {
      "application/vnd.jupyter.widget-view+json": {
       "model_id": "ad2a5ebc1685447e9e4483ff1f1abe74",
       "version_major": 2,
       "version_minor": 0
      },
      "text/plain": [
       "Testing: 0it [00:00, ?it/s]"
      ]
     },
     "metadata": {},
     "output_type": "display_data"
    },
    {
     "name": "stdout",
     "output_type": "stream",
     "text": [
      "────────────────────────────────────────────────────────────────────────────────────────────────────────────────────────\n",
      "       Test metric             DataLoader 0\n",
      "────────────────────────────────────────────────────────────────────────────────────────────────────────────────────────\n",
      "      test_accuracy        0.009499999694526196\n",
      "  test_adversarial_loss     10.279022216796875\n",
      "   test_clean_accuracy       0.953499972820282\n",
      "        test_loss           10.279022216796875\n",
      "────────────────────────────────────────────────────────────────────────────────────────────────────────────────────────\n",
      "[2022-05-11 13:04:23,848][HYDRA] \t#9 : exp_dir=/home/justin_goodwin/projects/raiden/rai_toolbox/docs/source/tutorials/outputs/cross_validation/3 epsilon=0\n"
     ]
    },
    {
     "name": "stderr",
     "output_type": "stream",
     "text": [
      "GPU available: True, used: True\n",
      "TPU available: False, using: 0 TPU cores\n",
      "IPU available: False, using: 0 IPUs\n",
      "HPU available: False, using: 0 HPUs\n"
     ]
    },
    {
     "name": "stdout",
     "output_type": "stream",
     "text": [
      "[2022-05-11 13:04:24,069][rai_toolbox.mushin._utils][INFO] - Loading model checkpoint from /home/justin_goodwin/projects/raiden/rai_toolbox/docs/source/tutorials/outputs/cross_validation/3/lightning_logs/version_0/checkpoints/epoch=9-step=3000.ckpt\n"
     ]
    },
    {
     "name": "stderr",
     "output_type": "stream",
     "text": [
      "Missing logger folder: /home/justin_goodwin/projects/raiden/rai_toolbox/docs/source/tutorials/outputs/robustness_curves/9/lightning_logs\n",
      "LOCAL_RANK: 0 - CUDA_VISIBLE_DEVICES: [0,1]\n"
     ]
    },
    {
     "data": {
      "application/vnd.jupyter.widget-view+json": {
       "model_id": "71da9835dbc341f1904367e660c3be0d",
       "version_major": 2,
       "version_minor": 0
      },
      "text/plain": [
       "Testing: 0it [00:00, ?it/s]"
      ]
     },
     "metadata": {},
     "output_type": "display_data"
    },
    {
     "name": "stdout",
     "output_type": "stream",
     "text": [
      "────────────────────────────────────────────────────────────────────────────────────────────────────────────────────────\n",
      "       Test metric             DataLoader 0\n",
      "────────────────────────────────────────────────────────────────────────────────────────────────────────────────────────\n",
      "      test_accuracy         0.9796000123023987\n",
      "  test_adversarial_loss     0.05958341062068939\n",
      "   test_clean_accuracy      0.9796000123023987\n",
      "        test_loss           0.05958341062068939\n",
      "────────────────────────────────────────────────────────────────────────────────────────────────────────────────────────\n",
      "[2022-05-11 13:04:26,866][HYDRA] \t#10 : exp_dir=/home/justin_goodwin/projects/raiden/rai_toolbox/docs/source/tutorials/outputs/cross_validation/3 epsilon=1\n"
     ]
    },
    {
     "name": "stderr",
     "output_type": "stream",
     "text": [
      "GPU available: True, used: True\n",
      "TPU available: False, using: 0 TPU cores\n",
      "IPU available: False, using: 0 IPUs\n",
      "HPU available: False, using: 0 HPUs\n"
     ]
    },
    {
     "name": "stdout",
     "output_type": "stream",
     "text": [
      "[2022-05-11 13:04:27,017][rai_toolbox.mushin._utils][INFO] - Loading model checkpoint from /home/justin_goodwin/projects/raiden/rai_toolbox/docs/source/tutorials/outputs/cross_validation/3/lightning_logs/version_0/checkpoints/epoch=9-step=3000.ckpt\n"
     ]
    },
    {
     "name": "stderr",
     "output_type": "stream",
     "text": [
      "Missing logger folder: /home/justin_goodwin/projects/raiden/rai_toolbox/docs/source/tutorials/outputs/robustness_curves/10/lightning_logs\n",
      "LOCAL_RANK: 0 - CUDA_VISIBLE_DEVICES: [0,1]\n"
     ]
    },
    {
     "data": {
      "application/vnd.jupyter.widget-view+json": {
       "model_id": "6952b3e61b2243dbb3acfeea361494ce",
       "version_major": 2,
       "version_minor": 0
      },
      "text/plain": [
       "Testing: 0it [00:00, ?it/s]"
      ]
     },
     "metadata": {},
     "output_type": "display_data"
    },
    {
     "name": "stdout",
     "output_type": "stream",
     "text": [
      "────────────────────────────────────────────────────────────────────────────────────────────────────────────────────────\n",
      "       Test metric             DataLoader 0\n",
      "────────────────────────────────────────────────────────────────────────────────────────────────────────────────────────\n",
      "      test_accuracy         0.1200999990105629\n",
      "  test_adversarial_loss      5.033505916595459\n",
      "   test_clean_accuracy      0.9796000123023987\n",
      "        test_loss            5.033504962921143\n",
      "────────────────────────────────────────────────────────────────────────────────────────────────────────────────────────\n",
      "[2022-05-11 13:04:29,527][HYDRA] \t#11 : exp_dir=/home/justin_goodwin/projects/raiden/rai_toolbox/docs/source/tutorials/outputs/cross_validation/3 epsilon=2\n"
     ]
    },
    {
     "name": "stderr",
     "output_type": "stream",
     "text": [
      "GPU available: True, used: True\n",
      "TPU available: False, using: 0 TPU cores\n",
      "IPU available: False, using: 0 IPUs\n",
      "HPU available: False, using: 0 HPUs\n"
     ]
    },
    {
     "name": "stdout",
     "output_type": "stream",
     "text": [
      "[2022-05-11 13:04:29,760][rai_toolbox.mushin._utils][INFO] - Loading model checkpoint from /home/justin_goodwin/projects/raiden/rai_toolbox/docs/source/tutorials/outputs/cross_validation/3/lightning_logs/version_0/checkpoints/epoch=9-step=3000.ckpt\n"
     ]
    },
    {
     "name": "stderr",
     "output_type": "stream",
     "text": [
      "Missing logger folder: /home/justin_goodwin/projects/raiden/rai_toolbox/docs/source/tutorials/outputs/robustness_curves/11/lightning_logs\n",
      "LOCAL_RANK: 0 - CUDA_VISIBLE_DEVICES: [0,1]\n"
     ]
    },
    {
     "data": {
      "application/vnd.jupyter.widget-view+json": {
       "model_id": "684e745862324f1f8df4d940707898eb",
       "version_major": 2,
       "version_minor": 0
      },
      "text/plain": [
       "Testing: 0it [00:00, ?it/s]"
      ]
     },
     "metadata": {},
     "output_type": "display_data"
    },
    {
     "name": "stdout",
     "output_type": "stream",
     "text": [
      "────────────────────────────────────────────────────────────────────────────────────────────────────────────────────────\n",
      "       Test metric             DataLoader 0\n",
      "────────────────────────────────────────────────────────────────────────────────────────────────────────────────────────\n",
      "      test_accuracy       0.00019999999494757503\n",
      "  test_adversarial_loss     17.071868896484375\n",
      "   test_clean_accuracy      0.9796000123023987\n",
      "        test_loss           17.071868896484375\n",
      "────────────────────────────────────────────────────────────────────────────────────────────────────────────────────────\n"
     ]
    }
   ],
   "source": [
    "robustness_curve_task = ExperimentRobustnessCurve(TestConfig)\n",
    "robustness_curve_task.run(epsilon=[0,1,2], exp_dir=multirun(exp_dir), overrides=[\"hydra.sweep.dir=outputs/robustness_curves\"])\n",
    "\n",
    "## You can load an old experiment\n",
    "# robustness_curve_task = ExperimentRobustnessCurve().load_from_dir(\"multirun/2022-05-11/12-31-52\")"
   ]
  },
  {
   "cell_type": "code",
   "execution_count": 18,
   "metadata": {},
   "outputs": [
    {
     "data": {
      "text/plain": [
       "PosixPath('outputs/robustness_curves')"
      ]
     },
     "execution_count": 18,
     "metadata": {},
     "output_type": "execute_result"
    }
   ],
   "source": [
    "robustness_curve_task.working_dir"
   ]
  },
  {
   "cell_type": "code",
   "execution_count": 19,
   "metadata": {},
   "outputs": [
    {
     "data": {
      "text/html": [
       "<div><svg style=\"position: absolute; width: 0; height: 0; overflow: hidden\">\n",
       "<defs>\n",
       "<symbol id=\"icon-database\" viewBox=\"0 0 32 32\">\n",
       "<path d=\"M16 0c-8.837 0-16 2.239-16 5v4c0 2.761 7.163 5 16 5s16-2.239 16-5v-4c0-2.761-7.163-5-16-5z\"></path>\n",
       "<path d=\"M16 17c-8.837 0-16-2.239-16-5v6c0 2.761 7.163 5 16 5s16-2.239 16-5v-6c0 2.761-7.163 5-16 5z\"></path>\n",
       "<path d=\"M16 26c-8.837 0-16-2.239-16-5v6c0 2.761 7.163 5 16 5s16-2.239 16-5v-6c0 2.761-7.163 5-16 5z\"></path>\n",
       "</symbol>\n",
       "<symbol id=\"icon-file-text2\" viewBox=\"0 0 32 32\">\n",
       "<path d=\"M28.681 7.159c-0.694-0.947-1.662-2.053-2.724-3.116s-2.169-2.030-3.116-2.724c-1.612-1.182-2.393-1.319-2.841-1.319h-15.5c-1.378 0-2.5 1.121-2.5 2.5v27c0 1.378 1.122 2.5 2.5 2.5h23c1.378 0 2.5-1.122 2.5-2.5v-19.5c0-0.448-0.137-1.23-1.319-2.841zM24.543 5.457c0.959 0.959 1.712 1.825 2.268 2.543h-4.811v-4.811c0.718 0.556 1.584 1.309 2.543 2.268zM28 29.5c0 0.271-0.229 0.5-0.5 0.5h-23c-0.271 0-0.5-0.229-0.5-0.5v-27c0-0.271 0.229-0.5 0.5-0.5 0 0 15.499-0 15.5 0v7c0 0.552 0.448 1 1 1h7v19.5z\"></path>\n",
       "<path d=\"M23 26h-14c-0.552 0-1-0.448-1-1s0.448-1 1-1h14c0.552 0 1 0.448 1 1s-0.448 1-1 1z\"></path>\n",
       "<path d=\"M23 22h-14c-0.552 0-1-0.448-1-1s0.448-1 1-1h14c0.552 0 1 0.448 1 1s-0.448 1-1 1z\"></path>\n",
       "<path d=\"M23 18h-14c-0.552 0-1-0.448-1-1s0.448-1 1-1h14c0.552 0 1 0.448 1 1s-0.448 1-1 1z\"></path>\n",
       "</symbol>\n",
       "</defs>\n",
       "</svg>\n",
       "<style>/* CSS stylesheet for displaying xarray objects in jupyterlab.\n",
       " *\n",
       " */\n",
       "\n",
       ":root {\n",
       "  --xr-font-color0: var(--jp-content-font-color0, rgba(0, 0, 0, 1));\n",
       "  --xr-font-color2: var(--jp-content-font-color2, rgba(0, 0, 0, 0.54));\n",
       "  --xr-font-color3: var(--jp-content-font-color3, rgba(0, 0, 0, 0.38));\n",
       "  --xr-border-color: var(--jp-border-color2, #e0e0e0);\n",
       "  --xr-disabled-color: var(--jp-layout-color3, #bdbdbd);\n",
       "  --xr-background-color: var(--jp-layout-color0, white);\n",
       "  --xr-background-color-row-even: var(--jp-layout-color1, white);\n",
       "  --xr-background-color-row-odd: var(--jp-layout-color2, #eeeeee);\n",
       "}\n",
       "\n",
       "html[theme=dark],\n",
       "body.vscode-dark {\n",
       "  --xr-font-color0: rgba(255, 255, 255, 1);\n",
       "  --xr-font-color2: rgba(255, 255, 255, 0.54);\n",
       "  --xr-font-color3: rgba(255, 255, 255, 0.38);\n",
       "  --xr-border-color: #1F1F1F;\n",
       "  --xr-disabled-color: #515151;\n",
       "  --xr-background-color: #111111;\n",
       "  --xr-background-color-row-even: #111111;\n",
       "  --xr-background-color-row-odd: #313131;\n",
       "}\n",
       "\n",
       ".xr-wrap {\n",
       "  display: block !important;\n",
       "  min-width: 300px;\n",
       "  max-width: 700px;\n",
       "}\n",
       "\n",
       ".xr-text-repr-fallback {\n",
       "  /* fallback to plain text repr when CSS is not injected (untrusted notebook) */\n",
       "  display: none;\n",
       "}\n",
       "\n",
       ".xr-header {\n",
       "  padding-top: 6px;\n",
       "  padding-bottom: 6px;\n",
       "  margin-bottom: 4px;\n",
       "  border-bottom: solid 1px var(--xr-border-color);\n",
       "}\n",
       "\n",
       ".xr-header > div,\n",
       ".xr-header > ul {\n",
       "  display: inline;\n",
       "  margin-top: 0;\n",
       "  margin-bottom: 0;\n",
       "}\n",
       "\n",
       ".xr-obj-type,\n",
       ".xr-array-name {\n",
       "  margin-left: 2px;\n",
       "  margin-right: 10px;\n",
       "}\n",
       "\n",
       ".xr-obj-type {\n",
       "  color: var(--xr-font-color2);\n",
       "}\n",
       "\n",
       ".xr-sections {\n",
       "  padding-left: 0 !important;\n",
       "  display: grid;\n",
       "  grid-template-columns: 150px auto auto 1fr 20px 20px;\n",
       "}\n",
       "\n",
       ".xr-section-item {\n",
       "  display: contents;\n",
       "}\n",
       "\n",
       ".xr-section-item input {\n",
       "  display: none;\n",
       "}\n",
       "\n",
       ".xr-section-item input + label {\n",
       "  color: var(--xr-disabled-color);\n",
       "}\n",
       "\n",
       ".xr-section-item input:enabled + label {\n",
       "  cursor: pointer;\n",
       "  color: var(--xr-font-color2);\n",
       "}\n",
       "\n",
       ".xr-section-item input:enabled + label:hover {\n",
       "  color: var(--xr-font-color0);\n",
       "}\n",
       "\n",
       ".xr-section-summary {\n",
       "  grid-column: 1;\n",
       "  color: var(--xr-font-color2);\n",
       "  font-weight: 500;\n",
       "}\n",
       "\n",
       ".xr-section-summary > span {\n",
       "  display: inline-block;\n",
       "  padding-left: 0.5em;\n",
       "}\n",
       "\n",
       ".xr-section-summary-in:disabled + label {\n",
       "  color: var(--xr-font-color2);\n",
       "}\n",
       "\n",
       ".xr-section-summary-in + label:before {\n",
       "  display: inline-block;\n",
       "  content: '►';\n",
       "  font-size: 11px;\n",
       "  width: 15px;\n",
       "  text-align: center;\n",
       "}\n",
       "\n",
       ".xr-section-summary-in:disabled + label:before {\n",
       "  color: var(--xr-disabled-color);\n",
       "}\n",
       "\n",
       ".xr-section-summary-in:checked + label:before {\n",
       "  content: '▼';\n",
       "}\n",
       "\n",
       ".xr-section-summary-in:checked + label > span {\n",
       "  display: none;\n",
       "}\n",
       "\n",
       ".xr-section-summary,\n",
       ".xr-section-inline-details {\n",
       "  padding-top: 4px;\n",
       "  padding-bottom: 4px;\n",
       "}\n",
       "\n",
       ".xr-section-inline-details {\n",
       "  grid-column: 2 / -1;\n",
       "}\n",
       "\n",
       ".xr-section-details {\n",
       "  display: none;\n",
       "  grid-column: 1 / -1;\n",
       "  margin-bottom: 5px;\n",
       "}\n",
       "\n",
       ".xr-section-summary-in:checked ~ .xr-section-details {\n",
       "  display: contents;\n",
       "}\n",
       "\n",
       ".xr-array-wrap {\n",
       "  grid-column: 1 / -1;\n",
       "  display: grid;\n",
       "  grid-template-columns: 20px auto;\n",
       "}\n",
       "\n",
       ".xr-array-wrap > label {\n",
       "  grid-column: 1;\n",
       "  vertical-align: top;\n",
       "}\n",
       "\n",
       ".xr-preview {\n",
       "  color: var(--xr-font-color3);\n",
       "}\n",
       "\n",
       ".xr-array-preview,\n",
       ".xr-array-data {\n",
       "  padding: 0 5px !important;\n",
       "  grid-column: 2;\n",
       "}\n",
       "\n",
       ".xr-array-data,\n",
       ".xr-array-in:checked ~ .xr-array-preview {\n",
       "  display: none;\n",
       "}\n",
       "\n",
       ".xr-array-in:checked ~ .xr-array-data,\n",
       ".xr-array-preview {\n",
       "  display: inline-block;\n",
       "}\n",
       "\n",
       ".xr-dim-list {\n",
       "  display: inline-block !important;\n",
       "  list-style: none;\n",
       "  padding: 0 !important;\n",
       "  margin: 0;\n",
       "}\n",
       "\n",
       ".xr-dim-list li {\n",
       "  display: inline-block;\n",
       "  padding: 0;\n",
       "  margin: 0;\n",
       "}\n",
       "\n",
       ".xr-dim-list:before {\n",
       "  content: '(';\n",
       "}\n",
       "\n",
       ".xr-dim-list:after {\n",
       "  content: ')';\n",
       "}\n",
       "\n",
       ".xr-dim-list li:not(:last-child):after {\n",
       "  content: ',';\n",
       "  padding-right: 5px;\n",
       "}\n",
       "\n",
       ".xr-has-index {\n",
       "  font-weight: bold;\n",
       "}\n",
       "\n",
       ".xr-var-list,\n",
       ".xr-var-item {\n",
       "  display: contents;\n",
       "}\n",
       "\n",
       ".xr-var-item > div,\n",
       ".xr-var-item label,\n",
       ".xr-var-item > .xr-var-name span {\n",
       "  background-color: var(--xr-background-color-row-even);\n",
       "  margin-bottom: 0;\n",
       "}\n",
       "\n",
       ".xr-var-item > .xr-var-name:hover span {\n",
       "  padding-right: 5px;\n",
       "}\n",
       "\n",
       ".xr-var-list > li:nth-child(odd) > div,\n",
       ".xr-var-list > li:nth-child(odd) > label,\n",
       ".xr-var-list > li:nth-child(odd) > .xr-var-name span {\n",
       "  background-color: var(--xr-background-color-row-odd);\n",
       "}\n",
       "\n",
       ".xr-var-name {\n",
       "  grid-column: 1;\n",
       "}\n",
       "\n",
       ".xr-var-dims {\n",
       "  grid-column: 2;\n",
       "}\n",
       "\n",
       ".xr-var-dtype {\n",
       "  grid-column: 3;\n",
       "  text-align: right;\n",
       "  color: var(--xr-font-color2);\n",
       "}\n",
       "\n",
       ".xr-var-preview {\n",
       "  grid-column: 4;\n",
       "}\n",
       "\n",
       ".xr-var-name,\n",
       ".xr-var-dims,\n",
       ".xr-var-dtype,\n",
       ".xr-preview,\n",
       ".xr-attrs dt {\n",
       "  white-space: nowrap;\n",
       "  overflow: hidden;\n",
       "  text-overflow: ellipsis;\n",
       "  padding-right: 10px;\n",
       "}\n",
       "\n",
       ".xr-var-name:hover,\n",
       ".xr-var-dims:hover,\n",
       ".xr-var-dtype:hover,\n",
       ".xr-attrs dt:hover {\n",
       "  overflow: visible;\n",
       "  width: auto;\n",
       "  z-index: 1;\n",
       "}\n",
       "\n",
       ".xr-var-attrs,\n",
       ".xr-var-data {\n",
       "  display: none;\n",
       "  background-color: var(--xr-background-color) !important;\n",
       "  padding-bottom: 5px !important;\n",
       "}\n",
       "\n",
       ".xr-var-attrs-in:checked ~ .xr-var-attrs,\n",
       ".xr-var-data-in:checked ~ .xr-var-data {\n",
       "  display: block;\n",
       "}\n",
       "\n",
       ".xr-var-data > table {\n",
       "  float: right;\n",
       "}\n",
       "\n",
       ".xr-var-name span,\n",
       ".xr-var-data,\n",
       ".xr-attrs {\n",
       "  padding-left: 25px !important;\n",
       "}\n",
       "\n",
       ".xr-attrs,\n",
       ".xr-var-attrs,\n",
       ".xr-var-data {\n",
       "  grid-column: 1 / -1;\n",
       "}\n",
       "\n",
       "dl.xr-attrs {\n",
       "  padding: 0;\n",
       "  margin: 0;\n",
       "  display: grid;\n",
       "  grid-template-columns: 125px auto;\n",
       "}\n",
       "\n",
       ".xr-attrs dt,\n",
       ".xr-attrs dd {\n",
       "  padding: 0;\n",
       "  margin: 0;\n",
       "  float: left;\n",
       "  padding-right: 10px;\n",
       "  width: auto;\n",
       "}\n",
       "\n",
       ".xr-attrs dt {\n",
       "  font-weight: normal;\n",
       "  grid-column: 1;\n",
       "}\n",
       "\n",
       ".xr-attrs dt:hover span {\n",
       "  display: inline-block;\n",
       "  background: var(--xr-background-color);\n",
       "  padding-right: 10px;\n",
       "}\n",
       "\n",
       ".xr-attrs dd {\n",
       "  grid-column: 2;\n",
       "  white-space: pre-wrap;\n",
       "  word-break: break-all;\n",
       "}\n",
       "\n",
       ".xr-icon-database,\n",
       ".xr-icon-file-text2 {\n",
       "  display: inline-block;\n",
       "  vertical-align: middle;\n",
       "  width: 1em;\n",
       "  height: 1.5em !important;\n",
       "  stroke-width: 0;\n",
       "  stroke: currentColor;\n",
       "  fill: currentColor;\n",
       "}\n",
       "</style><pre class='xr-text-repr-fallback'>&lt;xarray.Dataset&gt;\n",
       "Dimensions:                (exp_dir: 4, epsilon: 3)\n",
       "Coordinates:\n",
       "  * exp_dir                (exp_dir) &lt;U97 &#x27;/home/justin_goodwin/projects/raid...\n",
       "  * epsilon                (epsilon) int64 0 1 2\n",
       "    fold                   (exp_dir) int64 0 0 1 1\n",
       "    model                  (exp_dir) &lt;U6 &#x27;linear&#x27; &#x27;cnn&#x27; &#x27;linear&#x27; &#x27;cnn&#x27;\n",
       "Data variables:\n",
       "    test_clean_accuracy    (exp_dir, epsilon) float64 0.9612 0.9612 ... 0.9796\n",
       "    test_adversarial_loss  (exp_dir, epsilon) float64 0.1293 3.049 ... 17.07\n",
       "    test_loss              (exp_dir, epsilon) float64 0.1293 3.049 ... 17.07\n",
       "    test_accuracy          (exp_dir, epsilon) float64 0.9612 0.2594 ... 0.0002</pre><div class='xr-wrap' style='display:none'><div class='xr-header'><div class='xr-obj-type'>xarray.Dataset</div></div><ul class='xr-sections'><li class='xr-section-item'><input id='section-573d2d92-1752-478b-865e-9068a8c512fe' class='xr-section-summary-in' type='checkbox' disabled ><label for='section-573d2d92-1752-478b-865e-9068a8c512fe' class='xr-section-summary'  title='Expand/collapse section'>Dimensions:</label><div class='xr-section-inline-details'><ul class='xr-dim-list'><li><span class='xr-has-index'>exp_dir</span>: 4</li><li><span class='xr-has-index'>epsilon</span>: 3</li></ul></div><div class='xr-section-details'></div></li><li class='xr-section-item'><input id='section-4550158b-5db4-4e25-8f93-e4b5981448b8' class='xr-section-summary-in' type='checkbox'  checked><label for='section-4550158b-5db4-4e25-8f93-e4b5981448b8' class='xr-section-summary' >Coordinates: <span>(4)</span></label><div class='xr-section-inline-details'></div><div class='xr-section-details'><ul class='xr-var-list'><li class='xr-var-item'><div class='xr-var-name'><span class='xr-has-index'>exp_dir</span></div><div class='xr-var-dims'>(exp_dir)</div><div class='xr-var-dtype'>&lt;U97</div><div class='xr-var-preview xr-preview'>&#x27;/home/justin_goodwin/projects/r...</div><input id='attrs-1975f468-c780-4e8f-aa60-63254f42509e' class='xr-var-attrs-in' type='checkbox' disabled><label for='attrs-1975f468-c780-4e8f-aa60-63254f42509e' title='Show/Hide attributes'><svg class='icon xr-icon-file-text2'><use xlink:href='#icon-file-text2'></use></svg></label><input id='data-2c94d229-9848-46ae-8f02-accc627d428e' class='xr-var-data-in' type='checkbox'><label for='data-2c94d229-9848-46ae-8f02-accc627d428e' title='Show/Hide data repr'><svg class='icon xr-icon-database'><use xlink:href='#icon-database'></use></svg></label><div class='xr-var-attrs'><dl class='xr-attrs'></dl></div><div class='xr-var-data'><pre>array([&#x27;/home/justin_goodwin/projects/raiden/rai_toolbox/docs/source/tutorials/outputs/cross_validation/0&#x27;,\n",
       "       &#x27;/home/justin_goodwin/projects/raiden/rai_toolbox/docs/source/tutorials/outputs/cross_validation/1&#x27;,\n",
       "       &#x27;/home/justin_goodwin/projects/raiden/rai_toolbox/docs/source/tutorials/outputs/cross_validation/2&#x27;,\n",
       "       &#x27;/home/justin_goodwin/projects/raiden/rai_toolbox/docs/source/tutorials/outputs/cross_validation/3&#x27;],\n",
       "      dtype=&#x27;&lt;U97&#x27;)</pre></div></li><li class='xr-var-item'><div class='xr-var-name'><span class='xr-has-index'>epsilon</span></div><div class='xr-var-dims'>(epsilon)</div><div class='xr-var-dtype'>int64</div><div class='xr-var-preview xr-preview'>0 1 2</div><input id='attrs-f6cdcfcd-85cc-4ed4-aced-21e2dcdd44c2' class='xr-var-attrs-in' type='checkbox' disabled><label for='attrs-f6cdcfcd-85cc-4ed4-aced-21e2dcdd44c2' title='Show/Hide attributes'><svg class='icon xr-icon-file-text2'><use xlink:href='#icon-file-text2'></use></svg></label><input id='data-936aa0e4-2497-44e6-b330-ce6c48324ab1' class='xr-var-data-in' type='checkbox'><label for='data-936aa0e4-2497-44e6-b330-ce6c48324ab1' title='Show/Hide data repr'><svg class='icon xr-icon-database'><use xlink:href='#icon-database'></use></svg></label><div class='xr-var-attrs'><dl class='xr-attrs'></dl></div><div class='xr-var-data'><pre>array([0, 1, 2])</pre></div></li><li class='xr-var-item'><div class='xr-var-name'><span>fold</span></div><div class='xr-var-dims'>(exp_dir)</div><div class='xr-var-dtype'>int64</div><div class='xr-var-preview xr-preview'>0 0 1 1</div><input id='attrs-6b229b27-b2dc-4d7a-92f1-f3a513885b5f' class='xr-var-attrs-in' type='checkbox' disabled><label for='attrs-6b229b27-b2dc-4d7a-92f1-f3a513885b5f' title='Show/Hide attributes'><svg class='icon xr-icon-file-text2'><use xlink:href='#icon-file-text2'></use></svg></label><input id='data-acb825d5-7b03-4839-9a69-3131dc7079b0' class='xr-var-data-in' type='checkbox'><label for='data-acb825d5-7b03-4839-9a69-3131dc7079b0' title='Show/Hide data repr'><svg class='icon xr-icon-database'><use xlink:href='#icon-database'></use></svg></label><div class='xr-var-attrs'><dl class='xr-attrs'></dl></div><div class='xr-var-data'><pre>array([0, 0, 1, 1])</pre></div></li><li class='xr-var-item'><div class='xr-var-name'><span>model</span></div><div class='xr-var-dims'>(exp_dir)</div><div class='xr-var-dtype'>&lt;U6</div><div class='xr-var-preview xr-preview'>&#x27;linear&#x27; &#x27;cnn&#x27; &#x27;linear&#x27; &#x27;cnn&#x27;</div><input id='attrs-07f732d1-9275-489f-94bc-24287082f8c8' class='xr-var-attrs-in' type='checkbox' disabled><label for='attrs-07f732d1-9275-489f-94bc-24287082f8c8' title='Show/Hide attributes'><svg class='icon xr-icon-file-text2'><use xlink:href='#icon-file-text2'></use></svg></label><input id='data-3470b567-32e0-4870-9953-45284de4c0b1' class='xr-var-data-in' type='checkbox'><label for='data-3470b567-32e0-4870-9953-45284de4c0b1' title='Show/Hide data repr'><svg class='icon xr-icon-database'><use xlink:href='#icon-database'></use></svg></label><div class='xr-var-attrs'><dl class='xr-attrs'></dl></div><div class='xr-var-data'><pre>array([&#x27;linear&#x27;, &#x27;cnn&#x27;, &#x27;linear&#x27;, &#x27;cnn&#x27;], dtype=&#x27;&lt;U6&#x27;)</pre></div></li></ul></div></li><li class='xr-section-item'><input id='section-9b3de437-da16-4d23-8478-7a2fe753a47a' class='xr-section-summary-in' type='checkbox'  checked><label for='section-9b3de437-da16-4d23-8478-7a2fe753a47a' class='xr-section-summary' >Data variables: <span>(4)</span></label><div class='xr-section-inline-details'></div><div class='xr-section-details'><ul class='xr-var-list'><li class='xr-var-item'><div class='xr-var-name'><span>test_clean_accuracy</span></div><div class='xr-var-dims'>(exp_dir, epsilon)</div><div class='xr-var-dtype'>float64</div><div class='xr-var-preview xr-preview'>0.9612 0.9612 ... 0.9796 0.9796</div><input id='attrs-58529ed8-f3fb-4e47-b338-f9b9c26ebb59' class='xr-var-attrs-in' type='checkbox' disabled><label for='attrs-58529ed8-f3fb-4e47-b338-f9b9c26ebb59' title='Show/Hide attributes'><svg class='icon xr-icon-file-text2'><use xlink:href='#icon-file-text2'></use></svg></label><input id='data-73179fed-53d0-4dd1-a2c4-106074f94dda' class='xr-var-data-in' type='checkbox'><label for='data-73179fed-53d0-4dd1-a2c4-106074f94dda' title='Show/Hide data repr'><svg class='icon xr-icon-database'><use xlink:href='#icon-database'></use></svg></label><div class='xr-var-attrs'><dl class='xr-attrs'></dl></div><div class='xr-var-data'><pre>array([[0.9612    , 0.9612    , 0.9612    ],\n",
       "       [0.98760003, 0.98760003, 0.98760003],\n",
       "       [0.95349997, 0.95349997, 0.95349997],\n",
       "       [0.97960001, 0.97960001, 0.97960001]])</pre></div></li><li class='xr-var-item'><div class='xr-var-name'><span>test_adversarial_loss</span></div><div class='xr-var-dims'>(exp_dir, epsilon)</div><div class='xr-var-dtype'>float64</div><div class='xr-var-preview xr-preview'>0.1293 3.049 10.13 ... 5.034 17.07</div><input id='attrs-789f578c-5f46-41c6-b375-4ef3572d1f44' class='xr-var-attrs-in' type='checkbox' disabled><label for='attrs-789f578c-5f46-41c6-b375-4ef3572d1f44' title='Show/Hide attributes'><svg class='icon xr-icon-file-text2'><use xlink:href='#icon-file-text2'></use></svg></label><input id='data-1739f95a-7d71-46b3-a47d-8b330248b2e9' class='xr-var-data-in' type='checkbox'><label for='data-1739f95a-7d71-46b3-a47d-8b330248b2e9' title='Show/Hide data repr'><svg class='icon xr-icon-database'><use xlink:href='#icon-database'></use></svg></label><div class='xr-var-attrs'><dl class='xr-attrs'></dl></div><div class='xr-var-data'><pre>array([[ 0.12934756,  3.04907703, 10.12771606],\n",
       "       [ 0.03701439,  3.60584259, 14.29427528],\n",
       "       [ 0.15187176,  3.34969306, 10.27902222],\n",
       "       [ 0.05958341,  5.03350592, 17.0718689 ]])</pre></div></li><li class='xr-var-item'><div class='xr-var-name'><span>test_loss</span></div><div class='xr-var-dims'>(exp_dir, epsilon)</div><div class='xr-var-dtype'>float64</div><div class='xr-var-preview xr-preview'>0.1293 3.049 10.13 ... 5.034 17.07</div><input id='attrs-5ed42e02-c2e2-4973-97db-a38d529efba0' class='xr-var-attrs-in' type='checkbox' disabled><label for='attrs-5ed42e02-c2e2-4973-97db-a38d529efba0' title='Show/Hide attributes'><svg class='icon xr-icon-file-text2'><use xlink:href='#icon-file-text2'></use></svg></label><input id='data-52332557-55fe-4a49-b25a-afe3972e47a9' class='xr-var-data-in' type='checkbox'><label for='data-52332557-55fe-4a49-b25a-afe3972e47a9' title='Show/Hide data repr'><svg class='icon xr-icon-database'><use xlink:href='#icon-database'></use></svg></label><div class='xr-var-attrs'><dl class='xr-attrs'></dl></div><div class='xr-var-data'><pre>array([[ 0.12934758,  3.04907703, 10.12771606],\n",
       "       [ 0.03701439,  3.60584307, 14.29427528],\n",
       "       [ 0.15187174,  3.34969306, 10.27902222],\n",
       "       [ 0.05958341,  5.03350496, 17.0718689 ]])</pre></div></li><li class='xr-var-item'><div class='xr-var-name'><span>test_accuracy</span></div><div class='xr-var-dims'>(exp_dir, epsilon)</div><div class='xr-var-dtype'>float64</div><div class='xr-var-preview xr-preview'>0.9612 0.2594 ... 0.1201 0.0002</div><input id='attrs-73368e68-1da7-4328-828b-02c82edb54e7' class='xr-var-attrs-in' type='checkbox' disabled><label for='attrs-73368e68-1da7-4328-828b-02c82edb54e7' title='Show/Hide attributes'><svg class='icon xr-icon-file-text2'><use xlink:href='#icon-file-text2'></use></svg></label><input id='data-4d446171-724e-4cd1-82d1-6bb9b3387634' class='xr-var-data-in' type='checkbox'><label for='data-4d446171-724e-4cd1-82d1-6bb9b3387634' title='Show/Hide data repr'><svg class='icon xr-icon-database'><use xlink:href='#icon-database'></use></svg></label><div class='xr-var-attrs'><dl class='xr-attrs'></dl></div><div class='xr-var-data'><pre>array([[9.61199999e-01, 2.59400010e-01, 9.70000029e-03],\n",
       "       [9.87600029e-01, 2.05899999e-01, 0.00000000e+00],\n",
       "       [9.53499973e-01, 2.07599998e-01, 9.49999969e-03],\n",
       "       [9.79600012e-01, 1.20099999e-01, 1.99999995e-04]])</pre></div></li></ul></div></li><li class='xr-section-item'><input id='section-3879e84e-6941-47c7-98f3-a514fb7508e0' class='xr-section-summary-in' type='checkbox' disabled ><label for='section-3879e84e-6941-47c7-98f3-a514fb7508e0' class='xr-section-summary'  title='Expand/collapse section'>Attributes: <span>(0)</span></label><div class='xr-section-inline-details'></div><div class='xr-section-details'><dl class='xr-attrs'></dl></div></li></ul></div></div>"
      ],
      "text/plain": [
       "<xarray.Dataset>\n",
       "Dimensions:                (exp_dir: 4, epsilon: 3)\n",
       "Coordinates:\n",
       "  * exp_dir                (exp_dir) <U97 '/home/justin_goodwin/projects/raid...\n",
       "  * epsilon                (epsilon) int64 0 1 2\n",
       "    fold                   (exp_dir) int64 0 0 1 1\n",
       "    model                  (exp_dir) <U6 'linear' 'cnn' 'linear' 'cnn'\n",
       "Data variables:\n",
       "    test_clean_accuracy    (exp_dir, epsilon) float64 0.9612 0.9612 ... 0.9796\n",
       "    test_adversarial_loss  (exp_dir, epsilon) float64 0.1293 3.049 ... 17.07\n",
       "    test_loss              (exp_dir, epsilon) float64 0.1293 3.049 ... 17.07\n",
       "    test_accuracy          (exp_dir, epsilon) float64 0.9612 0.2594 ... 0.0002"
      ]
     },
     "execution_count": 19,
     "metadata": {},
     "output_type": "execute_result"
    }
   ],
   "source": [
    "rdata = robustness_curve_task.to_xarray()\n",
    "rdata"
   ]
  },
  {
   "cell_type": "code",
   "execution_count": 20,
   "metadata": {},
   "outputs": [
    {
     "data": {
      "text/plain": [
       "<matplotlib.legend.Legend at 0x7fb8549fc610>"
      ]
     },
     "execution_count": 20,
     "metadata": {},
     "output_type": "execute_result"
    },
    {
     "data": {
      "image/png": "[encoded data removed]",
      "text/plain": [
       "<Figure size 432x288 with 1 Axes>"
      ]
     },
     "metadata": {
      "needs_background": "light"
     },
     "output_type": "display_data"
    }
   ],
   "source": [
    "fig, ax = plt.subplots()\n",
    "for name, g in rdata.groupby(\"model\"):\n",
    "    for fold, gf in g.groupby(\"fold\"):\n",
    "        gf.test_accuracy.plot.line(x=\"epsilon\", label=f\"{name} (folds: {fold})\", ax=ax)\n",
    "    g.test_accuracy.mean(\"exp_dir\").plot.line(x=\"epsilon\", label=f\"{name} (average)\", ax=ax, linestyle=\"--\", color=\"k\")\n",
    "\n",
    "plt.legend()"
   ]
  },
  {
   "cell_type": "code",
   "execution_count": null,
   "metadata": {},
   "outputs": [],
   "source": []
  }
 ],
 "metadata": {
  "interpreter": {
   "hash": "11e15a975b1560d788dc80294e728c8cc344b6e8a1e773ad71d904d8cec24769"
  },
  "kernelspec": {
   "display_name": "Python 3.8.12 ('raiden')",
   "language": "python",
   "name": "python3"
  },
  "language_info": {
   "codemirror_mode": {
    "name": "ipython",
    "version": 3
   },
   "file_extension": ".py",
   "mimetype": "text/x-python",
   "name": "python",
   "nbconvert_exporter": "python",
   "pygments_lexer": "ipython3",
   "version": "3.8.12"
  },
  "orig_nbformat": 4
 },
 "nbformat": 4,
 "nbformat_minor": 2
}
