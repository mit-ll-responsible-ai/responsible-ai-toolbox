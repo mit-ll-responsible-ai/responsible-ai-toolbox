{
 "cells": [
  {
   "cell_type": "markdown",
   "metadata": {},
   "source": [
    ".. meta::\n",
    "   :description: Using the responsible AI toolbox to build workflows."
   ]
  },
  {
   "cell_type": "markdown",
   "metadata": {},
   "source": [
    "> Copyright (c) 2022 Massachusetts Institute of Technology  \n",
    "> SPDX-License-Identifier: MIT \n",
    "\n"
   ]
  },
  {
   "cell_type": "markdown",
   "metadata": {},
   "source": [
    "# Building a Workflows for Cross Validation and Adversarial Robustness\n",
    "This notebook demonstrates how the to build experiment workflows for configurable, repeatable, and scalable (CRS) experimentation.  Two basic workflows will be demonstrated in this tutorial:\n",
    "\n",
    "- Cross-Validation Workflow: Demonstrates how to build scalable cross validation training workflow.\n",
    "- Robustness Curve Workflow: Demonstrates how to build scalable robustness testing for each of the models trained in the \"Cross-Validation Workflow\"\n",
    "\n",
    "## Getting Started\n",
    "\n",
    "\n",
    "We will install the rAI-toolbox and then we will create a Jupyter notebook in which we will complete this tutorial.\n",
    "\n",
    "\n",
    "### Installing `rai_toolbox`\n",
    "\n",
    "\n",
    "To install the toolbox (along with its `mushin` capabilities) in your Python environment, run the following command in your \n",
    "terminal:\n",
    "\n",
    "```console\n",
    "$ pip install rai-toolbox[mushin]\n",
    "```\n",
    "\n",
    "To verify that the toolbox is installed as-expected, open a Python console and try \n",
    "importing ``rai_toolbox``.\n",
    "\n",
    "```python\n",
    ">>> import rai_toolbox\n",
    "```\n",
    "\n",
    "You will also need to install scikit-learn; please follow [these instructions](https://scikit-learn.org/stable/install.html#installing-scikit-learn).\n",
    "\n",
    "\n",
    "## Opening a Jupyter notebook\n",
    "\n",
    "If you do not have Jupyter Notebook or Jupyter Lab installed in your Python environment, please follow [these instructions](https://jupyter.org/install).\n",
    "Now open a terminal on your computer and [start a notebook/lab session](http://www.pythonlikeyoumeanit.com/Module1_GettingStartedWithPython/Jupyter_Notebooks.html).\n",
    "A file-viewer will open in an internet browser; pick a directory where you are okay with saving some PyTorch model weights. Create a notebook called `Building-Workflows.ipynb`. You can then follow along with this tutorial by copying, pasting, and running the code blocks below in the cells of your notebook.\n",
    "\n",
    "Note: you may also need to install the `ipywidgets` package in your Python environment to configure the notebook to  display ipywidgets:\n",
    "\n",
    "```console\n",
    "$ pip install ipywidgets\n",
    "```\n",
    "\n",
    "## Imports"
   ]
  },
  {
   "cell_type": "code",
   "execution_count": 1,
   "metadata": {},
   "outputs": [],
   "source": [
    "from pathlib import Path\n",
    "from typing import Optional, Tuple, Union\n",
    "\n",
    "import matplotlib.pyplot as plt\n",
    "import torch as tr"
   ]
  },
  {
   "cell_type": "code",
   "execution_count": 2,
   "metadata": {},
   "outputs": [],
   "source": [
    "# Hydra and hydra-zen\n",
    "from hydra.core.config_store import ConfigStore\n",
    "from hydra_zen import MISSING, builds, instantiate, load_from_yaml, make_config\n",
    "\n",
    "# Lightning\n",
    "from pytorch_lightning import LightningModule, Trainer\n",
    "\n",
    "# sklearn and torch\n",
    "from sklearn.model_selection import StratifiedKFold\n",
    "from torch import Tensor, nn\n",
    "from torch.optim import Optimizer\n",
    "from torch.utils.data import DataLoader, Subset\n",
    "from torchmetrics import Accuracy\n",
    "from torchvision import transforms\n",
    "from torchvision.datasets import MNIST\n",
    "\n",
    "# rAI-toolbox\n",
    "from rai_toolbox._typing import Partial\n",
    "from rai_toolbox.mushin import load_from_checkpoint\n",
    "from rai_toolbox.mushin.lightning import MetricsCallback\n",
    "from rai_toolbox.mushin.workflows import (\n",
    "    MultiRunMetricsWorkflow,\n",
    "    RobustnessCurve,\n",
    "    multirun,\n",
    ")\n",
    "\n",
    "from rai_toolbox.optim import L2ProjectedOptim, LinfProjectedOptim\n",
    "from rai_toolbox.perturbations import gradient_ascent"
   ]
  },
  {
   "cell_type": "markdown",
   "metadata": {},
   "source": [
    "## Experiment Functions and Classes\n",
    "\n",
    "Here we define two Neural Network models, a fully linear neural network and a convolutional neural network."
   ]
  },
  {
   "cell_type": "code",
   "execution_count": 3,
   "metadata": {},
   "outputs": [],
   "source": [
    "class ConvModel(nn.Module):\n",
    "    def __init__(self):\n",
    "        super().__init__()\n",
    "        self.model = nn.Sequential(\n",
    "            nn.Conv2d(1, 32, 5, padding=\"same\"),\n",
    "            nn.BatchNorm2d(32),\n",
    "            nn.ReLU(),\n",
    "            nn.MaxPool2d(3),\n",
    "            nn.Conv2d(32, 32, 3, padding=\"same\"),\n",
    "            nn.BatchNorm2d(32),\n",
    "            nn.ReLU(),\n",
    "            nn.MaxPool2d(3),\n",
    "            nn.Conv2d(32, 32, 3, padding=\"same\"),\n",
    "            nn.BatchNorm2d(32),\n",
    "            nn.ReLU(),\n",
    "            nn.Conv2d(32, 10, 3),\n",
    "            nn.Flatten(1),\n",
    "        )\n",
    "\n",
    "    def forward(self, x):\n",
    "        return self.model(x)\n",
    "\n",
    "class LinearModel(nn.Module):\n",
    "    def __init__(self):\n",
    "        super().__init__()\n",
    "        self.model = nn.Sequential(\n",
    "            nn.Flatten(1),\n",
    "            nn.Linear(28 * 28, 256),\n",
    "            nn.ReLU(),\n",
    "            nn.Linear(256, 128),\n",
    "            nn.ReLU(),\n",
    "            nn.Linear(128, 64),\n",
    "            nn.ReLU(),\n",
    "            nn.Linear(64, 10),\n",
    "        )\n",
    "\n",
    "    def forward(self, x):\n",
    "        return self.model(x)"
   ]
  },
  {
   "cell_type": "markdown",
   "metadata": {},
   "source": [
    "Next lets define a function that takes the `MNIST` dataset and splits the data into training and validation sets using SciKit-Learn's [StratifiedKFold](https://scikit-learn.org/stable/modules/generated/sklearn.model_selection.StratifiedKFold.html).  This allows us to split the dataset into \"folds\" and select the fold for each experiment."
   ]
  },
  {
   "cell_type": "code",
   "execution_count": 4,
   "metadata": {},
   "outputs": [],
   "source": [
    "def split_dataset(\n",
    "    dataset: MNIST, n_splits: int, fold: int, random_state: int = 49\n",
    ") -> Tuple[Subset, Subset]:\n",
    "    \"\"\"Provide training and validation splits using `sklearn.model_selection.StratifiedKfold`\"\"\"\n",
    "\n",
    "    kfold = StratifiedKFold(n_splits=n_splits, shuffle=True, random_state=random_state)\n",
    "    train_indices, val_indices = list(\n",
    "        kfold.split(range(len(dataset)), dataset.targets)\n",
    "    )[fold]\n",
    "    return Subset(dataset, train_indices), Subset(dataset, val_indices)\n"
   ]
  },
  {
   "cell_type": "markdown",
   "metadata": {},
   "source": [
    "Now define the [LightningModule](https://pytorch-lightning.readthedocs.io/en/latest/api/pytorch_lightning.core.LightningModule.html#pytorch_lightning.core.LightningModule) for training and testing."
   ]
  },
  {
   "cell_type": "code",
   "execution_count": 5,
   "metadata": {},
   "outputs": [],
   "source": [
    "class StandardModule(LightningModule):\n",
    "    def __init__(\n",
    "        self,\n",
    "        *,\n",
    "        model: nn.Module,\n",
    "        dataset: MNIST,\n",
    "        optimizer: Optional[Partial[Optimizer]] = None,\n",
    "        perturber=None,\n",
    "        fold: int = 0,\n",
    "        n_splits: int = 5,\n",
    "        batch_size: int = 100,\n",
    "        num_workers: int = 4,\n",
    "    ) -> None:\n",
    "        super().__init__()\n",
    "        self.dataset = dataset\n",
    "        self.optimizer = optimizer\n",
    "        self.criterion = nn.CrossEntropyLoss()\n",
    "        self.model = model\n",
    "        self.perturber = perturber\n",
    "        self.n_splits = n_splits\n",
    "        self.fold = fold\n",
    "        self.batch_size = batch_size\n",
    "        self.num_workers = num_workers\n",
    "\n",
    "        # Metrics\n",
    "        self.acc_metric = Accuracy()\n",
    "        if self.perturber:\n",
    "            self.clean_acc_metric = Accuracy()\n",
    "\n",
    "    def forward(self, data: Tensor) -> Tensor:\n",
    "        return self.model(data)\n",
    "\n",
    "    def train_dataloader(self) -> DataLoader:\n",
    "        train_dataset, _ = split_dataset(self.dataset, self.n_splits, self.fold)\n",
    "        return DataLoader(\n",
    "            train_dataset,\n",
    "            batch_size=self.batch_size,\n",
    "            num_workers=self.num_workers,\n",
    "            shuffle=True,\n",
    "        )\n",
    "\n",
    "    def val_dataloader(self) -> DataLoader:\n",
    "        _, val_dataset = split_dataset(self.dataset, self.n_splits, self.fold)\n",
    "        return DataLoader(\n",
    "            val_dataset, batch_size=self.batch_size, num_workers=self.num_workers\n",
    "        )\n",
    "\n",
    "    def test_dataloader(self) -> DataLoader:\n",
    "        return DataLoader(\n",
    "            self.dataset, batch_size=self.batch_size, num_workers=self.num_workers\n",
    "        )\n",
    "\n",
    "    def configure_optimizers(self) -> Optional[Optimizer]:\n",
    "        if self.optimizer:\n",
    "            return self.optimizer(self.model.parameters())\n",
    "        return None\n",
    "\n",
    "    def _step(self, batch, stage: str) -> Tensor:\n",
    "        data_orig, target = batch\n",
    "\n",
    "        if self.perturber:\n",
    "            with tr.no_grad():\n",
    "                output = self.model(data_orig)\n",
    "                loss = self.criterion(output, target)\n",
    "                acc = self.clean_acc_metric(output, target)\n",
    "                self.log(f\"{stage}_clean_accuracy\", acc)\n",
    "\n",
    "            data, adv_loss = self.perturber(\n",
    "                model=self.model, data=data_orig, target=target\n",
    "            )\n",
    "            self.log(f\"{stage}_adversarial_loss\", adv_loss.mean().item())\n",
    "\n",
    "        else:\n",
    "            data = data_orig\n",
    "\n",
    "        output = self.model(data)\n",
    "        loss = self.criterion(output, target)\n",
    "        acc = self.acc_metric(output, target)\n",
    "        self.log(f\"{stage}_loss\", loss)\n",
    "        self.log(f\"{stage}_accuracy\", acc)\n",
    "        return loss\n",
    "\n",
    "    def training_step(self, batch, batch_idx) -> Tensor:\n",
    "        return self._step(batch, \"train\")\n",
    "\n",
    "    def validation_step(self, batch, batch_idx) -> Tensor:\n",
    "        return self._step(batch, \"val\")\n",
    "\n",
    "    def test_step(self, batch, batch_idx) -> Tensor:\n",
    "        return self._step(batch, \"test\")\n"
   ]
  },
  {
   "cell_type": "markdown",
   "metadata": {},
   "source": [
    "## hydra-zen Configuration\n",
    "\n",
    "Now that we have our models lets setup the configurations for our experiments."
   ]
  },
  {
   "cell_type": "code",
   "execution_count": 6,
   "metadata": {},
   "outputs": [],
   "source": [
    "Augmentations = builds(\n",
    "    transforms.Compose,\n",
    "    [builds(transforms.RandomCrop, size=28, padding=4), builds(transforms.ToTensor)],\n",
    ")\n",
    "TrainDataset = builds(MNIST, root=\"${data_dir}\", train=True, transform=Augmentations)\n",
    "TestDataset = builds(\n",
    "    MNIST, root=\"${data_dir}\", train=False, transform=builds(transforms.ToTensor)\n",
    ")\n",
    "ConvModelCfg = builds(ConvModel)\n",
    "LinearModelCfg = builds(LinearModel)\n",
    "Optim = builds(tr.optim.SGD, lr=0.1, zen_partial=True)\n",
    "\n",
    "\n",
    "L2PGD = builds(L2ProjectedOptim, zen_partial=True)\n",
    "LinfPGD = builds(LinfProjectedOptim, zen_partial=True)\n",
    "\n",
    "\n",
    "def lr_for_pgd(epsilon, num_steps):\n",
    "    return 2.5 * epsilon / num_steps\n",
    "\n",
    "\n",
    "Perturber = builds(\n",
    "    gradient_ascent,\n",
    "    optimizer=\"${optimizer}\",\n",
    "    epsilon=\"${epsilon}\",\n",
    "    steps=\"${steps}\",\n",
    "    lr=builds(lr_for_pgd, \"${epsilon}\", \"${steps}\"),\n",
    "    zen_partial=True,\n",
    "    populate_full_signature=True,\n",
    ")\n",
    "\n",
    "PLModule = builds(\n",
    "    StandardModule,\n",
    "    model=\"${model}\",\n",
    "    fold=\"${fold}\",\n",
    "    n_splits=\"${n_splits}\",\n",
    "    dataset=TrainDataset,\n",
    "    optimizer=Optim,\n",
    "    perturber=\"${perturber}\",\n",
    "    populate_full_signature=True,\n",
    ")\n",
    "\n",
    "\n",
    "EvalPLModule = builds(\n",
    "    StandardModule,\n",
    "    model=\"${model}\",\n",
    "    dataset=TestDataset,\n",
    "    perturber=\"${perturber}\",\n",
    "    populate_full_signature=True,\n",
    ")\n",
    "\n",
    "\n",
    "TrainerCfg = builds(\n",
    "    Trainer,\n",
    "    max_epochs=10,\n",
    "    accelerator=\"auto\",\n",
    "    devices=1,\n",
    "    enable_progress_bar=False,\n",
    "    enable_model_summary=False,\n",
    "    callbacks=[builds(MetricsCallback)],\n",
    "    populate_full_signature=True,\n",
    ")\n"
   ]
  },
  {
   "cell_type": "markdown",
   "metadata": {},
   "source": [
    "Now we use Hydra's [ConfigStore](https://hydra.cc/docs/tutorials/structured_config/config_store/) API to store configurations in memory and allow for swapping of configurations at runtime."
   ]
  },
  {
   "cell_type": "code",
   "execution_count": 7,
   "metadata": {},
   "outputs": [],
   "source": [
    "cs = ConfigStore.instance()\n",
    "cs.store(name=\"cnn\", group=\"model\", node=ConvModelCfg)\n",
    "cs.store(name=\"linear\", group=\"model\", node=LinearModelCfg)\n",
    "cs.store(name=\"l2pgd\", group=\"optimizer\", node=L2PGD)\n",
    "cs.store(name=\"linfpgd\", group=\"optimizer\", node=LinfPGD)\n"
   ]
  },
  {
   "cell_type": "markdown",
   "metadata": {},
   "source": [
    "## Cross Validation Workflow\n",
    "\n",
    "With all the configurations in place we can now define our first experiment workflow: train multiple models on `MNIST` data using cross-validation.  First define the main experiment configuration:"
   ]
  },
  {
   "cell_type": "code",
   "execution_count": 8,
   "metadata": {},
   "outputs": [],
   "source": [
    "Config = make_config(\n",
    "    defaults=[\n",
    "        \"_self_\",\n",
    "        {\"model\": \"linear\"},\n",
    "    ],\n",
    "    data_dir=\"${oc.env:HOME}/.torch/data\",\n",
    "    model=MISSING,\n",
    "    module=PLModule,\n",
    "    trainer=TrainerCfg,\n",
    "    perturber=None,\n",
    "    fold=0,\n",
    "    n_splits=5,\n",
    ")\n"
   ]
  },
  {
   "cell_type": "markdown",
   "metadata": {},
   "source": [
    "Create `CrossValWorkflow` by inheriting from [MultiRunMetricsWorkflow](https://mit-ll-responsible-ai.github.io/responsible-ai-toolbox/generated/rai_toolbox.mushin.MultiRunMetricsWorkflow.html) to train a given model for a given a cross validation dataset (fold).  The task function simply runs PyTorch Lightning's [Trainer.fit](https://pytorch-lightning.readthedocs.io/en/latest/api/pytorch_lightning.trainer.trainer.Trainer.html#pytorch_lightning.trainer.trainer.Trainer) and returns the metrics saved from [MetricsCallback](https://mit-ll-responsible-ai.github.io/responsible-ai-toolbox/generated/rai_toolbox.mushin.MetricsCallback.html).  To run this workflow simply define the number of cross validation splits to use via `n_splits`."
   ]
  },
  {
   "cell_type": "code",
   "execution_count": 9,
   "metadata": {},
   "outputs": [],
   "source": [
    "class CrossValWorkFlow(MultiRunMetricsWorkflow):\n",
    "    @staticmethod\n",
    "    def evaluation_task(trainer: Trainer, module: LightningModule):\n",
    "        trainer.fit(module)\n",
    "        return tr.load(\"fit_metrics.pt\")\n",
    "\n",
    "    def run(self, n_splits: int, **run_kwargs):\n",
    "        fold = multirun(range(n_splits))\n",
    "        super().run(n_splits=n_splits, fold=fold, **run_kwargs)\n"
   ]
  },
  {
   "cell_type": "markdown",
   "metadata": {},
   "source": [
    "Now run the workflow by defining the requried `n_splits` and the models (names defined in the [ConfigStore](https://hydra.cc/docs/tutorials/structured_config/config_store/) above).  Additionally we define the working directory of the experiment by setting `hydra.sweep.dir` configuration via `overrides`."
   ]
  },
  {
   "cell_type": "code",
   "execution_count": 10,
   "metadata": {},
   "outputs": [
    {
     "name": "stdout",
     "output_type": "stream",
     "text": [
      "[2022-05-13 18:08:27,893][HYDRA] Launching 4 jobs locally\n",
      "[2022-05-13 18:08:27,893][HYDRA] \t#0 : n_splits=2 fold=0 model=linear\n"
     ]
    },
    {
     "name": "stderr",
     "output_type": "stream",
     "text": [
      "GPU available: True, used: True\n",
      "TPU available: False, using: 0 TPU cores\n",
      "IPU available: False, using: 0 IPUs\n",
      "HPU available: False, using: 0 HPUs\n",
      "/home/ry26099/miniconda3/envs/foolme/lib/python3.8/site-packages/torchvision/datasets/mnist.py:498: UserWarning: The given NumPy array is not writeable, and PyTorch does not support non-writeable tensors. This means you can write to the underlying (supposedly non-writeable) NumPy array using the tensor. You may want to copy the array to protect its data or make it writeable before converting it to a tensor. This type of warning will be suppressed for the rest of this program. (Triggered internally at  /opt/conda/conda-bld/pytorch_1631630815121/work/torch/csrc/utils/tensor_numpy.cpp:180.)\n",
      "  return torch.from_numpy(parsed.astype(m[2], copy=False)).view(*s)\n",
      "Missing logger folder: /home/ry26099/public-responsible-ai-toolbox/docs/source/tutorials/outputs/cross_validation/2022-05-13/18-08-27/0/lightning_logs\n",
      "LOCAL_RANK: 0 - CUDA_VISIBLE_DEVICES: [0,1]\n"
     ]
    },
    {
     "name": "stdout",
     "output_type": "stream",
     "text": [
      "[2022-05-13 18:09:05,793][HYDRA] \t#1 : n_splits=2 fold=0 model=cnn\n"
     ]
    },
    {
     "name": "stderr",
     "output_type": "stream",
     "text": [
      "GPU available: True, used: True\n",
      "TPU available: False, using: 0 TPU cores\n",
      "IPU available: False, using: 0 IPUs\n",
      "HPU available: False, using: 0 HPUs\n",
      "Missing logger folder: /home/ry26099/public-responsible-ai-toolbox/docs/source/tutorials/outputs/cross_validation/2022-05-13/18-08-27/1/lightning_logs\n",
      "LOCAL_RANK: 0 - CUDA_VISIBLE_DEVICES: [0,1]\n"
     ]
    },
    {
     "name": "stdout",
     "output_type": "stream",
     "text": [
      "[2022-05-13 18:09:41,277][HYDRA] \t#2 : n_splits=2 fold=1 model=linear\n"
     ]
    },
    {
     "name": "stderr",
     "output_type": "stream",
     "text": [
      "GPU available: True, used: True\n",
      "TPU available: False, using: 0 TPU cores\n",
      "IPU available: False, using: 0 IPUs\n",
      "HPU available: False, using: 0 HPUs\n",
      "Missing logger folder: /home/ry26099/public-responsible-ai-toolbox/docs/source/tutorials/outputs/cross_validation/2022-05-13/18-08-27/2/lightning_logs\n",
      "LOCAL_RANK: 0 - CUDA_VISIBLE_DEVICES: [0,1]\n"
     ]
    },
    {
     "name": "stdout",
     "output_type": "stream",
     "text": [
      "[2022-05-13 18:10:14,888][HYDRA] \t#3 : n_splits=2 fold=1 model=cnn\n"
     ]
    },
    {
     "name": "stderr",
     "output_type": "stream",
     "text": [
      "GPU available: True, used: True\n",
      "TPU available: False, using: 0 TPU cores\n",
      "IPU available: False, using: 0 IPUs\n",
      "HPU available: False, using: 0 HPUs\n",
      "Missing logger folder: /home/ry26099/public-responsible-ai-toolbox/docs/source/tutorials/outputs/cross_validation/2022-05-13/18-08-27/3/lightning_logs\n",
      "LOCAL_RANK: 0 - CUDA_VISIBLE_DEVICES: [0,1]\n"
     ]
    }
   ],
   "source": [
    "kfold_task = CrossValWorkFlow(Config)\n",
    "kfold_task.run(\n",
    "    n_splits=2,\n",
    "    model=multirun([\"linear\", \"cnn\"]),\n",
    "    overrides=[\n",
    "        \"hydra.sweep.dir=outputs/cross_validation/${now:%Y-%m-%d}/${now:%H-%M-%S}\"\n",
    "    ],\n",
    ")\n",
    "## You can load previous experiments\n",
    "# kfold_task = CrossValWorkFlow().load_from_dir(\"outputs/cross_validation/2022-05-11/14-42-14\", metrics_filename=\"fit_metrics.pt\")\n"
   ]
  },
  {
   "cell_type": "code",
   "execution_count": 11,
   "metadata": {},
   "outputs": [
    {
     "data": {
      "text/plain": [
       "PosixPath('/home/ry26099/public-responsible-ai-toolbox/docs/source/tutorials/outputs/cross_validation/2022-05-13/18-08-27')"
      ]
     },
     "execution_count": 11,
     "metadata": {},
     "output_type": "execute_result"
    }
   ],
   "source": [
    "kfold_task.working_dir"
   ]
  },
  {
   "cell_type": "markdown",
   "metadata": {},
   "source": [
    "Once the task is finished we can load in the metrics to an [xarray.Dataset](https://docs.xarray.dev/en/stable/generated/xarray.Dataset.html) using the `to_xarray` method."
   ]
  },
  {
   "cell_type": "code",
   "execution_count": 12,
   "metadata": {},
   "outputs": [
    {
     "data": {
      "text/html": [
       "<div><svg style=\"position: absolute; width: 0; height: 0; overflow: hidden\">\n",
       "<defs>\n",
       "<symbol id=\"icon-database\" viewBox=\"0 0 32 32\">\n",
       "<path d=\"M16 0c-8.837 0-16 2.239-16 5v4c0 2.761 7.163 5 16 5s16-2.239 16-5v-4c0-2.761-7.163-5-16-5z\"></path>\n",
       "<path d=\"M16 17c-8.837 0-16-2.239-16-5v6c0 2.761 7.163 5 16 5s16-2.239 16-5v-6c0 2.761-7.163 5-16 5z\"></path>\n",
       "<path d=\"M16 26c-8.837 0-16-2.239-16-5v6c0 2.761 7.163 5 16 5s16-2.239 16-5v-6c0 2.761-7.163 5-16 5z\"></path>\n",
       "</symbol>\n",
       "<symbol id=\"icon-file-text2\" viewBox=\"0 0 32 32\">\n",
       "<path d=\"M28.681 7.159c-0.694-0.947-1.662-2.053-2.724-3.116s-2.169-2.030-3.116-2.724c-1.612-1.182-2.393-1.319-2.841-1.319h-15.5c-1.378 0-2.5 1.121-2.5 2.5v27c0 1.378 1.122 2.5 2.5 2.5h23c1.378 0 2.5-1.122 2.5-2.5v-19.5c0-0.448-0.137-1.23-1.319-2.841zM24.543 5.457c0.959 0.959 1.712 1.825 2.268 2.543h-4.811v-4.811c0.718 0.556 1.584 1.309 2.543 2.268zM28 29.5c0 0.271-0.229 0.5-0.5 0.5h-23c-0.271 0-0.5-0.229-0.5-0.5v-27c0-0.271 0.229-0.5 0.5-0.5 0 0 15.499-0 15.5 0v7c0 0.552 0.448 1 1 1h7v19.5z\"></path>\n",
       "<path d=\"M23 26h-14c-0.552 0-1-0.448-1-1s0.448-1 1-1h14c0.552 0 1 0.448 1 1s-0.448 1-1 1z\"></path>\n",
       "<path d=\"M23 22h-14c-0.552 0-1-0.448-1-1s0.448-1 1-1h14c0.552 0 1 0.448 1 1s-0.448 1-1 1z\"></path>\n",
       "<path d=\"M23 18h-14c-0.552 0-1-0.448-1-1s0.448-1 1-1h14c0.552 0 1 0.448 1 1s-0.448 1-1 1z\"></path>\n",
       "</symbol>\n",
       "</defs>\n",
       "</svg>\n",
       "<style>/* CSS stylesheet for displaying xarray objects in jupyterlab.\n",
       " *\n",
       " */\n",
       "\n",
       ":root {\n",
       "  --xr-font-color0: var(--jp-content-font-color0, rgba(0, 0, 0, 1));\n",
       "  --xr-font-color2: var(--jp-content-font-color2, rgba(0, 0, 0, 0.54));\n",
       "  --xr-font-color3: var(--jp-content-font-color3, rgba(0, 0, 0, 0.38));\n",
       "  --xr-border-color: var(--jp-border-color2, #e0e0e0);\n",
       "  --xr-disabled-color: var(--jp-layout-color3, #bdbdbd);\n",
       "  --xr-background-color: var(--jp-layout-color0, white);\n",
       "  --xr-background-color-row-even: var(--jp-layout-color1, white);\n",
       "  --xr-background-color-row-odd: var(--jp-layout-color2, #eeeeee);\n",
       "}\n",
       "\n",
       "html[theme=dark],\n",
       "body.vscode-dark {\n",
       "  --xr-font-color0: rgba(255, 255, 255, 1);\n",
       "  --xr-font-color2: rgba(255, 255, 255, 0.54);\n",
       "  --xr-font-color3: rgba(255, 255, 255, 0.38);\n",
       "  --xr-border-color: #1F1F1F;\n",
       "  --xr-disabled-color: #515151;\n",
       "  --xr-background-color: #111111;\n",
       "  --xr-background-color-row-even: #111111;\n",
       "  --xr-background-color-row-odd: #313131;\n",
       "}\n",
       "\n",
       ".xr-wrap {\n",
       "  display: block;\n",
       "  min-width: 300px;\n",
       "  max-width: 700px;\n",
       "}\n",
       "\n",
       ".xr-text-repr-fallback {\n",
       "  /* fallback to plain text repr when CSS is not injected (untrusted notebook) */\n",
       "  display: none;\n",
       "}\n",
       "\n",
       ".xr-header {\n",
       "  padding-top: 6px;\n",
       "  padding-bottom: 6px;\n",
       "  margin-bottom: 4px;\n",
       "  border-bottom: solid 1px var(--xr-border-color);\n",
       "}\n",
       "\n",
       ".xr-header > div,\n",
       ".xr-header > ul {\n",
       "  display: inline;\n",
       "  margin-top: 0;\n",
       "  margin-bottom: 0;\n",
       "}\n",
       "\n",
       ".xr-obj-type,\n",
       ".xr-array-name {\n",
       "  margin-left: 2px;\n",
       "  margin-right: 10px;\n",
       "}\n",
       "\n",
       ".xr-obj-type {\n",
       "  color: var(--xr-font-color2);\n",
       "}\n",
       "\n",
       ".xr-sections {\n",
       "  padding-left: 0 !important;\n",
       "  display: grid;\n",
       "  grid-template-columns: 150px auto auto 1fr 20px 20px;\n",
       "}\n",
       "\n",
       ".xr-section-item {\n",
       "  display: contents;\n",
       "}\n",
       "\n",
       ".xr-section-item input {\n",
       "  display: none;\n",
       "}\n",
       "\n",
       ".xr-section-item input + label {\n",
       "  color: var(--xr-disabled-color);\n",
       "}\n",
       "\n",
       ".xr-section-item input:enabled + label {\n",
       "  cursor: pointer;\n",
       "  color: var(--xr-font-color2);\n",
       "}\n",
       "\n",
       ".xr-section-item input:enabled + label:hover {\n",
       "  color: var(--xr-font-color0);\n",
       "}\n",
       "\n",
       ".xr-section-summary {\n",
       "  grid-column: 1;\n",
       "  color: var(--xr-font-color2);\n",
       "  font-weight: 500;\n",
       "}\n",
       "\n",
       ".xr-section-summary > span {\n",
       "  display: inline-block;\n",
       "  padding-left: 0.5em;\n",
       "}\n",
       "\n",
       ".xr-section-summary-in:disabled + label {\n",
       "  color: var(--xr-font-color2);\n",
       "}\n",
       "\n",
       ".xr-section-summary-in + label:before {\n",
       "  display: inline-block;\n",
       "  content: '►';\n",
       "  font-size: 11px;\n",
       "  width: 15px;\n",
       "  text-align: center;\n",
       "}\n",
       "\n",
       ".xr-section-summary-in:disabled + label:before {\n",
       "  color: var(--xr-disabled-color);\n",
       "}\n",
       "\n",
       ".xr-section-summary-in:checked + label:before {\n",
       "  content: '▼';\n",
       "}\n",
       "\n",
       ".xr-section-summary-in:checked + label > span {\n",
       "  display: none;\n",
       "}\n",
       "\n",
       ".xr-section-summary,\n",
       ".xr-section-inline-details {\n",
       "  padding-top: 4px;\n",
       "  padding-bottom: 4px;\n",
       "}\n",
       "\n",
       ".xr-section-inline-details {\n",
       "  grid-column: 2 / -1;\n",
       "}\n",
       "\n",
       ".xr-section-details {\n",
       "  display: none;\n",
       "  grid-column: 1 / -1;\n",
       "  margin-bottom: 5px;\n",
       "}\n",
       "\n",
       ".xr-section-summary-in:checked ~ .xr-section-details {\n",
       "  display: contents;\n",
       "}\n",
       "\n",
       ".xr-array-wrap {\n",
       "  grid-column: 1 / -1;\n",
       "  display: grid;\n",
       "  grid-template-columns: 20px auto;\n",
       "}\n",
       "\n",
       ".xr-array-wrap > label {\n",
       "  grid-column: 1;\n",
       "  vertical-align: top;\n",
       "}\n",
       "\n",
       ".xr-preview {\n",
       "  color: var(--xr-font-color3);\n",
       "}\n",
       "\n",
       ".xr-array-preview,\n",
       ".xr-array-data {\n",
       "  padding: 0 5px !important;\n",
       "  grid-column: 2;\n",
       "}\n",
       "\n",
       ".xr-array-data,\n",
       ".xr-array-in:checked ~ .xr-array-preview {\n",
       "  display: none;\n",
       "}\n",
       "\n",
       ".xr-array-in:checked ~ .xr-array-data,\n",
       ".xr-array-preview {\n",
       "  display: inline-block;\n",
       "}\n",
       "\n",
       ".xr-dim-list {\n",
       "  display: inline-block !important;\n",
       "  list-style: none;\n",
       "  padding: 0 !important;\n",
       "  margin: 0;\n",
       "}\n",
       "\n",
       ".xr-dim-list li {\n",
       "  display: inline-block;\n",
       "  padding: 0;\n",
       "  margin: 0;\n",
       "}\n",
       "\n",
       ".xr-dim-list:before {\n",
       "  content: '(';\n",
       "}\n",
       "\n",
       ".xr-dim-list:after {\n",
       "  content: ')';\n",
       "}\n",
       "\n",
       ".xr-dim-list li:not(:last-child):after {\n",
       "  content: ',';\n",
       "  padding-right: 5px;\n",
       "}\n",
       "\n",
       ".xr-has-index {\n",
       "  font-weight: bold;\n",
       "}\n",
       "\n",
       ".xr-var-list,\n",
       ".xr-var-item {\n",
       "  display: contents;\n",
       "}\n",
       "\n",
       ".xr-var-item > div,\n",
       ".xr-var-item label,\n",
       ".xr-var-item > .xr-var-name span {\n",
       "  background-color: var(--xr-background-color-row-even);\n",
       "  margin-bottom: 0;\n",
       "}\n",
       "\n",
       ".xr-var-item > .xr-var-name:hover span {\n",
       "  padding-right: 5px;\n",
       "}\n",
       "\n",
       ".xr-var-list > li:nth-child(odd) > div,\n",
       ".xr-var-list > li:nth-child(odd) > label,\n",
       ".xr-var-list > li:nth-child(odd) > .xr-var-name span {\n",
       "  background-color: var(--xr-background-color-row-odd);\n",
       "}\n",
       "\n",
       ".xr-var-name {\n",
       "  grid-column: 1;\n",
       "}\n",
       "\n",
       ".xr-var-dims {\n",
       "  grid-column: 2;\n",
       "}\n",
       "\n",
       ".xr-var-dtype {\n",
       "  grid-column: 3;\n",
       "  text-align: right;\n",
       "  color: var(--xr-font-color2);\n",
       "}\n",
       "\n",
       ".xr-var-preview {\n",
       "  grid-column: 4;\n",
       "}\n",
       "\n",
       ".xr-var-name,\n",
       ".xr-var-dims,\n",
       ".xr-var-dtype,\n",
       ".xr-preview,\n",
       ".xr-attrs dt {\n",
       "  white-space: nowrap;\n",
       "  overflow: hidden;\n",
       "  text-overflow: ellipsis;\n",
       "  padding-right: 10px;\n",
       "}\n",
       "\n",
       ".xr-var-name:hover,\n",
       ".xr-var-dims:hover,\n",
       ".xr-var-dtype:hover,\n",
       ".xr-attrs dt:hover {\n",
       "  overflow: visible;\n",
       "  width: auto;\n",
       "  z-index: 1;\n",
       "}\n",
       "\n",
       ".xr-var-attrs,\n",
       ".xr-var-data {\n",
       "  display: none;\n",
       "  background-color: var(--xr-background-color) !important;\n",
       "  padding-bottom: 5px !important;\n",
       "}\n",
       "\n",
       ".xr-var-attrs-in:checked ~ .xr-var-attrs,\n",
       ".xr-var-data-in:checked ~ .xr-var-data {\n",
       "  display: block;\n",
       "}\n",
       "\n",
       ".xr-var-data > table {\n",
       "  float: right;\n",
       "}\n",
       "\n",
       ".xr-var-name span,\n",
       ".xr-var-data,\n",
       ".xr-attrs {\n",
       "  padding-left: 25px !important;\n",
       "}\n",
       "\n",
       ".xr-attrs,\n",
       ".xr-var-attrs,\n",
       ".xr-var-data {\n",
       "  grid-column: 1 / -1;\n",
       "}\n",
       "\n",
       "dl.xr-attrs {\n",
       "  padding: 0;\n",
       "  margin: 0;\n",
       "  display: grid;\n",
       "  grid-template-columns: 125px auto;\n",
       "}\n",
       "\n",
       ".xr-attrs dt,\n",
       ".xr-attrs dd {\n",
       "  padding: 0;\n",
       "  margin: 0;\n",
       "  float: left;\n",
       "  padding-right: 10px;\n",
       "  width: auto;\n",
       "}\n",
       "\n",
       ".xr-attrs dt {\n",
       "  font-weight: normal;\n",
       "  grid-column: 1;\n",
       "}\n",
       "\n",
       ".xr-attrs dt:hover span {\n",
       "  display: inline-block;\n",
       "  background: var(--xr-background-color);\n",
       "  padding-right: 10px;\n",
       "}\n",
       "\n",
       ".xr-attrs dd {\n",
       "  grid-column: 2;\n",
       "  white-space: pre-wrap;\n",
       "  word-break: break-all;\n",
       "}\n",
       "\n",
       ".xr-icon-database,\n",
       ".xr-icon-file-text2 {\n",
       "  display: inline-block;\n",
       "  vertical-align: middle;\n",
       "  width: 1em;\n",
       "  height: 1.5em !important;\n",
       "  stroke-width: 0;\n",
       "  stroke: currentColor;\n",
       "  fill: currentColor;\n",
       "}\n",
       "</style><pre class='xr-text-repr-fallback'>&lt;xarray.Dataset&gt;\n",
       "Dimensions:         (fold: 2, model: 2, epoch: 10)\n",
       "Coordinates:\n",
       "  * fold            (fold) int64 0 1\n",
       "  * model           (model) &lt;U6 &#x27;linear&#x27; &#x27;cnn&#x27;\n",
       "  * epoch           (epoch) int64 0 1 2 3 4 5 6 7 8 9\n",
       "Data variables:\n",
       "    train_loss      (fold, model, epoch) float64 1.843 0.9141 ... 0.01429\n",
       "    train_accuracy  (fold, model, epoch) float64 0.34 0.67 0.84 ... 0.98 1.0\n",
       "    val_loss        (fold, model, epoch) float64 1.751 0.982 ... 0.05559 0.05875\n",
       "    val_accuracy    (fold, model, epoch) float64 0.3953 0.6775 ... 0.9822 0.9809\n",
       "Attributes:\n",
       "    n_splits:  2</pre><div class='xr-wrap' hidden><div class='xr-header'><div class='xr-obj-type'>xarray.Dataset</div></div><ul class='xr-sections'><li class='xr-section-item'><input id='section-fb156af9-52d8-48fa-8e72-dc5f38819708' class='xr-section-summary-in' type='checkbox' disabled ><label for='section-fb156af9-52d8-48fa-8e72-dc5f38819708' class='xr-section-summary'  title='Expand/collapse section'>Dimensions:</label><div class='xr-section-inline-details'><ul class='xr-dim-list'><li><span class='xr-has-index'>fold</span>: 2</li><li><span class='xr-has-index'>model</span>: 2</li><li><span class='xr-has-index'>epoch</span>: 10</li></ul></div><div class='xr-section-details'></div></li><li class='xr-section-item'><input id='section-fcebbc43-b5b2-47cd-9b0c-826133db0705' class='xr-section-summary-in' type='checkbox'  checked><label for='section-fcebbc43-b5b2-47cd-9b0c-826133db0705' class='xr-section-summary' >Coordinates: <span>(3)</span></label><div class='xr-section-inline-details'></div><div class='xr-section-details'><ul class='xr-var-list'><li class='xr-var-item'><div class='xr-var-name'><span class='xr-has-index'>fold</span></div><div class='xr-var-dims'>(fold)</div><div class='xr-var-dtype'>int64</div><div class='xr-var-preview xr-preview'>0 1</div><input id='attrs-82c85500-a14b-413c-aa2d-079f9aa46f26' class='xr-var-attrs-in' type='checkbox' disabled><label for='attrs-82c85500-a14b-413c-aa2d-079f9aa46f26' title='Show/Hide attributes'><svg class='icon xr-icon-file-text2'><use xlink:href='#icon-file-text2'></use></svg></label><input id='data-5fca8d1b-177c-4e04-bb29-a84d2fb2ef32' class='xr-var-data-in' type='checkbox'><label for='data-5fca8d1b-177c-4e04-bb29-a84d2fb2ef32' title='Show/Hide data repr'><svg class='icon xr-icon-database'><use xlink:href='#icon-database'></use></svg></label><div class='xr-var-attrs'><dl class='xr-attrs'></dl></div><div class='xr-var-data'><pre>array([0, 1])</pre></div></li><li class='xr-var-item'><div class='xr-var-name'><span class='xr-has-index'>model</span></div><div class='xr-var-dims'>(model)</div><div class='xr-var-dtype'>&lt;U6</div><div class='xr-var-preview xr-preview'>&#x27;linear&#x27; &#x27;cnn&#x27;</div><input id='attrs-d42ec20e-a28f-4de4-ad9a-9ae946139180' class='xr-var-attrs-in' type='checkbox' disabled><label for='attrs-d42ec20e-a28f-4de4-ad9a-9ae946139180' title='Show/Hide attributes'><svg class='icon xr-icon-file-text2'><use xlink:href='#icon-file-text2'></use></svg></label><input id='data-b2894281-6e1c-41d3-9bb3-241b62e521cb' class='xr-var-data-in' type='checkbox'><label for='data-b2894281-6e1c-41d3-9bb3-241b62e521cb' title='Show/Hide data repr'><svg class='icon xr-icon-database'><use xlink:href='#icon-database'></use></svg></label><div class='xr-var-attrs'><dl class='xr-attrs'></dl></div><div class='xr-var-data'><pre>array([&#x27;linear&#x27;, &#x27;cnn&#x27;], dtype=&#x27;&lt;U6&#x27;)</pre></div></li><li class='xr-var-item'><div class='xr-var-name'><span class='xr-has-index'>epoch</span></div><div class='xr-var-dims'>(epoch)</div><div class='xr-var-dtype'>int64</div><div class='xr-var-preview xr-preview'>0 1 2 3 4 5 6 7 8 9</div><input id='attrs-1f111530-fff6-4128-ba66-1cc0031fdcfa' class='xr-var-attrs-in' type='checkbox' disabled><label for='attrs-1f111530-fff6-4128-ba66-1cc0031fdcfa' title='Show/Hide attributes'><svg class='icon xr-icon-file-text2'><use xlink:href='#icon-file-text2'></use></svg></label><input id='data-5228cd0b-1b4d-4c51-93c3-479959957747' class='xr-var-data-in' type='checkbox'><label for='data-5228cd0b-1b4d-4c51-93c3-479959957747' title='Show/Hide data repr'><svg class='icon xr-icon-database'><use xlink:href='#icon-database'></use></svg></label><div class='xr-var-attrs'><dl class='xr-attrs'></dl></div><div class='xr-var-data'><pre>array([0, 1, 2, 3, 4, 5, 6, 7, 8, 9])</pre></div></li></ul></div></li><li class='xr-section-item'><input id='section-9110dbab-99bc-4083-9acb-24108c3e6187' class='xr-section-summary-in' type='checkbox'  checked><label for='section-9110dbab-99bc-4083-9acb-24108c3e6187' class='xr-section-summary' >Data variables: <span>(4)</span></label><div class='xr-section-inline-details'></div><div class='xr-section-details'><ul class='xr-var-list'><li class='xr-var-item'><div class='xr-var-name'><span>train_loss</span></div><div class='xr-var-dims'>(fold, model, epoch)</div><div class='xr-var-dtype'>float64</div><div class='xr-var-preview xr-preview'>1.843 0.9141 ... 0.06187 0.01429</div><input id='attrs-9ce377f6-babd-4cd6-9bc8-a28c85e265b5' class='xr-var-attrs-in' type='checkbox' disabled><label for='attrs-9ce377f6-babd-4cd6-9bc8-a28c85e265b5' title='Show/Hide attributes'><svg class='icon xr-icon-file-text2'><use xlink:href='#icon-file-text2'></use></svg></label><input id='data-8c9837c3-db6e-4919-9cf8-0922c870a3f9' class='xr-var-data-in' type='checkbox'><label for='data-8c9837c3-db6e-4919-9cf8-0922c870a3f9' title='Show/Hide data repr'><svg class='icon xr-icon-database'><use xlink:href='#icon-database'></use></svg></label><div class='xr-var-attrs'><dl class='xr-attrs'></dl></div><div class='xr-var-data'><pre>array([[[1.84292114, 0.91411453, 0.56601125, 0.40735164, 0.25742462,\n",
       "         0.38516247, 0.22364628, 0.30317438, 0.23015535, 0.24520712],\n",
       "        [0.14596678, 0.09687925, 0.11298358, 0.0231307 , 0.07498793,\n",
       "         0.0575781 , 0.04878395, 0.04890716, 0.03334936, 0.02317524]],\n",
       "\n",
       "       [[1.80253327, 0.95794898, 0.72493637, 0.3126767 , 0.34714097,\n",
       "         0.41859066, 0.26270753, 0.18462013, 0.1319288 , 0.20296416],\n",
       "        [0.10246996, 0.03364224, 0.19099446, 0.08976926, 0.04811488,\n",
       "         0.03640365, 0.06905943, 0.04545942, 0.06187333, 0.01428588]]])</pre></div></li><li class='xr-var-item'><div class='xr-var-name'><span>train_accuracy</span></div><div class='xr-var-dims'>(fold, model, epoch)</div><div class='xr-var-dtype'>float64</div><div class='xr-var-preview xr-preview'>0.34 0.67 0.84 ... 0.99 0.98 1.0</div><input id='attrs-313fa6ca-44c0-4c1c-a2e6-d6c06c10a3aa' class='xr-var-attrs-in' type='checkbox' disabled><label for='attrs-313fa6ca-44c0-4c1c-a2e6-d6c06c10a3aa' title='Show/Hide attributes'><svg class='icon xr-icon-file-text2'><use xlink:href='#icon-file-text2'></use></svg></label><input id='data-0f345a85-4a8b-4120-a1c8-dc0c625f1021' class='xr-var-data-in' type='checkbox'><label for='data-0f345a85-4a8b-4120-a1c8-dc0c625f1021' title='Show/Hide data repr'><svg class='icon xr-icon-database'><use xlink:href='#icon-database'></use></svg></label><div class='xr-var-attrs'><dl class='xr-attrs'></dl></div><div class='xr-var-data'><pre>array([[[0.34      , 0.67000002, 0.83999997, 0.88      , 0.91000003,\n",
       "         0.91000003, 0.91000003, 0.92000002, 0.93000001, 0.91000003],\n",
       "        [0.97000003, 0.95999998, 0.97000003, 0.99000001, 0.97000003,\n",
       "         0.99000001, 0.98000002, 0.98000002, 0.98000002, 0.99000001]],\n",
       "\n",
       "       [[0.38999999, 0.66000003, 0.76999998, 0.88999999, 0.92000002,\n",
       "         0.86000001, 0.88      , 0.94999999, 0.97000003, 0.94999999],\n",
       "        [0.98000002, 0.99000001, 0.94999999, 0.98000002, 0.99000001,\n",
       "         0.99000001, 0.98000002, 0.99000001, 0.98000002, 1.        ]]])</pre></div></li><li class='xr-var-item'><div class='xr-var-name'><span>val_loss</span></div><div class='xr-var-dims'>(fold, model, epoch)</div><div class='xr-var-dtype'>float64</div><div class='xr-var-preview xr-preview'>1.751 0.982 ... 0.05559 0.05875</div><input id='attrs-8131e489-77bb-4b9f-b0c6-c7cb686b53d5' class='xr-var-attrs-in' type='checkbox' disabled><label for='attrs-8131e489-77bb-4b9f-b0c6-c7cb686b53d5' title='Show/Hide attributes'><svg class='icon xr-icon-file-text2'><use xlink:href='#icon-file-text2'></use></svg></label><input id='data-d1c566d7-487a-4f66-8305-5c77aafa7b49' class='xr-var-data-in' type='checkbox'><label for='data-d1c566d7-487a-4f66-8305-5c77aafa7b49' title='Show/Hide data repr'><svg class='icon xr-icon-database'><use xlink:href='#icon-database'></use></svg></label><div class='xr-var-attrs'><dl class='xr-attrs'></dl></div><div class='xr-var-data'><pre>array([[[1.75138438, 0.98202723, 0.58188194, 0.38777778, 0.31018761,\n",
       "         0.321367  , 0.25354946, 0.23486698, 0.20577776, 0.18905197],\n",
       "        [0.17589222, 0.09561242, 0.09094732, 0.08628079, 0.061953  ,\n",
       "         0.0535531 , 0.06413647, 0.05337955, 0.05904228, 0.0466436 ]],\n",
       "\n",
       "       [[1.85520816, 0.95965004, 0.75001425, 0.39720115, 0.35004416,\n",
       "         0.29357648, 0.26241106, 0.22999182, 0.19612788, 0.18846357],\n",
       "        [0.12823881, 0.10106483, 0.08617733, 0.0842027 , 0.07335975,\n",
       "         0.07860082, 0.06697194, 0.05830069, 0.05559341, 0.05875233]]])</pre></div></li><li class='xr-var-item'><div class='xr-var-name'><span>val_accuracy</span></div><div class='xr-var-dims'>(fold, model, epoch)</div><div class='xr-var-dtype'>float64</div><div class='xr-var-preview xr-preview'>0.3953 0.6775 ... 0.9822 0.9809</div><input id='attrs-80c8ad6e-661a-45fc-bab7-b14a33eb8569' class='xr-var-attrs-in' type='checkbox' disabled><label for='attrs-80c8ad6e-661a-45fc-bab7-b14a33eb8569' title='Show/Hide attributes'><svg class='icon xr-icon-file-text2'><use xlink:href='#icon-file-text2'></use></svg></label><input id='data-7da2714d-b0d5-4493-9ad3-3e9d77cd2add' class='xr-var-data-in' type='checkbox'><label for='data-7da2714d-b0d5-4493-9ad3-3e9d77cd2add' title='Show/Hide data repr'><svg class='icon xr-icon-database'><use xlink:href='#icon-database'></use></svg></label><div class='xr-var-attrs'><dl class='xr-attrs'></dl></div><div class='xr-var-data'><pre>array([[[0.39533332, 0.67746669, 0.82709998, 0.88673335, 0.90746665,\n",
       "         0.90090001, 0.92396665, 0.92919999, 0.93866664, 0.94346666],\n",
       "        [0.94736665, 0.97180003, 0.97170001, 0.97386664, 0.98126668,\n",
       "         0.98416668, 0.98086667, 0.98393333, 0.98150003, 0.98526669]],\n",
       "\n",
       "       [[0.34740001, 0.69139999, 0.73876667, 0.88429999, 0.89256668,\n",
       "         0.91210002, 0.91886669, 0.92986667, 0.93943334, 0.94300002],\n",
       "        [0.96063334, 0.9691    , 0.97363335, 0.97503334, 0.97829998,\n",
       "         0.97606665, 0.9788667 , 0.98210001, 0.98220003, 0.98093331]]])</pre></div></li></ul></div></li><li class='xr-section-item'><input id='section-198b631e-f98c-43e6-a909-6758827bc349' class='xr-section-summary-in' type='checkbox'  checked><label for='section-198b631e-f98c-43e6-a909-6758827bc349' class='xr-section-summary' >Attributes: <span>(1)</span></label><div class='xr-section-inline-details'></div><div class='xr-section-details'><dl class='xr-attrs'><dt><span>n_splits :</span></dt><dd>2</dd></dl></div></li></ul></div></div>"
      ],
      "text/plain": [
       "<xarray.Dataset>\n",
       "Dimensions:         (fold: 2, model: 2, epoch: 10)\n",
       "Coordinates:\n",
       "  * fold            (fold) int64 0 1\n",
       "  * model           (model) <U6 'linear' 'cnn'\n",
       "  * epoch           (epoch) int64 0 1 2 3 4 5 6 7 8 9\n",
       "Data variables:\n",
       "    train_loss      (fold, model, epoch) float64 1.843 0.9141 ... 0.01429\n",
       "    train_accuracy  (fold, model, epoch) float64 0.34 0.67 0.84 ... 0.98 1.0\n",
       "    val_loss        (fold, model, epoch) float64 1.751 0.982 ... 0.05559 0.05875\n",
       "    val_accuracy    (fold, model, epoch) float64 0.3953 0.6775 ... 0.9822 0.9809\n",
       "Attributes:\n",
       "    n_splits:  2"
      ]
     },
     "execution_count": 12,
     "metadata": {},
     "output_type": "execute_result"
    }
   ],
   "source": [
    "xdata = kfold_task.to_xarray(coord_from_metrics=\"epoch\")\n",
    "xdata"
   ]
  },
  {
   "cell_type": "markdown",
   "metadata": {},
   "source": [
    "We can use XArray to plot the validation accuracy over training epochs for each fold or aggregrate the mean across all folds."
   ]
  },
  {
   "cell_type": "code",
   "execution_count": 13,
   "metadata": {},
   "outputs": [
    {
     "data": {
      "text/plain": [
       "<matplotlib.legend.Legend at 0x7f7b4cfbd5b0>"
      ]
     },
     "execution_count": 13,
     "metadata": {},
     "output_type": "execute_result"
    },
    {
     "data": {
      "image/png": "[encoded data removed]",
      "text/plain": [
       "<Figure size 432x288 with 1 Axes>"
      ]
     },
     "metadata": {
      "needs_background": "light"
     },
     "output_type": "display_data"
    }
   ],
   "source": [
    "fig, ax = plt.subplots()\n",
    "for name, g in xdata.groupby(\"model\"):\n",
    "    g.val_accuracy[:, 0].plot.line(x=\"epoch\", label=f\"{name} (fold)\", ax=ax)\n",
    "    g.val_accuracy[:, 0].mean(\"fold\").plot.line(\n",
    "        x=\"epoch\", label=name, ax=ax, linestyle=\"--\", color=\"k\"\n",
    "    )\n",
    "plt.legend()\n"
   ]
  },
  {
   "cell_type": "markdown",
   "metadata": {},
   "source": [
    "## Robustness Curve\n",
    "\n",
    "Now that we have trained some models lets evalulate robustness of each model to adversarial perturbations.  To create a configuration and workflow we need to provide the following for our task:\n",
    "\n",
    "- The experiment directory containing the experiment parameters and model checkpoint for training\n",
    "- The perturbation type and perturbation magnitude (`epsilon`)\n",
    "\n",
    "Below we define a function that extracts the configuration of the model defined by in the experiment YAML file while the checkpoint is found within the training experiment directory.  This makes sure we load the correct model configuration and checkpoint for testing."
   ]
  },
  {
   "cell_type": "code",
   "execution_count": 19,
   "metadata": {},
   "outputs": [],
   "source": [
    "def load_model_from_experiment(job_dir: Union[Path, str]):\n",
    "    # Load configuration for experiment\n",
    "    job_dir = Path(job_dir)\n",
    "    exp_cfg = job_dir / \".hydra/config.yaml\"\n",
    "    assert exp_cfg.exists()\n",
    "    exp_cfg = load_from_yaml(exp_cfg)\n",
    "    model = instantiate(exp_cfg.model)\n",
    "\n",
    "    # get path to model checkpoint in experiment directory\n",
    "    # and load to model\n",
    "    ckpts = list(job_dir.glob(\"**/*.ckpt\"))\n",
    "    assert len(ckpts) == 1\n",
    "    ckpt = ckpts[0]\n",
    "    load_from_checkpoint(\n",
    "        model,\n",
    "        ckpt=ckpt,\n",
    "        weights_key=\"state_dict\",\n",
    "        weights_key_strip=\"model.\",\n",
    "    )\n",
    "\n",
    "    return model\n"
   ]
  },
  {
   "cell_type": "markdown",
   "metadata": {},
   "source": [
    "Now we can define our experiment configuration file."
   ]
  },
  {
   "cell_type": "code",
   "execution_count": 20,
   "metadata": {},
   "outputs": [],
   "source": [
    "TestConfig = make_config(\n",
    "    defaults=[\n",
    "        \"_self_\",\n",
    "        {\"optimizer\": \"l2pgd\"},\n",
    "    ],\n",
    "    data_dir=\"${oc.env:HOME}/.torch/data\",\n",
    "    job_dir=MISSING,  # will be auto-populated by our workflow\n",
    "    trainer=TrainerCfg,\n",
    "    module=EvalPLModule,\n",
    "    model=builds(load_model_from_experiment, job_dir=\"${job_dir}\"),\n",
    "    perturber=Perturber,\n",
    "    optimizer=MISSING,\n",
    "    epsilon=0.0,\n",
    "    steps=10,\n",
    ")\n"
   ]
  },
  {
   "cell_type": "markdown",
   "metadata": {},
   "source": [
    "The workflow inherits from [RobustnessCurve](https://mit-ll-responsible-ai.github.io/responsible-ai-toolbox/generated/rai_toolbox.mushin.RobustnessCurve.html).  Other than the basic task function to use [Trainer.test](https://pytorch-lightning.readthedocs.io/en/latest/api/pytorch_lightning.trainer.trainer.Trainer.html#pytorch_lightning.trainer.trainer.Trainer) and return the test metrics saved by [MetricsCallback](https://mit-ll-responsible-ai.github.io/responsible-ai-toolbox/generated/rai_toolbox.mushin.MetricsCallback.html), this workflow extends the basic interface for `RobustnessCurve` to:\n",
    "\n",
    "- Load and correlate the training experiment parameters model and fold to the robustness curve experiments\n",
    "- Update the [xarray.Dataset](https://docs.xarray.dev/en/stable/generated/xarray.Dataset.html) with the training experiment parameters"
   ]
  },
  {
   "cell_type": "code",
   "execution_count": 16,
   "metadata": {},
   "outputs": [],
   "source": [
    "class ExperimentRobustnessCurve(RobustnessCurve):\n",
    "    @staticmethod\n",
    "    def evaluation_task(trainer: Trainer, module: LightningModule):\n",
    "        trainer.test(module)\n",
    "        return tr.load(\"test_metrics.pt\")"
   ]
  },
  {
   "cell_type": "markdown",
   "metadata": {},
   "source": [
    "Run the experiment by first defining the main experiment directory for each cross-validation experiment and providing the `epsilon` values for the calculating the $\\ell_2$ adverarial perturbations."
   ]
  },
  {
   "cell_type": "code",
   "execution_count": 21,
   "metadata": {},
   "outputs": [
    {
     "name": "stdout",
     "output_type": "stream",
     "text": [
      "[2022-05-13 18:20:31,595][HYDRA] Launching 12 jobs locally\n",
      "[2022-05-13 18:20:31,595][HYDRA] \t#0 : epsilon=0 job_dir=/home/ry26099/public-responsible-ai-toolbox/docs/source/tutorials/outputs/cross_validation/2022-05-13/18-08-27/0\n"
     ]
    },
    {
     "name": "stderr",
     "output_type": "stream",
     "text": [
      "GPU available: True, used: True\n",
      "TPU available: False, using: 0 TPU cores\n",
      "IPU available: False, using: 0 IPUs\n",
      "HPU available: False, using: 0 HPUs\n"
     ]
    },
    {
     "name": "stdout",
     "output_type": "stream",
     "text": [
      "[2022-05-13 18:20:31,690][rai_toolbox.mushin._utils][INFO] - Loading model checkpoint from /home/ry26099/public-responsible-ai-toolbox/docs/source/tutorials/outputs/cross_validation/2022-05-13/18-08-27/0/lightning_logs/version_0/checkpoints/epoch=9-step=3000.ckpt\n"
     ]
    },
    {
     "name": "stderr",
     "output_type": "stream",
     "text": [
      "Missing logger folder: /home/ry26099/public-responsible-ai-toolbox/docs/source/tutorials/outputs/robustness_curves/2022-05-13/18-20-30/0/lightning_logs\n",
      "LOCAL_RANK: 0 - CUDA_VISIBLE_DEVICES: [0,1]\n"
     ]
    },
    {
     "name": "stdout",
     "output_type": "stream",
     "text": [
      "────────────────────────────────────────────────────────────────────────────────────────────────────────────────────────\n",
      "       Test metric             DataLoader 0\n",
      "────────────────────────────────────────────────────────────────────────────────────────────────────────────────────────\n",
      "      test_accuracy          0.960099995136261\n",
      "  test_adversarial_loss     0.12364722788333893\n",
      "   test_clean_accuracy       0.960099995136261\n",
      "        test_loss           0.12364724278450012\n",
      "────────────────────────────────────────────────────────────────────────────────────────────────────────────────────────\n",
      "[2022-05-13 18:20:33,112][HYDRA] \t#1 : epsilon=0 job_dir=/home/ry26099/public-responsible-ai-toolbox/docs/source/tutorials/outputs/cross_validation/2022-05-13/18-08-27/1\n"
     ]
    },
    {
     "name": "stderr",
     "output_type": "stream",
     "text": [
      "GPU available: True, used: True\n",
      "TPU available: False, using: 0 TPU cores\n",
      "IPU available: False, using: 0 IPUs\n",
      "HPU available: False, using: 0 HPUs\n"
     ]
    },
    {
     "name": "stdout",
     "output_type": "stream",
     "text": [
      "[2022-05-13 18:20:33,209][rai_toolbox.mushin._utils][INFO] - Loading model checkpoint from /home/ry26099/public-responsible-ai-toolbox/docs/source/tutorials/outputs/cross_validation/2022-05-13/18-08-27/1/lightning_logs/version_0/checkpoints/epoch=9-step=3000.ckpt\n"
     ]
    },
    {
     "name": "stderr",
     "output_type": "stream",
     "text": [
      "Missing logger folder: /home/ry26099/public-responsible-ai-toolbox/docs/source/tutorials/outputs/robustness_curves/2022-05-13/18-20-30/1/lightning_logs\n",
      "LOCAL_RANK: 0 - CUDA_VISIBLE_DEVICES: [0,1]\n"
     ]
    },
    {
     "name": "stdout",
     "output_type": "stream",
     "text": [
      "────────────────────────────────────────────────────────────────────────────────────────────────────────────────────────\n",
      "       Test metric             DataLoader 0\n",
      "────────────────────────────────────────────────────────────────────────────────────────────────────────────────────────\n",
      "      test_accuracy         0.9864000082015991\n",
      "  test_adversarial_loss     0.04095040634274483\n",
      "   test_clean_accuracy      0.9864000082015991\n",
      "        test_loss          0.040950410068035126\n",
      "────────────────────────────────────────────────────────────────────────────────────────────────────────────────────────\n",
      "[2022-05-13 18:20:35,175][HYDRA] \t#2 : epsilon=0 job_dir=/home/ry26099/public-responsible-ai-toolbox/docs/source/tutorials/outputs/cross_validation/2022-05-13/18-08-27/2\n"
     ]
    },
    {
     "name": "stderr",
     "output_type": "stream",
     "text": [
      "GPU available: True, used: True\n",
      "TPU available: False, using: 0 TPU cores\n",
      "IPU available: False, using: 0 IPUs\n",
      "HPU available: False, using: 0 HPUs\n"
     ]
    },
    {
     "name": "stdout",
     "output_type": "stream",
     "text": [
      "[2022-05-13 18:20:35,273][rai_toolbox.mushin._utils][INFO] - Loading model checkpoint from /home/ry26099/public-responsible-ai-toolbox/docs/source/tutorials/outputs/cross_validation/2022-05-13/18-08-27/2/lightning_logs/version_0/checkpoints/epoch=9-step=3000.ckpt\n"
     ]
    },
    {
     "name": "stderr",
     "output_type": "stream",
     "text": [
      "Missing logger folder: /home/ry26099/public-responsible-ai-toolbox/docs/source/tutorials/outputs/robustness_curves/2022-05-13/18-20-30/2/lightning_logs\n",
      "LOCAL_RANK: 0 - CUDA_VISIBLE_DEVICES: [0,1]\n"
     ]
    },
    {
     "name": "stdout",
     "output_type": "stream",
     "text": [
      "────────────────────────────────────────────────────────────────────────────────────────────────────────────────────────\n",
      "       Test metric             DataLoader 0\n",
      "────────────────────────────────────────────────────────────────────────────────────────────────────────────────────────\n",
      "      test_accuracy         0.9627000093460083\n",
      "  test_adversarial_loss     0.12427180260419846\n",
      "   test_clean_accuracy      0.9627000093460083\n",
      "        test_loss           0.12427180260419846\n",
      "────────────────────────────────────────────────────────────────────────────────────────────────────────────────────────\n",
      "[2022-05-13 18:20:36,677][HYDRA] \t#3 : epsilon=0 job_dir=/home/ry26099/public-responsible-ai-toolbox/docs/source/tutorials/outputs/cross_validation/2022-05-13/18-08-27/3\n"
     ]
    },
    {
     "name": "stderr",
     "output_type": "stream",
     "text": [
      "GPU available: True, used: True\n",
      "TPU available: False, using: 0 TPU cores\n",
      "IPU available: False, using: 0 IPUs\n",
      "HPU available: False, using: 0 HPUs\n"
     ]
    },
    {
     "name": "stdout",
     "output_type": "stream",
     "text": [
      "[2022-05-13 18:20:36,773][rai_toolbox.mushin._utils][INFO] - Loading model checkpoint from /home/ry26099/public-responsible-ai-toolbox/docs/source/tutorials/outputs/cross_validation/2022-05-13/18-08-27/3/lightning_logs/version_0/checkpoints/epoch=9-step=3000.ckpt\n"
     ]
    },
    {
     "name": "stderr",
     "output_type": "stream",
     "text": [
      "Missing logger folder: /home/ry26099/public-responsible-ai-toolbox/docs/source/tutorials/outputs/robustness_curves/2022-05-13/18-20-30/3/lightning_logs\n",
      "LOCAL_RANK: 0 - CUDA_VISIBLE_DEVICES: [0,1]\n"
     ]
    },
    {
     "name": "stdout",
     "output_type": "stream",
     "text": [
      "────────────────────────────────────────────────────────────────────────────────────────────────────────────────────────\n",
      "       Test metric             DataLoader 0\n",
      "────────────────────────────────────────────────────────────────────────────────────────────────────────────────────────\n",
      "      test_accuracy         0.9857000112533569\n",
      "  test_adversarial_loss    0.040786076337099075\n",
      "   test_clean_accuracy      0.9857000112533569\n",
      "        test_loss           0.04078606888651848\n",
      "────────────────────────────────────────────────────────────────────────────────────────────────────────────────────────\n",
      "[2022-05-13 18:20:38,720][HYDRA] \t#4 : epsilon=1 job_dir=/home/ry26099/public-responsible-ai-toolbox/docs/source/tutorials/outputs/cross_validation/2022-05-13/18-08-27/0\n"
     ]
    },
    {
     "name": "stderr",
     "output_type": "stream",
     "text": [
      "GPU available: True, used: True\n",
      "TPU available: False, using: 0 TPU cores\n",
      "IPU available: False, using: 0 IPUs\n",
      "HPU available: False, using: 0 HPUs\n"
     ]
    },
    {
     "name": "stdout",
     "output_type": "stream",
     "text": [
      "[2022-05-13 18:20:38,817][rai_toolbox.mushin._utils][INFO] - Loading model checkpoint from /home/ry26099/public-responsible-ai-toolbox/docs/source/tutorials/outputs/cross_validation/2022-05-13/18-08-27/0/lightning_logs/version_0/checkpoints/epoch=9-step=3000.ckpt\n"
     ]
    },
    {
     "name": "stderr",
     "output_type": "stream",
     "text": [
      "Missing logger folder: /home/ry26099/public-responsible-ai-toolbox/docs/source/tutorials/outputs/robustness_curves/2022-05-13/18-20-30/4/lightning_logs\n",
      "LOCAL_RANK: 0 - CUDA_VISIBLE_DEVICES: [0,1]\n"
     ]
    },
    {
     "name": "stdout",
     "output_type": "stream",
     "text": [
      "────────────────────────────────────────────────────────────────────────────────────────────────────────────────────────\n",
      "       Test metric             DataLoader 0\n",
      "────────────────────────────────────────────────────────────────────────────────────────────────────────────────────────\n",
      "      test_accuracy         0.25429999828338623\n",
      "  test_adversarial_loss     3.1336989402770996\n",
      "   test_clean_accuracy       0.960099995136261\n",
      "        test_loss           3.1336989402770996\n",
      "────────────────────────────────────────────────────────────────────────────────────────────────────────────────────────\n",
      "[2022-05-13 18:20:40,136][HYDRA] \t#5 : epsilon=1 job_dir=/home/ry26099/public-responsible-ai-toolbox/docs/source/tutorials/outputs/cross_validation/2022-05-13/18-08-27/1\n"
     ]
    },
    {
     "name": "stderr",
     "output_type": "stream",
     "text": [
      "GPU available: True, used: True\n",
      "TPU available: False, using: 0 TPU cores\n",
      "IPU available: False, using: 0 IPUs\n",
      "HPU available: False, using: 0 HPUs\n"
     ]
    },
    {
     "name": "stdout",
     "output_type": "stream",
     "text": [
      "[2022-05-13 18:20:40,236][rai_toolbox.mushin._utils][INFO] - Loading model checkpoint from /home/ry26099/public-responsible-ai-toolbox/docs/source/tutorials/outputs/cross_validation/2022-05-13/18-08-27/1/lightning_logs/version_0/checkpoints/epoch=9-step=3000.ckpt\n"
     ]
    },
    {
     "name": "stderr",
     "output_type": "stream",
     "text": [
      "Missing logger folder: /home/ry26099/public-responsible-ai-toolbox/docs/source/tutorials/outputs/robustness_curves/2022-05-13/18-20-30/5/lightning_logs\n",
      "LOCAL_RANK: 0 - CUDA_VISIBLE_DEVICES: [0,1]\n"
     ]
    },
    {
     "name": "stdout",
     "output_type": "stream",
     "text": [
      "────────────────────────────────────────────────────────────────────────────────────────────────────────────────────────\n",
      "       Test metric             DataLoader 0\n",
      "────────────────────────────────────────────────────────────────────────────────────────────────────────────────────────\n",
      "      test_accuracy         0.09880000352859497\n",
      "  test_adversarial_loss      4.911465167999268\n",
      "   test_clean_accuracy      0.9864000082015991\n",
      "        test_loss            4.911465167999268\n",
      "────────────────────────────────────────────────────────────────────────────────────────────────────────────────────────\n",
      "[2022-05-13 18:20:42,173][HYDRA] \t#6 : epsilon=1 job_dir=/home/ry26099/public-responsible-ai-toolbox/docs/source/tutorials/outputs/cross_validation/2022-05-13/18-08-27/2\n"
     ]
    },
    {
     "name": "stderr",
     "output_type": "stream",
     "text": [
      "GPU available: True, used: True\n",
      "TPU available: False, using: 0 TPU cores\n",
      "IPU available: False, using: 0 IPUs\n",
      "HPU available: False, using: 0 HPUs\n"
     ]
    },
    {
     "name": "stdout",
     "output_type": "stream",
     "text": [
      "[2022-05-13 18:20:42,276][rai_toolbox.mushin._utils][INFO] - Loading model checkpoint from /home/ry26099/public-responsible-ai-toolbox/docs/source/tutorials/outputs/cross_validation/2022-05-13/18-08-27/2/lightning_logs/version_0/checkpoints/epoch=9-step=3000.ckpt\n"
     ]
    },
    {
     "name": "stderr",
     "output_type": "stream",
     "text": [
      "Missing logger folder: /home/ry26099/public-responsible-ai-toolbox/docs/source/tutorials/outputs/robustness_curves/2022-05-13/18-20-30/6/lightning_logs\n",
      "LOCAL_RANK: 0 - CUDA_VISIBLE_DEVICES: [0,1]\n"
     ]
    },
    {
     "name": "stdout",
     "output_type": "stream",
     "text": [
      "────────────────────────────────────────────────────────────────────────────────────────────────────────────────────────\n",
      "       Test metric             DataLoader 0\n",
      "────────────────────────────────────────────────────────────────────────────────────────────────────────────────────────\n",
      "      test_accuracy         0.2134000062942505\n",
      "  test_adversarial_loss     3.3395023345947266\n",
      "   test_clean_accuracy      0.9627000093460083\n",
      "        test_loss           3.3395028114318848\n",
      "────────────────────────────────────────────────────────────────────────────────────────────────────────────────────────\n",
      "[2022-05-13 18:20:43,690][HYDRA] \t#7 : epsilon=1 job_dir=/home/ry26099/public-responsible-ai-toolbox/docs/source/tutorials/outputs/cross_validation/2022-05-13/18-08-27/3\n"
     ]
    },
    {
     "name": "stderr",
     "output_type": "stream",
     "text": [
      "GPU available: True, used: True\n",
      "TPU available: False, using: 0 TPU cores\n",
      "IPU available: False, using: 0 IPUs\n",
      "HPU available: False, using: 0 HPUs\n"
     ]
    },
    {
     "name": "stdout",
     "output_type": "stream",
     "text": [
      "[2022-05-13 18:20:43,787][rai_toolbox.mushin._utils][INFO] - Loading model checkpoint from /home/ry26099/public-responsible-ai-toolbox/docs/source/tutorials/outputs/cross_validation/2022-05-13/18-08-27/3/lightning_logs/version_0/checkpoints/epoch=9-step=3000.ckpt\n"
     ]
    },
    {
     "name": "stderr",
     "output_type": "stream",
     "text": [
      "Missing logger folder: /home/ry26099/public-responsible-ai-toolbox/docs/source/tutorials/outputs/robustness_curves/2022-05-13/18-20-30/7/lightning_logs\n",
      "LOCAL_RANK: 0 - CUDA_VISIBLE_DEVICES: [0,1]\n"
     ]
    },
    {
     "name": "stdout",
     "output_type": "stream",
     "text": [
      "────────────────────────────────────────────────────────────────────────────────────────────────────────────────────────\n",
      "       Test metric             DataLoader 0\n",
      "────────────────────────────────────────────────────────────────────────────────────────────────────────────────────────\n",
      "      test_accuracy         0.11240000277757645\n",
      "  test_adversarial_loss      4.659071922302246\n",
      "   test_clean_accuracy      0.9857000112533569\n",
      "        test_loss            4.659071922302246\n",
      "────────────────────────────────────────────────────────────────────────────────────────────────────────────────────────\n",
      "[2022-05-13 18:20:45,733][HYDRA] \t#8 : epsilon=2 job_dir=/home/ry26099/public-responsible-ai-toolbox/docs/source/tutorials/outputs/cross_validation/2022-05-13/18-08-27/0\n"
     ]
    },
    {
     "name": "stderr",
     "output_type": "stream",
     "text": [
      "GPU available: True, used: True\n",
      "TPU available: False, using: 0 TPU cores\n",
      "IPU available: False, using: 0 IPUs\n",
      "HPU available: False, using: 0 HPUs\n"
     ]
    },
    {
     "name": "stdout",
     "output_type": "stream",
     "text": [
      "[2022-05-13 18:20:45,832][rai_toolbox.mushin._utils][INFO] - Loading model checkpoint from /home/ry26099/public-responsible-ai-toolbox/docs/source/tutorials/outputs/cross_validation/2022-05-13/18-08-27/0/lightning_logs/version_0/checkpoints/epoch=9-step=3000.ckpt\n"
     ]
    },
    {
     "name": "stderr",
     "output_type": "stream",
     "text": [
      "Missing logger folder: /home/ry26099/public-responsible-ai-toolbox/docs/source/tutorials/outputs/robustness_curves/2022-05-13/18-20-30/8/lightning_logs\n",
      "LOCAL_RANK: 0 - CUDA_VISIBLE_DEVICES: [0,1]\n"
     ]
    },
    {
     "name": "stdout",
     "output_type": "stream",
     "text": [
      "────────────────────────────────────────────────────────────────────────────────────────────────────────────────────────\n",
      "       Test metric             DataLoader 0\n",
      "────────────────────────────────────────────────────────────────────────────────────────────────────────────────────────\n",
      "      test_accuracy         0.00800000037997961\n",
      "  test_adversarial_loss     10.397013664245605\n",
      "   test_clean_accuracy       0.960099995136261\n",
      "        test_loss           10.397013664245605\n",
      "────────────────────────────────────────────────────────────────────────────────────────────────────────────────────────\n",
      "[2022-05-13 18:20:47,178][HYDRA] \t#9 : epsilon=2 job_dir=/home/ry26099/public-responsible-ai-toolbox/docs/source/tutorials/outputs/cross_validation/2022-05-13/18-08-27/1\n"
     ]
    },
    {
     "name": "stderr",
     "output_type": "stream",
     "text": [
      "GPU available: True, used: True\n",
      "TPU available: False, using: 0 TPU cores\n",
      "IPU available: False, using: 0 IPUs\n",
      "HPU available: False, using: 0 HPUs\n"
     ]
    },
    {
     "name": "stdout",
     "output_type": "stream",
     "text": [
      "[2022-05-13 18:20:47,274][rai_toolbox.mushin._utils][INFO] - Loading model checkpoint from /home/ry26099/public-responsible-ai-toolbox/docs/source/tutorials/outputs/cross_validation/2022-05-13/18-08-27/1/lightning_logs/version_0/checkpoints/epoch=9-step=3000.ckpt\n"
     ]
    },
    {
     "name": "stderr",
     "output_type": "stream",
     "text": [
      "Missing logger folder: /home/ry26099/public-responsible-ai-toolbox/docs/source/tutorials/outputs/robustness_curves/2022-05-13/18-20-30/9/lightning_logs\n",
      "LOCAL_RANK: 0 - CUDA_VISIBLE_DEVICES: [0,1]\n"
     ]
    },
    {
     "name": "stdout",
     "output_type": "stream",
     "text": [
      "────────────────────────────────────────────────────────────────────────────────────────────────────────────────────────\n",
      "       Test metric             DataLoader 0\n",
      "────────────────────────────────────────────────────────────────────────────────────────────────────────────────────────\n",
      "      test_accuracy                 0.0\n",
      "  test_adversarial_loss     17.151403427124023\n",
      "   test_clean_accuracy      0.9864000082015991\n",
      "        test_loss           17.151405334472656\n",
      "────────────────────────────────────────────────────────────────────────────────────────────────────────────────────────\n",
      "[2022-05-13 18:20:49,221][HYDRA] \t#10 : epsilon=2 job_dir=/home/ry26099/public-responsible-ai-toolbox/docs/source/tutorials/outputs/cross_validation/2022-05-13/18-08-27/2\n"
     ]
    },
    {
     "name": "stderr",
     "output_type": "stream",
     "text": [
      "GPU available: True, used: True\n",
      "TPU available: False, using: 0 TPU cores\n",
      "IPU available: False, using: 0 IPUs\n",
      "HPU available: False, using: 0 HPUs\n"
     ]
    },
    {
     "name": "stdout",
     "output_type": "stream",
     "text": [
      "[2022-05-13 18:20:49,320][rai_toolbox.mushin._utils][INFO] - Loading model checkpoint from /home/ry26099/public-responsible-ai-toolbox/docs/source/tutorials/outputs/cross_validation/2022-05-13/18-08-27/2/lightning_logs/version_0/checkpoints/epoch=9-step=3000.ckpt\n"
     ]
    },
    {
     "name": "stderr",
     "output_type": "stream",
     "text": [
      "Missing logger folder: /home/ry26099/public-responsible-ai-toolbox/docs/source/tutorials/outputs/robustness_curves/2022-05-13/18-20-30/10/lightning_logs\n",
      "LOCAL_RANK: 0 - CUDA_VISIBLE_DEVICES: [0,1]\n"
     ]
    },
    {
     "name": "stdout",
     "output_type": "stream",
     "text": [
      "────────────────────────────────────────────────────────────────────────────────────────────────────────────────────────\n",
      "       Test metric             DataLoader 0\n",
      "────────────────────────────────────────────────────────────────────────────────────────────────────────────────────────\n",
      "      test_accuracy         0.00430000014603138\n",
      "  test_adversarial_loss     10.642273902893066\n",
      "   test_clean_accuracy      0.9627000093460083\n",
      "        test_loss           10.642273902893066\n",
      "────────────────────────────────────────────────────────────────────────────────────────────────────────────────────────\n",
      "[2022-05-13 18:20:50,693][HYDRA] \t#11 : epsilon=2 job_dir=/home/ry26099/public-responsible-ai-toolbox/docs/source/tutorials/outputs/cross_validation/2022-05-13/18-08-27/3\n"
     ]
    },
    {
     "name": "stderr",
     "output_type": "stream",
     "text": [
      "GPU available: True, used: True\n",
      "TPU available: False, using: 0 TPU cores\n",
      "IPU available: False, using: 0 IPUs\n",
      "HPU available: False, using: 0 HPUs\n"
     ]
    },
    {
     "name": "stdout",
     "output_type": "stream",
     "text": [
      "[2022-05-13 18:20:50,877][rai_toolbox.mushin._utils][INFO] - Loading model checkpoint from /home/ry26099/public-responsible-ai-toolbox/docs/source/tutorials/outputs/cross_validation/2022-05-13/18-08-27/3/lightning_logs/version_0/checkpoints/epoch=9-step=3000.ckpt\n"
     ]
    },
    {
     "name": "stderr",
     "output_type": "stream",
     "text": [
      "Missing logger folder: /home/ry26099/public-responsible-ai-toolbox/docs/source/tutorials/outputs/robustness_curves/2022-05-13/18-20-30/11/lightning_logs\n",
      "LOCAL_RANK: 0 - CUDA_VISIBLE_DEVICES: [0,1]\n"
     ]
    },
    {
     "name": "stdout",
     "output_type": "stream",
     "text": [
      "────────────────────────────────────────────────────────────────────────────────────────────────────────────────────────\n",
      "       Test metric             DataLoader 0\n",
      "────────────────────────────────────────────────────────────────────────────────────────────────────────────────────────\n",
      "      test_accuracy        0.0003000000142492354\n",
      "  test_adversarial_loss      16.9349308013916\n",
      "   test_clean_accuracy      0.9857000112533569\n",
      "        test_loss            16.9349308013916\n",
      "────────────────────────────────────────────────────────────────────────────────────────────────────────────────────────\n"
     ]
    }
   ],
   "source": [
    "exp_dir = [\n",
    "    m.parent for m in kfold_task.working_dir.absolute().glob(\"**/fit_metrics.pt\")\n",
    "]\n",
    "\n",
    "robustness_curve_task = ExperimentRobustnessCurve(TestConfig)\n",
    "robustness_curve_task.run(\n",
    "    epsilon=[0, 1, 2],\n",
    "    target_job_dirs=kfold_task.multirun_working_dirs,\n",
    "    overrides=[\n",
    "        \"hydra.sweep.dir=outputs/robustness_curves/${now:%Y-%m-%d}/${now:%H-%M-%S}\"\n",
    "    ],\n",
    ")\n",
    "\n",
    "## You can load an old experiment\n",
    "# robustness_curve_task = ExperimentRobustnessCurve().load_from_dir(\"outputs/robustness_curves/2022-05-11/14-45-02\")\n"
   ]
  },
  {
   "cell_type": "code",
   "execution_count": 22,
   "metadata": {},
   "outputs": [
    {
     "data": {
      "text/plain": [
       "PosixPath('/home/ry26099/public-responsible-ai-toolbox/docs/source/tutorials/outputs/robustness_curves/2022-05-13/18-20-30')"
      ]
     },
     "execution_count": 22,
     "metadata": {},
     "output_type": "execute_result"
    }
   ],
   "source": [
    "robustness_curve_task.working_dir"
   ]
  },
  {
   "cell_type": "markdown",
   "metadata": {},
   "source": [
    "Extract the [xarray.Dataset](https://docs.xarray.dev/en/stable/generated/xarray.Dataset.html)."
   ]
  },
  {
   "cell_type": "code",
   "execution_count": 23,
   "metadata": {},
   "outputs": [
    {
     "data": {
      "text/html": [
       "<div><svg style=\"position: absolute; width: 0; height: 0; overflow: hidden\">\n",
       "<defs>\n",
       "<symbol id=\"icon-database\" viewBox=\"0 0 32 32\">\n",
       "<path d=\"M16 0c-8.837 0-16 2.239-16 5v4c0 2.761 7.163 5 16 5s16-2.239 16-5v-4c0-2.761-7.163-5-16-5z\"></path>\n",
       "<path d=\"M16 17c-8.837 0-16-2.239-16-5v6c0 2.761 7.163 5 16 5s16-2.239 16-5v-6c0 2.761-7.163 5-16 5z\"></path>\n",
       "<path d=\"M16 26c-8.837 0-16-2.239-16-5v6c0 2.761 7.163 5 16 5s16-2.239 16-5v-6c0 2.761-7.163 5-16 5z\"></path>\n",
       "</symbol>\n",
       "<symbol id=\"icon-file-text2\" viewBox=\"0 0 32 32\">\n",
       "<path d=\"M28.681 7.159c-0.694-0.947-1.662-2.053-2.724-3.116s-2.169-2.030-3.116-2.724c-1.612-1.182-2.393-1.319-2.841-1.319h-15.5c-1.378 0-2.5 1.121-2.5 2.5v27c0 1.378 1.122 2.5 2.5 2.5h23c1.378 0 2.5-1.122 2.5-2.5v-19.5c0-0.448-0.137-1.23-1.319-2.841zM24.543 5.457c0.959 0.959 1.712 1.825 2.268 2.543h-4.811v-4.811c0.718 0.556 1.584 1.309 2.543 2.268zM28 29.5c0 0.271-0.229 0.5-0.5 0.5h-23c-0.271 0-0.5-0.229-0.5-0.5v-27c0-0.271 0.229-0.5 0.5-0.5 0 0 15.499-0 15.5 0v7c0 0.552 0.448 1 1 1h7v19.5z\"></path>\n",
       "<path d=\"M23 26h-14c-0.552 0-1-0.448-1-1s0.448-1 1-1h14c0.552 0 1 0.448 1 1s-0.448 1-1 1z\"></path>\n",
       "<path d=\"M23 22h-14c-0.552 0-1-0.448-1-1s0.448-1 1-1h14c0.552 0 1 0.448 1 1s-0.448 1-1 1z\"></path>\n",
       "<path d=\"M23 18h-14c-0.552 0-1-0.448-1-1s0.448-1 1-1h14c0.552 0 1 0.448 1 1s-0.448 1-1 1z\"></path>\n",
       "</symbol>\n",
       "</defs>\n",
       "</svg>\n",
       "<style>/* CSS stylesheet for displaying xarray objects in jupyterlab.\n",
       " *\n",
       " */\n",
       "\n",
       ":root {\n",
       "  --xr-font-color0: var(--jp-content-font-color0, rgba(0, 0, 0, 1));\n",
       "  --xr-font-color2: var(--jp-content-font-color2, rgba(0, 0, 0, 0.54));\n",
       "  --xr-font-color3: var(--jp-content-font-color3, rgba(0, 0, 0, 0.38));\n",
       "  --xr-border-color: var(--jp-border-color2, #e0e0e0);\n",
       "  --xr-disabled-color: var(--jp-layout-color3, #bdbdbd);\n",
       "  --xr-background-color: var(--jp-layout-color0, white);\n",
       "  --xr-background-color-row-even: var(--jp-layout-color1, white);\n",
       "  --xr-background-color-row-odd: var(--jp-layout-color2, #eeeeee);\n",
       "}\n",
       "\n",
       "html[theme=dark],\n",
       "body.vscode-dark {\n",
       "  --xr-font-color0: rgba(255, 255, 255, 1);\n",
       "  --xr-font-color2: rgba(255, 255, 255, 0.54);\n",
       "  --xr-font-color3: rgba(255, 255, 255, 0.38);\n",
       "  --xr-border-color: #1F1F1F;\n",
       "  --xr-disabled-color: #515151;\n",
       "  --xr-background-color: #111111;\n",
       "  --xr-background-color-row-even: #111111;\n",
       "  --xr-background-color-row-odd: #313131;\n",
       "}\n",
       "\n",
       ".xr-wrap {\n",
       "  display: block;\n",
       "  min-width: 300px;\n",
       "  max-width: 700px;\n",
       "}\n",
       "\n",
       ".xr-text-repr-fallback {\n",
       "  /* fallback to plain text repr when CSS is not injected (untrusted notebook) */\n",
       "  display: none;\n",
       "}\n",
       "\n",
       ".xr-header {\n",
       "  padding-top: 6px;\n",
       "  padding-bottom: 6px;\n",
       "  margin-bottom: 4px;\n",
       "  border-bottom: solid 1px var(--xr-border-color);\n",
       "}\n",
       "\n",
       ".xr-header > div,\n",
       ".xr-header > ul {\n",
       "  display: inline;\n",
       "  margin-top: 0;\n",
       "  margin-bottom: 0;\n",
       "}\n",
       "\n",
       ".xr-obj-type,\n",
       ".xr-array-name {\n",
       "  margin-left: 2px;\n",
       "  margin-right: 10px;\n",
       "}\n",
       "\n",
       ".xr-obj-type {\n",
       "  color: var(--xr-font-color2);\n",
       "}\n",
       "\n",
       ".xr-sections {\n",
       "  padding-left: 0 !important;\n",
       "  display: grid;\n",
       "  grid-template-columns: 150px auto auto 1fr 20px 20px;\n",
       "}\n",
       "\n",
       ".xr-section-item {\n",
       "  display: contents;\n",
       "}\n",
       "\n",
       ".xr-section-item input {\n",
       "  display: none;\n",
       "}\n",
       "\n",
       ".xr-section-item input + label {\n",
       "  color: var(--xr-disabled-color);\n",
       "}\n",
       "\n",
       ".xr-section-item input:enabled + label {\n",
       "  cursor: pointer;\n",
       "  color: var(--xr-font-color2);\n",
       "}\n",
       "\n",
       ".xr-section-item input:enabled + label:hover {\n",
       "  color: var(--xr-font-color0);\n",
       "}\n",
       "\n",
       ".xr-section-summary {\n",
       "  grid-column: 1;\n",
       "  color: var(--xr-font-color2);\n",
       "  font-weight: 500;\n",
       "}\n",
       "\n",
       ".xr-section-summary > span {\n",
       "  display: inline-block;\n",
       "  padding-left: 0.5em;\n",
       "}\n",
       "\n",
       ".xr-section-summary-in:disabled + label {\n",
       "  color: var(--xr-font-color2);\n",
       "}\n",
       "\n",
       ".xr-section-summary-in + label:before {\n",
       "  display: inline-block;\n",
       "  content: '►';\n",
       "  font-size: 11px;\n",
       "  width: 15px;\n",
       "  text-align: center;\n",
       "}\n",
       "\n",
       ".xr-section-summary-in:disabled + label:before {\n",
       "  color: var(--xr-disabled-color);\n",
       "}\n",
       "\n",
       ".xr-section-summary-in:checked + label:before {\n",
       "  content: '▼';\n",
       "}\n",
       "\n",
       ".xr-section-summary-in:checked + label > span {\n",
       "  display: none;\n",
       "}\n",
       "\n",
       ".xr-section-summary,\n",
       ".xr-section-inline-details {\n",
       "  padding-top: 4px;\n",
       "  padding-bottom: 4px;\n",
       "}\n",
       "\n",
       ".xr-section-inline-details {\n",
       "  grid-column: 2 / -1;\n",
       "}\n",
       "\n",
       ".xr-section-details {\n",
       "  display: none;\n",
       "  grid-column: 1 / -1;\n",
       "  margin-bottom: 5px;\n",
       "}\n",
       "\n",
       ".xr-section-summary-in:checked ~ .xr-section-details {\n",
       "  display: contents;\n",
       "}\n",
       "\n",
       ".xr-array-wrap {\n",
       "  grid-column: 1 / -1;\n",
       "  display: grid;\n",
       "  grid-template-columns: 20px auto;\n",
       "}\n",
       "\n",
       ".xr-array-wrap > label {\n",
       "  grid-column: 1;\n",
       "  vertical-align: top;\n",
       "}\n",
       "\n",
       ".xr-preview {\n",
       "  color: var(--xr-font-color3);\n",
       "}\n",
       "\n",
       ".xr-array-preview,\n",
       ".xr-array-data {\n",
       "  padding: 0 5px !important;\n",
       "  grid-column: 2;\n",
       "}\n",
       "\n",
       ".xr-array-data,\n",
       ".xr-array-in:checked ~ .xr-array-preview {\n",
       "  display: none;\n",
       "}\n",
       "\n",
       ".xr-array-in:checked ~ .xr-array-data,\n",
       ".xr-array-preview {\n",
       "  display: inline-block;\n",
       "}\n",
       "\n",
       ".xr-dim-list {\n",
       "  display: inline-block !important;\n",
       "  list-style: none;\n",
       "  padding: 0 !important;\n",
       "  margin: 0;\n",
       "}\n",
       "\n",
       ".xr-dim-list li {\n",
       "  display: inline-block;\n",
       "  padding: 0;\n",
       "  margin: 0;\n",
       "}\n",
       "\n",
       ".xr-dim-list:before {\n",
       "  content: '(';\n",
       "}\n",
       "\n",
       ".xr-dim-list:after {\n",
       "  content: ')';\n",
       "}\n",
       "\n",
       ".xr-dim-list li:not(:last-child):after {\n",
       "  content: ',';\n",
       "  padding-right: 5px;\n",
       "}\n",
       "\n",
       ".xr-has-index {\n",
       "  font-weight: bold;\n",
       "}\n",
       "\n",
       ".xr-var-list,\n",
       ".xr-var-item {\n",
       "  display: contents;\n",
       "}\n",
       "\n",
       ".xr-var-item > div,\n",
       ".xr-var-item label,\n",
       ".xr-var-item > .xr-var-name span {\n",
       "  background-color: var(--xr-background-color-row-even);\n",
       "  margin-bottom: 0;\n",
       "}\n",
       "\n",
       ".xr-var-item > .xr-var-name:hover span {\n",
       "  padding-right: 5px;\n",
       "}\n",
       "\n",
       ".xr-var-list > li:nth-child(odd) > div,\n",
       ".xr-var-list > li:nth-child(odd) > label,\n",
       ".xr-var-list > li:nth-child(odd) > .xr-var-name span {\n",
       "  background-color: var(--xr-background-color-row-odd);\n",
       "}\n",
       "\n",
       ".xr-var-name {\n",
       "  grid-column: 1;\n",
       "}\n",
       "\n",
       ".xr-var-dims {\n",
       "  grid-column: 2;\n",
       "}\n",
       "\n",
       ".xr-var-dtype {\n",
       "  grid-column: 3;\n",
       "  text-align: right;\n",
       "  color: var(--xr-font-color2);\n",
       "}\n",
       "\n",
       ".xr-var-preview {\n",
       "  grid-column: 4;\n",
       "}\n",
       "\n",
       ".xr-var-name,\n",
       ".xr-var-dims,\n",
       ".xr-var-dtype,\n",
       ".xr-preview,\n",
       ".xr-attrs dt {\n",
       "  white-space: nowrap;\n",
       "  overflow: hidden;\n",
       "  text-overflow: ellipsis;\n",
       "  padding-right: 10px;\n",
       "}\n",
       "\n",
       ".xr-var-name:hover,\n",
       ".xr-var-dims:hover,\n",
       ".xr-var-dtype:hover,\n",
       ".xr-attrs dt:hover {\n",
       "  overflow: visible;\n",
       "  width: auto;\n",
       "  z-index: 1;\n",
       "}\n",
       "\n",
       ".xr-var-attrs,\n",
       ".xr-var-data {\n",
       "  display: none;\n",
       "  background-color: var(--xr-background-color) !important;\n",
       "  padding-bottom: 5px !important;\n",
       "}\n",
       "\n",
       ".xr-var-attrs-in:checked ~ .xr-var-attrs,\n",
       ".xr-var-data-in:checked ~ .xr-var-data {\n",
       "  display: block;\n",
       "}\n",
       "\n",
       ".xr-var-data > table {\n",
       "  float: right;\n",
       "}\n",
       "\n",
       ".xr-var-name span,\n",
       ".xr-var-data,\n",
       ".xr-attrs {\n",
       "  padding-left: 25px !important;\n",
       "}\n",
       "\n",
       ".xr-attrs,\n",
       ".xr-var-attrs,\n",
       ".xr-var-data {\n",
       "  grid-column: 1 / -1;\n",
       "}\n",
       "\n",
       "dl.xr-attrs {\n",
       "  padding: 0;\n",
       "  margin: 0;\n",
       "  display: grid;\n",
       "  grid-template-columns: 125px auto;\n",
       "}\n",
       "\n",
       ".xr-attrs dt,\n",
       ".xr-attrs dd {\n",
       "  padding: 0;\n",
       "  margin: 0;\n",
       "  float: left;\n",
       "  padding-right: 10px;\n",
       "  width: auto;\n",
       "}\n",
       "\n",
       ".xr-attrs dt {\n",
       "  font-weight: normal;\n",
       "  grid-column: 1;\n",
       "}\n",
       "\n",
       ".xr-attrs dt:hover span {\n",
       "  display: inline-block;\n",
       "  background: var(--xr-background-color);\n",
       "  padding-right: 10px;\n",
       "}\n",
       "\n",
       ".xr-attrs dd {\n",
       "  grid-column: 2;\n",
       "  white-space: pre-wrap;\n",
       "  word-break: break-all;\n",
       "}\n",
       "\n",
       ".xr-icon-database,\n",
       ".xr-icon-file-text2 {\n",
       "  display: inline-block;\n",
       "  vertical-align: middle;\n",
       "  width: 1em;\n",
       "  height: 1.5em !important;\n",
       "  stroke-width: 0;\n",
       "  stroke: currentColor;\n",
       "  fill: currentColor;\n",
       "}\n",
       "</style><pre class='xr-text-repr-fallback'>&lt;xarray.Dataset&gt;\n",
       "Dimensions:                (epsilon: 3, job_dir: 4)\n",
       "Coordinates:\n",
       "  * epsilon                (epsilon) int64 0 1 2\n",
       "  * job_dir                (job_dir) &lt;U112 &#x27;/home/ry26099/public-responsible-...\n",
       "    fold                   (job_dir) int64 0 0 1 1\n",
       "    model                  (job_dir) &lt;U6 &#x27;linear&#x27; &#x27;cnn&#x27; &#x27;linear&#x27; &#x27;cnn&#x27;\n",
       "Data variables:\n",
       "    test_clean_accuracy    (epsilon, job_dir) float64 0.9601 0.9864 ... 0.9857\n",
       "    test_adversarial_loss  (epsilon, job_dir) float64 0.1236 0.04095 ... 16.93\n",
       "    test_loss              (epsilon, job_dir) float64 0.1236 0.04095 ... 16.93\n",
       "    test_accuracy          (epsilon, job_dir) float64 0.9601 0.9864 ... 0.0003</pre><div class='xr-wrap' hidden><div class='xr-header'><div class='xr-obj-type'>xarray.Dataset</div></div><ul class='xr-sections'><li class='xr-section-item'><input id='section-017457d5-85a3-447f-9782-2ae5138cc21e' class='xr-section-summary-in' type='checkbox' disabled ><label for='section-017457d5-85a3-447f-9782-2ae5138cc21e' class='xr-section-summary'  title='Expand/collapse section'>Dimensions:</label><div class='xr-section-inline-details'><ul class='xr-dim-list'><li><span class='xr-has-index'>epsilon</span>: 3</li><li><span class='xr-has-index'>job_dir</span>: 4</li></ul></div><div class='xr-section-details'></div></li><li class='xr-section-item'><input id='section-b9fc8649-a0ec-437b-a0ec-739f79e2240a' class='xr-section-summary-in' type='checkbox'  checked><label for='section-b9fc8649-a0ec-437b-a0ec-739f79e2240a' class='xr-section-summary' >Coordinates: <span>(4)</span></label><div class='xr-section-inline-details'></div><div class='xr-section-details'><ul class='xr-var-list'><li class='xr-var-item'><div class='xr-var-name'><span class='xr-has-index'>epsilon</span></div><div class='xr-var-dims'>(epsilon)</div><div class='xr-var-dtype'>int64</div><div class='xr-var-preview xr-preview'>0 1 2</div><input id='attrs-4725cfed-1ae2-46ae-abad-667207ef8b39' class='xr-var-attrs-in' type='checkbox' disabled><label for='attrs-4725cfed-1ae2-46ae-abad-667207ef8b39' title='Show/Hide attributes'><svg class='icon xr-icon-file-text2'><use xlink:href='#icon-file-text2'></use></svg></label><input id='data-e09a4bc1-8473-462f-8464-3ac4074d481e' class='xr-var-data-in' type='checkbox'><label for='data-e09a4bc1-8473-462f-8464-3ac4074d481e' title='Show/Hide data repr'><svg class='icon xr-icon-database'><use xlink:href='#icon-database'></use></svg></label><div class='xr-var-attrs'><dl class='xr-attrs'></dl></div><div class='xr-var-data'><pre>array([0, 1, 2])</pre></div></li><li class='xr-var-item'><div class='xr-var-name'><span class='xr-has-index'>job_dir</span></div><div class='xr-var-dims'>(job_dir)</div><div class='xr-var-dtype'>&lt;U112</div><div class='xr-var-preview xr-preview'>&#x27;/home/ry26099/public-responsibl...</div><input id='attrs-f8d22829-1731-493d-b575-95099501a3e7' class='xr-var-attrs-in' type='checkbox' disabled><label for='attrs-f8d22829-1731-493d-b575-95099501a3e7' title='Show/Hide attributes'><svg class='icon xr-icon-file-text2'><use xlink:href='#icon-file-text2'></use></svg></label><input id='data-05491bd2-f59f-4c42-bb46-bfdf3291dd3c' class='xr-var-data-in' type='checkbox'><label for='data-05491bd2-f59f-4c42-bb46-bfdf3291dd3c' title='Show/Hide data repr'><svg class='icon xr-icon-database'><use xlink:href='#icon-database'></use></svg></label><div class='xr-var-attrs'><dl class='xr-attrs'></dl></div><div class='xr-var-data'><pre>array([&#x27;/home/ry26099/public-responsible-ai-toolbox/docs/source/tutorials/outputs/cross_validation/2022-05-13/18-08-27/0&#x27;,\n",
       "       &#x27;/home/ry26099/public-responsible-ai-toolbox/docs/source/tutorials/outputs/cross_validation/2022-05-13/18-08-27/1&#x27;,\n",
       "       &#x27;/home/ry26099/public-responsible-ai-toolbox/docs/source/tutorials/outputs/cross_validation/2022-05-13/18-08-27/2&#x27;,\n",
       "       &#x27;/home/ry26099/public-responsible-ai-toolbox/docs/source/tutorials/outputs/cross_validation/2022-05-13/18-08-27/3&#x27;],\n",
       "      dtype=&#x27;&lt;U112&#x27;)</pre></div></li><li class='xr-var-item'><div class='xr-var-name'><span>fold</span></div><div class='xr-var-dims'>(job_dir)</div><div class='xr-var-dtype'>int64</div><div class='xr-var-preview xr-preview'>0 0 1 1</div><input id='attrs-d873ab29-0cd4-4f7d-b927-89ed380333b1' class='xr-var-attrs-in' type='checkbox' disabled><label for='attrs-d873ab29-0cd4-4f7d-b927-89ed380333b1' title='Show/Hide attributes'><svg class='icon xr-icon-file-text2'><use xlink:href='#icon-file-text2'></use></svg></label><input id='data-27b62817-5698-4007-9f6e-2a5fa1b41c26' class='xr-var-data-in' type='checkbox'><label for='data-27b62817-5698-4007-9f6e-2a5fa1b41c26' title='Show/Hide data repr'><svg class='icon xr-icon-database'><use xlink:href='#icon-database'></use></svg></label><div class='xr-var-attrs'><dl class='xr-attrs'></dl></div><div class='xr-var-data'><pre>array([0, 0, 1, 1])</pre></div></li><li class='xr-var-item'><div class='xr-var-name'><span>model</span></div><div class='xr-var-dims'>(job_dir)</div><div class='xr-var-dtype'>&lt;U6</div><div class='xr-var-preview xr-preview'>&#x27;linear&#x27; &#x27;cnn&#x27; &#x27;linear&#x27; &#x27;cnn&#x27;</div><input id='attrs-12734266-7ae4-492d-9f39-8da5d590c7de' class='xr-var-attrs-in' type='checkbox' disabled><label for='attrs-12734266-7ae4-492d-9f39-8da5d590c7de' title='Show/Hide attributes'><svg class='icon xr-icon-file-text2'><use xlink:href='#icon-file-text2'></use></svg></label><input id='data-1c594f43-73c8-4913-82e7-54debf4904d5' class='xr-var-data-in' type='checkbox'><label for='data-1c594f43-73c8-4913-82e7-54debf4904d5' title='Show/Hide data repr'><svg class='icon xr-icon-database'><use xlink:href='#icon-database'></use></svg></label><div class='xr-var-attrs'><dl class='xr-attrs'></dl></div><div class='xr-var-data'><pre>array([&#x27;linear&#x27;, &#x27;cnn&#x27;, &#x27;linear&#x27;, &#x27;cnn&#x27;], dtype=&#x27;&lt;U6&#x27;)</pre></div></li></ul></div></li><li class='xr-section-item'><input id='section-ca108d63-2d8f-4238-9b99-1661f734b8c0' class='xr-section-summary-in' type='checkbox'  checked><label for='section-ca108d63-2d8f-4238-9b99-1661f734b8c0' class='xr-section-summary' >Data variables: <span>(4)</span></label><div class='xr-section-inline-details'></div><div class='xr-section-details'><ul class='xr-var-list'><li class='xr-var-item'><div class='xr-var-name'><span>test_clean_accuracy</span></div><div class='xr-var-dims'>(epsilon, job_dir)</div><div class='xr-var-dtype'>float64</div><div class='xr-var-preview xr-preview'>0.9601 0.9864 ... 0.9627 0.9857</div><input id='attrs-8ed6f702-4d47-4d0d-b696-b885eba23b0d' class='xr-var-attrs-in' type='checkbox' disabled><label for='attrs-8ed6f702-4d47-4d0d-b696-b885eba23b0d' title='Show/Hide attributes'><svg class='icon xr-icon-file-text2'><use xlink:href='#icon-file-text2'></use></svg></label><input id='data-469b0421-2eb9-43f1-af8f-aab43eb9858f' class='xr-var-data-in' type='checkbox'><label for='data-469b0421-2eb9-43f1-af8f-aab43eb9858f' title='Show/Hide data repr'><svg class='icon xr-icon-database'><use xlink:href='#icon-database'></use></svg></label><div class='xr-var-attrs'><dl class='xr-attrs'></dl></div><div class='xr-var-data'><pre>array([[0.9601    , 0.98640001, 0.96270001, 0.98570001],\n",
       "       [0.9601    , 0.98640001, 0.96270001, 0.98570001],\n",
       "       [0.9601    , 0.98640001, 0.96270001, 0.98570001]])</pre></div></li><li class='xr-var-item'><div class='xr-var-name'><span>test_adversarial_loss</span></div><div class='xr-var-dims'>(epsilon, job_dir)</div><div class='xr-var-dtype'>float64</div><div class='xr-var-preview xr-preview'>0.1236 0.04095 ... 10.64 16.93</div><input id='attrs-f5223cd3-92b9-4a58-94dd-1414fe87d33d' class='xr-var-attrs-in' type='checkbox' disabled><label for='attrs-f5223cd3-92b9-4a58-94dd-1414fe87d33d' title='Show/Hide attributes'><svg class='icon xr-icon-file-text2'><use xlink:href='#icon-file-text2'></use></svg></label><input id='data-07e438fe-dfe2-4b21-b7c0-13fad2a23ffb' class='xr-var-data-in' type='checkbox'><label for='data-07e438fe-dfe2-4b21-b7c0-13fad2a23ffb' title='Show/Hide data repr'><svg class='icon xr-icon-database'><use xlink:href='#icon-database'></use></svg></label><div class='xr-var-attrs'><dl class='xr-attrs'></dl></div><div class='xr-var-data'><pre>array([[ 0.12364723,  0.04095041,  0.1242718 ,  0.04078608],\n",
       "       [ 3.13369894,  4.91146517,  3.33950233,  4.65907192],\n",
       "       [10.39701366, 17.15140343, 10.6422739 , 16.9349308 ]])</pre></div></li><li class='xr-var-item'><div class='xr-var-name'><span>test_loss</span></div><div class='xr-var-dims'>(epsilon, job_dir)</div><div class='xr-var-dtype'>float64</div><div class='xr-var-preview xr-preview'>0.1236 0.04095 ... 10.64 16.93</div><input id='attrs-cde87d90-72a2-4b9a-a096-8eb43ea0de8b' class='xr-var-attrs-in' type='checkbox' disabled><label for='attrs-cde87d90-72a2-4b9a-a096-8eb43ea0de8b' title='Show/Hide attributes'><svg class='icon xr-icon-file-text2'><use xlink:href='#icon-file-text2'></use></svg></label><input id='data-12c0359e-2169-4169-b296-382d62eee2cb' class='xr-var-data-in' type='checkbox'><label for='data-12c0359e-2169-4169-b296-382d62eee2cb' title='Show/Hide data repr'><svg class='icon xr-icon-database'><use xlink:href='#icon-database'></use></svg></label><div class='xr-var-attrs'><dl class='xr-attrs'></dl></div><div class='xr-var-data'><pre>array([[ 0.12364724,  0.04095041,  0.1242718 ,  0.04078607],\n",
       "       [ 3.13369894,  4.91146517,  3.33950281,  4.65907192],\n",
       "       [10.39701366, 17.15140533, 10.6422739 , 16.9349308 ]])</pre></div></li><li class='xr-var-item'><div class='xr-var-name'><span>test_accuracy</span></div><div class='xr-var-dims'>(epsilon, job_dir)</div><div class='xr-var-dtype'>float64</div><div class='xr-var-preview xr-preview'>0.9601 0.9864 ... 0.0043 0.0003</div><input id='attrs-ead2f3e3-7b21-49fd-854d-7ddf7fe1d11c' class='xr-var-attrs-in' type='checkbox' disabled><label for='attrs-ead2f3e3-7b21-49fd-854d-7ddf7fe1d11c' title='Show/Hide attributes'><svg class='icon xr-icon-file-text2'><use xlink:href='#icon-file-text2'></use></svg></label><input id='data-a896d8d9-809b-4eea-9387-4f6158cefda6' class='xr-var-data-in' type='checkbox'><label for='data-a896d8d9-809b-4eea-9387-4f6158cefda6' title='Show/Hide data repr'><svg class='icon xr-icon-database'><use xlink:href='#icon-database'></use></svg></label><div class='xr-var-attrs'><dl class='xr-attrs'></dl></div><div class='xr-var-data'><pre>array([[9.60099995e-01, 9.86400008e-01, 9.62700009e-01, 9.85700011e-01],\n",
       "       [2.54299998e-01, 9.88000035e-02, 2.13400006e-01, 1.12400003e-01],\n",
       "       [8.00000038e-03, 0.00000000e+00, 4.30000015e-03, 3.00000014e-04]])</pre></div></li></ul></div></li><li class='xr-section-item'><input id='section-6fe67978-2327-4aad-af1e-aa462dffcaeb' class='xr-section-summary-in' type='checkbox' disabled ><label for='section-6fe67978-2327-4aad-af1e-aa462dffcaeb' class='xr-section-summary'  title='Expand/collapse section'>Attributes: <span>(0)</span></label><div class='xr-section-inline-details'></div><div class='xr-section-details'><dl class='xr-attrs'></dl></div></li></ul></div></div>"
      ],
      "text/plain": [
       "<xarray.Dataset>\n",
       "Dimensions:                (epsilon: 3, job_dir: 4)\n",
       "Coordinates:\n",
       "  * epsilon                (epsilon) int64 0 1 2\n",
       "  * job_dir                (job_dir) <U112 '/home/ry26099/public-responsible-...\n",
       "    fold                   (job_dir) int64 0 0 1 1\n",
       "    model                  (job_dir) <U6 'linear' 'cnn' 'linear' 'cnn'\n",
       "Data variables:\n",
       "    test_clean_accuracy    (epsilon, job_dir) float64 0.9601 0.9864 ... 0.9857\n",
       "    test_adversarial_loss  (epsilon, job_dir) float64 0.1236 0.04095 ... 16.93\n",
       "    test_loss              (epsilon, job_dir) float64 0.1236 0.04095 ... 16.93\n",
       "    test_accuracy          (epsilon, job_dir) float64 0.9601 0.9864 ... 0.0003"
      ]
     },
     "execution_count": 23,
     "metadata": {},
     "output_type": "execute_result"
    }
   ],
   "source": [
    "rdata = robustness_curve_task.to_xarray()\n",
    "rdata"
   ]
  },
  {
   "cell_type": "markdown",
   "metadata": {},
   "source": [
    "And lastly plot the curves for each cross-validation experiment along with the mean curve for each model."
   ]
  },
  {
   "cell_type": "code",
   "execution_count": 25,
   "metadata": {},
   "outputs": [
    {
     "data": {
      "text/plain": [
       "<matplotlib.legend.Legend at 0x7f7b2dfb2550>"
      ]
     },
     "execution_count": 25,
     "metadata": {},
     "output_type": "execute_result"
    },
    {
     "data": {
      "image/png": "[encoded data removed]",
      "text/plain": [
       "<Figure size 432x288 with 1 Axes>"
      ]
     },
     "metadata": {
      "needs_background": "light"
     },
     "output_type": "display_data"
    }
   ],
   "source": [
    "fig, ax = plt.subplots()\n",
    "for name, g in rdata.groupby(\"model\"):\n",
    "    for fold, gf in g.groupby(\"fold\"):\n",
    "        gf.test_accuracy.plot.line(x=\"epsilon\", label=f\"{name} (folds: {fold})\", ax=ax)\n",
    "    g.test_accuracy.mean(\"job_dir\").plot.line(\n",
    "        x=\"epsilon\", label=f\"{name} (average)\", ax=ax, linestyle=\"--\", color=\"k\"\n",
    "    )\n",
    "\n",
    "plt.legend()\n"
   ]
  },
  {
   "cell_type": "markdown",
   "metadata": {},
   "source": [
    "That's it! Workflows have the potential to help scale experiments while easily allowing one to load and evalulate results."
   ]
  },
  {
   "cell_type": "markdown",
   "metadata": {},
   "source": []
  }
 ],
 "metadata": {
  "interpreter": {
   "hash": "11e15a975b1560d788dc80294e728c8cc344b6e8a1e773ad71d904d8cec24769"
  },
  "kernelspec": {
   "display_name": "Python 3.8.12 ('raiden')",
   "language": "python",
   "name": "python3"
  },
  "language_info": {
   "codemirror_mode": {
    "name": "ipython",
    "version": 3
   },
   "file_extension": ".py",
   "mimetype": "text/x-python",
   "name": "python",
   "nbconvert_exporter": "python",
   "pygments_lexer": "ipython3",
   "version": "3.8.13"
  },
  "orig_nbformat": 4
 },
 "nbformat": 4,
 "nbformat_minor": 2
}
