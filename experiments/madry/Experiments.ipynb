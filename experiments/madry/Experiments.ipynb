{
 "cells": [
  {
   "cell_type": "code",
   "execution_count": 1,
   "id": "d9353840",
   "metadata": {},
   "outputs": [],
   "source": [
    "# Copyright (c) 2023 Massachusetts Institute of Technology\n",
    "# SPDX-License-Identifier: MIT"
   ]
  },
  {
   "cell_type": "markdown",
   "id": "11db641d-a515-48fe-846a-a853cf288687",
   "metadata": {},
   "source": [
    "# Evaluation Within a Notebook"
   ]
  },
  {
   "cell_type": "code",
   "execution_count": 2,
   "id": "f368496b-a978-489f-8e5f-d729a915a216",
   "metadata": {},
   "outputs": [],
   "source": [
    "import logging\n",
    "import os\n",
    "import sys\n",
    "from pathlib import Path\n",
    "\n",
    "import configs\n",
    "import hydra\n",
    "import pytorch_lightning as pl\n",
    "import torch as tr\n",
    "from rai_toolbox.mushin.workflows import RobustnessCurve\n",
    "\n",
    "# Need add current working directory to the python path\n",
    "os.environ[\"PYTHONPATH\"] = f\"{os.getcwd()}:{os.getenv('PYTHONPATH')}\"\n",
    "logging.disable(sys.maxsize)"
   ]
  },
  {
   "cell_type": "markdown",
   "id": "eedf760a-6c3d-40d5-abe3-e9e2e2106311",
   "metadata": {},
   "source": [
    "## Define the Robustness Curve Workflow"
   ]
  },
  {
   "cell_type": "code",
   "execution_count": 3,
   "id": "9a9b2c7d-df5e-4a45-a74f-b8d1066fcc22",
   "metadata": {},
   "outputs": [],
   "source": [
    "# Implement the evaluation task for RobustnessCurv\n",
    "class MadryLabRobustness(RobustnessCurve):\n",
    "    @staticmethod\n",
    "    def task(\n",
    "        seed: int, trainer: pl.Trainer, module: pl.LightningModule\n",
    "    ) -> None:\n",
    "        pl.seed_everything(seed)\n",
    "        trainer.test(module)\n",
    "        return tr.load(\"test_metrics.pt\")"
   ]
  },
  {
   "cell_type": "markdown",
   "id": "e8e790b7-5340-4d71-8110-d418e898459e",
   "metadata": {},
   "source": [
    "## Run the Experiment"
   ]
  },
  {
   "cell_type": "code",
   "execution_count": 4,
   "id": "09bf777d-adc5-4982-bc20-ee836ccb1a82",
   "metadata": {},
   "outputs": [
    {
     "name": "stdout",
     "output_type": "stream",
     "text": [
      "Files already downloaded and verified\n"
     ]
    },
    {
     "name": "stderr",
     "output_type": "stream",
     "text": [
      "Global seed set to 12219\n",
      "Initializing distributed: GLOBAL_RANK: 1, MEMBER: 2/2\n",
      "Missing logger folder: /home/justin_goodwin/projects/raiden/rai_toolbox/experiments/madry/multirun/2022-05-10/15-41-52/0/lightning_logs\n"
     ]
    },
    {
     "name": "stdout",
     "output_type": "stream",
     "text": [
      "Files already downloaded and verified\n",
      "[2022-05-10 15:42:02,588][rai_toolbox.mushin._utils][INFO] - Loading model checkpoint from /home/justin_goodwin/.torch/models/mitll_cifar_nat.pt\n",
      "[2022-05-10 15:42:02,753][__main__][INFO] - Rank 1: Launched subprocess using Training.test\n",
      "[2022-05-10 15:42:02,762][torch.distributed.distributed_c10d][INFO] - Added key: store_based_barrier_key:1 to store for rank: 1\n",
      "[2022-05-10 15:42:02,772][torch.distributed.distributed_c10d][INFO] - Rank 1: Completed store-based barrier for key:store_based_barrier_key:1 with 2 nodes.\n"
     ]
    },
    {
     "name": "stderr",
     "output_type": "stream",
     "text": [
      "LOCAL_RANK: 1 - CUDA_VISIBLE_DEVICES: [0,1]\n",
      "/home/justin_goodwin/.conda/envs/raiden/lib/python3.8/site-packages/pytorch_lightning/trainer/connectors/data_connector.py:330: PossibleUserWarning: Using `DistributedSampler` with the dataloaders. During `trainer.test()`, it is recommended to use `Trainer(devices=1)` to ensure each sample/batch gets evaluated exactly once. Otherwise, multi-device settings use `DistributedSampler` that replicates some samples to make sure all devices have same batch size in case of uneven inputs.\n",
      "  rank_zero_warn(\n"
     ]
    },
    {
     "data": {
      "application/vnd.jupyter.widget-view+json": {
       "model_id": "e9c980b0092847348d789312f2e4b863",
       "version_major": 2,
       "version_minor": 0
      },
      "text/plain": [
       "Testing: 0it [00:00, ?it/s]"
      ]
     },
     "metadata": {},
     "output_type": "display_data"
    },
    {
     "name": "stdout",
     "output_type": "stream",
     "text": [
      "────────────────────────────────────────────────────────────────────────────────────────────────────────────────────────\n",
      "       Test metric             DataLoader 0\n",
      "────────────────────────────────────────────────────────────────────────────────────────────────────────────────────────\n",
      "      Test/Accuracy         0.9506999850273132\n",
      "        Test/Loss           0.20338234305381775\n",
      "────────────────────────────────────────────────────────────────────────────────────────────────────────────────────────\n",
      "Files already downloaded and verified\n",
      "Files already downloaded and verified\n",
      "[2022-05-10 15:42:41,869][rai_toolbox.mushin._utils][INFO] - Loading model checkpoint from /home/justin_goodwin/.torch/models/mitll_cifar_nat.pt\n",
      "[2022-05-10 15:42:42,028][__main__][INFO] - Rank 1: Launched subprocess using Training.test\n",
      "[2022-05-10 15:42:42,036][torch.distributed.distributed_c10d][INFO] - Added key: store_based_barrier_key:1 to store for rank: 1\n",
      "[2022-05-10 15:42:42,047][torch.distributed.distributed_c10d][INFO] - Rank 1: Completed store-based barrier for key:store_based_barrier_key:1 with 2 nodes.\n"
     ]
    },
    {
     "name": "stderr",
     "output_type": "stream",
     "text": [
      "Global seed set to 12219\n",
      "Initializing distributed: GLOBAL_RANK: 1, MEMBER: 2/2\n",
      "Missing logger folder: /home/justin_goodwin/projects/raiden/rai_toolbox/experiments/madry/multirun/2022-05-10/15-41-52/1/lightning_logs\n",
      "LOCAL_RANK: 1 - CUDA_VISIBLE_DEVICES: [0,1]\n"
     ]
    },
    {
     "data": {
      "application/vnd.jupyter.widget-view+json": {
       "model_id": "72faa7c3c4cc474d8025d1b22bc83f66",
       "version_major": 2,
       "version_minor": 0
      },
      "text/plain": [
       "Testing: 0it [00:00, ?it/s]"
      ]
     },
     "metadata": {},
     "output_type": "display_data"
    },
    {
     "name": "stdout",
     "output_type": "stream",
     "text": [
      "────────────────────────────────────────────────────────────────────────────────────────────────────────────────────────\n",
      "       Test metric             DataLoader 0\n",
      "────────────────────────────────────────────────────────────────────────────────────────────────────────────────────────\n",
      "      Test/Accuracy         0.13439999520778656\n",
      "        Test/Loss            9.860437393188477\n",
      "────────────────────────────────────────────────────────────────────────────────────────────────────────────────────────\n",
      "Files already downloaded and verified\n",
      "Files already downloaded and verified\n",
      "[2022-05-10 15:43:26,465][rai_toolbox.mushin._utils][INFO] - Loading model checkpoint from /home/justin_goodwin/.torch/models/mitll_cifar_nat.pt\n",
      "[2022-05-10 15:43:26,774][__main__][INFO] - Rank 1: Launched subprocess using Training.test\n",
      "[2022-05-10 15:43:26,785][torch.distributed.distributed_c10d][INFO] - Added key: store_based_barrier_key:1 to store for rank: 1\n",
      "[2022-05-10 15:43:26,805][torch.distributed.distributed_c10d][INFO] - Rank 1: Completed store-based barrier for key:store_based_barrier_key:1 with 2 nodes.\n"
     ]
    },
    {
     "name": "stderr",
     "output_type": "stream",
     "text": [
      "Global seed set to 12219\n",
      "Initializing distributed: GLOBAL_RANK: 1, MEMBER: 2/2\n",
      "Missing logger folder: /home/justin_goodwin/projects/raiden/rai_toolbox/experiments/madry/multirun/2022-05-10/15-41-52/2/lightning_logs\n",
      "LOCAL_RANK: 1 - CUDA_VISIBLE_DEVICES: [0,1]\n"
     ]
    },
    {
     "data": {
      "application/vnd.jupyter.widget-view+json": {
       "model_id": "dafae1207dbe483d9289f1c15538fa7e",
       "version_major": 2,
       "version_minor": 0
      },
      "text/plain": [
       "Testing: 0it [00:00, ?it/s]"
      ]
     },
     "metadata": {},
     "output_type": "display_data"
    },
    {
     "name": "stdout",
     "output_type": "stream",
     "text": [
      "────────────────────────────────────────────────────────────────────────────────────────────────────────────────────────\n",
      "       Test metric             DataLoader 0\n",
      "────────────────────────────────────────────────────────────────────────────────────────────────────────────────────────\n",
      "      Test/Accuracy        0.009800000116229057\n",
      "        Test/Loss           16.726818084716797\n",
      "────────────────────────────────────────────────────────────────────────────────────────────────────────────────────────\n",
      "Files already downloaded and verified\n"
     ]
    },
    {
     "name": "stderr",
     "output_type": "stream",
     "text": [
      "Global seed set to 12219\n",
      "Initializing distributed: GLOBAL_RANK: 1, MEMBER: 2/2\n",
      "Missing logger folder: /home/justin_goodwin/projects/raiden/rai_toolbox/experiments/madry/multirun/2022-05-10/15-41-52/3/lightning_logs\n"
     ]
    },
    {
     "name": "stdout",
     "output_type": "stream",
     "text": [
      "Files already downloaded and verified\n",
      "[2022-05-10 15:44:06,003][rai_toolbox.mushin._utils][INFO] - Loading model checkpoint from /home/justin_goodwin/.torch/models/mitll_cifar_nat.pt\n",
      "[2022-05-10 15:44:06,135][__main__][INFO] - Rank 1: Launched subprocess using Training.test\n",
      "[2022-05-10 15:44:06,143][torch.distributed.distributed_c10d][INFO] - Added key: store_based_barrier_key:1 to store for rank: 1\n",
      "[2022-05-10 15:44:06,153][torch.distributed.distributed_c10d][INFO] - Rank 1: Completed store-based barrier for key:store_based_barrier_key:1 with 2 nodes.\n"
     ]
    },
    {
     "name": "stderr",
     "output_type": "stream",
     "text": [
      "LOCAL_RANK: 1 - CUDA_VISIBLE_DEVICES: [0,1]\n"
     ]
    },
    {
     "data": {
      "application/vnd.jupyter.widget-view+json": {
       "model_id": "2168518cfe524b1ca3fae9c513867077",
       "version_major": 2,
       "version_minor": 0
      },
      "text/plain": [
       "Testing: 0it [00:00, ?it/s]"
      ]
     },
     "metadata": {},
     "output_type": "display_data"
    },
    {
     "name": "stdout",
     "output_type": "stream",
     "text": [
      "────────────────────────────────────────────────────────────────────────────────────────────────────────────────────────\n",
      "       Test metric             DataLoader 0\n",
      "────────────────────────────────────────────────────────────────────────────────────────────────────────────────────────\n",
      "      Test/Accuracy                 0.0\n",
      "        Test/Loss           21.867931365966797\n",
      "────────────────────────────────────────────────────────────────────────────────────────────────────────────────────────\n",
      "Files already downloaded and verified\n",
      "Files already downloaded and verified\n",
      "[2022-05-10 15:44:47,193][rai_toolbox.mushin._utils][INFO] - Loading model checkpoint from /home/justin_goodwin/.torch/models/mitll_cifar_nat.pt\n",
      "[2022-05-10 15:44:47,359][__main__][INFO] - Rank 1: Launched subprocess using Training.test\n",
      "[2022-05-10 15:44:47,400][torch.distributed.distributed_c10d][INFO] - Added key: store_based_barrier_key:1 to store for rank: 1\n",
      "[2022-05-10 15:44:47,411][torch.distributed.distributed_c10d][INFO] - Rank 1: Completed store-based barrier for key:store_based_barrier_key:1 with 2 nodes.\n"
     ]
    },
    {
     "name": "stderr",
     "output_type": "stream",
     "text": [
      "Global seed set to 12219\n",
      "Initializing distributed: GLOBAL_RANK: 1, MEMBER: 2/2\n",
      "Missing logger folder: /home/justin_goodwin/projects/raiden/rai_toolbox/experiments/madry/multirun/2022-05-10/15-41-52/4/lightning_logs\n",
      "LOCAL_RANK: 1 - CUDA_VISIBLE_DEVICES: [0,1]\n"
     ]
    },
    {
     "data": {
      "application/vnd.jupyter.widget-view+json": {
       "model_id": "ea592396b7534654b8fd438cc8e5d8b7",
       "version_major": 2,
       "version_minor": 0
      },
      "text/plain": [
       "Testing: 0it [00:00, ?it/s]"
      ]
     },
     "metadata": {},
     "output_type": "display_data"
    },
    {
     "name": "stdout",
     "output_type": "stream",
     "text": [
      "────────────────────────────────────────────────────────────────────────────────────────────────────────────────────────\n",
      "       Test metric             DataLoader 0\n",
      "────────────────────────────────────────────────────────────────────────────────────────────────────────────────────────\n",
      "      Test/Accuracy                 0.0\n",
      "        Test/Loss           24.616975784301758\n",
      "────────────────────────────────────────────────────────────────────────────────────────────────────────────────────────\n",
      "Files already downloaded and verified\n",
      "Files already downloaded and verified\n",
      "[2022-05-10 15:45:26,585][rai_toolbox.mushin._utils][INFO] - Loading model checkpoint from /home/justin_goodwin/.torch/models/mitll_cifar_l2_1_0.pt\n",
      "[2022-05-10 15:45:26,739][__main__][INFO] - Rank 1: Launched subprocess using Training.test\n",
      "[2022-05-10 15:45:26,757][torch.distributed.distributed_c10d][INFO] - Added key: store_based_barrier_key:1 to store for rank: 1\n",
      "[2022-05-10 15:45:26,767][torch.distributed.distributed_c10d][INFO] - Rank 1: Completed store-based barrier for key:store_based_barrier_key:1 with 2 nodes.\n"
     ]
    },
    {
     "name": "stderr",
     "output_type": "stream",
     "text": [
      "Global seed set to 12219\n",
      "Initializing distributed: GLOBAL_RANK: 1, MEMBER: 2/2\n",
      "Missing logger folder: /home/justin_goodwin/projects/raiden/rai_toolbox/experiments/madry/multirun/2022-05-10/15-41-52/5/lightning_logs\n",
      "LOCAL_RANK: 1 - CUDA_VISIBLE_DEVICES: [0,1]\n"
     ]
    },
    {
     "data": {
      "application/vnd.jupyter.widget-view+json": {
       "model_id": "3161c37a160f499c87303f428b687803",
       "version_major": 2,
       "version_minor": 0
      },
      "text/plain": [
       "Testing: 0it [00:00, ?it/s]"
      ]
     },
     "metadata": {},
     "output_type": "display_data"
    },
    {
     "name": "stdout",
     "output_type": "stream",
     "text": [
      "────────────────────────────────────────────────────────────────────────────────────────────────────────────────────────\n",
      "       Test metric             DataLoader 0\n",
      "────────────────────────────────────────────────────────────────────────────────────────────────────────────────────────\n",
      "      Test/Accuracy         0.8159000277519226\n",
      "        Test/Loss           0.5830577611923218\n",
      "────────────────────────────────────────────────────────────────────────────────────────────────────────────────────────\n",
      "Files already downloaded and verified\n",
      "Files already downloaded and verified\n",
      "[2022-05-10 15:46:06,871][rai_toolbox.mushin._utils][INFO] - Loading model checkpoint from /home/justin_goodwin/.torch/models/mitll_cifar_l2_1_0.pt\n",
      "[2022-05-10 15:46:07,080][__main__][INFO] - Rank 1: Launched subprocess using Training.test\n",
      "[2022-05-10 15:46:07,112][torch.distributed.distributed_c10d][INFO] - Added key: store_based_barrier_key:1 to store for rank: 1\n",
      "[2022-05-10 15:46:07,123][torch.distributed.distributed_c10d][INFO] - Rank 1: Completed store-based barrier for key:store_based_barrier_key:1 with 2 nodes.\n"
     ]
    },
    {
     "name": "stderr",
     "output_type": "stream",
     "text": [
      "Global seed set to 12219\n",
      "Initializing distributed: GLOBAL_RANK: 1, MEMBER: 2/2\n",
      "Missing logger folder: /home/justin_goodwin/projects/raiden/rai_toolbox/experiments/madry/multirun/2022-05-10/15-41-52/6/lightning_logs\n",
      "LOCAL_RANK: 1 - CUDA_VISIBLE_DEVICES: [0,1]\n"
     ]
    },
    {
     "data": {
      "application/vnd.jupyter.widget-view+json": {
       "model_id": "7d4d17afefbc4a5ba334e49250dd6d81",
       "version_major": 2,
       "version_minor": 0
      },
      "text/plain": [
       "Testing: 0it [00:00, ?it/s]"
      ]
     },
     "metadata": {},
     "output_type": "display_data"
    },
    {
     "name": "stdout",
     "output_type": "stream",
     "text": [
      "────────────────────────────────────────────────────────────────────────────────────────────────────────────────────────\n",
      "       Test metric             DataLoader 0\n",
      "────────────────────────────────────────────────────────────────────────────────────────────────────────────────────────\n",
      "      Test/Accuracy          0.757099986076355\n",
      "        Test/Loss           0.6963127851486206\n",
      "────────────────────────────────────────────────────────────────────────────────────────────────────────────────────────\n",
      "Files already downloaded and verified\n"
     ]
    },
    {
     "name": "stderr",
     "output_type": "stream",
     "text": [
      "Global seed set to 12219\n",
      "Initializing distributed: GLOBAL_RANK: 1, MEMBER: 2/2\n",
      "Missing logger folder: /home/justin_goodwin/projects/raiden/rai_toolbox/experiments/madry/multirun/2022-05-10/15-41-52/7/lightning_logs\n"
     ]
    },
    {
     "name": "stdout",
     "output_type": "stream",
     "text": [
      "Files already downloaded and verified\n",
      "[2022-05-10 15:46:45,628][rai_toolbox.mushin._utils][INFO] - Loading model checkpoint from /home/justin_goodwin/.torch/models/mitll_cifar_l2_1_0.pt\n",
      "[2022-05-10 15:46:45,842][__main__][INFO] - Rank 1: Launched subprocess using Training.test\n",
      "[2022-05-10 15:46:45,850][torch.distributed.distributed_c10d][INFO] - Added key: store_based_barrier_key:1 to store for rank: 1\n",
      "[2022-05-10 15:46:45,860][torch.distributed.distributed_c10d][INFO] - Rank 1: Completed store-based barrier for key:store_based_barrier_key:1 with 2 nodes.\n"
     ]
    },
    {
     "name": "stderr",
     "output_type": "stream",
     "text": [
      "LOCAL_RANK: 1 - CUDA_VISIBLE_DEVICES: [0,1]\n"
     ]
    },
    {
     "data": {
      "application/vnd.jupyter.widget-view+json": {
       "model_id": "b1e131b28d4d4cd78af88c4acbc1fa87",
       "version_major": 2,
       "version_minor": 0
      },
      "text/plain": [
       "Testing: 0it [00:00, ?it/s]"
      ]
     },
     "metadata": {},
     "output_type": "display_data"
    },
    {
     "name": "stdout",
     "output_type": "stream",
     "text": [
      "────────────────────────────────────────────────────────────────────────────────────────────────────────────────────────\n",
      "       Test metric             DataLoader 0\n",
      "────────────────────────────────────────────────────────────────────────────────────────────────────────────────────────\n",
      "      Test/Accuracy         0.6902999877929688\n",
      "        Test/Loss           0.8335546851158142\n",
      "────────────────────────────────────────────────────────────────────────────────────────────────────────────────────────\n",
      "Files already downloaded and verified\n"
     ]
    },
    {
     "name": "stderr",
     "output_type": "stream",
     "text": [
      "Global seed set to 12219\n",
      "Initializing distributed: GLOBAL_RANK: 1, MEMBER: 2/2\n",
      "Missing logger folder: /home/justin_goodwin/projects/raiden/rai_toolbox/experiments/madry/multirun/2022-05-10/15-41-52/8/lightning_logs\n"
     ]
    },
    {
     "name": "stdout",
     "output_type": "stream",
     "text": [
      "Files already downloaded and verified\n",
      "[2022-05-10 15:47:29,574][rai_toolbox.mushin._utils][INFO] - Loading model checkpoint from /home/justin_goodwin/.torch/models/mitll_cifar_l2_1_0.pt\n",
      "[2022-05-10 15:47:29,790][__main__][INFO] - Rank 1: Launched subprocess using Training.test\n",
      "[2022-05-10 15:47:29,833][torch.distributed.distributed_c10d][INFO] - Added key: store_based_barrier_key:1 to store for rank: 1\n",
      "[2022-05-10 15:47:29,854][torch.distributed.distributed_c10d][INFO] - Rank 1: Completed store-based barrier for key:store_based_barrier_key:1 with 2 nodes.\n"
     ]
    },
    {
     "name": "stderr",
     "output_type": "stream",
     "text": [
      "LOCAL_RANK: 1 - CUDA_VISIBLE_DEVICES: [0,1]\n"
     ]
    },
    {
     "data": {
      "application/vnd.jupyter.widget-view+json": {
       "model_id": "d18e3bda27184a1c91448015ebf35950",
       "version_major": 2,
       "version_minor": 0
      },
      "text/plain": [
       "Testing: 0it [00:00, ?it/s]"
      ]
     },
     "metadata": {},
     "output_type": "display_data"
    },
    {
     "name": "stdout",
     "output_type": "stream",
     "text": [
      "────────────────────────────────────────────────────────────────────────────────────────────────────────────────────────\n",
      "       Test metric             DataLoader 0\n",
      "────────────────────────────────────────────────────────────────────────────────────────────────────────────────────────\n",
      "      Test/Accuracy         0.5404000282287598\n",
      "        Test/Loss           1.2052688598632812\n",
      "────────────────────────────────────────────────────────────────────────────────────────────────────────────────────────\n",
      "Files already downloaded and verified\n"
     ]
    },
    {
     "name": "stderr",
     "output_type": "stream",
     "text": [
      "Global seed set to 12219\n",
      "Initializing distributed: GLOBAL_RANK: 1, MEMBER: 2/2\n",
      "Missing logger folder: /home/justin_goodwin/projects/raiden/rai_toolbox/experiments/madry/multirun/2022-05-10/15-41-52/9/lightning_logs\n"
     ]
    },
    {
     "name": "stdout",
     "output_type": "stream",
     "text": [
      "Files already downloaded and verified\n",
      "[2022-05-10 15:48:10,137][rai_toolbox.mushin._utils][INFO] - Loading model checkpoint from /home/justin_goodwin/.torch/models/mitll_cifar_l2_1_0.pt\n",
      "[2022-05-10 15:48:10,287][__main__][INFO] - Rank 1: Launched subprocess using Training.test\n",
      "[2022-05-10 15:48:10,305][torch.distributed.distributed_c10d][INFO] - Added key: store_based_barrier_key:1 to store for rank: 1\n",
      "[2022-05-10 15:48:10,315][torch.distributed.distributed_c10d][INFO] - Rank 1: Completed store-based barrier for key:store_based_barrier_key:1 with 2 nodes.\n"
     ]
    },
    {
     "name": "stderr",
     "output_type": "stream",
     "text": [
      "LOCAL_RANK: 1 - CUDA_VISIBLE_DEVICES: [0,1]\n"
     ]
    },
    {
     "data": {
      "application/vnd.jupyter.widget-view+json": {
       "model_id": "ef8b7bdcdd634312a547d91601c98bb4",
       "version_major": 2,
       "version_minor": 0
      },
      "text/plain": [
       "Testing: 0it [00:00, ?it/s]"
      ]
     },
     "metadata": {},
     "output_type": "display_data"
    },
    {
     "name": "stdout",
     "output_type": "stream",
     "text": [
      "────────────────────────────────────────────────────────────────────────────────────────────────────────────────────────\n",
      "       Test metric             DataLoader 0\n",
      "────────────────────────────────────────────────────────────────────────────────────────────────────────────────────────\n",
      "      Test/Accuracy         0.22169999778270721\n",
      "        Test/Loss           2.5075230598449707\n",
      "────────────────────────────────────────────────────────────────────────────────────────────────────────────────────────\n"
     ]
    }
   ],
   "source": [
    "robustness_job = MadryLabRobustness(configs.Config)\n",
    "robustness_job.run(\n",
    "    epsilon=[0.001, 0.25, 0.5, 1.0, 2.0],\n",
    "    ckpt=\"mitll_cifar_nat.pt, mitll_cifar_l2_1_0.pt\",\n",
    ")"
   ]
  },
  {
   "cell_type": "markdown",
   "id": "268a7b3c-571e-4a45-a93e-8ed43cac3eb9",
   "metadata": {},
   "source": [
    "## Plot the Results"
   ]
  },
  {
   "cell_type": "code",
   "execution_count": 5,
   "id": "5c167818-da80-4f10-b796-7afebafc2e8a",
   "metadata": {},
   "outputs": [
    {
     "data": {
      "text/plain": [
       "[[<matplotlib.lines.Line2D at 0x7f59c0760790>],\n",
       " [<matplotlib.lines.Line2D at 0x7f59c07603d0>]]"
      ]
     },
     "execution_count": 5,
     "metadata": {},
     "output_type": "execute_result"
    },
    {
     "data": {
      "image/png": "[encoded data removed]",
      "text/plain": [
       "<Figure size 432x288 with 1 Axes>"
      ]
     },
     "metadata": {
      "needs_background": "light"
     },
     "output_type": "display_data"
    }
   ],
   "source": [
    "robustness_job.plot(\"Test/Accuracy\", group=\"ckpt\")"
   ]
  },
  {
   "cell_type": "markdown",
   "id": "d657f769-1664-4a2b-8f1b-546d3c5fe8cf",
   "metadata": {},
   "source": [
    "## Load an Experiment"
   ]
  },
  {
   "cell_type": "code",
   "execution_count": 6,
   "id": "e40e8941-6617-4998-95d5-fe7f8f2c783e",
   "metadata": {},
   "outputs": [
    {
     "data": {
      "text/plain": [
       "[[<matplotlib.lines.Line2D at 0x7f59c04d1460>],\n",
       " [<matplotlib.lines.Line2D at 0x7f59c04d18e0>]]"
      ]
     },
     "execution_count": 6,
     "metadata": {},
     "output_type": "execute_result"
    },
    {
     "data": {
      "image/png": "[encoded data removed]",
      "text/plain": [
       "<Figure size 432x288 with 1 Axes>"
      ]
     },
     "metadata": {
      "needs_background": "light"
     },
     "output_type": "display_data"
    }
   ],
   "source": [
    "robustness_job_no_run = MadryLabRobustness(configs.Config)\n",
    "\n",
    "# Provide the experiment directory of a recent RobustnessCurve run\n",
    "exp_dir = robustness_job.working_dir  # you can provide any directory here\n",
    "robustness_job_no_run.load_from_dir(exp_dir)\n",
    "robustness_job_no_run.plot(\"Test/Accuracy\", group=\"ckpt\")"
   ]
  },
  {
   "cell_type": "markdown",
   "id": "d4751cfa-e644-4dca-8416-b1525e2bb960",
   "metadata": {},
   "source": [
    "## Other Outputs"
   ]
  },
  {
   "cell_type": "code",
   "execution_count": 7,
   "id": "fcaad01b-12ad-45cd-a461-d1b2bccabaab",
   "metadata": {},
   "outputs": [
    {
     "data": {
      "text/html": [
       "<div><svg style=\"position: absolute; width: 0; height: 0; overflow: hidden\">\n",
       "<defs>\n",
       "<symbol id=\"icon-database\" viewBox=\"0 0 32 32\">\n",
       "<path d=\"M16 0c-8.837 0-16 2.239-16 5v4c0 2.761 7.163 5 16 5s16-2.239 16-5v-4c0-2.761-7.163-5-16-5z\"></path>\n",
       "<path d=\"M16 17c-8.837 0-16-2.239-16-5v6c0 2.761 7.163 5 16 5s16-2.239 16-5v-6c0 2.761-7.163 5-16 5z\"></path>\n",
       "<path d=\"M16 26c-8.837 0-16-2.239-16-5v6c0 2.761 7.163 5 16 5s16-2.239 16-5v-6c0 2.761-7.163 5-16 5z\"></path>\n",
       "</symbol>\n",
       "<symbol id=\"icon-file-text2\" viewBox=\"0 0 32 32\">\n",
       "<path d=\"M28.681 7.159c-0.694-0.947-1.662-2.053-2.724-3.116s-2.169-2.030-3.116-2.724c-1.612-1.182-2.393-1.319-2.841-1.319h-15.5c-1.378 0-2.5 1.121-2.5 2.5v27c0 1.378 1.122 2.5 2.5 2.5h23c1.378 0 2.5-1.122 2.5-2.5v-19.5c0-0.448-0.137-1.23-1.319-2.841zM24.543 5.457c0.959 0.959 1.712 1.825 2.268 2.543h-4.811v-4.811c0.718 0.556 1.584 1.309 2.543 2.268zM28 29.5c0 0.271-0.229 0.5-0.5 0.5h-23c-0.271 0-0.5-0.229-0.5-0.5v-27c0-0.271 0.229-0.5 0.5-0.5 0 0 15.499-0 15.5 0v7c0 0.552 0.448 1 1 1h7v19.5z\"></path>\n",
       "<path d=\"M23 26h-14c-0.552 0-1-0.448-1-1s0.448-1 1-1h14c0.552 0 1 0.448 1 1s-0.448 1-1 1z\"></path>\n",
       "<path d=\"M23 22h-14c-0.552 0-1-0.448-1-1s0.448-1 1-1h14c0.552 0 1 0.448 1 1s-0.448 1-1 1z\"></path>\n",
       "<path d=\"M23 18h-14c-0.552 0-1-0.448-1-1s0.448-1 1-1h14c0.552 0 1 0.448 1 1s-0.448 1-1 1z\"></path>\n",
       "</symbol>\n",
       "</defs>\n",
       "</svg>\n",
       "<style>/* CSS stylesheet for displaying xarray objects in jupyterlab.\n",
       " *\n",
       " */\n",
       "\n",
       ":root {\n",
       "  --xr-font-color0: var(--jp-content-font-color0, rgba(0, 0, 0, 1));\n",
       "  --xr-font-color2: var(--jp-content-font-color2, rgba(0, 0, 0, 0.54));\n",
       "  --xr-font-color3: var(--jp-content-font-color3, rgba(0, 0, 0, 0.38));\n",
       "  --xr-border-color: var(--jp-border-color2, #e0e0e0);\n",
       "  --xr-disabled-color: var(--jp-layout-color3, #bdbdbd);\n",
       "  --xr-background-color: var(--jp-layout-color0, white);\n",
       "  --xr-background-color-row-even: var(--jp-layout-color1, white);\n",
       "  --xr-background-color-row-odd: var(--jp-layout-color2, #eeeeee);\n",
       "}\n",
       "\n",
       "html[theme=dark],\n",
       "body.vscode-dark {\n",
       "  --xr-font-color0: rgba(255, 255, 255, 1);\n",
       "  --xr-font-color2: rgba(255, 255, 255, 0.54);\n",
       "  --xr-font-color3: rgba(255, 255, 255, 0.38);\n",
       "  --xr-border-color: #1F1F1F;\n",
       "  --xr-disabled-color: #515151;\n",
       "  --xr-background-color: #111111;\n",
       "  --xr-background-color-row-even: #111111;\n",
       "  --xr-background-color-row-odd: #313131;\n",
       "}\n",
       "\n",
       ".xr-wrap {\n",
       "  display: block !important;\n",
       "  min-width: 300px;\n",
       "  max-width: 700px;\n",
       "}\n",
       "\n",
       ".xr-text-repr-fallback {\n",
       "  /* fallback to plain text repr when CSS is not injected (untrusted notebook) */\n",
       "  display: none;\n",
       "}\n",
       "\n",
       ".xr-header {\n",
       "  padding-top: 6px;\n",
       "  padding-bottom: 6px;\n",
       "  margin-bottom: 4px;\n",
       "  border-bottom: solid 1px var(--xr-border-color);\n",
       "}\n",
       "\n",
       ".xr-header > div,\n",
       ".xr-header > ul {\n",
       "  display: inline;\n",
       "  margin-top: 0;\n",
       "  margin-bottom: 0;\n",
       "}\n",
       "\n",
       ".xr-obj-type,\n",
       ".xr-array-name {\n",
       "  margin-left: 2px;\n",
       "  margin-right: 10px;\n",
       "}\n",
       "\n",
       ".xr-obj-type {\n",
       "  color: var(--xr-font-color2);\n",
       "}\n",
       "\n",
       ".xr-sections {\n",
       "  padding-left: 0 !important;\n",
       "  display: grid;\n",
       "  grid-template-columns: 150px auto auto 1fr 20px 20px;\n",
       "}\n",
       "\n",
       ".xr-section-item {\n",
       "  display: contents;\n",
       "}\n",
       "\n",
       ".xr-section-item input {\n",
       "  display: none;\n",
       "}\n",
       "\n",
       ".xr-section-item input + label {\n",
       "  color: var(--xr-disabled-color);\n",
       "}\n",
       "\n",
       ".xr-section-item input:enabled + label {\n",
       "  cursor: pointer;\n",
       "  color: var(--xr-font-color2);\n",
       "}\n",
       "\n",
       ".xr-section-item input:enabled + label:hover {\n",
       "  color: var(--xr-font-color0);\n",
       "}\n",
       "\n",
       ".xr-section-summary {\n",
       "  grid-column: 1;\n",
       "  color: var(--xr-font-color2);\n",
       "  font-weight: 500;\n",
       "}\n",
       "\n",
       ".xr-section-summary > span {\n",
       "  display: inline-block;\n",
       "  padding-left: 0.5em;\n",
       "}\n",
       "\n",
       ".xr-section-summary-in:disabled + label {\n",
       "  color: var(--xr-font-color2);\n",
       "}\n",
       "\n",
       ".xr-section-summary-in + label:before {\n",
       "  display: inline-block;\n",
       "  content: '►';\n",
       "  font-size: 11px;\n",
       "  width: 15px;\n",
       "  text-align: center;\n",
       "}\n",
       "\n",
       ".xr-section-summary-in:disabled + label:before {\n",
       "  color: var(--xr-disabled-color);\n",
       "}\n",
       "\n",
       ".xr-section-summary-in:checked + label:before {\n",
       "  content: '▼';\n",
       "}\n",
       "\n",
       ".xr-section-summary-in:checked + label > span {\n",
       "  display: none;\n",
       "}\n",
       "\n",
       ".xr-section-summary,\n",
       ".xr-section-inline-details {\n",
       "  padding-top: 4px;\n",
       "  padding-bottom: 4px;\n",
       "}\n",
       "\n",
       ".xr-section-inline-details {\n",
       "  grid-column: 2 / -1;\n",
       "}\n",
       "\n",
       ".xr-section-details {\n",
       "  display: none;\n",
       "  grid-column: 1 / -1;\n",
       "  margin-bottom: 5px;\n",
       "}\n",
       "\n",
       ".xr-section-summary-in:checked ~ .xr-section-details {\n",
       "  display: contents;\n",
       "}\n",
       "\n",
       ".xr-array-wrap {\n",
       "  grid-column: 1 / -1;\n",
       "  display: grid;\n",
       "  grid-template-columns: 20px auto;\n",
       "}\n",
       "\n",
       ".xr-array-wrap > label {\n",
       "  grid-column: 1;\n",
       "  vertical-align: top;\n",
       "}\n",
       "\n",
       ".xr-preview {\n",
       "  color: var(--xr-font-color3);\n",
       "}\n",
       "\n",
       ".xr-array-preview,\n",
       ".xr-array-data {\n",
       "  padding: 0 5px !important;\n",
       "  grid-column: 2;\n",
       "}\n",
       "\n",
       ".xr-array-data,\n",
       ".xr-array-in:checked ~ .xr-array-preview {\n",
       "  display: none;\n",
       "}\n",
       "\n",
       ".xr-array-in:checked ~ .xr-array-data,\n",
       ".xr-array-preview {\n",
       "  display: inline-block;\n",
       "}\n",
       "\n",
       ".xr-dim-list {\n",
       "  display: inline-block !important;\n",
       "  list-style: none;\n",
       "  padding: 0 !important;\n",
       "  margin: 0;\n",
       "}\n",
       "\n",
       ".xr-dim-list li {\n",
       "  display: inline-block;\n",
       "  padding: 0;\n",
       "  margin: 0;\n",
       "}\n",
       "\n",
       ".xr-dim-list:before {\n",
       "  content: '(';\n",
       "}\n",
       "\n",
       ".xr-dim-list:after {\n",
       "  content: ')';\n",
       "}\n",
       "\n",
       ".xr-dim-list li:not(:last-child):after {\n",
       "  content: ',';\n",
       "  padding-right: 5px;\n",
       "}\n",
       "\n",
       ".xr-has-index {\n",
       "  font-weight: bold;\n",
       "}\n",
       "\n",
       ".xr-var-list,\n",
       ".xr-var-item {\n",
       "  display: contents;\n",
       "}\n",
       "\n",
       ".xr-var-item > div,\n",
       ".xr-var-item label,\n",
       ".xr-var-item > .xr-var-name span {\n",
       "  background-color: var(--xr-background-color-row-even);\n",
       "  margin-bottom: 0;\n",
       "}\n",
       "\n",
       ".xr-var-item > .xr-var-name:hover span {\n",
       "  padding-right: 5px;\n",
       "}\n",
       "\n",
       ".xr-var-list > li:nth-child(odd) > div,\n",
       ".xr-var-list > li:nth-child(odd) > label,\n",
       ".xr-var-list > li:nth-child(odd) > .xr-var-name span {\n",
       "  background-color: var(--xr-background-color-row-odd);\n",
       "}\n",
       "\n",
       ".xr-var-name {\n",
       "  grid-column: 1;\n",
       "}\n",
       "\n",
       ".xr-var-dims {\n",
       "  grid-column: 2;\n",
       "}\n",
       "\n",
       ".xr-var-dtype {\n",
       "  grid-column: 3;\n",
       "  text-align: right;\n",
       "  color: var(--xr-font-color2);\n",
       "}\n",
       "\n",
       ".xr-var-preview {\n",
       "  grid-column: 4;\n",
       "}\n",
       "\n",
       ".xr-var-name,\n",
       ".xr-var-dims,\n",
       ".xr-var-dtype,\n",
       ".xr-preview,\n",
       ".xr-attrs dt {\n",
       "  white-space: nowrap;\n",
       "  overflow: hidden;\n",
       "  text-overflow: ellipsis;\n",
       "  padding-right: 10px;\n",
       "}\n",
       "\n",
       ".xr-var-name:hover,\n",
       ".xr-var-dims:hover,\n",
       ".xr-var-dtype:hover,\n",
       ".xr-attrs dt:hover {\n",
       "  overflow: visible;\n",
       "  width: auto;\n",
       "  z-index: 1;\n",
       "}\n",
       "\n",
       ".xr-var-attrs,\n",
       ".xr-var-data {\n",
       "  display: none;\n",
       "  background-color: var(--xr-background-color) !important;\n",
       "  padding-bottom: 5px !important;\n",
       "}\n",
       "\n",
       ".xr-var-attrs-in:checked ~ .xr-var-attrs,\n",
       ".xr-var-data-in:checked ~ .xr-var-data {\n",
       "  display: block;\n",
       "}\n",
       "\n",
       ".xr-var-data > table {\n",
       "  float: right;\n",
       "}\n",
       "\n",
       ".xr-var-name span,\n",
       ".xr-var-data,\n",
       ".xr-attrs {\n",
       "  padding-left: 25px !important;\n",
       "}\n",
       "\n",
       ".xr-attrs,\n",
       ".xr-var-attrs,\n",
       ".xr-var-data {\n",
       "  grid-column: 1 / -1;\n",
       "}\n",
       "\n",
       "dl.xr-attrs {\n",
       "  padding: 0;\n",
       "  margin: 0;\n",
       "  display: grid;\n",
       "  grid-template-columns: 125px auto;\n",
       "}\n",
       "\n",
       ".xr-attrs dt,\n",
       ".xr-attrs dd {\n",
       "  padding: 0;\n",
       "  margin: 0;\n",
       "  float: left;\n",
       "  padding-right: 10px;\n",
       "  width: auto;\n",
       "}\n",
       "\n",
       ".xr-attrs dt {\n",
       "  font-weight: normal;\n",
       "  grid-column: 1;\n",
       "}\n",
       "\n",
       ".xr-attrs dt:hover span {\n",
       "  display: inline-block;\n",
       "  background: var(--xr-background-color);\n",
       "  padding-right: 10px;\n",
       "}\n",
       "\n",
       ".xr-attrs dd {\n",
       "  grid-column: 2;\n",
       "  white-space: pre-wrap;\n",
       "  word-break: break-all;\n",
       "}\n",
       "\n",
       ".xr-icon-database,\n",
       ".xr-icon-file-text2 {\n",
       "  display: inline-block;\n",
       "  vertical-align: middle;\n",
       "  width: 1em;\n",
       "  height: 1.5em !important;\n",
       "  stroke-width: 0;\n",
       "  stroke: currentColor;\n",
       "  fill: currentColor;\n",
       "}\n",
       "</style><pre class='xr-text-repr-fallback'>&lt;xarray.Dataset&gt;\n",
       "Dimensions:        (ckpt: 2, epsilon: 5)\n",
       "Coordinates:\n",
       "  * ckpt           (ckpt) &lt;U21 &#x27;mitll_cifar_nat.pt&#x27; &#x27;mitll_cifar_l2_1_0.pt&#x27;\n",
       "  * epsilon        (epsilon) float64 0.001 0.25 0.5 1.0 2.0\n",
       "Data variables:\n",
       "    Test/Loss      (ckpt, epsilon) float64 0.2034 9.86 16.73 ... 1.205 2.508\n",
       "    Test/Accuracy  (ckpt, epsilon) float64 0.9507 0.1344 ... 0.5404 0.2217</pre><div class='xr-wrap' style='display:none'><div class='xr-header'><div class='xr-obj-type'>xarray.Dataset</div></div><ul class='xr-sections'><li class='xr-section-item'><input id='section-165f63d8-239e-43a3-822e-e715e8d2b895' class='xr-section-summary-in' type='checkbox' disabled ><label for='section-165f63d8-239e-43a3-822e-e715e8d2b895' class='xr-section-summary'  title='Expand/collapse section'>Dimensions:</label><div class='xr-section-inline-details'><ul class='xr-dim-list'><li><span class='xr-has-index'>ckpt</span>: 2</li><li><span class='xr-has-index'>epsilon</span>: 5</li></ul></div><div class='xr-section-details'></div></li><li class='xr-section-item'><input id='section-0911225f-676a-4fd8-ac0d-0e0c97cc591e' class='xr-section-summary-in' type='checkbox'  checked><label for='section-0911225f-676a-4fd8-ac0d-0e0c97cc591e' class='xr-section-summary' >Coordinates: <span>(2)</span></label><div class='xr-section-inline-details'></div><div class='xr-section-details'><ul class='xr-var-list'><li class='xr-var-item'><div class='xr-var-name'><span class='xr-has-index'>ckpt</span></div><div class='xr-var-dims'>(ckpt)</div><div class='xr-var-dtype'>&lt;U21</div><div class='xr-var-preview xr-preview'>&#x27;mitll_cifar_nat.pt&#x27; &#x27;mitll_cifa...</div><input id='attrs-a87d7da7-c3e5-46b5-abab-69da750a7226' class='xr-var-attrs-in' type='checkbox' disabled><label for='attrs-a87d7da7-c3e5-46b5-abab-69da750a7226' title='Show/Hide attributes'><svg class='icon xr-icon-file-text2'><use xlink:href='#icon-file-text2'></use></svg></label><input id='data-77bfd922-5c63-4a10-b7ed-e0e3bb0cdb6b' class='xr-var-data-in' type='checkbox'><label for='data-77bfd922-5c63-4a10-b7ed-e0e3bb0cdb6b' title='Show/Hide data repr'><svg class='icon xr-icon-database'><use xlink:href='#icon-database'></use></svg></label><div class='xr-var-attrs'><dl class='xr-attrs'></dl></div><div class='xr-var-data'><pre>array([&#x27;mitll_cifar_nat.pt&#x27;, &#x27;mitll_cifar_l2_1_0.pt&#x27;], dtype=&#x27;&lt;U21&#x27;)</pre></div></li><li class='xr-var-item'><div class='xr-var-name'><span class='xr-has-index'>epsilon</span></div><div class='xr-var-dims'>(epsilon)</div><div class='xr-var-dtype'>float64</div><div class='xr-var-preview xr-preview'>0.001 0.25 0.5 1.0 2.0</div><input id='attrs-f34c1a50-8b6e-415d-b65c-5b7870c93fdb' class='xr-var-attrs-in' type='checkbox' disabled><label for='attrs-f34c1a50-8b6e-415d-b65c-5b7870c93fdb' title='Show/Hide attributes'><svg class='icon xr-icon-file-text2'><use xlink:href='#icon-file-text2'></use></svg></label><input id='data-87d05a8c-7b5f-4506-a4ba-2a623f91f824' class='xr-var-data-in' type='checkbox'><label for='data-87d05a8c-7b5f-4506-a4ba-2a623f91f824' title='Show/Hide data repr'><svg class='icon xr-icon-database'><use xlink:href='#icon-database'></use></svg></label><div class='xr-var-attrs'><dl class='xr-attrs'></dl></div><div class='xr-var-data'><pre>array([1.0e-03, 2.5e-01, 5.0e-01, 1.0e+00, 2.0e+00])</pre></div></li></ul></div></li><li class='xr-section-item'><input id='section-5fc5ac72-3143-43cd-a6ee-67661800b5e4' class='xr-section-summary-in' type='checkbox'  checked><label for='section-5fc5ac72-3143-43cd-a6ee-67661800b5e4' class='xr-section-summary' >Data variables: <span>(2)</span></label><div class='xr-section-inline-details'></div><div class='xr-section-details'><ul class='xr-var-list'><li class='xr-var-item'><div class='xr-var-name'><span>Test/Loss</span></div><div class='xr-var-dims'>(ckpt, epsilon)</div><div class='xr-var-dtype'>float64</div><div class='xr-var-preview xr-preview'>0.2034 9.86 16.73 ... 1.205 2.508</div><input id='attrs-850dcd76-cfaf-43fa-9a43-c2feb9caad57' class='xr-var-attrs-in' type='checkbox' disabled><label for='attrs-850dcd76-cfaf-43fa-9a43-c2feb9caad57' title='Show/Hide attributes'><svg class='icon xr-icon-file-text2'><use xlink:href='#icon-file-text2'></use></svg></label><input id='data-37096f51-f2bc-4721-bc08-fa15e13e0c5f' class='xr-var-data-in' type='checkbox'><label for='data-37096f51-f2bc-4721-bc08-fa15e13e0c5f' title='Show/Hide data repr'><svg class='icon xr-icon-database'><use xlink:href='#icon-database'></use></svg></label><div class='xr-var-attrs'><dl class='xr-attrs'></dl></div><div class='xr-var-data'><pre>array([[ 0.20338234,  9.86043739, 16.72681808, 21.86793137, 24.61697578],\n",
       "       [ 0.58305776,  0.69631279,  0.83355469,  1.20526886,  2.50752306]])</pre></div></li><li class='xr-var-item'><div class='xr-var-name'><span>Test/Accuracy</span></div><div class='xr-var-dims'>(ckpt, epsilon)</div><div class='xr-var-dtype'>float64</div><div class='xr-var-preview xr-preview'>0.9507 0.1344 ... 0.5404 0.2217</div><input id='attrs-f7a8034a-26c6-4dca-8a97-9bd4fd205cb4' class='xr-var-attrs-in' type='checkbox' disabled><label for='attrs-f7a8034a-26c6-4dca-8a97-9bd4fd205cb4' title='Show/Hide attributes'><svg class='icon xr-icon-file-text2'><use xlink:href='#icon-file-text2'></use></svg></label><input id='data-a272bf21-c175-40ca-b2fd-a3fdc919d819' class='xr-var-data-in' type='checkbox'><label for='data-a272bf21-c175-40ca-b2fd-a3fdc919d819' title='Show/Hide data repr'><svg class='icon xr-icon-database'><use xlink:href='#icon-database'></use></svg></label><div class='xr-var-attrs'><dl class='xr-attrs'></dl></div><div class='xr-var-data'><pre>array([[0.95069999, 0.1344    , 0.0098    , 0.        , 0.        ],\n",
       "       [0.81590003, 0.75709999, 0.69029999, 0.54040003, 0.2217    ]])</pre></div></li></ul></div></li><li class='xr-section-item'><input id='section-85caa5be-74f2-4d00-b326-3fbed1c47999' class='xr-section-summary-in' type='checkbox' disabled ><label for='section-85caa5be-74f2-4d00-b326-3fbed1c47999' class='xr-section-summary'  title='Expand/collapse section'>Attributes: <span>(0)</span></label><div class='xr-section-inline-details'></div><div class='xr-section-details'><dl class='xr-attrs'></dl></div></li></ul></div></div>"
      ],
      "text/plain": [
       "<xarray.Dataset>\n",
       "Dimensions:        (ckpt: 2, epsilon: 5)\n",
       "Coordinates:\n",
       "  * ckpt           (ckpt) <U21 'mitll_cifar_nat.pt' 'mitll_cifar_l2_1_0.pt'\n",
       "  * epsilon        (epsilon) float64 0.001 0.25 0.5 1.0 2.0\n",
       "Data variables:\n",
       "    Test/Loss      (ckpt, epsilon) float64 0.2034 9.86 16.73 ... 1.205 2.508\n",
       "    Test/Accuracy  (ckpt, epsilon) float64 0.9507 0.1344 ... 0.5404 0.2217"
      ]
     },
     "execution_count": 7,
     "metadata": {},
     "output_type": "execute_result"
    }
   ],
   "source": [
    "xdata = robustness_job.to_xarray()\n",
    "xdata"
   ]
  },
  {
   "cell_type": "code",
   "execution_count": 8,
   "id": "0c4c534c-b736-43a3-bf39-7bdcb90a1f07",
   "metadata": {},
   "outputs": [
    {
     "data": {
      "text/html": [
       "<div>\n",
       "<style scoped>\n",
       "    .dataframe tbody tr th:only-of-type {\n",
       "        vertical-align: middle;\n",
       "    }\n",
       "\n",
       "    .dataframe tbody tr th {\n",
       "        vertical-align: top;\n",
       "    }\n",
       "\n",
       "    .dataframe thead th {\n",
       "        text-align: right;\n",
       "    }\n",
       "</style>\n",
       "<table border=\"1\" class=\"dataframe\">\n",
       "  <thead>\n",
       "    <tr style=\"text-align: right;\">\n",
       "      <th></th>\n",
       "      <th></th>\n",
       "      <th>Test/Loss</th>\n",
       "      <th>Test/Accuracy</th>\n",
       "    </tr>\n",
       "    <tr>\n",
       "      <th>ckpt</th>\n",
       "      <th>epsilon</th>\n",
       "      <th></th>\n",
       "      <th></th>\n",
       "    </tr>\n",
       "  </thead>\n",
       "  <tbody>\n",
       "    <tr>\n",
       "      <th rowspan=\"5\" valign=\"top\">mitll_cifar_nat.pt</th>\n",
       "      <th>0.001</th>\n",
       "      <td>0.203382</td>\n",
       "      <td>0.9507</td>\n",
       "    </tr>\n",
       "    <tr>\n",
       "      <th>0.250</th>\n",
       "      <td>9.860437</td>\n",
       "      <td>0.1344</td>\n",
       "    </tr>\n",
       "    <tr>\n",
       "      <th>0.500</th>\n",
       "      <td>16.726818</td>\n",
       "      <td>0.0098</td>\n",
       "    </tr>\n",
       "    <tr>\n",
       "      <th>1.000</th>\n",
       "      <td>21.867931</td>\n",
       "      <td>0.0000</td>\n",
       "    </tr>\n",
       "    <tr>\n",
       "      <th>2.000</th>\n",
       "      <td>24.616976</td>\n",
       "      <td>0.0000</td>\n",
       "    </tr>\n",
       "    <tr>\n",
       "      <th rowspan=\"5\" valign=\"top\">mitll_cifar_l2_1_0.pt</th>\n",
       "      <th>0.001</th>\n",
       "      <td>0.583058</td>\n",
       "      <td>0.8159</td>\n",
       "    </tr>\n",
       "    <tr>\n",
       "      <th>0.250</th>\n",
       "      <td>0.696313</td>\n",
       "      <td>0.7571</td>\n",
       "    </tr>\n",
       "    <tr>\n",
       "      <th>0.500</th>\n",
       "      <td>0.833555</td>\n",
       "      <td>0.6903</td>\n",
       "    </tr>\n",
       "    <tr>\n",
       "      <th>1.000</th>\n",
       "      <td>1.205269</td>\n",
       "      <td>0.5404</td>\n",
       "    </tr>\n",
       "    <tr>\n",
       "      <th>2.000</th>\n",
       "      <td>2.507523</td>\n",
       "      <td>0.2217</td>\n",
       "    </tr>\n",
       "  </tbody>\n",
       "</table>\n",
       "</div>"
      ],
      "text/plain": [
       "                               Test/Loss  Test/Accuracy\n",
       "ckpt                  epsilon                          \n",
       "mitll_cifar_nat.pt    0.001     0.203382         0.9507\n",
       "                      0.250     9.860437         0.1344\n",
       "                      0.500    16.726818         0.0098\n",
       "                      1.000    21.867931         0.0000\n",
       "                      2.000    24.616976         0.0000\n",
       "mitll_cifar_l2_1_0.pt 0.001     0.583058         0.8159\n",
       "                      0.250     0.696313         0.7571\n",
       "                      0.500     0.833555         0.6903\n",
       "                      1.000     1.205269         0.5404\n",
       "                      2.000     2.507523         0.2217"
      ]
     },
     "execution_count": 8,
     "metadata": {},
     "output_type": "execute_result"
    }
   ],
   "source": [
    "xdata.to_dataframe()"
   ]
  },
  {
   "cell_type": "code",
   "execution_count": 9,
   "id": "0d784721-bf47-446a-b0b9-c62069199bf8",
   "metadata": {},
   "outputs": [
    {
     "data": {
      "text/plain": [
       "[<matplotlib.lines.Line2D at 0x7f59c04a8c70>,\n",
       " <matplotlib.lines.Line2D at 0x7f59c04a8d30>]"
      ]
     },
     "execution_count": 9,
     "metadata": {},
     "output_type": "execute_result"
    },
    {
     "data": {
      "image/png": "[encoded data removed]",
      "text/plain": [
       "<Figure size 432x288 with 1 Axes>"
      ]
     },
     "metadata": {
      "needs_background": "light"
     },
     "output_type": "display_data"
    }
   ],
   "source": [
    "xdata[\"Test/Accuracy\"].plot.line(x=\"epsilon\")"
   ]
  },
  {
   "cell_type": "code",
   "execution_count": 10,
   "id": "27d0c33e-efb3-4dda-b7ca-2e9066db1d4a",
   "metadata": {},
   "outputs": [
    {
     "data": {
      "text/plain": [
       "<matplotlib.legend.Legend at 0x7f59c0427fa0>"
      ]
     },
     "execution_count": 10,
     "metadata": {},
     "output_type": "execute_result"
    },
    {
     "data": {
      "image/png": "[encoded data removed]",
      "text/plain": [
       "<Figure size 432x288 with 1 Axes>"
      ]
     },
     "metadata": {
      "needs_background": "light"
     },
     "output_type": "display_data"
    }
   ],
   "source": [
    "import matplotlib.pyplot as plt\n",
    "\n",
    "xdata = robustness_job.to_xarray()\n",
    "fig, ax = plt.subplots()\n",
    "for name, g in xdata.groupby(\"ckpt\"):\n",
    "    g[\"Test/Accuracy\"].plot.line(x=\"epsilon\", ax=ax, label=name)\n",
    "plt.legend()"
   ]
  },
  {
   "cell_type": "code",
   "execution_count": null,
   "id": "b317dea2-9335-43ac-a2ec-5dc5e958ec64",
   "metadata": {},
   "outputs": [],
   "source": []
  },
  {
   "cell_type": "code",
   "execution_count": null,
   "id": "97217886-9d49-437d-af36-6059b1101fb8",
   "metadata": {},
   "outputs": [],
   "source": []
  }
 ],
 "metadata": {
  "kernelspec": {
   "display_name": "Python [conda env:.conda-raiden]",
   "language": "python",
   "name": "conda-env-.conda-raiden-py"
  },
  "language_info": {
   "codemirror_mode": {
    "name": "ipython",
    "version": 3
   },
   "file_extension": ".py",
   "mimetype": "text/x-python",
   "name": "python",
   "nbconvert_exporter": "python",
   "pygments_lexer": "ipython3",
   "version": "3.8.12"
  }
 },
 "nbformat": 4,
 "nbformat_minor": 5
}
